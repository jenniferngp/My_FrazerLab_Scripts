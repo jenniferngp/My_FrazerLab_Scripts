{
 "cells": [
  {
   "cell_type": "code",
   "execution_count": 2,
   "metadata": {},
   "outputs": [],
   "source": [
    "setwd(\"/projects/CARDIPS/analysis/epigenome_resource\")\n",
    "source(\"analyses/jennifer/notebooks/functions.R\")\n",
    "\n",
    "set.seed(5366)\n",
    "library(coloc)"
   ]
  },
  {
   "cell_type": "markdown",
   "metadata": {},
   "source": [
    "# Prepare hapmap snps"
   ]
  },
  {
   "cell_type": "code",
   "execution_count": 7,
   "metadata": {},
   "outputs": [],
   "source": [
    "# snps_ldsc = fread(\"/reference/public/ldsc/w_hm3.snplist\", data.table = F)\n",
    "# snps_hg38 = fread(\"/frazer01/home/jennifer/references/hapmap/hapmap_3.3.hg38.txt\", data.table = F)"
   ]
  },
  {
   "cell_type": "code",
   "execution_count": 8,
   "metadata": {},
   "outputs": [],
   "source": [
    "# head(snps_hg38,2)\n",
    "# head(snps_ldsc,2)"
   ]
  },
  {
   "cell_type": "code",
   "execution_count": 9,
   "metadata": {},
   "outputs": [],
   "source": [
    "# snps_hg38_ldsc = snps_hg38 %>% filter(V3 %in% snps_ldsc$SNP)"
   ]
  },
  {
   "cell_type": "code",
   "execution_count": 10,
   "metadata": {},
   "outputs": [],
   "source": [
    "# head(snps_hg38_ldsc)"
   ]
  },
  {
   "cell_type": "markdown",
   "metadata": {},
   "source": [
    "# Filter 1000 Genomes VCF for hapmap snps"
   ]
  },
  {
   "cell_type": "code",
   "execution_count": 11,
   "metadata": {},
   "outputs": [],
   "source": [
    "# for (chr in paste0(\"chr\", c(1:22)))\n",
    "# {\n",
    "#     out = snps_hg38_ldsc %>% filter(V1 == chr) %>% select(V1, V2) %>% mutate(V3 = V2-1) %>% select(V1, V3, V2)\n",
    "#     out$V1 = gsub(\"chr\", \"\", out$V1)\n",
    "#     fwrite(out, paste(\"analyses/jennifer/ldsc/1kg_input\", paste0(chr, \"_hapmap.bed\"), sep = \"/\"), row.names = F, sep = \"\\t\", col.names = F)\n",
    "# }\n"
   ]
  },
  {
   "cell_type": "code",
   "execution_count": 12,
   "metadata": {},
   "outputs": [],
   "source": [
    "# for (i in c(1:22))\n",
    "# {\n",
    "#     vcf=paste0(\"/reference/public/1000Genomes_hg38/ALL.chr\", i, \".shapeit2_integrated_snvindels_v2a_27022019.GRCh38.phased.vcf.gz\")\n",
    "#     bed=paste(\"analyses/jennifer/ldsc/1kg_input\", paste0('chr', i, \"_hapmap.bed\"), sep = \"/\")\n",
    "#     out=paste0(\"analyses/jennifer/ldsc/1kg_input/1000Genomes_chr\", i, \"_hapmap.vcf\")\n",
    "#     cmd=paste(\"bedtools intersect -a\", vcf, \"-b\", bed, \"-header\", \">\", out)\n",
    "#     qsub=paste(\"echo\", paste0(\"\\\"\", cmd, \"\\\"\"), \"| qsub -N\", paste0(\"chr\", i), \"-V -cwd -pe smp 4\", \n",
    "#                \"-o\", paste0(\"analyses/jennifer/ldsc/logs/chr\", i, \".out\"), \n",
    "#                \"-e\", paste0(\"analyses/jennifer/ldsc/logs/chr\", i, \".err\"))\n",
    "#     message(qsub)\n",
    "#     system(qsub)\n",
    "# }"
   ]
  },
  {
   "cell_type": "markdown",
   "metadata": {},
   "source": [
    "# Rename"
   ]
  },
  {
   "cell_type": "code",
   "execution_count": 13,
   "metadata": {},
   "outputs": [],
   "source": [
    "# for (i in c(1:22))\n",
    "# {\n",
    "#     vcf = paste0(\"/projects/CARDIPS/analysis/epigenome_resource/analyses/jennifer/ldsc/1kg_input/\", i, \"_1KG_Hapmap.vcf\")\n",
    "#     out_vcf = paste0(\"/projects/CARDIPS/analysis/epigenome_resource/analyses/jennifer/ldsc/1kg_input/\", i, \"_1KG_Hapmap.renamed.vcf\")\n",
    "#     cmd = paste(\"bcftools annotate --set-id '%CHROM\\\\_%POS\\\\_%REF\\\\_%ALT'\", vcf, \">\", out_vcf)\n",
    "#     qsub = paste(\"echo\", paste0(\"\\\"\", cmd, \"\\\"\"), \"| qsub -N rename -V -cwd -o logs -e logs -pe smp 4\")\n",
    "#     message(qsub)\n",
    "#     system(qsub)\n",
    "# }\n"
   ]
  },
  {
   "cell_type": "markdown",
   "metadata": {},
   "source": [
    "# Make Bfiles"
   ]
  },
  {
   "cell_type": "code",
   "execution_count": 14,
   "metadata": {},
   "outputs": [],
   "source": [
    "# for (i in c(1:22))\n",
    "# {\n",
    "#     vcf = paste0(\"/projects/CARDIPS/analysis/epigenome_resource/analyses/jennifer/ldsc/1kg_input/\", i, \"_1KG_Hapmap.renamed.vcf\")\n",
    "#     prefix = paste(getwd(), \"analyses/jennifer/ldsc/1kg_input\", i, sep = \"/\")\n",
    "#     cmd = paste(\"plink --vcf\", vcf, \"--make-bed\", \"--out\", prefix, \"--memory 15000 --threads 4\")\n",
    "#     qsub = paste(\"echo\", paste0(\"\\\"\", cmd, \"\\\"\"), \"| qsub -N\", paste0(\"chr\", i), \"-hold_jid\", paste0(\"chr\", i), \"-V -cwd -pe smp 4\", \n",
    "#                \"-o\", paste(getwd(), \"analyses/jennifer/ldsc/logs\", paste0(\"chr\", i, \"_plink.out\"), sep = \"/\"), \n",
    "#                \"-e\", paste(getwd(), \"analyses/jennifer/ldsc/logs\", paste0(\"chr\", i, \"_plink.err\"), sep = \"/\"))\n",
    "#     message(qsub)\n",
    "#     system(qsub)\n",
    "# }\n"
   ]
  },
  {
   "cell_type": "code",
   "execution_count": 15,
   "metadata": {},
   "outputs": [],
   "source": [
    "# for i in {1..22}; do mv ${i}.log ${i}.bfile.log; done"
   ]
  },
  {
   "cell_type": "markdown",
   "metadata": {},
   "source": [
    "# Prepare snp list"
   ]
  },
  {
   "cell_type": "code",
   "execution_count": 329,
   "metadata": {},
   "outputs": [],
   "source": [
    "# kg_snps = as.data.frame(rbindlist(lapply(c(1:22), function(x)\n",
    "# {\n",
    "#     message(x, appendLF = F)\n",
    "#     file = paste(\"analyses/jennifer/ldsc/1kg_input\", paste0(x, \".bim\"), sep = \"/\")\n",
    "#     fread(file, data.table = F, header = F)\n",
    "# })))"
   ]
  },
  {
   "cell_type": "code",
   "execution_count": 130,
   "metadata": {},
   "outputs": [],
   "source": [
    "# a = snps_hg38_ldsc %>% select(V1, V2, V3, V4, V5)\n",
    "# colnames(a) = c(\"chr\", \"pos\", \"rsid\", \"ref\", \"alt\")\n",
    "# a$chr = gsub(\"chr\", \"\", a$chr)"
   ]
  },
  {
   "cell_type": "code",
   "execution_count": 131,
   "metadata": {},
   "outputs": [],
   "source": [
    "# b = kg_snps %>% select(V1, V2, V4, V5, V6)\n",
    "# colnames(b) = c(\"chr\", \"id\", \"pos\", \"ref\", \"alt\")"
   ]
  },
  {
   "cell_type": "code",
   "execution_count": 132,
   "metadata": {},
   "outputs": [],
   "source": [
    "# c = merge(a, b, by = c(\"chr\", \"pos\"), all.y = T) %>% distinct()"
   ]
  },
  {
   "cell_type": "code",
   "execution_count": 133,
   "metadata": {},
   "outputs": [],
   "source": [
    "# c1 = c[c$ref.x == c$ref.y & c$alt.x == c$alt.y,]\n",
    "# c2 = c[c$ref.x == c$alt.y & c$alt.x == c$ref.y,]\n",
    "\n",
    "# c = rbind(c1, c2)"
   ]
  },
  {
   "cell_type": "code",
   "execution_count": 134,
   "metadata": {},
   "outputs": [],
   "source": [
    "# d = c %>% select(id, ref.y, alt.y)"
   ]
  },
  {
   "cell_type": "code",
   "execution_count": 137,
   "metadata": {},
   "outputs": [],
   "source": [
    "# d = d[complete.cases(d),]"
   ]
  },
  {
   "cell_type": "code",
   "execution_count": 149,
   "metadata": {},
   "outputs": [],
   "source": [
    "# colnames(d) = c(\"SNP\", \"A1\", \"A2\")"
   ]
  },
  {
   "cell_type": "code",
   "execution_count": 330,
   "metadata": {},
   "outputs": [],
   "source": [
    "# fwrite(d, \"analyses/jennifer/ldsc/1kg_input/1KG_hapmap_snps.list\", row.names = F, sep = \"\\t\", col.names = F)"
   ]
  },
  {
   "cell_type": "markdown",
   "metadata": {},
   "source": [
    "# Extract final snps"
   ]
  },
  {
   "cell_type": "code",
   "execution_count": 326,
   "metadata": {},
   "outputs": [],
   "source": [
    "# for (i in c(1:22))\n",
    "# {\n",
    "#     vcf = paste0(\"/projects/CARDIPS/analysis/epigenome_resource/analyses/jennifer/ldsc/1kg_input/\", i, \"_1KG_Hapmap.renamed.vcf\")\n",
    "#     prefix = paste(getwd(), \"analyses/jennifer/ldsc/1kg_input\", i, sep = \"/\")\n",
    "#     snplist = paste(getwd(), \"analyses/jennifer/ldsc/1kg_input/1KG_hapmap_snps.list\", sep = \"/\")\n",
    "#     cmd = paste(\"plink\", \n",
    "#                 \"--bfile\", prefix, \n",
    "#                 \"--make-bed\", \n",
    "#                 \"--out\", paste(prefix, \"filt\", sep = \".\"), \n",
    "#                 \"--extract\", snplist,\n",
    "#                 \"--memory 15000 --threads 4\")\n",
    "#     qsub = paste(\"echo\", paste0(\"\\\"\", cmd, \"\\\"\"), \"| qsub -N\", paste0(\"chr\", i), \"-hold_jid\", paste0(\"chr\", i), \"-V -cwd -pe smp 4\", \n",
    "#                \"-o\", paste(getwd(), \"analyses/jennifer/ldsc/logs\", paste0(\"chr\", i, \"_plink.out\"), sep = \"/\"), \n",
    "#                \"-e\", paste(getwd(), \"analyses/jennifer/ldsc/logs\", paste0(\"chr\", i, \"_plink.err\"), sep = \"/\"))\n",
    "#     message(qsub)\n",
    "#     system(qsub)\n",
    "# }\n"
   ]
  },
  {
   "cell_type": "markdown",
   "metadata": {},
   "source": [
    "# Make ldscore"
   ]
  },
  {
   "cell_type": "code",
   "execution_count": 325,
   "metadata": {},
   "outputs": [],
   "source": [
    "# for (i in c(1:22))\n",
    "# {\n",
    "#     bfile = paste(\"/projects/CARDIPS/analysis/epigenome_resource/analyses/jennifer/ldsc/1kg_input\", paste(i, \"filt\", sep = \".\"), sep = \"/\")\n",
    "#     out = paste(\"/projects/CARDIPS/analysis/epigenome_resource/analyses/jennifer/ldsc/1kg_input\", i, sep = \"/\")\n",
    "#     cmd = paste(\"source /frazer01/home/jennifer/.bash_profile; source activate ldsc; python ~/software/ldsc/ldsc.py --bfile\", bfile, \"--l2 --ld-wind-kb 500 --out\", out)\n",
    "#     qsub = paste(\"echo\", paste0(\"\\\"\", cmd, \"\\\"\"), \"| qsub -N ldscore -V -cwd -o analyses/jennifer/ldsc/logs -e analyses/jennifer/ldsc/logs -pe smp 8\")\n",
    "#     message(qsub)\n",
    "#     system(qsub)\n",
    "# }\n"
   ]
  },
  {
   "cell_type": "markdown",
   "metadata": {},
   "source": [
    "## 0. Reformat GWAS summary statistics for munge"
   ]
  },
  {
   "cell_type": "code",
   "execution_count": 167,
   "metadata": {},
   "outputs": [],
   "source": [
    "out = snps_hg38_ldsc\n",
    "out$V1 = gsub(\"chr\", \"\", out$V1)\n",
    "out$CHRPOS = paste(out$V1, out$V2, sep = \"_\")\n",
    "colnames(out) = c(\"CHR\", \"POS\", \"SNP\", \"A1\", \"A2\", \"?\", \"PASS\", \"INFO\", \"CHRPOS\")\n",
    "fwrite(out, \"analyses/jennifer/ldsc/sumstats/hapmap_hg38_rsid2pos.txt\", row.names = F, sep = \"\\t\")"
   ]
  },
  {
   "cell_type": "code",
   "execution_count": 295,
   "metadata": {},
   "outputs": [],
   "source": [
    "# # filter for hapmap snps\n",
    "# # A1 is increasing variant\n",
    "# SNP     A1      A2      Z       N"
   ]
  },
  {
   "cell_type": "code",
   "execution_count": 170,
   "metadata": {},
   "outputs": [
    {
     "data": {
      "text/html": [
       "<table class=\"dataframe\">\n",
       "<caption>A data.frame: 5 × 7</caption>\n",
       "<thead>\n",
       "\t<tr><th scope=col>trait_id</th><th scope=col>trait_type</th><th scope=col>coding_description</th><th scope=col>description</th><th scope=col>full_trait_id</th><th scope=col>filename</th><th scope=col>exists</th></tr>\n",
       "\t<tr><th scope=col>&lt;chr&gt;</th><th scope=col>&lt;chr&gt;</th><th scope=col>&lt;chr&gt;</th><th scope=col>&lt;chr&gt;</th><th scope=col>&lt;chr&gt;</th><th scope=col>&lt;chr&gt;</th><th scope=col>&lt;lgl&gt;</th></tr>\n",
       "</thead>\n",
       "<tbody>\n",
       "\t<tr><td>BW3_EUR_summary_stats          </td><td>continuous  </td><td></td><td>birth weight (eur)        </td><td>BW3_EUR_summary_stats          </td><td>/projects/CARDIPS/analysis/epigenome_resource/analyses/jennifer/gwas_liftover/hg38_summary_statistics/BW3_EUR_summary_stats.hg38.tsv.gz          </td><td>TRUE</td></tr>\n",
       "\t<tr><td>BW3_Transethnic_summary_stats  </td><td>continuous  </td><td></td><td>birth weight (transethnic)</td><td>BW3_Transethnic_summary_stats  </td><td>/projects/CARDIPS/analysis/epigenome_resource/analyses/jennifer/gwas_liftover/hg38_summary_statistics/BW3_Transethnic_summary_stats.hg38.tsv.gz  </td><td>TRUE</td></tr>\n",
       "\t<tr><td>Fetal_postterm_birth_NComms2019</td><td>case_control</td><td></td><td>fetal post-term birth     </td><td>Fetal_postterm_birth_NComms2019</td><td>/projects/CARDIPS/analysis/epigenome_resource/analyses/jennifer/gwas_liftover/hg38_summary_statistics/Fetal_postterm_birth_NComms2019.hg38.tsv.gz</td><td>TRUE</td></tr>\n",
       "\t<tr><td>Fetal_preterm_birth_NComms2019 </td><td>case_control</td><td></td><td>fetal pre-term birth      </td><td>Fetal_preterm_birth_NComms2019 </td><td>/projects/CARDIPS/analysis/epigenome_resource/analyses/jennifer/gwas_liftover/hg38_summary_statistics/Fetal_preterm_birth_NComms2019.hg38.tsv.gz </td><td>TRUE</td></tr>\n",
       "\t<tr><td>HC_BIRTH.filteredDf0           </td><td>continuous  </td><td></td><td>head circumferance birth  </td><td>HC_BIRTH.filteredDf0           </td><td>/projects/CARDIPS/analysis/epigenome_resource/analyses/jennifer/gwas_liftover/hg38_summary_statistics/HC_BIRTH.filteredDf0.hg38.tsv.gz           </td><td>TRUE</td></tr>\n",
       "</tbody>\n",
       "</table>\n"
      ],
      "text/latex": [
       "A data.frame: 5 × 7\n",
       "\\begin{tabular}{lllllll}\n",
       " trait\\_id & trait\\_type & coding\\_description & description & full\\_trait\\_id & filename & exists\\\\\n",
       " <chr> & <chr> & <chr> & <chr> & <chr> & <chr> & <lgl>\\\\\n",
       "\\hline\n",
       "\t BW3\\_EUR\\_summary\\_stats           & continuous   &  & birth weight (eur)         & BW3\\_EUR\\_summary\\_stats           & /projects/CARDIPS/analysis/epigenome\\_resource/analyses/jennifer/gwas\\_liftover/hg38\\_summary\\_statistics/BW3\\_EUR\\_summary\\_stats.hg38.tsv.gz           & TRUE\\\\\n",
       "\t BW3\\_Transethnic\\_summary\\_stats   & continuous   &  & birth weight (transethnic) & BW3\\_Transethnic\\_summary\\_stats   & /projects/CARDIPS/analysis/epigenome\\_resource/analyses/jennifer/gwas\\_liftover/hg38\\_summary\\_statistics/BW3\\_Transethnic\\_summary\\_stats.hg38.tsv.gz   & TRUE\\\\\n",
       "\t Fetal\\_postterm\\_birth\\_NComms2019 & case\\_control &  & fetal post-term birth      & Fetal\\_postterm\\_birth\\_NComms2019 & /projects/CARDIPS/analysis/epigenome\\_resource/analyses/jennifer/gwas\\_liftover/hg38\\_summary\\_statistics/Fetal\\_postterm\\_birth\\_NComms2019.hg38.tsv.gz & TRUE\\\\\n",
       "\t Fetal\\_preterm\\_birth\\_NComms2019  & case\\_control &  & fetal pre-term birth       & Fetal\\_preterm\\_birth\\_NComms2019  & /projects/CARDIPS/analysis/epigenome\\_resource/analyses/jennifer/gwas\\_liftover/hg38\\_summary\\_statistics/Fetal\\_preterm\\_birth\\_NComms2019.hg38.tsv.gz  & TRUE\\\\\n",
       "\t HC\\_BIRTH.filteredDf0            & continuous   &  & head circumferance birth   & HC\\_BIRTH.filteredDf0            & /projects/CARDIPS/analysis/epigenome\\_resource/analyses/jennifer/gwas\\_liftover/hg38\\_summary\\_statistics/HC\\_BIRTH.filteredDf0.hg38.tsv.gz            & TRUE\\\\\n",
       "\\end{tabular}\n"
      ],
      "text/markdown": [
       "\n",
       "A data.frame: 5 × 7\n",
       "\n",
       "| trait_id &lt;chr&gt; | trait_type &lt;chr&gt; | coding_description &lt;chr&gt; | description &lt;chr&gt; | full_trait_id &lt;chr&gt; | filename &lt;chr&gt; | exists &lt;lgl&gt; |\n",
       "|---|---|---|---|---|---|---|\n",
       "| BW3_EUR_summary_stats           | continuous   | <!----> | birth weight (eur)         | BW3_EUR_summary_stats           | /projects/CARDIPS/analysis/epigenome_resource/analyses/jennifer/gwas_liftover/hg38_summary_statistics/BW3_EUR_summary_stats.hg38.tsv.gz           | TRUE |\n",
       "| BW3_Transethnic_summary_stats   | continuous   | <!----> | birth weight (transethnic) | BW3_Transethnic_summary_stats   | /projects/CARDIPS/analysis/epigenome_resource/analyses/jennifer/gwas_liftover/hg38_summary_statistics/BW3_Transethnic_summary_stats.hg38.tsv.gz   | TRUE |\n",
       "| Fetal_postterm_birth_NComms2019 | case_control | <!----> | fetal post-term birth      | Fetal_postterm_birth_NComms2019 | /projects/CARDIPS/analysis/epigenome_resource/analyses/jennifer/gwas_liftover/hg38_summary_statistics/Fetal_postterm_birth_NComms2019.hg38.tsv.gz | TRUE |\n",
       "| Fetal_preterm_birth_NComms2019  | case_control | <!----> | fetal pre-term birth       | Fetal_preterm_birth_NComms2019  | /projects/CARDIPS/analysis/epigenome_resource/analyses/jennifer/gwas_liftover/hg38_summary_statistics/Fetal_preterm_birth_NComms2019.hg38.tsv.gz  | TRUE |\n",
       "| HC_BIRTH.filteredDf0            | continuous   | <!----> | head circumferance birth   | HC_BIRTH.filteredDf0            | /projects/CARDIPS/analysis/epigenome_resource/analyses/jennifer/gwas_liftover/hg38_summary_statistics/HC_BIRTH.filteredDf0.hg38.tsv.gz            | TRUE |\n",
       "\n"
      ],
      "text/plain": [
       "  trait_id                        trait_type   coding_description\n",
       "1 BW3_EUR_summary_stats           continuous                     \n",
       "2 BW3_Transethnic_summary_stats   continuous                     \n",
       "3 Fetal_postterm_birth_NComms2019 case_control                   \n",
       "4 Fetal_preterm_birth_NComms2019  case_control                   \n",
       "5 HC_BIRTH.filteredDf0            continuous                     \n",
       "  description                full_trait_id                  \n",
       "1 birth weight (eur)         BW3_EUR_summary_stats          \n",
       "2 birth weight (transethnic) BW3_Transethnic_summary_stats  \n",
       "3 fetal post-term birth      Fetal_postterm_birth_NComms2019\n",
       "4 fetal pre-term birth       Fetal_preterm_birth_NComms2019 \n",
       "5 head circumferance birth   HC_BIRTH.filteredDf0           \n",
       "  filename                                                                                                                                         \n",
       "1 /projects/CARDIPS/analysis/epigenome_resource/analyses/jennifer/gwas_liftover/hg38_summary_statistics/BW3_EUR_summary_stats.hg38.tsv.gz          \n",
       "2 /projects/CARDIPS/analysis/epigenome_resource/analyses/jennifer/gwas_liftover/hg38_summary_statistics/BW3_Transethnic_summary_stats.hg38.tsv.gz  \n",
       "3 /projects/CARDIPS/analysis/epigenome_resource/analyses/jennifer/gwas_liftover/hg38_summary_statistics/Fetal_postterm_birth_NComms2019.hg38.tsv.gz\n",
       "4 /projects/CARDIPS/analysis/epigenome_resource/analyses/jennifer/gwas_liftover/hg38_summary_statistics/Fetal_preterm_birth_NComms2019.hg38.tsv.gz \n",
       "5 /projects/CARDIPS/analysis/epigenome_resource/analyses/jennifer/gwas_liftover/hg38_summary_statistics/HC_BIRTH.filteredDf0.hg38.tsv.gz           \n",
       "  exists\n",
       "1 TRUE  \n",
       "2 TRUE  \n",
       "3 TRUE  \n",
       "4 TRUE  \n",
       "5 TRUE  "
      ]
     },
     "metadata": {},
     "output_type": "display_data"
    }
   ],
   "source": [
    "# manifest_file = \"/projects/CARDIPS/analysis/epigenome_resource/analyses/jennifer/gwas_coloc/input/manifest.txt\"\n",
    "# manifest = fread(manifest_file, data.table = F)\n",
    "# manifest %>% filter(description %like% \"birth\")"
   ]
  },
  {
   "cell_type": "code",
   "execution_count": 169,
   "metadata": {},
   "outputs": [],
   "source": [
    "# fwrite(d, \"analyses/jennifer/ldsc/1kg_input/1KG_hapmap_snps.for_munge.list\", row.names = F, sep = \"\\t\")"
   ]
  },
  {
   "cell_type": "markdown",
   "metadata": {},
   "source": [
    "## 0. Run munge"
   ]
  },
  {
   "cell_type": "code",
   "execution_count": 337,
   "metadata": {},
   "outputs": [],
   "source": [
    "# index = 2\n",
    "# file = manifest$filename[i]\n",
    "# full_trait_id = manifest$full_trait_id[i]\n",
    "# cmd = paste(\"source /frazer01/home/jennifer/.bash_profile; source activate ldsc; python ~/software/ldsc/munge_sumstats.py\", \n",
    "#             \"--sumstats\", paste(getwd(), \"analyses/jennifer/ldsc/sumstats\", \"biomarkers-30740-both_sexes-irnt.meta.to_ldsc.txt\", sep = \"/\"),\n",
    "#             \"--merge-alleles\", paste(getwd(), \"analyses/jennifer/ldsc/1kg_input/1KG_hapmap_snps.for_munge.list\", sep = \"/\"),\n",
    "#             \"--out\", paste(getwd(), \"analyses/jennifer/ldsc/sumstats\", \"biomarkers-30740-both_sexes-irnt.meta\", sep = \"/\"), \n",
    "#             \"--a1-inc\")\n",
    "\n",
    "# log_out = paste(getwd(), \"analyses/jennifer/ldsc/logs\", paste(\"munge\", full_trait_id, sep = \".\"), sep = \"/\")\n",
    "# log_err = paste(getwd(), \"analyses/jennifer/ldsc/logs\", paste(\"munge\", full_trait_id, sep = \".\"), sep = \"/\")\n",
    "\n",
    "# run_qsub(cmd = cmd, name = full_trait_id, log_out = log_out, log_err = log_err, exec = T, threads = 8)\n",
    "\n",
    "\n"
   ]
  },
  {
   "cell_type": "code",
   "execution_count": 334,
   "metadata": {},
   "outputs": [],
   "source": [
    "# data = fread(\"/projects/CARDIPS/analysis/epigenome_resource/analyses/jennifer/gwas_liftover/hg38_summary_statistics/BW3_EUR_summary_stats.hg38.tsv.gz\", data.table = F)\n",
    "# colnames(data) = toupper(colnames(data))\n",
    "# data2 = data[data$RSID %in% hapmap$SNP,] %>% select(-EAF) %>% dplyr::rename(SNP = RSID)\n",
    "# merge = merge(data2, hapmap, by = \"SNP\")\n",
    "# a = merge[merge$A1.x == merge$A1.y & merge$A2.x == merge$A2.y,]\n",
    "# b = merge[merge$A1.x == merge$A2.y & merge$A2.x == merge$A1.y,]\n",
    "# a$BETA = a$BETA * -1\n",
    "# merge = rbind(a, b) %>% select(-A1.x, -A2.x) %>% dplyr::rename(A1 = A1.y, A2 = A2.y)\n",
    "# merge$CHR = gsub(\"chr\", \"\", merge$CHR)\n",
    "# fwrite(merge, \"analyses/jennifer/ldsc/sumstats/BW3_EUR_summary_stats.hg38.hapmap.to_munge.txt\", row.names = F, sep = \"\\t\")"
   ]
  },
  {
   "cell_type": "code",
   "execution_count": 335,
   "metadata": {},
   "outputs": [],
   "source": [
    "# python ~/software/ldsc/munge_sumstats.py --sumstats BW3_EUR_summary_stats.hg38.hapmap.to_munge.txt --out BW3_EUR_summary_stats.hg38.hapmap --a1-inc"
   ]
  },
  {
   "cell_type": "code",
   "execution_count": 336,
   "metadata": {},
   "outputs": [],
   "source": [
    "# refdir=/projects/CARDIPS/analysis/epigenome_resource/analyses/jennifer/ldsc/reference\n",
    "# python ~/software/ldsc/ldsc.py --h2 sumstats/BW3_EUR_summary_stats.hg38.hapmap.sumstats.gz --ref-ld-chr ${refdir}/baseline_v1.2/baseline. --w-ld-chr ${refdir}/weights/weights.hm3_noMHC. --overlap-annot --frqfile-chr ${refdir}/1000G_Phase3_frq/1000G.EUR.QC. --out h2/BW3_EUR_summary_stats.hg38.hapmap"
   ]
  },
  {
   "cell_type": "markdown",
   "metadata": {},
   "source": [
    "## 1. Prepare annotation bed files"
   ]
  },
  {
   "cell_type": "code",
   "execution_count": 2,
   "metadata": {},
   "outputs": [],
   "source": [
    "# geneinfo = fread(\"/reference/private/Gencode.v44lift38/gene_info.txt\", data.table = F) %>% select(gene_id, chrom, start, end)\n",
    "# colnames(geneinfo) = c(\"GENE\", \"CHR\", \"START\", \"END\")\n",
    "# fwrite(geneinfo, \"analyses/jennifer/ldsc/annot/gene_info.txt\", row.names = F, sep = \"\\t\")"
   ]
  },
  {
   "cell_type": "code",
   "execution_count": 3,
   "metadata": {},
   "outputs": [],
   "source": [
    "# peak_info = paste(analysis, tissue, \"input/phenotype_info.txt\", sep = \"/\")\n",
    "# peak_info = fread(peak_info, data.table = F)"
   ]
  },
  {
   "cell_type": "code",
   "execution_count": 5,
   "metadata": {},
   "outputs": [
    {
     "name": "stdout",
     "output_type": "stream",
     "text": [
      "Loading objects:\n",
      "  expdata\n"
     ]
    }
   ],
   "source": [
    "load(\"caqtls/CVPC/step_1/expdata.robj\", verbose = T)"
   ]
  },
  {
   "cell_type": "code",
   "execution_count": 8,
   "metadata": {},
   "outputs": [
    {
     "data": {
      "text/html": [
       "<style>\n",
       ".list-inline {list-style: none; margin:0; padding: 0}\n",
       ".list-inline>li {display: inline-block}\n",
       ".list-inline>li:not(:last-child)::after {content: \"\\00b7\"; padding: 0 .5ex}\n",
       "</style>\n",
       "<ol class=list-inline><li>'expressed_tmm'</li><li>'normalized_tmm'</li><li>'element_ids'</li><li>'phenotype_ids'</li></ol>\n"
      ],
      "text/latex": [
       "\\begin{enumerate*}\n",
       "\\item 'expressed\\_tmm'\n",
       "\\item 'normalized\\_tmm'\n",
       "\\item 'element\\_ids'\n",
       "\\item 'phenotype\\_ids'\n",
       "\\end{enumerate*}\n"
      ],
      "text/markdown": [
       "1. 'expressed_tmm'\n",
       "2. 'normalized_tmm'\n",
       "3. 'element_ids'\n",
       "4. 'phenotype_ids'\n",
       "\n",
       "\n"
      ],
      "text/plain": [
       "[1] \"expressed_tmm\"  \"normalized_tmm\" \"element_ids\"    \"phenotype_ids\" "
      ]
     },
     "metadata": {},
     "output_type": "display_data"
    },
    {
     "data": {
      "text/html": [
       "<style>\n",
       ".list-inline {list-style: none; margin:0; padding: 0}\n",
       ".list-inline>li {display: inline-block}\n",
       ".list-inline>li:not(:last-child)::after {content: \"\\00b7\"; padding: 0 .5ex}\n",
       "</style>\n",
       "<ol class=list-inline><li>'cvpc_atac_peak_10'</li><li>'cvpc_atac_peak_100'</li></ol>\n"
      ],
      "text/latex": [
       "\\begin{enumerate*}\n",
       "\\item 'cvpc\\_atac\\_peak\\_10'\n",
       "\\item 'cvpc\\_atac\\_peak\\_100'\n",
       "\\end{enumerate*}\n"
      ],
      "text/markdown": [
       "1. 'cvpc_atac_peak_10'\n",
       "2. 'cvpc_atac_peak_100'\n",
       "\n",
       "\n"
      ],
      "text/plain": [
       "[1] \"cvpc_atac_peak_10\"  \"cvpc_atac_peak_100\""
      ]
     },
     "metadata": {},
     "output_type": "display_data"
    }
   ],
   "source": [
    "names(expdata)\n",
    "\n",
    "head(expdata$element_ids,2)"
   ]
  },
  {
   "cell_type": "code",
   "execution_count": 19,
   "metadata": {},
   "outputs": [
    {
     "name": "stderr",
     "output_type": "stream",
     "text": [
      "Warning message in dir.create(paste(\"analyses/jennifer/ldsc/annot\", paste(tissue, :\n",
      "“'analyses/jennifer/ldsc/annot/CVPC.caqtls.exp_peaks' already exists”\n"
     ]
    },
    {
     "name": "stdout",
     "output_type": "stream",
     "text": [
      "Loading objects:\n",
      "  expdata\n"
     ]
    },
    {
     "name": "stderr",
     "output_type": "stream",
     "text": [
      "Saved: analyses/jennifer/ldsc/annot/CVPC.caqtls.exp_peaks/1.bed\n",
      "Saved: analyses/jennifer/ldsc/annot/CVPC.caqtls.exp_peaks/2.bed\n",
      "Saved: analyses/jennifer/ldsc/annot/CVPC.caqtls.exp_peaks/3.bed\n",
      "Saved: analyses/jennifer/ldsc/annot/CVPC.caqtls.exp_peaks/4.bed\n",
      "Saved: analyses/jennifer/ldsc/annot/CVPC.caqtls.exp_peaks/5.bed\n",
      "Saved: analyses/jennifer/ldsc/annot/CVPC.caqtls.exp_peaks/6.bed\n",
      "Saved: analyses/jennifer/ldsc/annot/CVPC.caqtls.exp_peaks/7.bed\n",
      "Saved: analyses/jennifer/ldsc/annot/CVPC.caqtls.exp_peaks/8.bed\n",
      "Saved: analyses/jennifer/ldsc/annot/CVPC.caqtls.exp_peaks/9.bed\n",
      "Saved: analyses/jennifer/ldsc/annot/CVPC.caqtls.exp_peaks/10.bed\n",
      "Saved: analyses/jennifer/ldsc/annot/CVPC.caqtls.exp_peaks/11.bed\n",
      "Saved: analyses/jennifer/ldsc/annot/CVPC.caqtls.exp_peaks/12.bed\n",
      "Saved: analyses/jennifer/ldsc/annot/CVPC.caqtls.exp_peaks/13.bed\n",
      "Saved: analyses/jennifer/ldsc/annot/CVPC.caqtls.exp_peaks/14.bed\n",
      "Saved: analyses/jennifer/ldsc/annot/CVPC.caqtls.exp_peaks/15.bed\n",
      "Saved: analyses/jennifer/ldsc/annot/CVPC.caqtls.exp_peaks/16.bed\n",
      "Saved: analyses/jennifer/ldsc/annot/CVPC.caqtls.exp_peaks/17.bed\n",
      "Saved: analyses/jennifer/ldsc/annot/CVPC.caqtls.exp_peaks/18.bed\n",
      "Saved: analyses/jennifer/ldsc/annot/CVPC.caqtls.exp_peaks/19.bed\n",
      "Saved: analyses/jennifer/ldsc/annot/CVPC.caqtls.exp_peaks/20.bed\n",
      "Saved: analyses/jennifer/ldsc/annot/CVPC.caqtls.exp_peaks/21.bed\n",
      "Saved: analyses/jennifer/ldsc/annot/CVPC.caqtls.exp_peaks/22.bed\n",
      "Warning message in dir.create(paste(\"analyses/jennifer/ldsc/annot\", paste(tissue, :\n",
      "“'analyses/jennifer/ldsc/annot/CVPC.haqtls.exp_peaks' already exists”\n"
     ]
    },
    {
     "name": "stdout",
     "output_type": "stream",
     "text": [
      "Loading objects:\n",
      "  expdata\n"
     ]
    },
    {
     "name": "stderr",
     "output_type": "stream",
     "text": [
      "Saved: analyses/jennifer/ldsc/annot/CVPC.haqtls.exp_peaks/1.bed\n",
      "Saved: analyses/jennifer/ldsc/annot/CVPC.haqtls.exp_peaks/2.bed\n",
      "Saved: analyses/jennifer/ldsc/annot/CVPC.haqtls.exp_peaks/3.bed\n",
      "Saved: analyses/jennifer/ldsc/annot/CVPC.haqtls.exp_peaks/4.bed\n",
      "Saved: analyses/jennifer/ldsc/annot/CVPC.haqtls.exp_peaks/5.bed\n",
      "Saved: analyses/jennifer/ldsc/annot/CVPC.haqtls.exp_peaks/6.bed\n",
      "Saved: analyses/jennifer/ldsc/annot/CVPC.haqtls.exp_peaks/7.bed\n",
      "Saved: analyses/jennifer/ldsc/annot/CVPC.haqtls.exp_peaks/8.bed\n",
      "Saved: analyses/jennifer/ldsc/annot/CVPC.haqtls.exp_peaks/9.bed\n",
      "Saved: analyses/jennifer/ldsc/annot/CVPC.haqtls.exp_peaks/10.bed\n",
      "Saved: analyses/jennifer/ldsc/annot/CVPC.haqtls.exp_peaks/11.bed\n",
      "Saved: analyses/jennifer/ldsc/annot/CVPC.haqtls.exp_peaks/12.bed\n",
      "Saved: analyses/jennifer/ldsc/annot/CVPC.haqtls.exp_peaks/13.bed\n",
      "Saved: analyses/jennifer/ldsc/annot/CVPC.haqtls.exp_peaks/14.bed\n",
      "Saved: analyses/jennifer/ldsc/annot/CVPC.haqtls.exp_peaks/15.bed\n",
      "Saved: analyses/jennifer/ldsc/annot/CVPC.haqtls.exp_peaks/16.bed\n",
      "Saved: analyses/jennifer/ldsc/annot/CVPC.haqtls.exp_peaks/17.bed\n",
      "Saved: analyses/jennifer/ldsc/annot/CVPC.haqtls.exp_peaks/18.bed\n",
      "Saved: analyses/jennifer/ldsc/annot/CVPC.haqtls.exp_peaks/19.bed\n",
      "Saved: analyses/jennifer/ldsc/annot/CVPC.haqtls.exp_peaks/20.bed\n",
      "Saved: analyses/jennifer/ldsc/annot/CVPC.haqtls.exp_peaks/21.bed\n",
      "Saved: analyses/jennifer/ldsc/annot/CVPC.haqtls.exp_peaks/22.bed\n",
      "Warning message in dir.create(paste(\"analyses/jennifer/ldsc/annot\", paste(tissue, :\n",
      "“'analyses/jennifer/ldsc/annot/iPSC.caqtls.exp_peaks' already exists”\n"
     ]
    },
    {
     "name": "stdout",
     "output_type": "stream",
     "text": [
      "Loading objects:\n",
      "  expdata\n"
     ]
    },
    {
     "name": "stderr",
     "output_type": "stream",
     "text": [
      "Saved: analyses/jennifer/ldsc/annot/iPSC.caqtls.exp_peaks/1.bed\n",
      "Saved: analyses/jennifer/ldsc/annot/iPSC.caqtls.exp_peaks/2.bed\n",
      "Saved: analyses/jennifer/ldsc/annot/iPSC.caqtls.exp_peaks/3.bed\n",
      "Saved: analyses/jennifer/ldsc/annot/iPSC.caqtls.exp_peaks/4.bed\n",
      "Saved: analyses/jennifer/ldsc/annot/iPSC.caqtls.exp_peaks/5.bed\n",
      "Saved: analyses/jennifer/ldsc/annot/iPSC.caqtls.exp_peaks/6.bed\n",
      "Saved: analyses/jennifer/ldsc/annot/iPSC.caqtls.exp_peaks/7.bed\n",
      "Saved: analyses/jennifer/ldsc/annot/iPSC.caqtls.exp_peaks/8.bed\n",
      "Saved: analyses/jennifer/ldsc/annot/iPSC.caqtls.exp_peaks/9.bed\n",
      "Saved: analyses/jennifer/ldsc/annot/iPSC.caqtls.exp_peaks/10.bed\n",
      "Saved: analyses/jennifer/ldsc/annot/iPSC.caqtls.exp_peaks/11.bed\n",
      "Saved: analyses/jennifer/ldsc/annot/iPSC.caqtls.exp_peaks/12.bed\n",
      "Saved: analyses/jennifer/ldsc/annot/iPSC.caqtls.exp_peaks/13.bed\n",
      "Saved: analyses/jennifer/ldsc/annot/iPSC.caqtls.exp_peaks/14.bed\n",
      "Saved: analyses/jennifer/ldsc/annot/iPSC.caqtls.exp_peaks/15.bed\n",
      "Saved: analyses/jennifer/ldsc/annot/iPSC.caqtls.exp_peaks/16.bed\n",
      "Saved: analyses/jennifer/ldsc/annot/iPSC.caqtls.exp_peaks/17.bed\n",
      "Saved: analyses/jennifer/ldsc/annot/iPSC.caqtls.exp_peaks/18.bed\n",
      "Saved: analyses/jennifer/ldsc/annot/iPSC.caqtls.exp_peaks/19.bed\n",
      "Saved: analyses/jennifer/ldsc/annot/iPSC.caqtls.exp_peaks/20.bed\n",
      "Saved: analyses/jennifer/ldsc/annot/iPSC.caqtls.exp_peaks/21.bed\n",
      "Saved: analyses/jennifer/ldsc/annot/iPSC.caqtls.exp_peaks/22.bed\n",
      "Warning message in dir.create(paste(\"analyses/jennifer/ldsc/annot\", paste(tissue, :\n",
      "“'analyses/jennifer/ldsc/annot/iPSC.haqtls.exp_peaks' already exists”\n"
     ]
    },
    {
     "name": "stdout",
     "output_type": "stream",
     "text": [
      "Loading objects:\n",
      "  expdata\n"
     ]
    },
    {
     "name": "stderr",
     "output_type": "stream",
     "text": [
      "Saved: analyses/jennifer/ldsc/annot/iPSC.haqtls.exp_peaks/1.bed\n",
      "Saved: analyses/jennifer/ldsc/annot/iPSC.haqtls.exp_peaks/2.bed\n",
      "Saved: analyses/jennifer/ldsc/annot/iPSC.haqtls.exp_peaks/3.bed\n",
      "Saved: analyses/jennifer/ldsc/annot/iPSC.haqtls.exp_peaks/4.bed\n",
      "Saved: analyses/jennifer/ldsc/annot/iPSC.haqtls.exp_peaks/5.bed\n",
      "Saved: analyses/jennifer/ldsc/annot/iPSC.haqtls.exp_peaks/6.bed\n",
      "Saved: analyses/jennifer/ldsc/annot/iPSC.haqtls.exp_peaks/7.bed\n",
      "Saved: analyses/jennifer/ldsc/annot/iPSC.haqtls.exp_peaks/8.bed\n",
      "Saved: analyses/jennifer/ldsc/annot/iPSC.haqtls.exp_peaks/9.bed\n",
      "Saved: analyses/jennifer/ldsc/annot/iPSC.haqtls.exp_peaks/10.bed\n",
      "Saved: analyses/jennifer/ldsc/annot/iPSC.haqtls.exp_peaks/11.bed\n",
      "Saved: analyses/jennifer/ldsc/annot/iPSC.haqtls.exp_peaks/12.bed\n",
      "Saved: analyses/jennifer/ldsc/annot/iPSC.haqtls.exp_peaks/13.bed\n",
      "Saved: analyses/jennifer/ldsc/annot/iPSC.haqtls.exp_peaks/14.bed\n",
      "Saved: analyses/jennifer/ldsc/annot/iPSC.haqtls.exp_peaks/15.bed\n",
      "Saved: analyses/jennifer/ldsc/annot/iPSC.haqtls.exp_peaks/16.bed\n",
      "Saved: analyses/jennifer/ldsc/annot/iPSC.haqtls.exp_peaks/17.bed\n",
      "Saved: analyses/jennifer/ldsc/annot/iPSC.haqtls.exp_peaks/18.bed\n",
      "Saved: analyses/jennifer/ldsc/annot/iPSC.haqtls.exp_peaks/19.bed\n",
      "Saved: analyses/jennifer/ldsc/annot/iPSC.haqtls.exp_peaks/20.bed\n",
      "Saved: analyses/jennifer/ldsc/annot/iPSC.haqtls.exp_peaks/21.bed\n",
      "Saved: analyses/jennifer/ldsc/annot/iPSC.haqtls.exp_peaks/22.bed\n",
      "Warning message in dir.create(paste(\"analyses/jennifer/ldsc/annot\", paste(tissue, :\n",
      "“'analyses/jennifer/ldsc/annot/PPC.caqtls.exp_peaks' already exists”\n"
     ]
    },
    {
     "name": "stdout",
     "output_type": "stream",
     "text": [
      "Loading objects:\n",
      "  expdata\n"
     ]
    },
    {
     "name": "stderr",
     "output_type": "stream",
     "text": [
      "Saved: analyses/jennifer/ldsc/annot/PPC.caqtls.exp_peaks/1.bed\n",
      "Saved: analyses/jennifer/ldsc/annot/PPC.caqtls.exp_peaks/2.bed\n",
      "Saved: analyses/jennifer/ldsc/annot/PPC.caqtls.exp_peaks/3.bed\n",
      "Saved: analyses/jennifer/ldsc/annot/PPC.caqtls.exp_peaks/4.bed\n",
      "Saved: analyses/jennifer/ldsc/annot/PPC.caqtls.exp_peaks/5.bed\n",
      "Saved: analyses/jennifer/ldsc/annot/PPC.caqtls.exp_peaks/6.bed\n",
      "Saved: analyses/jennifer/ldsc/annot/PPC.caqtls.exp_peaks/7.bed\n",
      "Saved: analyses/jennifer/ldsc/annot/PPC.caqtls.exp_peaks/8.bed\n",
      "Saved: analyses/jennifer/ldsc/annot/PPC.caqtls.exp_peaks/9.bed\n",
      "Saved: analyses/jennifer/ldsc/annot/PPC.caqtls.exp_peaks/10.bed\n",
      "Saved: analyses/jennifer/ldsc/annot/PPC.caqtls.exp_peaks/11.bed\n",
      "Saved: analyses/jennifer/ldsc/annot/PPC.caqtls.exp_peaks/12.bed\n",
      "Saved: analyses/jennifer/ldsc/annot/PPC.caqtls.exp_peaks/13.bed\n",
      "Saved: analyses/jennifer/ldsc/annot/PPC.caqtls.exp_peaks/14.bed\n",
      "Saved: analyses/jennifer/ldsc/annot/PPC.caqtls.exp_peaks/15.bed\n",
      "Saved: analyses/jennifer/ldsc/annot/PPC.caqtls.exp_peaks/16.bed\n",
      "Saved: analyses/jennifer/ldsc/annot/PPC.caqtls.exp_peaks/17.bed\n",
      "Saved: analyses/jennifer/ldsc/annot/PPC.caqtls.exp_peaks/18.bed\n",
      "Saved: analyses/jennifer/ldsc/annot/PPC.caqtls.exp_peaks/19.bed\n",
      "Saved: analyses/jennifer/ldsc/annot/PPC.caqtls.exp_peaks/20.bed\n",
      "Saved: analyses/jennifer/ldsc/annot/PPC.caqtls.exp_peaks/21.bed\n",
      "Saved: analyses/jennifer/ldsc/annot/PPC.caqtls.exp_peaks/22.bed\n",
      "Warning message in dir.create(paste(\"analyses/jennifer/ldsc/annot\", paste(tissue, :\n",
      "“'analyses/jennifer/ldsc/annot/PPC.haqtls.exp_peaks' already exists”\n",
      "Warning message in readChar(con, 5L, useBytes = TRUE):\n",
      "“cannot open compressed file 'haqtls/PPC/step_1/expdata.robj', probable reason 'No such file or directory'”\n"
     ]
    },
    {
     "ename": "ERROR",
     "evalue": "Error in readChar(con, 5L, useBytes = TRUE): cannot open the connection\n",
     "output_type": "error",
     "traceback": [
      "Error in readChar(con, 5L, useBytes = TRUE): cannot open the connection\nTraceback:\n",
      "1. load(paste(analysis, tissue, \"step_1/expdata.robj\", sep = \"/\"), \n .     verbose = T)",
      "2. readChar(con, 5L, useBytes = TRUE)"
     ]
    }
   ],
   "source": [
    "for (tissue in c(\"CVPC\",  \"iPSC\", \"PPC\"))\n",
    "{\n",
    "    for (analysis in c(\"caqtls\", \"haqtls\"))\n",
    "    {\n",
    "        dir.create(paste(\"analyses/jennifer/ldsc/annot\", paste(tissue, analysis, \"exp_peaks\", sep = \".\"), sep = \"/\"))\n",
    "        peak_info = paste(analysis, tissue, \"input/phenotype_info.txt\", sep = \"/\")\n",
    "        load(paste(analysis, tissue, \"step_1/expdata.robj\", sep = \"/\"), verbose = T)\n",
    "        \n",
    "        if (file.exists(peak_info))\n",
    "        {\n",
    "            peak_info = fread(peak_info, data.table = F) %>% filter(element_id %in% expdata$element_ids)\n",
    "            for (i in c(1:22))\n",
    "            {\n",
    "                outfile = paste(\"analyses/jennifer/ldsc/annot\", paste(tissue, analysis, \"exp_peaks\", sep = \".\"), paste(i, \"bed\", sep = \".\"), sep = \"/\")\n",
    "                fwrite(peak_info %>% filter(chrom == paste0(\"chr\", i)) %>% select(chrom, start, end), outfile, row.names = F, sep = \"\\t\", col.names = F)\n",
    "                message(paste(\"Saved:\", outfile), appendLF = F)\n",
    "            }\n",
    "        }   \n",
    "    }\n",
    "}\n"
   ]
  },
  {
   "cell_type": "markdown",
   "metadata": {},
   "source": [
    "## 2. Prepare annotation file"
   ]
  },
  {
   "cell_type": "code",
   "execution_count": 20,
   "metadata": {},
   "outputs": [],
   "source": [
    "dir.create(paste(\"analyses/jennifer/ldsc/annot\", \"exp_peaks_together\", sep = \"/\"))"
   ]
  },
  {
   "cell_type": "code",
   "execution_count": 21,
   "metadata": {},
   "outputs": [
    {
     "name": "stderr",
     "output_type": "stream",
     "text": [
      "1\n",
      "bedtools intersect -a analyses/jennifer/ldsc/annot/CVPC.caqtls.exp_peaks/1.bed -b analyses/jennifer/scratch/b.bed -wa -wb\n"
     ]
    },
    {
     "name": "stdout",
     "output_type": "stream",
     "text": [
      "\n",
      "     0      1 \n",
      "745572  33031 \n"
     ]
    },
    {
     "name": "stderr",
     "output_type": "stream",
     "text": [
      "bedtools intersect -a analyses/jennifer/ldsc/annot/CVPC.haqtls.exp_peaks/1.bed -b analyses/jennifer/scratch/b.bed -wa -wb\n"
     ]
    },
    {
     "name": "stdout",
     "output_type": "stream",
     "text": [
      "\n",
      "     0      1 \n",
      "744115  34488 \n"
     ]
    },
    {
     "name": "stderr",
     "output_type": "stream",
     "text": [
      "bedtools intersect -a analyses/jennifer/ldsc/annot/iPSC.caqtls.exp_peaks/1.bed -b analyses/jennifer/scratch/b.bed -wa -wb\n"
     ]
    },
    {
     "name": "stdout",
     "output_type": "stream",
     "text": [
      "\n",
      "     0      1 \n",
      "750310  28293 \n"
     ]
    },
    {
     "name": "stderr",
     "output_type": "stream",
     "text": [
      "bedtools intersect -a analyses/jennifer/ldsc/annot/iPSC.haqtls.exp_peaks/1.bed -b analyses/jennifer/scratch/b.bed -wa -wb\n"
     ]
    },
    {
     "name": "stdout",
     "output_type": "stream",
     "text": [
      "\n",
      "     0      1 \n",
      "750661  27942 \n"
     ]
    },
    {
     "name": "stderr",
     "output_type": "stream",
     "text": [
      "bedtools intersect -a analyses/jennifer/ldsc/annot/PPC.caqtls.exp_peaks/1.bed -b analyses/jennifer/scratch/b.bed -wa -wb\n"
     ]
    },
    {
     "name": "stdout",
     "output_type": "stream",
     "text": [
      "\n",
      "     0      1 \n",
      "738003  40600 \n"
     ]
    },
    {
     "name": "stderr",
     "output_type": "stream",
     "text": [
      "Saved: analyses/jennifer/ldsc/annot/exp_peaks_together/1.annot.gz\n",
      "2\n",
      "bedtools intersect -a analyses/jennifer/ldsc/annot/CVPC.caqtls.exp_peaks/2.bed -b analyses/jennifer/scratch/b.bed -wa -wb\n"
     ]
    },
    {
     "name": "stdout",
     "output_type": "stream",
     "text": [
      "\n",
      "     0      1 \n",
      "810330  28927 \n"
     ]
    },
    {
     "name": "stderr",
     "output_type": "stream",
     "text": [
      "bedtools intersect -a analyses/jennifer/ldsc/annot/CVPC.haqtls.exp_peaks/2.bed -b analyses/jennifer/scratch/b.bed -wa -wb\n"
     ]
    },
    {
     "name": "stdout",
     "output_type": "stream",
     "text": [
      "\n",
      "     0      1 \n",
      "811255  28002 \n"
     ]
    },
    {
     "name": "stderr",
     "output_type": "stream",
     "text": [
      "bedtools intersect -a analyses/jennifer/ldsc/annot/iPSC.caqtls.exp_peaks/2.bed -b analyses/jennifer/scratch/b.bed -wa -wb\n"
     ]
    },
    {
     "name": "stdout",
     "output_type": "stream",
     "text": [
      "\n",
      "     0      1 \n",
      "814915  24342 \n"
     ]
    },
    {
     "name": "stderr",
     "output_type": "stream",
     "text": [
      "bedtools intersect -a analyses/jennifer/ldsc/annot/iPSC.haqtls.exp_peaks/2.bed -b analyses/jennifer/scratch/b.bed -wa -wb\n"
     ]
    },
    {
     "name": "stdout",
     "output_type": "stream",
     "text": [
      "\n",
      "     0      1 \n",
      "818319  20938 \n"
     ]
    },
    {
     "name": "stderr",
     "output_type": "stream",
     "text": [
      "bedtools intersect -a analyses/jennifer/ldsc/annot/PPC.caqtls.exp_peaks/2.bed -b analyses/jennifer/scratch/b.bed -wa -wb\n"
     ]
    },
    {
     "name": "stdout",
     "output_type": "stream",
     "text": [
      "\n",
      "     0      1 \n",
      "802982  36275 \n"
     ]
    },
    {
     "name": "stderr",
     "output_type": "stream",
     "text": [
      "Saved: analyses/jennifer/ldsc/annot/exp_peaks_together/2.annot.gz\n",
      "3\n",
      "bedtools intersect -a analyses/jennifer/ldsc/annot/CVPC.caqtls.exp_peaks/3.bed -b analyses/jennifer/scratch/b.bed -wa -wb\n"
     ]
    },
    {
     "name": "stdout",
     "output_type": "stream",
     "text": [
      "\n",
      "     0      1 \n",
      "683348  22815 \n"
     ]
    },
    {
     "name": "stderr",
     "output_type": "stream",
     "text": [
      "bedtools intersect -a analyses/jennifer/ldsc/annot/CVPC.haqtls.exp_peaks/3.bed -b analyses/jennifer/scratch/b.bed -wa -wb\n"
     ]
    },
    {
     "name": "stdout",
     "output_type": "stream",
     "text": [
      "\n",
      "     0      1 \n",
      "682744  23419 \n"
     ]
    },
    {
     "name": "stderr",
     "output_type": "stream",
     "text": [
      "bedtools intersect -a analyses/jennifer/ldsc/annot/iPSC.caqtls.exp_peaks/3.bed -b analyses/jennifer/scratch/b.bed -wa -wb\n"
     ]
    },
    {
     "name": "stdout",
     "output_type": "stream",
     "text": [
      "\n",
      "     0      1 \n",
      "687319  18844 \n"
     ]
    },
    {
     "name": "stderr",
     "output_type": "stream",
     "text": [
      "bedtools intersect -a analyses/jennifer/ldsc/annot/iPSC.haqtls.exp_peaks/3.bed -b analyses/jennifer/scratch/b.bed -wa -wb\n"
     ]
    },
    {
     "name": "stdout",
     "output_type": "stream",
     "text": [
      "\n",
      "     0      1 \n",
      "688591  17572 \n"
     ]
    },
    {
     "name": "stderr",
     "output_type": "stream",
     "text": [
      "bedtools intersect -a analyses/jennifer/ldsc/annot/PPC.caqtls.exp_peaks/3.bed -b analyses/jennifer/scratch/b.bed -wa -wb\n"
     ]
    },
    {
     "name": "stdout",
     "output_type": "stream",
     "text": [
      "\n",
      "     0      1 \n",
      "679224  26939 \n"
     ]
    },
    {
     "name": "stderr",
     "output_type": "stream",
     "text": [
      "Saved: analyses/jennifer/ldsc/annot/exp_peaks_together/3.annot.gz\n",
      "4\n",
      "bedtools intersect -a analyses/jennifer/ldsc/annot/CVPC.caqtls.exp_peaks/4.bed -b analyses/jennifer/scratch/b.bed -wa -wb\n"
     ]
    },
    {
     "name": "stdout",
     "output_type": "stream",
     "text": [
      "\n",
      "     0      1 \n",
      "710681  18865 \n"
     ]
    },
    {
     "name": "stderr",
     "output_type": "stream",
     "text": [
      "bedtools intersect -a analyses/jennifer/ldsc/annot/CVPC.haqtls.exp_peaks/4.bed -b analyses/jennifer/scratch/b.bed -wa -wb\n"
     ]
    },
    {
     "name": "stdout",
     "output_type": "stream",
     "text": [
      "\n",
      "     0      1 \n",
      "709832  19714 \n"
     ]
    },
    {
     "name": "stderr",
     "output_type": "stream",
     "text": [
      "bedtools intersect -a analyses/jennifer/ldsc/annot/iPSC.caqtls.exp_peaks/4.bed -b analyses/jennifer/scratch/b.bed -wa -wb\n"
     ]
    },
    {
     "name": "stdout",
     "output_type": "stream",
     "text": [
      "\n",
      "     0      1 \n",
      "713472  16074 \n"
     ]
    },
    {
     "name": "stderr",
     "output_type": "stream",
     "text": [
      "bedtools intersect -a analyses/jennifer/ldsc/annot/iPSC.haqtls.exp_peaks/4.bed -b analyses/jennifer/scratch/b.bed -wa -wb\n"
     ]
    },
    {
     "name": "stdout",
     "output_type": "stream",
     "text": [
      "\n",
      "     0      1 \n",
      "714549  14997 \n"
     ]
    },
    {
     "name": "stderr",
     "output_type": "stream",
     "text": [
      "bedtools intersect -a analyses/jennifer/ldsc/annot/PPC.caqtls.exp_peaks/4.bed -b analyses/jennifer/scratch/b.bed -wa -wb\n"
     ]
    },
    {
     "name": "stdout",
     "output_type": "stream",
     "text": [
      "\n",
      "     0      1 \n",
      "706953  22593 \n"
     ]
    },
    {
     "name": "stderr",
     "output_type": "stream",
     "text": [
      "Saved: analyses/jennifer/ldsc/annot/exp_peaks_together/4.annot.gz\n",
      "5\n",
      "bedtools intersect -a analyses/jennifer/ldsc/annot/CVPC.caqtls.exp_peaks/5.bed -b analyses/jennifer/scratch/b.bed -wa -wb\n"
     ]
    },
    {
     "name": "stdout",
     "output_type": "stream",
     "text": [
      "\n",
      "     0      1 \n",
      "613122  19874 \n"
     ]
    },
    {
     "name": "stderr",
     "output_type": "stream",
     "text": [
      "bedtools intersect -a analyses/jennifer/ldsc/annot/CVPC.haqtls.exp_peaks/5.bed -b analyses/jennifer/scratch/b.bed -wa -wb\n"
     ]
    },
    {
     "name": "stdout",
     "output_type": "stream",
     "text": [
      "\n",
      "     0      1 \n",
      "612536  20460 \n"
     ]
    },
    {
     "name": "stderr",
     "output_type": "stream",
     "text": [
      "bedtools intersect -a analyses/jennifer/ldsc/annot/iPSC.caqtls.exp_peaks/5.bed -b analyses/jennifer/scratch/b.bed -wa -wb\n"
     ]
    },
    {
     "name": "stdout",
     "output_type": "stream",
     "text": [
      "\n",
      "     0      1 \n",
      "616210  16786 \n"
     ]
    },
    {
     "name": "stderr",
     "output_type": "stream",
     "text": [
      "bedtools intersect -a analyses/jennifer/ldsc/annot/iPSC.haqtls.exp_peaks/5.bed -b analyses/jennifer/scratch/b.bed -wa -wb\n"
     ]
    },
    {
     "name": "stdout",
     "output_type": "stream",
     "text": [
      "\n",
      "     0      1 \n",
      "618148  14848 \n"
     ]
    },
    {
     "name": "stderr",
     "output_type": "stream",
     "text": [
      "bedtools intersect -a analyses/jennifer/ldsc/annot/PPC.caqtls.exp_peaks/5.bed -b analyses/jennifer/scratch/b.bed -wa -wb\n"
     ]
    },
    {
     "name": "stdout",
     "output_type": "stream",
     "text": [
      "\n",
      "     0      1 \n",
      "609189  23807 \n"
     ]
    },
    {
     "name": "stderr",
     "output_type": "stream",
     "text": [
      "Saved: analyses/jennifer/ldsc/annot/exp_peaks_together/5.annot.gz\n",
      "6\n",
      "bedtools intersect -a analyses/jennifer/ldsc/annot/CVPC.caqtls.exp_peaks/6.bed -b analyses/jennifer/scratch/b.bed -wa -wb\n"
     ]
    },
    {
     "name": "stdout",
     "output_type": "stream",
     "text": [
      "\n",
      "     0      1 \n",
      "643465  20213 \n"
     ]
    },
    {
     "name": "stderr",
     "output_type": "stream",
     "text": [
      "bedtools intersect -a analyses/jennifer/ldsc/annot/CVPC.haqtls.exp_peaks/6.bed -b analyses/jennifer/scratch/b.bed -wa -wb\n"
     ]
    },
    {
     "name": "stdout",
     "output_type": "stream",
     "text": [
      "\n",
      "     0      1 \n",
      "642934  20744 \n"
     ]
    },
    {
     "name": "stderr",
     "output_type": "stream",
     "text": [
      "bedtools intersect -a analyses/jennifer/ldsc/annot/iPSC.caqtls.exp_peaks/6.bed -b analyses/jennifer/scratch/b.bed -wa -wb\n"
     ]
    },
    {
     "name": "stdout",
     "output_type": "stream",
     "text": [
      "\n",
      "     0      1 \n",
      "645134  18544 \n"
     ]
    },
    {
     "name": "stderr",
     "output_type": "stream",
     "text": [
      "bedtools intersect -a analyses/jennifer/ldsc/annot/iPSC.haqtls.exp_peaks/6.bed -b analyses/jennifer/scratch/b.bed -wa -wb\n"
     ]
    },
    {
     "name": "stdout",
     "output_type": "stream",
     "text": [
      "\n",
      "     0      1 \n",
      "647072  16606 \n"
     ]
    },
    {
     "name": "stderr",
     "output_type": "stream",
     "text": [
      "bedtools intersect -a analyses/jennifer/ldsc/annot/PPC.caqtls.exp_peaks/6.bed -b analyses/jennifer/scratch/b.bed -wa -wb\n"
     ]
    },
    {
     "name": "stdout",
     "output_type": "stream",
     "text": [
      "\n",
      "     0      1 \n",
      "637163  26515 \n"
     ]
    },
    {
     "name": "stderr",
     "output_type": "stream",
     "text": [
      "Saved: analyses/jennifer/ldsc/annot/exp_peaks_together/6.annot.gz\n",
      "7\n",
      "bedtools intersect -a analyses/jennifer/ldsc/annot/CVPC.caqtls.exp_peaks/7.bed -b analyses/jennifer/scratch/b.bed -wa -wb\n"
     ]
    },
    {
     "name": "stdout",
     "output_type": "stream",
     "text": [
      "\n",
      "     0      1 \n",
      "569698  19346 \n"
     ]
    },
    {
     "name": "stderr",
     "output_type": "stream",
     "text": [
      "bedtools intersect -a analyses/jennifer/ldsc/annot/CVPC.haqtls.exp_peaks/7.bed -b analyses/jennifer/scratch/b.bed -wa -wb\n"
     ]
    },
    {
     "name": "stdout",
     "output_type": "stream",
     "text": [
      "\n",
      "     0      1 \n",
      "571201  17843 \n"
     ]
    },
    {
     "name": "stderr",
     "output_type": "stream",
     "text": [
      "bedtools intersect -a analyses/jennifer/ldsc/annot/iPSC.caqtls.exp_peaks/7.bed -b analyses/jennifer/scratch/b.bed -wa -wb\n"
     ]
    },
    {
     "name": "stdout",
     "output_type": "stream",
     "text": [
      "\n",
      "     0      1 \n",
      "570983  18061 \n"
     ]
    },
    {
     "name": "stderr",
     "output_type": "stream",
     "text": [
      "bedtools intersect -a analyses/jennifer/ldsc/annot/iPSC.haqtls.exp_peaks/7.bed -b analyses/jennifer/scratch/b.bed -wa -wb\n"
     ]
    },
    {
     "name": "stdout",
     "output_type": "stream",
     "text": [
      "\n",
      "     0      1 \n",
      "570336  18708 \n"
     ]
    },
    {
     "name": "stderr",
     "output_type": "stream",
     "text": [
      "bedtools intersect -a analyses/jennifer/ldsc/annot/PPC.caqtls.exp_peaks/7.bed -b analyses/jennifer/scratch/b.bed -wa -wb\n"
     ]
    },
    {
     "name": "stdout",
     "output_type": "stream",
     "text": [
      "\n",
      "     0      1 \n",
      "565179  23865 \n"
     ]
    },
    {
     "name": "stderr",
     "output_type": "stream",
     "text": [
      "Saved: analyses/jennifer/ldsc/annot/exp_peaks_together/7.annot.gz\n",
      "8\n",
      "bedtools intersect -a analyses/jennifer/ldsc/annot/CVPC.caqtls.exp_peaks/8.bed -b analyses/jennifer/scratch/b.bed -wa -wb\n"
     ]
    },
    {
     "name": "stdout",
     "output_type": "stream",
     "text": [
      "\n",
      "     0      1 \n",
      "532642  16914 \n"
     ]
    },
    {
     "name": "stderr",
     "output_type": "stream",
     "text": [
      "bedtools intersect -a analyses/jennifer/ldsc/annot/CVPC.haqtls.exp_peaks/8.bed -b analyses/jennifer/scratch/b.bed -wa -wb\n"
     ]
    },
    {
     "name": "stdout",
     "output_type": "stream",
     "text": [
      "\n",
      "     0      1 \n",
      "533084  16472 \n"
     ]
    },
    {
     "name": "stderr",
     "output_type": "stream",
     "text": [
      "bedtools intersect -a analyses/jennifer/ldsc/annot/iPSC.caqtls.exp_peaks/8.bed -b analyses/jennifer/scratch/b.bed -wa -wb\n"
     ]
    },
    {
     "name": "stdout",
     "output_type": "stream",
     "text": [
      "\n",
      "     0      1 \n",
      "535835  13721 \n"
     ]
    },
    {
     "name": "stderr",
     "output_type": "stream",
     "text": [
      "bedtools intersect -a analyses/jennifer/ldsc/annot/iPSC.haqtls.exp_peaks/8.bed -b analyses/jennifer/scratch/b.bed -wa -wb\n"
     ]
    },
    {
     "name": "stdout",
     "output_type": "stream",
     "text": [
      "\n",
      "     0      1 \n",
      "537384  12172 \n"
     ]
    },
    {
     "name": "stderr",
     "output_type": "stream",
     "text": [
      "bedtools intersect -a analyses/jennifer/ldsc/annot/PPC.caqtls.exp_peaks/8.bed -b analyses/jennifer/scratch/b.bed -wa -wb\n"
     ]
    },
    {
     "name": "stdout",
     "output_type": "stream",
     "text": [
      "\n",
      "     0      1 \n",
      "529580  19976 \n"
     ]
    },
    {
     "name": "stderr",
     "output_type": "stream",
     "text": [
      "Saved: analyses/jennifer/ldsc/annot/exp_peaks_together/8.annot.gz\n",
      "9\n",
      "bedtools intersect -a analyses/jennifer/ldsc/annot/CVPC.caqtls.exp_peaks/9.bed -b analyses/jennifer/scratch/b.bed -wa -wb\n"
     ]
    },
    {
     "name": "stdout",
     "output_type": "stream",
     "text": [
      "\n",
      "     0      1 \n",
      "421863  15962 \n"
     ]
    },
    {
     "name": "stderr",
     "output_type": "stream",
     "text": [
      "bedtools intersect -a analyses/jennifer/ldsc/annot/CVPC.haqtls.exp_peaks/9.bed -b analyses/jennifer/scratch/b.bed -wa -wb\n"
     ]
    },
    {
     "name": "stdout",
     "output_type": "stream",
     "text": [
      "\n",
      "     0      1 \n",
      "422223  15602 \n"
     ]
    },
    {
     "name": "stderr",
     "output_type": "stream",
     "text": [
      "bedtools intersect -a analyses/jennifer/ldsc/annot/iPSC.caqtls.exp_peaks/9.bed -b analyses/jennifer/scratch/b.bed -wa -wb\n"
     ]
    },
    {
     "name": "stdout",
     "output_type": "stream",
     "text": [
      "\n",
      "     0      1 \n",
      "423571  14254 \n"
     ]
    },
    {
     "name": "stderr",
     "output_type": "stream",
     "text": [
      "bedtools intersect -a analyses/jennifer/ldsc/annot/iPSC.haqtls.exp_peaks/9.bed -b analyses/jennifer/scratch/b.bed -wa -wb\n"
     ]
    },
    {
     "name": "stdout",
     "output_type": "stream",
     "text": [
      "\n",
      "     0      1 \n",
      "422670  15155 \n"
     ]
    },
    {
     "name": "stderr",
     "output_type": "stream",
     "text": [
      "bedtools intersect -a analyses/jennifer/ldsc/annot/PPC.caqtls.exp_peaks/9.bed -b analyses/jennifer/scratch/b.bed -wa -wb\n"
     ]
    },
    {
     "name": "stdout",
     "output_type": "stream",
     "text": [
      "\n",
      "     0      1 \n",
      "417485  20340 \n"
     ]
    },
    {
     "name": "stderr",
     "output_type": "stream",
     "text": [
      "Saved: analyses/jennifer/ldsc/annot/exp_peaks_together/9.annot.gz\n",
      "10\n",
      "bedtools intersect -a analyses/jennifer/ldsc/annot/CVPC.caqtls.exp_peaks/10.bed -b analyses/jennifer/scratch/b.bed -wa -wb\n"
     ]
    },
    {
     "name": "stdout",
     "output_type": "stream",
     "text": [
      "\n",
      "     0      1 \n",
      "490312  20084 \n"
     ]
    },
    {
     "name": "stderr",
     "output_type": "stream",
     "text": [
      "bedtools intersect -a analyses/jennifer/ldsc/annot/CVPC.haqtls.exp_peaks/10.bed -b analyses/jennifer/scratch/b.bed -wa -wb\n"
     ]
    },
    {
     "name": "stdout",
     "output_type": "stream",
     "text": [
      "\n",
      "     0      1 \n",
      "489873  20523 \n"
     ]
    },
    {
     "name": "stderr",
     "output_type": "stream",
     "text": [
      "bedtools intersect -a analyses/jennifer/ldsc/annot/iPSC.caqtls.exp_peaks/10.bed -b analyses/jennifer/scratch/b.bed -wa -wb\n"
     ]
    },
    {
     "name": "stdout",
     "output_type": "stream",
     "text": [
      "\n",
      "     0      1 \n",
      "494359  16037 \n"
     ]
    },
    {
     "name": "stderr",
     "output_type": "stream",
     "text": [
      "bedtools intersect -a analyses/jennifer/ldsc/annot/iPSC.haqtls.exp_peaks/10.bed -b analyses/jennifer/scratch/b.bed -wa -wb\n"
     ]
    },
    {
     "name": "stdout",
     "output_type": "stream",
     "text": [
      "\n",
      "     0      1 \n",
      "496159  14237 \n"
     ]
    },
    {
     "name": "stderr",
     "output_type": "stream",
     "text": [
      "bedtools intersect -a analyses/jennifer/ldsc/annot/PPC.caqtls.exp_peaks/10.bed -b analyses/jennifer/scratch/b.bed -wa -wb\n"
     ]
    },
    {
     "name": "stdout",
     "output_type": "stream",
     "text": [
      "\n",
      "     0      1 \n",
      "485312  25084 \n"
     ]
    },
    {
     "name": "stderr",
     "output_type": "stream",
     "text": [
      "Saved: analyses/jennifer/ldsc/annot/exp_peaks_together/10.annot.gz\n",
      "11\n",
      "bedtools intersect -a analyses/jennifer/ldsc/annot/CVPC.caqtls.exp_peaks/11.bed -b analyses/jennifer/scratch/b.bed -wa -wb\n"
     ]
    },
    {
     "name": "stdout",
     "output_type": "stream",
     "text": [
      "\n",
      "     0      1 \n",
      "475231  18522 \n"
     ]
    },
    {
     "name": "stderr",
     "output_type": "stream",
     "text": [
      "bedtools intersect -a analyses/jennifer/ldsc/annot/CVPC.haqtls.exp_peaks/11.bed -b analyses/jennifer/scratch/b.bed -wa -wb\n"
     ]
    },
    {
     "name": "stdout",
     "output_type": "stream",
     "text": [
      "\n",
      "     0      1 \n",
      "475373  18380 \n"
     ]
    },
    {
     "name": "stderr",
     "output_type": "stream",
     "text": [
      "bedtools intersect -a analyses/jennifer/ldsc/annot/iPSC.caqtls.exp_peaks/11.bed -b analyses/jennifer/scratch/b.bed -wa -wb\n"
     ]
    },
    {
     "name": "stdout",
     "output_type": "stream",
     "text": [
      "\n",
      "     0      1 \n",
      "477334  16419 \n"
     ]
    },
    {
     "name": "stderr",
     "output_type": "stream",
     "text": [
      "bedtools intersect -a analyses/jennifer/ldsc/annot/iPSC.haqtls.exp_peaks/11.bed -b analyses/jennifer/scratch/b.bed -wa -wb\n"
     ]
    },
    {
     "name": "stdout",
     "output_type": "stream",
     "text": [
      "\n",
      "     0      1 \n",
      "479425  14328 \n"
     ]
    },
    {
     "name": "stderr",
     "output_type": "stream",
     "text": [
      "bedtools intersect -a analyses/jennifer/ldsc/annot/PPC.caqtls.exp_peaks/11.bed -b analyses/jennifer/scratch/b.bed -wa -wb\n"
     ]
    },
    {
     "name": "stdout",
     "output_type": "stream",
     "text": [
      "\n",
      "     0      1 \n",
      "470118  23635 \n"
     ]
    },
    {
     "name": "stderr",
     "output_type": "stream",
     "text": [
      "Saved: analyses/jennifer/ldsc/annot/exp_peaks_together/11.annot.gz\n",
      "12\n",
      "bedtools intersect -a analyses/jennifer/ldsc/annot/CVPC.caqtls.exp_peaks/12.bed -b analyses/jennifer/scratch/b.bed -wa -wb\n"
     ]
    },
    {
     "name": "stdout",
     "output_type": "stream",
     "text": [
      "\n",
      "     0      1 \n",
      "463036  16996 \n"
     ]
    },
    {
     "name": "stderr",
     "output_type": "stream",
     "text": [
      "bedtools intersect -a analyses/jennifer/ldsc/annot/CVPC.haqtls.exp_peaks/12.bed -b analyses/jennifer/scratch/b.bed -wa -wb\n"
     ]
    },
    {
     "name": "stdout",
     "output_type": "stream",
     "text": [
      "\n",
      "     0      1 \n",
      "460952  19080 \n"
     ]
    },
    {
     "name": "stderr",
     "output_type": "stream",
     "text": [
      "bedtools intersect -a analyses/jennifer/ldsc/annot/iPSC.caqtls.exp_peaks/12.bed -b analyses/jennifer/scratch/b.bed -wa -wb\n"
     ]
    },
    {
     "name": "stdout",
     "output_type": "stream",
     "text": [
      "\n",
      "     0      1 \n",
      "465608  14424 \n"
     ]
    },
    {
     "name": "stderr",
     "output_type": "stream",
     "text": [
      "bedtools intersect -a analyses/jennifer/ldsc/annot/iPSC.haqtls.exp_peaks/12.bed -b analyses/jennifer/scratch/b.bed -wa -wb\n"
     ]
    },
    {
     "name": "stdout",
     "output_type": "stream",
     "text": [
      "\n",
      "     0      1 \n",
      "462063  17969 \n"
     ]
    },
    {
     "name": "stderr",
     "output_type": "stream",
     "text": [
      "bedtools intersect -a analyses/jennifer/ldsc/annot/PPC.caqtls.exp_peaks/12.bed -b analyses/jennifer/scratch/b.bed -wa -wb\n"
     ]
    },
    {
     "name": "stdout",
     "output_type": "stream",
     "text": [
      "\n",
      "     0      1 \n",
      "459900  20132 \n"
     ]
    },
    {
     "name": "stderr",
     "output_type": "stream",
     "text": [
      "Saved: analyses/jennifer/ldsc/annot/exp_peaks_together/12.annot.gz\n",
      "13\n",
      "bedtools intersect -a analyses/jennifer/ldsc/annot/CVPC.caqtls.exp_peaks/13.bed -b analyses/jennifer/scratch/b.bed -wa -wb\n"
     ]
    },
    {
     "name": "stdout",
     "output_type": "stream",
     "text": [
      "\n",
      "     0      1 \n",
      "356410   9678 \n"
     ]
    },
    {
     "name": "stderr",
     "output_type": "stream",
     "text": [
      "bedtools intersect -a analyses/jennifer/ldsc/annot/CVPC.haqtls.exp_peaks/13.bed -b analyses/jennifer/scratch/b.bed -wa -wb\n"
     ]
    },
    {
     "name": "stdout",
     "output_type": "stream",
     "text": [
      "\n",
      "     0      1 \n",
      "355618  10470 \n"
     ]
    },
    {
     "name": "stderr",
     "output_type": "stream",
     "text": [
      "bedtools intersect -a analyses/jennifer/ldsc/annot/iPSC.caqtls.exp_peaks/13.bed -b analyses/jennifer/scratch/b.bed -wa -wb\n"
     ]
    },
    {
     "name": "stdout",
     "output_type": "stream",
     "text": [
      "\n",
      "     0      1 \n",
      "357474   8614 \n"
     ]
    },
    {
     "name": "stderr",
     "output_type": "stream",
     "text": [
      "bedtools intersect -a analyses/jennifer/ldsc/annot/iPSC.haqtls.exp_peaks/13.bed -b analyses/jennifer/scratch/b.bed -wa -wb\n"
     ]
    },
    {
     "name": "stdout",
     "output_type": "stream",
     "text": [
      "\n",
      "     0      1 \n",
      "358472   7616 \n"
     ]
    },
    {
     "name": "stderr",
     "output_type": "stream",
     "text": [
      "bedtools intersect -a analyses/jennifer/ldsc/annot/PPC.caqtls.exp_peaks/13.bed -b analyses/jennifer/scratch/b.bed -wa -wb\n"
     ]
    },
    {
     "name": "stdout",
     "output_type": "stream",
     "text": [
      "\n",
      "     0      1 \n",
      "353652  12436 \n"
     ]
    },
    {
     "name": "stderr",
     "output_type": "stream",
     "text": [
      "Saved: analyses/jennifer/ldsc/annot/exp_peaks_together/13.annot.gz\n",
      "14\n",
      "bedtools intersect -a analyses/jennifer/ldsc/annot/CVPC.caqtls.exp_peaks/14.bed -b analyses/jennifer/scratch/b.bed -wa -wb\n"
     ]
    },
    {
     "name": "stdout",
     "output_type": "stream",
     "text": [
      "\n",
      "     0      1 \n",
      "313463  10502 \n"
     ]
    },
    {
     "name": "stderr",
     "output_type": "stream",
     "text": [
      "bedtools intersect -a analyses/jennifer/ldsc/annot/CVPC.haqtls.exp_peaks/14.bed -b analyses/jennifer/scratch/b.bed -wa -wb\n"
     ]
    },
    {
     "name": "stdout",
     "output_type": "stream",
     "text": [
      "\n",
      "     0      1 \n",
      "312936  11029 \n"
     ]
    },
    {
     "name": "stderr",
     "output_type": "stream",
     "text": [
      "bedtools intersect -a analyses/jennifer/ldsc/annot/iPSC.caqtls.exp_peaks/14.bed -b analyses/jennifer/scratch/b.bed -wa -wb\n"
     ]
    },
    {
     "name": "stdout",
     "output_type": "stream",
     "text": [
      "\n",
      "     0      1 \n",
      "314226   9739 \n"
     ]
    },
    {
     "name": "stderr",
     "output_type": "stream",
     "text": [
      "bedtools intersect -a analyses/jennifer/ldsc/annot/iPSC.haqtls.exp_peaks/14.bed -b analyses/jennifer/scratch/b.bed -wa -wb\n"
     ]
    },
    {
     "name": "stdout",
     "output_type": "stream",
     "text": [
      "\n",
      "     0      1 \n",
      "314591   9374 \n"
     ]
    },
    {
     "name": "stderr",
     "output_type": "stream",
     "text": [
      "bedtools intersect -a analyses/jennifer/ldsc/annot/PPC.caqtls.exp_peaks/14.bed -b analyses/jennifer/scratch/b.bed -wa -wb\n"
     ]
    },
    {
     "name": "stdout",
     "output_type": "stream",
     "text": [
      "\n",
      "     0      1 \n",
      "309744  14221 \n"
     ]
    },
    {
     "name": "stderr",
     "output_type": "stream",
     "text": [
      "Saved: analyses/jennifer/ldsc/annot/exp_peaks_together/14.annot.gz\n",
      "15\n",
      "bedtools intersect -a analyses/jennifer/ldsc/annot/CVPC.caqtls.exp_peaks/15.bed -b analyses/jennifer/scratch/b.bed -wa -wb\n"
     ]
    },
    {
     "name": "stdout",
     "output_type": "stream",
     "text": [
      "\n",
      "     0      1 \n",
      "275940  11005 \n"
     ]
    },
    {
     "name": "stderr",
     "output_type": "stream",
     "text": [
      "bedtools intersect -a analyses/jennifer/ldsc/annot/CVPC.haqtls.exp_peaks/15.bed -b analyses/jennifer/scratch/b.bed -wa -wb\n"
     ]
    },
    {
     "name": "stdout",
     "output_type": "stream",
     "text": [
      "\n",
      "     0      1 \n",
      "274680  12265 \n"
     ]
    },
    {
     "name": "stderr",
     "output_type": "stream",
     "text": [
      "bedtools intersect -a analyses/jennifer/ldsc/annot/iPSC.caqtls.exp_peaks/15.bed -b analyses/jennifer/scratch/b.bed -wa -wb\n"
     ]
    },
    {
     "name": "stdout",
     "output_type": "stream",
     "text": [
      "\n",
      "     0      1 \n",
      "276859  10086 \n"
     ]
    },
    {
     "name": "stderr",
     "output_type": "stream",
     "text": [
      "bedtools intersect -a analyses/jennifer/ldsc/annot/iPSC.haqtls.exp_peaks/15.bed -b analyses/jennifer/scratch/b.bed -wa -wb\n"
     ]
    },
    {
     "name": "stdout",
     "output_type": "stream",
     "text": [
      "\n",
      "     0      1 \n",
      "278263   8682 \n"
     ]
    },
    {
     "name": "stderr",
     "output_type": "stream",
     "text": [
      "bedtools intersect -a analyses/jennifer/ldsc/annot/PPC.caqtls.exp_peaks/15.bed -b analyses/jennifer/scratch/b.bed -wa -wb\n"
     ]
    },
    {
     "name": "stdout",
     "output_type": "stream",
     "text": [
      "\n",
      "     0      1 \n",
      "273074  13871 \n"
     ]
    },
    {
     "name": "stderr",
     "output_type": "stream",
     "text": [
      "Saved: analyses/jennifer/ldsc/annot/exp_peaks_together/15.annot.gz\n",
      "16\n",
      "bedtools intersect -a analyses/jennifer/ldsc/annot/CVPC.caqtls.exp_peaks/16.bed -b analyses/jennifer/scratch/b.bed -wa -wb\n"
     ]
    },
    {
     "name": "stdout",
     "output_type": "stream",
     "text": [
      "\n",
      "     0      1 \n",
      "304264  12698 \n"
     ]
    },
    {
     "name": "stderr",
     "output_type": "stream",
     "text": [
      "bedtools intersect -a analyses/jennifer/ldsc/annot/CVPC.haqtls.exp_peaks/16.bed -b analyses/jennifer/scratch/b.bed -wa -wb\n"
     ]
    },
    {
     "name": "stdout",
     "output_type": "stream",
     "text": [
      "\n",
      "     0      1 \n",
      "306116  10846 \n"
     ]
    },
    {
     "name": "stderr",
     "output_type": "stream",
     "text": [
      "bedtools intersect -a analyses/jennifer/ldsc/annot/iPSC.caqtls.exp_peaks/16.bed -b analyses/jennifer/scratch/b.bed -wa -wb\n"
     ]
    },
    {
     "name": "stdout",
     "output_type": "stream",
     "text": [
      "\n",
      "     0      1 \n",
      "304545  12417 \n"
     ]
    },
    {
     "name": "stderr",
     "output_type": "stream",
     "text": [
      "bedtools intersect -a analyses/jennifer/ldsc/annot/iPSC.haqtls.exp_peaks/16.bed -b analyses/jennifer/scratch/b.bed -wa -wb\n"
     ]
    },
    {
     "name": "stdout",
     "output_type": "stream",
     "text": [
      "\n",
      "     0      1 \n",
      "302517  14445 \n"
     ]
    },
    {
     "name": "stderr",
     "output_type": "stream",
     "text": [
      "bedtools intersect -a analyses/jennifer/ldsc/annot/PPC.caqtls.exp_peaks/16.bed -b analyses/jennifer/scratch/b.bed -wa -wb\n"
     ]
    },
    {
     "name": "stdout",
     "output_type": "stream",
     "text": [
      "\n",
      "     0      1 \n",
      "299577  17385 \n"
     ]
    },
    {
     "name": "stderr",
     "output_type": "stream",
     "text": [
      "Saved: analyses/jennifer/ldsc/annot/exp_peaks_together/16.annot.gz\n",
      "17\n",
      "bedtools intersect -a analyses/jennifer/ldsc/annot/CVPC.caqtls.exp_peaks/17.bed -b analyses/jennifer/scratch/b.bed -wa -wb\n"
     ]
    },
    {
     "name": "stdout",
     "output_type": "stream",
     "text": [
      "\n",
      "     0      1 \n",
      "256051  12713 \n"
     ]
    },
    {
     "name": "stderr",
     "output_type": "stream",
     "text": [
      "bedtools intersect -a analyses/jennifer/ldsc/annot/CVPC.haqtls.exp_peaks/17.bed -b analyses/jennifer/scratch/b.bed -wa -wb\n"
     ]
    },
    {
     "name": "stdout",
     "output_type": "stream",
     "text": [
      "\n",
      "     0      1 \n",
      "254876  13888 \n"
     ]
    },
    {
     "name": "stderr",
     "output_type": "stream",
     "text": [
      "bedtools intersect -a analyses/jennifer/ldsc/annot/iPSC.caqtls.exp_peaks/17.bed -b analyses/jennifer/scratch/b.bed -wa -wb\n"
     ]
    },
    {
     "name": "stdout",
     "output_type": "stream",
     "text": [
      "\n",
      "     0      1 \n",
      "255977  12787 \n"
     ]
    },
    {
     "name": "stderr",
     "output_type": "stream",
     "text": [
      "bedtools intersect -a analyses/jennifer/ldsc/annot/iPSC.haqtls.exp_peaks/17.bed -b analyses/jennifer/scratch/b.bed -wa -wb\n"
     ]
    },
    {
     "name": "stdout",
     "output_type": "stream",
     "text": [
      "\n",
      "     0      1 \n",
      "254072  14692 \n"
     ]
    },
    {
     "name": "stderr",
     "output_type": "stream",
     "text": [
      "bedtools intersect -a analyses/jennifer/ldsc/annot/PPC.caqtls.exp_peaks/17.bed -b analyses/jennifer/scratch/b.bed -wa -wb\n"
     ]
    },
    {
     "name": "stdout",
     "output_type": "stream",
     "text": [
      "\n",
      "     0      1 \n",
      "250981  17783 \n"
     ]
    },
    {
     "name": "stderr",
     "output_type": "stream",
     "text": [
      "Saved: analyses/jennifer/ldsc/annot/exp_peaks_together/17.annot.gz\n",
      "18\n",
      "bedtools intersect -a analyses/jennifer/ldsc/annot/CVPC.caqtls.exp_peaks/18.bed -b analyses/jennifer/scratch/b.bed -wa -wb\n"
     ]
    },
    {
     "name": "stdout",
     "output_type": "stream",
     "text": [
      "\n",
      "     0      1 \n",
      "275968   9166 \n"
     ]
    },
    {
     "name": "stderr",
     "output_type": "stream",
     "text": [
      "bedtools intersect -a analyses/jennifer/ldsc/annot/CVPC.haqtls.exp_peaks/18.bed -b analyses/jennifer/scratch/b.bed -wa -wb\n"
     ]
    },
    {
     "name": "stdout",
     "output_type": "stream",
     "text": [
      "\n",
      "     0      1 \n",
      "276534   8600 \n"
     ]
    },
    {
     "name": "stderr",
     "output_type": "stream",
     "text": [
      "bedtools intersect -a analyses/jennifer/ldsc/annot/iPSC.caqtls.exp_peaks/18.bed -b analyses/jennifer/scratch/b.bed -wa -wb\n"
     ]
    },
    {
     "name": "stdout",
     "output_type": "stream",
     "text": [
      "\n",
      "     0      1 \n",
      "277715   7419 \n"
     ]
    },
    {
     "name": "stderr",
     "output_type": "stream",
     "text": [
      "bedtools intersect -a analyses/jennifer/ldsc/annot/iPSC.haqtls.exp_peaks/18.bed -b analyses/jennifer/scratch/b.bed -wa -wb\n"
     ]
    },
    {
     "name": "stdout",
     "output_type": "stream",
     "text": [
      "\n",
      "     0      1 \n",
      "279207   5927 \n"
     ]
    },
    {
     "name": "stderr",
     "output_type": "stream",
     "text": [
      "bedtools intersect -a analyses/jennifer/ldsc/annot/PPC.caqtls.exp_peaks/18.bed -b analyses/jennifer/scratch/b.bed -wa -wb\n"
     ]
    },
    {
     "name": "stdout",
     "output_type": "stream",
     "text": [
      "\n",
      "     0      1 \n",
      "273869  11265 \n"
     ]
    },
    {
     "name": "stderr",
     "output_type": "stream",
     "text": [
      "Saved: analyses/jennifer/ldsc/annot/exp_peaks_together/18.annot.gz\n",
      "19\n",
      "bedtools intersect -a analyses/jennifer/ldsc/annot/CVPC.caqtls.exp_peaks/19.bed -b analyses/jennifer/scratch/b.bed -wa -wb\n"
     ]
    },
    {
     "name": "stdout",
     "output_type": "stream",
     "text": [
      "\n",
      "     0      1 \n",
      "221004  10690 \n"
     ]
    },
    {
     "name": "stderr",
     "output_type": "stream",
     "text": [
      "bedtools intersect -a analyses/jennifer/ldsc/annot/CVPC.haqtls.exp_peaks/19.bed -b analyses/jennifer/scratch/b.bed -wa -wb\n"
     ]
    },
    {
     "name": "stdout",
     "output_type": "stream",
     "text": [
      "\n",
      "     0      1 \n",
      "219691  12003 \n"
     ]
    },
    {
     "name": "stderr",
     "output_type": "stream",
     "text": [
      "bedtools intersect -a analyses/jennifer/ldsc/annot/iPSC.caqtls.exp_peaks/19.bed -b analyses/jennifer/scratch/b.bed -wa -wb\n"
     ]
    },
    {
     "name": "stdout",
     "output_type": "stream",
     "text": [
      "\n",
      "     0      1 \n",
      "218285  13409 \n"
     ]
    },
    {
     "name": "stderr",
     "output_type": "stream",
     "text": [
      "bedtools intersect -a analyses/jennifer/ldsc/annot/iPSC.haqtls.exp_peaks/19.bed -b analyses/jennifer/scratch/b.bed -wa -wb\n"
     ]
    },
    {
     "name": "stdout",
     "output_type": "stream",
     "text": [
      "\n",
      "     0      1 \n",
      "213030  18664 \n"
     ]
    },
    {
     "name": "stderr",
     "output_type": "stream",
     "text": [
      "bedtools intersect -a analyses/jennifer/ldsc/annot/PPC.caqtls.exp_peaks/19.bed -b analyses/jennifer/scratch/b.bed -wa -wb\n"
     ]
    },
    {
     "name": "stdout",
     "output_type": "stream",
     "text": [
      "\n",
      "     0      1 \n",
      "216127  15567 \n"
     ]
    },
    {
     "name": "stderr",
     "output_type": "stream",
     "text": [
      "Saved: analyses/jennifer/ldsc/annot/exp_peaks_together/19.annot.gz\n",
      "20\n",
      "bedtools intersect -a analyses/jennifer/ldsc/annot/CVPC.caqtls.exp_peaks/20.bed -b analyses/jennifer/scratch/b.bed -wa -wb\n"
     ]
    },
    {
     "name": "stdout",
     "output_type": "stream",
     "text": [
      "\n",
      "     0      1 \n",
      "212447   9135 \n"
     ]
    },
    {
     "name": "stderr",
     "output_type": "stream",
     "text": [
      "bedtools intersect -a analyses/jennifer/ldsc/annot/CVPC.haqtls.exp_peaks/20.bed -b analyses/jennifer/scratch/b.bed -wa -wb\n"
     ]
    },
    {
     "name": "stdout",
     "output_type": "stream",
     "text": [
      "\n",
      "     0      1 \n",
      "213152   8430 \n"
     ]
    },
    {
     "name": "stderr",
     "output_type": "stream",
     "text": [
      "bedtools intersect -a analyses/jennifer/ldsc/annot/iPSC.caqtls.exp_peaks/20.bed -b analyses/jennifer/scratch/b.bed -wa -wb\n"
     ]
    },
    {
     "name": "stdout",
     "output_type": "stream",
     "text": [
      "\n",
      "     0      1 \n",
      "212752   8830 \n"
     ]
    },
    {
     "name": "stderr",
     "output_type": "stream",
     "text": [
      "bedtools intersect -a analyses/jennifer/ldsc/annot/iPSC.haqtls.exp_peaks/20.bed -b analyses/jennifer/scratch/b.bed -wa -wb\n"
     ]
    },
    {
     "name": "stdout",
     "output_type": "stream",
     "text": [
      "\n",
      "     0      1 \n",
      "212748   8834 \n"
     ]
    },
    {
     "name": "stderr",
     "output_type": "stream",
     "text": [
      "bedtools intersect -a analyses/jennifer/ldsc/annot/PPC.caqtls.exp_peaks/20.bed -b analyses/jennifer/scratch/b.bed -wa -wb\n"
     ]
    },
    {
     "name": "stdout",
     "output_type": "stream",
     "text": [
      "\n",
      "     0      1 \n",
      "208881  12701 \n"
     ]
    },
    {
     "name": "stderr",
     "output_type": "stream",
     "text": [
      "Saved: analyses/jennifer/ldsc/annot/exp_peaks_together/20.annot.gz\n",
      "21\n",
      "bedtools intersect -a analyses/jennifer/ldsc/annot/CVPC.caqtls.exp_peaks/21.bed -b analyses/jennifer/scratch/b.bed -wa -wb\n"
     ]
    },
    {
     "name": "stdout",
     "output_type": "stream",
     "text": [
      "\n",
      "     0      1 \n",
      "134754   3900 \n"
     ]
    },
    {
     "name": "stderr",
     "output_type": "stream",
     "text": [
      "bedtools intersect -a analyses/jennifer/ldsc/annot/CVPC.haqtls.exp_peaks/21.bed -b analyses/jennifer/scratch/b.bed -wa -wb\n"
     ]
    },
    {
     "name": "stdout",
     "output_type": "stream",
     "text": [
      "\n",
      "     0      1 \n",
      "134558   4096 \n"
     ]
    },
    {
     "name": "stderr",
     "output_type": "stream",
     "text": [
      "bedtools intersect -a analyses/jennifer/ldsc/annot/iPSC.caqtls.exp_peaks/21.bed -b analyses/jennifer/scratch/b.bed -wa -wb\n"
     ]
    },
    {
     "name": "stdout",
     "output_type": "stream",
     "text": [
      "\n",
      "     0      1 \n",
      "134710   3944 \n"
     ]
    },
    {
     "name": "stderr",
     "output_type": "stream",
     "text": [
      "bedtools intersect -a analyses/jennifer/ldsc/annot/iPSC.haqtls.exp_peaks/21.bed -b analyses/jennifer/scratch/b.bed -wa -wb\n"
     ]
    },
    {
     "name": "stdout",
     "output_type": "stream",
     "text": [
      "\n",
      "     0      1 \n",
      "134249   4405 \n"
     ]
    },
    {
     "name": "stderr",
     "output_type": "stream",
     "text": [
      "bedtools intersect -a analyses/jennifer/ldsc/annot/PPC.caqtls.exp_peaks/21.bed -b analyses/jennifer/scratch/b.bed -wa -wb\n"
     ]
    },
    {
     "name": "stdout",
     "output_type": "stream",
     "text": [
      "\n",
      "     0      1 \n",
      "132836   5818 \n"
     ]
    },
    {
     "name": "stderr",
     "output_type": "stream",
     "text": [
      "Saved: analyses/jennifer/ldsc/annot/exp_peaks_together/21.annot.gz\n",
      "22\n",
      "bedtools intersect -a analyses/jennifer/ldsc/annot/CVPC.caqtls.exp_peaks/22.bed -b analyses/jennifer/scratch/b.bed -wa -wb\n"
     ]
    },
    {
     "name": "stdout",
     "output_type": "stream",
     "text": [
      "\n",
      "     0      1 \n",
      "133006   7586 \n"
     ]
    },
    {
     "name": "stderr",
     "output_type": "stream",
     "text": [
      "bedtools intersect -a analyses/jennifer/ldsc/annot/CVPC.haqtls.exp_peaks/22.bed -b analyses/jennifer/scratch/b.bed -wa -wb\n"
     ]
    },
    {
     "name": "stdout",
     "output_type": "stream",
     "text": [
      "\n",
      "     0      1 \n",
      "132936   7656 \n"
     ]
    },
    {
     "name": "stderr",
     "output_type": "stream",
     "text": [
      "bedtools intersect -a analyses/jennifer/ldsc/annot/iPSC.caqtls.exp_peaks/22.bed -b analyses/jennifer/scratch/b.bed -wa -wb\n"
     ]
    },
    {
     "name": "stdout",
     "output_type": "stream",
     "text": [
      "\n",
      "     0      1 \n",
      "132760   7832 \n"
     ]
    },
    {
     "name": "stderr",
     "output_type": "stream",
     "text": [
      "bedtools intersect -a analyses/jennifer/ldsc/annot/iPSC.haqtls.exp_peaks/22.bed -b analyses/jennifer/scratch/b.bed -wa -wb\n"
     ]
    },
    {
     "name": "stdout",
     "output_type": "stream",
     "text": [
      "\n",
      "     0      1 \n",
      "131427   9165 \n"
     ]
    },
    {
     "name": "stderr",
     "output_type": "stream",
     "text": [
      "bedtools intersect -a analyses/jennifer/ldsc/annot/PPC.caqtls.exp_peaks/22.bed -b analyses/jennifer/scratch/b.bed -wa -wb\n"
     ]
    },
    {
     "name": "stdout",
     "output_type": "stream",
     "text": [
      "\n",
      "     0      1 \n",
      "129560  11032 \n"
     ]
    },
    {
     "name": "stderr",
     "output_type": "stream",
     "text": [
      "Saved: analyses/jennifer/ldsc/annot/exp_peaks_together/22.annot.gz\n"
     ]
    }
   ],
   "source": [
    "for (chr in c(1:22))\n",
    "{\n",
    "    message(chr, appendLF = F)\n",
    "    \n",
    "    # Read baseline variants\n",
    "    annot = paste(\"analyses/jennifer/ldsc/reference/baseline_v1.2\", paste(\"baseline\", chr, \"annot.gz\", sep = \".\"), sep = \"/\")\n",
    "    annot = fread(annot, data.table = F)\n",
    "    annot$snp_id = paste(annot$CHR, annot$BP, sep = \"_\")\n",
    "    order = annot$BP\n",
    "\n",
    "    # Write baseline variants as bed\n",
    "    b_bed = annot %>% select(CHR, BP) %>% mutate(end = BP, CHR = paste0(\"chr\", CHR))\n",
    "    fwrite(b_bed, \"analyses/jennifer/scratch/b.bed\", row.names = F, sep = \"\\t\", col.names = F)\n",
    "    \n",
    "    for(tissue in c(\"CVPC\", \"iPSC\", \"PPC\"))\n",
    "    {\n",
    "        for (analysis in c(\"caqtls\", \"haqtls\"))\n",
    "        {\n",
    "            a = paste(\"analyses/jennifer/ldsc/annot\", paste(tissue, analysis, \"exp_peaks\", sep = \".\"), paste(chr, \"bed\", sep = \".\"), sep = \"/\")\n",
    "            if (file.exists(a))\n",
    "            {\n",
    "                b = \"analyses/jennifer/scratch/b.bed\"\n",
    "                cmd = paste(\"bedtools intersect\", \"-a\", a, \"-b\", b, \"-wa -wb\")\n",
    "                message(cmd, appendLF = F)\n",
    "                int = fread(cmd = cmd, data.table = F)\n",
    "\n",
    "                annot[,paste(tissue, analysis, sep = \"_\")] = ifelse(annot$BP %in% int$V5, 1, 0)\n",
    "                print(table(annot[,paste(tissue, analysis, sep = \"_\")]))\n",
    "            }\n",
    "        }\n",
    "    }\n",
    "\n",
    "    annot$snp_id = NULL\n",
    "    annot = annot[,c(1:4, 58:ncol(annot))]\n",
    "    annotfile = paste(\"analyses/jennifer/ldsc/annot\", \"exp_peaks_together\", paste(chr, \"annot.gz\", sep = \".\"), sep = \"/\")\n",
    "    fwrite(annot, annotfile, row.names = F, sep = \"\\t\")\n",
    "    message(paste(\"Saved:\", annotfile), appendLF = F)\n",
    "}\n",
    "    "
   ]
  },
  {
   "cell_type": "markdown",
   "metadata": {},
   "source": [
    "## 3. Estimate LDScore"
   ]
  },
  {
   "cell_type": "code",
   "execution_count": 22,
   "metadata": {},
   "outputs": [
    {
     "name": "stderr",
     "output_type": "stream",
     "text": [
      "source /frazer01/home/jennifer/.bash_profile; source activate ldsc; python ~/software/ldsc/ldsc.py --l2 --ld-wind-cm 1 --bfile /frazer01/projects/CARDIPS/analysis/epigenome_resource/analyses/jennifer/ldsc/reference/plink_files/1000G.EUR.hg38.1 --annot /projects/CARDIPS/analysis/epigenome_resource/analyses/jennifer/ldsc/annot/exp_peaks_together/1.annot.gz --out /frazer01/projects/CARDIPS/analysis/epigenome_resource/analyses/jennifer/ldsc/annot/exp_peaks_together/1 --print-snps /frazer01/projects/CARDIPS/analysis/epigenome_resource/analyses/jennifer/ldsc/reference/baseline_snps/baseline.1.snps --annot-name \"L2\" --yes-really\n",
      "\n",
      "echo \"source /frazer01/home/jennifer/.bash_profile; source activate ldsc; python ~/software/ldsc/ldsc.py --l2 --ld-wind-cm 1 --bfile /frazer01/projects/CARDIPS/analysis/epigenome_resource/analyses/jennifer/ldsc/reference/plink_files/1000G.EUR.hg38.1 --annot /projects/CARDIPS/analysis/epigenome_resource/analyses/jennifer/ldsc/annot/exp_peaks_together/1.annot.gz --out /frazer01/projects/CARDIPS/analysis/epigenome_resource/analyses/jennifer/ldsc/annot/exp_peaks_together/1 --print-snps /frazer01/projects/CARDIPS/analysis/epigenome_resource/analyses/jennifer/ldsc/reference/baseline_snps/baseline.1.snps --annot-name \"L2\" --yes-really\" | qsub -N score.1 -V -cwd -pe smp 4 -o /frazer01/projects/CARDIPS/analysis/epigenome_resource/analyses/jennifer/ldsc/logs/ldscore.exp_peaks.1.out -e /frazer01/projects/CARDIPS/analysis/epigenome_resource/analyses/jennifer/ldsc/logs/ldscore.exp_peaks.1.err\n",
      "\n",
      "source /frazer01/home/jennifer/.bash_profile; source activate ldsc; python ~/software/ldsc/ldsc.py --l2 --ld-wind-cm 1 --bfile /frazer01/projects/CARDIPS/analysis/epigenome_resource/analyses/jennifer/ldsc/reference/plink_files/1000G.EUR.hg38.2 --annot /projects/CARDIPS/analysis/epigenome_resource/analyses/jennifer/ldsc/annot/exp_peaks_together/2.annot.gz --out /frazer01/projects/CARDIPS/analysis/epigenome_resource/analyses/jennifer/ldsc/annot/exp_peaks_together/2 --print-snps /frazer01/projects/CARDIPS/analysis/epigenome_resource/analyses/jennifer/ldsc/reference/baseline_snps/baseline.2.snps --annot-name \"L2\" --yes-really\n",
      "\n",
      "echo \"source /frazer01/home/jennifer/.bash_profile; source activate ldsc; python ~/software/ldsc/ldsc.py --l2 --ld-wind-cm 1 --bfile /frazer01/projects/CARDIPS/analysis/epigenome_resource/analyses/jennifer/ldsc/reference/plink_files/1000G.EUR.hg38.2 --annot /projects/CARDIPS/analysis/epigenome_resource/analyses/jennifer/ldsc/annot/exp_peaks_together/2.annot.gz --out /frazer01/projects/CARDIPS/analysis/epigenome_resource/analyses/jennifer/ldsc/annot/exp_peaks_together/2 --print-snps /frazer01/projects/CARDIPS/analysis/epigenome_resource/analyses/jennifer/ldsc/reference/baseline_snps/baseline.2.snps --annot-name \"L2\" --yes-really\" | qsub -N score.2 -V -cwd -pe smp 4 -o /frazer01/projects/CARDIPS/analysis/epigenome_resource/analyses/jennifer/ldsc/logs/ldscore.exp_peaks.2.out -e /frazer01/projects/CARDIPS/analysis/epigenome_resource/analyses/jennifer/ldsc/logs/ldscore.exp_peaks.2.err\n",
      "\n",
      "source /frazer01/home/jennifer/.bash_profile; source activate ldsc; python ~/software/ldsc/ldsc.py --l2 --ld-wind-cm 1 --bfile /frazer01/projects/CARDIPS/analysis/epigenome_resource/analyses/jennifer/ldsc/reference/plink_files/1000G.EUR.hg38.3 --annot /projects/CARDIPS/analysis/epigenome_resource/analyses/jennifer/ldsc/annot/exp_peaks_together/3.annot.gz --out /frazer01/projects/CARDIPS/analysis/epigenome_resource/analyses/jennifer/ldsc/annot/exp_peaks_together/3 --print-snps /frazer01/projects/CARDIPS/analysis/epigenome_resource/analyses/jennifer/ldsc/reference/baseline_snps/baseline.3.snps --annot-name \"L2\" --yes-really\n",
      "\n",
      "echo \"source /frazer01/home/jennifer/.bash_profile; source activate ldsc; python ~/software/ldsc/ldsc.py --l2 --ld-wind-cm 1 --bfile /frazer01/projects/CARDIPS/analysis/epigenome_resource/analyses/jennifer/ldsc/reference/plink_files/1000G.EUR.hg38.3 --annot /projects/CARDIPS/analysis/epigenome_resource/analyses/jennifer/ldsc/annot/exp_peaks_together/3.annot.gz --out /frazer01/projects/CARDIPS/analysis/epigenome_resource/analyses/jennifer/ldsc/annot/exp_peaks_together/3 --print-snps /frazer01/projects/CARDIPS/analysis/epigenome_resource/analyses/jennifer/ldsc/reference/baseline_snps/baseline.3.snps --annot-name \"L2\" --yes-really\" | qsub -N score.3 -V -cwd -pe smp 4 -o /frazer01/projects/CARDIPS/analysis/epigenome_resource/analyses/jennifer/ldsc/logs/ldscore.exp_peaks.3.out -e /frazer01/projects/CARDIPS/analysis/epigenome_resource/analyses/jennifer/ldsc/logs/ldscore.exp_peaks.3.err\n",
      "\n",
      "source /frazer01/home/jennifer/.bash_profile; source activate ldsc; python ~/software/ldsc/ldsc.py --l2 --ld-wind-cm 1 --bfile /frazer01/projects/CARDIPS/analysis/epigenome_resource/analyses/jennifer/ldsc/reference/plink_files/1000G.EUR.hg38.4 --annot /projects/CARDIPS/analysis/epigenome_resource/analyses/jennifer/ldsc/annot/exp_peaks_together/4.annot.gz --out /frazer01/projects/CARDIPS/analysis/epigenome_resource/analyses/jennifer/ldsc/annot/exp_peaks_together/4 --print-snps /frazer01/projects/CARDIPS/analysis/epigenome_resource/analyses/jennifer/ldsc/reference/baseline_snps/baseline.4.snps --annot-name \"L2\" --yes-really\n",
      "\n",
      "echo \"source /frazer01/home/jennifer/.bash_profile; source activate ldsc; python ~/software/ldsc/ldsc.py --l2 --ld-wind-cm 1 --bfile /frazer01/projects/CARDIPS/analysis/epigenome_resource/analyses/jennifer/ldsc/reference/plink_files/1000G.EUR.hg38.4 --annot /projects/CARDIPS/analysis/epigenome_resource/analyses/jennifer/ldsc/annot/exp_peaks_together/4.annot.gz --out /frazer01/projects/CARDIPS/analysis/epigenome_resource/analyses/jennifer/ldsc/annot/exp_peaks_together/4 --print-snps /frazer01/projects/CARDIPS/analysis/epigenome_resource/analyses/jennifer/ldsc/reference/baseline_snps/baseline.4.snps --annot-name \"L2\" --yes-really\" | qsub -N score.4 -V -cwd -pe smp 4 -o /frazer01/projects/CARDIPS/analysis/epigenome_resource/analyses/jennifer/ldsc/logs/ldscore.exp_peaks.4.out -e /frazer01/projects/CARDIPS/analysis/epigenome_resource/analyses/jennifer/ldsc/logs/ldscore.exp_peaks.4.err\n",
      "\n",
      "source /frazer01/home/jennifer/.bash_profile; source activate ldsc; python ~/software/ldsc/ldsc.py --l2 --ld-wind-cm 1 --bfile /frazer01/projects/CARDIPS/analysis/epigenome_resource/analyses/jennifer/ldsc/reference/plink_files/1000G.EUR.hg38.5 --annot /projects/CARDIPS/analysis/epigenome_resource/analyses/jennifer/ldsc/annot/exp_peaks_together/5.annot.gz --out /frazer01/projects/CARDIPS/analysis/epigenome_resource/analyses/jennifer/ldsc/annot/exp_peaks_together/5 --print-snps /frazer01/projects/CARDIPS/analysis/epigenome_resource/analyses/jennifer/ldsc/reference/baseline_snps/baseline.5.snps --annot-name \"L2\" --yes-really\n",
      "\n",
      "echo \"source /frazer01/home/jennifer/.bash_profile; source activate ldsc; python ~/software/ldsc/ldsc.py --l2 --ld-wind-cm 1 --bfile /frazer01/projects/CARDIPS/analysis/epigenome_resource/analyses/jennifer/ldsc/reference/plink_files/1000G.EUR.hg38.5 --annot /projects/CARDIPS/analysis/epigenome_resource/analyses/jennifer/ldsc/annot/exp_peaks_together/5.annot.gz --out /frazer01/projects/CARDIPS/analysis/epigenome_resource/analyses/jennifer/ldsc/annot/exp_peaks_together/5 --print-snps /frazer01/projects/CARDIPS/analysis/epigenome_resource/analyses/jennifer/ldsc/reference/baseline_snps/baseline.5.snps --annot-name \"L2\" --yes-really\" | qsub -N score.5 -V -cwd -pe smp 4 -o /frazer01/projects/CARDIPS/analysis/epigenome_resource/analyses/jennifer/ldsc/logs/ldscore.exp_peaks.5.out -e /frazer01/projects/CARDIPS/analysis/epigenome_resource/analyses/jennifer/ldsc/logs/ldscore.exp_peaks.5.err\n",
      "\n",
      "source /frazer01/home/jennifer/.bash_profile; source activate ldsc; python ~/software/ldsc/ldsc.py --l2 --ld-wind-cm 1 --bfile /frazer01/projects/CARDIPS/analysis/epigenome_resource/analyses/jennifer/ldsc/reference/plink_files/1000G.EUR.hg38.6 --annot /projects/CARDIPS/analysis/epigenome_resource/analyses/jennifer/ldsc/annot/exp_peaks_together/6.annot.gz --out /frazer01/projects/CARDIPS/analysis/epigenome_resource/analyses/jennifer/ldsc/annot/exp_peaks_together/6 --print-snps /frazer01/projects/CARDIPS/analysis/epigenome_resource/analyses/jennifer/ldsc/reference/baseline_snps/baseline.6.snps --annot-name \"L2\" --yes-really\n",
      "\n",
      "echo \"source /frazer01/home/jennifer/.bash_profile; source activate ldsc; python ~/software/ldsc/ldsc.py --l2 --ld-wind-cm 1 --bfile /frazer01/projects/CARDIPS/analysis/epigenome_resource/analyses/jennifer/ldsc/reference/plink_files/1000G.EUR.hg38.6 --annot /projects/CARDIPS/analysis/epigenome_resource/analyses/jennifer/ldsc/annot/exp_peaks_together/6.annot.gz --out /frazer01/projects/CARDIPS/analysis/epigenome_resource/analyses/jennifer/ldsc/annot/exp_peaks_together/6 --print-snps /frazer01/projects/CARDIPS/analysis/epigenome_resource/analyses/jennifer/ldsc/reference/baseline_snps/baseline.6.snps --annot-name \"L2\" --yes-really\" | qsub -N score.6 -V -cwd -pe smp 4 -o /frazer01/projects/CARDIPS/analysis/epigenome_resource/analyses/jennifer/ldsc/logs/ldscore.exp_peaks.6.out -e /frazer01/projects/CARDIPS/analysis/epigenome_resource/analyses/jennifer/ldsc/logs/ldscore.exp_peaks.6.err\n",
      "\n",
      "source /frazer01/home/jennifer/.bash_profile; source activate ldsc; python ~/software/ldsc/ldsc.py --l2 --ld-wind-cm 1 --bfile /frazer01/projects/CARDIPS/analysis/epigenome_resource/analyses/jennifer/ldsc/reference/plink_files/1000G.EUR.hg38.7 --annot /projects/CARDIPS/analysis/epigenome_resource/analyses/jennifer/ldsc/annot/exp_peaks_together/7.annot.gz --out /frazer01/projects/CARDIPS/analysis/epigenome_resource/analyses/jennifer/ldsc/annot/exp_peaks_together/7 --print-snps /frazer01/projects/CARDIPS/analysis/epigenome_resource/analyses/jennifer/ldsc/reference/baseline_snps/baseline.7.snps --annot-name \"L2\" --yes-really\n",
      "\n",
      "echo \"source /frazer01/home/jennifer/.bash_profile; source activate ldsc; python ~/software/ldsc/ldsc.py --l2 --ld-wind-cm 1 --bfile /frazer01/projects/CARDIPS/analysis/epigenome_resource/analyses/jennifer/ldsc/reference/plink_files/1000G.EUR.hg38.7 --annot /projects/CARDIPS/analysis/epigenome_resource/analyses/jennifer/ldsc/annot/exp_peaks_together/7.annot.gz --out /frazer01/projects/CARDIPS/analysis/epigenome_resource/analyses/jennifer/ldsc/annot/exp_peaks_together/7 --print-snps /frazer01/projects/CARDIPS/analysis/epigenome_resource/analyses/jennifer/ldsc/reference/baseline_snps/baseline.7.snps --annot-name \"L2\" --yes-really\" | qsub -N score.7 -V -cwd -pe smp 4 -o /frazer01/projects/CARDIPS/analysis/epigenome_resource/analyses/jennifer/ldsc/logs/ldscore.exp_peaks.7.out -e /frazer01/projects/CARDIPS/analysis/epigenome_resource/analyses/jennifer/ldsc/logs/ldscore.exp_peaks.7.err\n",
      "\n",
      "source /frazer01/home/jennifer/.bash_profile; source activate ldsc; python ~/software/ldsc/ldsc.py --l2 --ld-wind-cm 1 --bfile /frazer01/projects/CARDIPS/analysis/epigenome_resource/analyses/jennifer/ldsc/reference/plink_files/1000G.EUR.hg38.8 --annot /projects/CARDIPS/analysis/epigenome_resource/analyses/jennifer/ldsc/annot/exp_peaks_together/8.annot.gz --out /frazer01/projects/CARDIPS/analysis/epigenome_resource/analyses/jennifer/ldsc/annot/exp_peaks_together/8 --print-snps /frazer01/projects/CARDIPS/analysis/epigenome_resource/analyses/jennifer/ldsc/reference/baseline_snps/baseline.8.snps --annot-name \"L2\" --yes-really\n",
      "\n",
      "echo \"source /frazer01/home/jennifer/.bash_profile; source activate ldsc; python ~/software/ldsc/ldsc.py --l2 --ld-wind-cm 1 --bfile /frazer01/projects/CARDIPS/analysis/epigenome_resource/analyses/jennifer/ldsc/reference/plink_files/1000G.EUR.hg38.8 --annot /projects/CARDIPS/analysis/epigenome_resource/analyses/jennifer/ldsc/annot/exp_peaks_together/8.annot.gz --out /frazer01/projects/CARDIPS/analysis/epigenome_resource/analyses/jennifer/ldsc/annot/exp_peaks_together/8 --print-snps /frazer01/projects/CARDIPS/analysis/epigenome_resource/analyses/jennifer/ldsc/reference/baseline_snps/baseline.8.snps --annot-name \"L2\" --yes-really\" | qsub -N score.8 -V -cwd -pe smp 4 -o /frazer01/projects/CARDIPS/analysis/epigenome_resource/analyses/jennifer/ldsc/logs/ldscore.exp_peaks.8.out -e /frazer01/projects/CARDIPS/analysis/epigenome_resource/analyses/jennifer/ldsc/logs/ldscore.exp_peaks.8.err\n",
      "\n",
      "source /frazer01/home/jennifer/.bash_profile; source activate ldsc; python ~/software/ldsc/ldsc.py --l2 --ld-wind-cm 1 --bfile /frazer01/projects/CARDIPS/analysis/epigenome_resource/analyses/jennifer/ldsc/reference/plink_files/1000G.EUR.hg38.9 --annot /projects/CARDIPS/analysis/epigenome_resource/analyses/jennifer/ldsc/annot/exp_peaks_together/9.annot.gz --out /frazer01/projects/CARDIPS/analysis/epigenome_resource/analyses/jennifer/ldsc/annot/exp_peaks_together/9 --print-snps /frazer01/projects/CARDIPS/analysis/epigenome_resource/analyses/jennifer/ldsc/reference/baseline_snps/baseline.9.snps --annot-name \"L2\" --yes-really\n",
      "\n",
      "echo \"source /frazer01/home/jennifer/.bash_profile; source activate ldsc; python ~/software/ldsc/ldsc.py --l2 --ld-wind-cm 1 --bfile /frazer01/projects/CARDIPS/analysis/epigenome_resource/analyses/jennifer/ldsc/reference/plink_files/1000G.EUR.hg38.9 --annot /projects/CARDIPS/analysis/epigenome_resource/analyses/jennifer/ldsc/annot/exp_peaks_together/9.annot.gz --out /frazer01/projects/CARDIPS/analysis/epigenome_resource/analyses/jennifer/ldsc/annot/exp_peaks_together/9 --print-snps /frazer01/projects/CARDIPS/analysis/epigenome_resource/analyses/jennifer/ldsc/reference/baseline_snps/baseline.9.snps --annot-name \"L2\" --yes-really\" | qsub -N score.9 -V -cwd -pe smp 4 -o /frazer01/projects/CARDIPS/analysis/epigenome_resource/analyses/jennifer/ldsc/logs/ldscore.exp_peaks.9.out -e /frazer01/projects/CARDIPS/analysis/epigenome_resource/analyses/jennifer/ldsc/logs/ldscore.exp_peaks.9.err\n",
      "\n",
      "source /frazer01/home/jennifer/.bash_profile; source activate ldsc; python ~/software/ldsc/ldsc.py --l2 --ld-wind-cm 1 --bfile /frazer01/projects/CARDIPS/analysis/epigenome_resource/analyses/jennifer/ldsc/reference/plink_files/1000G.EUR.hg38.10 --annot /projects/CARDIPS/analysis/epigenome_resource/analyses/jennifer/ldsc/annot/exp_peaks_together/10.annot.gz --out /frazer01/projects/CARDIPS/analysis/epigenome_resource/analyses/jennifer/ldsc/annot/exp_peaks_together/10 --print-snps /frazer01/projects/CARDIPS/analysis/epigenome_resource/analyses/jennifer/ldsc/reference/baseline_snps/baseline.10.snps --annot-name \"L2\" --yes-really\n",
      "\n",
      "echo \"source /frazer01/home/jennifer/.bash_profile; source activate ldsc; python ~/software/ldsc/ldsc.py --l2 --ld-wind-cm 1 --bfile /frazer01/projects/CARDIPS/analysis/epigenome_resource/analyses/jennifer/ldsc/reference/plink_files/1000G.EUR.hg38.10 --annot /projects/CARDIPS/analysis/epigenome_resource/analyses/jennifer/ldsc/annot/exp_peaks_together/10.annot.gz --out /frazer01/projects/CARDIPS/analysis/epigenome_resource/analyses/jennifer/ldsc/annot/exp_peaks_together/10 --print-snps /frazer01/projects/CARDIPS/analysis/epigenome_resource/analyses/jennifer/ldsc/reference/baseline_snps/baseline.10.snps --annot-name \"L2\" --yes-really\" | qsub -N score.10 -V -cwd -pe smp 4 -o /frazer01/projects/CARDIPS/analysis/epigenome_resource/analyses/jennifer/ldsc/logs/ldscore.exp_peaks.10.out -e /frazer01/projects/CARDIPS/analysis/epigenome_resource/analyses/jennifer/ldsc/logs/ldscore.exp_peaks.10.err\n",
      "\n",
      "source /frazer01/home/jennifer/.bash_profile; source activate ldsc; python ~/software/ldsc/ldsc.py --l2 --ld-wind-cm 1 --bfile /frazer01/projects/CARDIPS/analysis/epigenome_resource/analyses/jennifer/ldsc/reference/plink_files/1000G.EUR.hg38.11 --annot /projects/CARDIPS/analysis/epigenome_resource/analyses/jennifer/ldsc/annot/exp_peaks_together/11.annot.gz --out /frazer01/projects/CARDIPS/analysis/epigenome_resource/analyses/jennifer/ldsc/annot/exp_peaks_together/11 --print-snps /frazer01/projects/CARDIPS/analysis/epigenome_resource/analyses/jennifer/ldsc/reference/baseline_snps/baseline.11.snps --annot-name \"L2\" --yes-really\n",
      "\n",
      "echo \"source /frazer01/home/jennifer/.bash_profile; source activate ldsc; python ~/software/ldsc/ldsc.py --l2 --ld-wind-cm 1 --bfile /frazer01/projects/CARDIPS/analysis/epigenome_resource/analyses/jennifer/ldsc/reference/plink_files/1000G.EUR.hg38.11 --annot /projects/CARDIPS/analysis/epigenome_resource/analyses/jennifer/ldsc/annot/exp_peaks_together/11.annot.gz --out /frazer01/projects/CARDIPS/analysis/epigenome_resource/analyses/jennifer/ldsc/annot/exp_peaks_together/11 --print-snps /frazer01/projects/CARDIPS/analysis/epigenome_resource/analyses/jennifer/ldsc/reference/baseline_snps/baseline.11.snps --annot-name \"L2\" --yes-really\" | qsub -N score.11 -V -cwd -pe smp 4 -o /frazer01/projects/CARDIPS/analysis/epigenome_resource/analyses/jennifer/ldsc/logs/ldscore.exp_peaks.11.out -e /frazer01/projects/CARDIPS/analysis/epigenome_resource/analyses/jennifer/ldsc/logs/ldscore.exp_peaks.11.err\n",
      "\n",
      "source /frazer01/home/jennifer/.bash_profile; source activate ldsc; python ~/software/ldsc/ldsc.py --l2 --ld-wind-cm 1 --bfile /frazer01/projects/CARDIPS/analysis/epigenome_resource/analyses/jennifer/ldsc/reference/plink_files/1000G.EUR.hg38.12 --annot /projects/CARDIPS/analysis/epigenome_resource/analyses/jennifer/ldsc/annot/exp_peaks_together/12.annot.gz --out /frazer01/projects/CARDIPS/analysis/epigenome_resource/analyses/jennifer/ldsc/annot/exp_peaks_together/12 --print-snps /frazer01/projects/CARDIPS/analysis/epigenome_resource/analyses/jennifer/ldsc/reference/baseline_snps/baseline.12.snps --annot-name \"L2\" --yes-really\n",
      "\n",
      "echo \"source /frazer01/home/jennifer/.bash_profile; source activate ldsc; python ~/software/ldsc/ldsc.py --l2 --ld-wind-cm 1 --bfile /frazer01/projects/CARDIPS/analysis/epigenome_resource/analyses/jennifer/ldsc/reference/plink_files/1000G.EUR.hg38.12 --annot /projects/CARDIPS/analysis/epigenome_resource/analyses/jennifer/ldsc/annot/exp_peaks_together/12.annot.gz --out /frazer01/projects/CARDIPS/analysis/epigenome_resource/analyses/jennifer/ldsc/annot/exp_peaks_together/12 --print-snps /frazer01/projects/CARDIPS/analysis/epigenome_resource/analyses/jennifer/ldsc/reference/baseline_snps/baseline.12.snps --annot-name \"L2\" --yes-really\" | qsub -N score.12 -V -cwd -pe smp 4 -o /frazer01/projects/CARDIPS/analysis/epigenome_resource/analyses/jennifer/ldsc/logs/ldscore.exp_peaks.12.out -e /frazer01/projects/CARDIPS/analysis/epigenome_resource/analyses/jennifer/ldsc/logs/ldscore.exp_peaks.12.err\n",
      "\n",
      "source /frazer01/home/jennifer/.bash_profile; source activate ldsc; python ~/software/ldsc/ldsc.py --l2 --ld-wind-cm 1 --bfile /frazer01/projects/CARDIPS/analysis/epigenome_resource/analyses/jennifer/ldsc/reference/plink_files/1000G.EUR.hg38.13 --annot /projects/CARDIPS/analysis/epigenome_resource/analyses/jennifer/ldsc/annot/exp_peaks_together/13.annot.gz --out /frazer01/projects/CARDIPS/analysis/epigenome_resource/analyses/jennifer/ldsc/annot/exp_peaks_together/13 --print-snps /frazer01/projects/CARDIPS/analysis/epigenome_resource/analyses/jennifer/ldsc/reference/baseline_snps/baseline.13.snps --annot-name \"L2\" --yes-really\n",
      "\n",
      "echo \"source /frazer01/home/jennifer/.bash_profile; source activate ldsc; python ~/software/ldsc/ldsc.py --l2 --ld-wind-cm 1 --bfile /frazer01/projects/CARDIPS/analysis/epigenome_resource/analyses/jennifer/ldsc/reference/plink_files/1000G.EUR.hg38.13 --annot /projects/CARDIPS/analysis/epigenome_resource/analyses/jennifer/ldsc/annot/exp_peaks_together/13.annot.gz --out /frazer01/projects/CARDIPS/analysis/epigenome_resource/analyses/jennifer/ldsc/annot/exp_peaks_together/13 --print-snps /frazer01/projects/CARDIPS/analysis/epigenome_resource/analyses/jennifer/ldsc/reference/baseline_snps/baseline.13.snps --annot-name \"L2\" --yes-really\" | qsub -N score.13 -V -cwd -pe smp 4 -o /frazer01/projects/CARDIPS/analysis/epigenome_resource/analyses/jennifer/ldsc/logs/ldscore.exp_peaks.13.out -e /frazer01/projects/CARDIPS/analysis/epigenome_resource/analyses/jennifer/ldsc/logs/ldscore.exp_peaks.13.err\n",
      "\n",
      "source /frazer01/home/jennifer/.bash_profile; source activate ldsc; python ~/software/ldsc/ldsc.py --l2 --ld-wind-cm 1 --bfile /frazer01/projects/CARDIPS/analysis/epigenome_resource/analyses/jennifer/ldsc/reference/plink_files/1000G.EUR.hg38.14 --annot /projects/CARDIPS/analysis/epigenome_resource/analyses/jennifer/ldsc/annot/exp_peaks_together/14.annot.gz --out /frazer01/projects/CARDIPS/analysis/epigenome_resource/analyses/jennifer/ldsc/annot/exp_peaks_together/14 --print-snps /frazer01/projects/CARDIPS/analysis/epigenome_resource/analyses/jennifer/ldsc/reference/baseline_snps/baseline.14.snps --annot-name \"L2\" --yes-really\n",
      "\n",
      "echo \"source /frazer01/home/jennifer/.bash_profile; source activate ldsc; python ~/software/ldsc/ldsc.py --l2 --ld-wind-cm 1 --bfile /frazer01/projects/CARDIPS/analysis/epigenome_resource/analyses/jennifer/ldsc/reference/plink_files/1000G.EUR.hg38.14 --annot /projects/CARDIPS/analysis/epigenome_resource/analyses/jennifer/ldsc/annot/exp_peaks_together/14.annot.gz --out /frazer01/projects/CARDIPS/analysis/epigenome_resource/analyses/jennifer/ldsc/annot/exp_peaks_together/14 --print-snps /frazer01/projects/CARDIPS/analysis/epigenome_resource/analyses/jennifer/ldsc/reference/baseline_snps/baseline.14.snps --annot-name \"L2\" --yes-really\" | qsub -N score.14 -V -cwd -pe smp 4 -o /frazer01/projects/CARDIPS/analysis/epigenome_resource/analyses/jennifer/ldsc/logs/ldscore.exp_peaks.14.out -e /frazer01/projects/CARDIPS/analysis/epigenome_resource/analyses/jennifer/ldsc/logs/ldscore.exp_peaks.14.err\n",
      "\n",
      "source /frazer01/home/jennifer/.bash_profile; source activate ldsc; python ~/software/ldsc/ldsc.py --l2 --ld-wind-cm 1 --bfile /frazer01/projects/CARDIPS/analysis/epigenome_resource/analyses/jennifer/ldsc/reference/plink_files/1000G.EUR.hg38.15 --annot /projects/CARDIPS/analysis/epigenome_resource/analyses/jennifer/ldsc/annot/exp_peaks_together/15.annot.gz --out /frazer01/projects/CARDIPS/analysis/epigenome_resource/analyses/jennifer/ldsc/annot/exp_peaks_together/15 --print-snps /frazer01/projects/CARDIPS/analysis/epigenome_resource/analyses/jennifer/ldsc/reference/baseline_snps/baseline.15.snps --annot-name \"L2\" --yes-really\n",
      "\n",
      "echo \"source /frazer01/home/jennifer/.bash_profile; source activate ldsc; python ~/software/ldsc/ldsc.py --l2 --ld-wind-cm 1 --bfile /frazer01/projects/CARDIPS/analysis/epigenome_resource/analyses/jennifer/ldsc/reference/plink_files/1000G.EUR.hg38.15 --annot /projects/CARDIPS/analysis/epigenome_resource/analyses/jennifer/ldsc/annot/exp_peaks_together/15.annot.gz --out /frazer01/projects/CARDIPS/analysis/epigenome_resource/analyses/jennifer/ldsc/annot/exp_peaks_together/15 --print-snps /frazer01/projects/CARDIPS/analysis/epigenome_resource/analyses/jennifer/ldsc/reference/baseline_snps/baseline.15.snps --annot-name \"L2\" --yes-really\" | qsub -N score.15 -V -cwd -pe smp 4 -o /frazer01/projects/CARDIPS/analysis/epigenome_resource/analyses/jennifer/ldsc/logs/ldscore.exp_peaks.15.out -e /frazer01/projects/CARDIPS/analysis/epigenome_resource/analyses/jennifer/ldsc/logs/ldscore.exp_peaks.15.err\n",
      "\n",
      "source /frazer01/home/jennifer/.bash_profile; source activate ldsc; python ~/software/ldsc/ldsc.py --l2 --ld-wind-cm 1 --bfile /frazer01/projects/CARDIPS/analysis/epigenome_resource/analyses/jennifer/ldsc/reference/plink_files/1000G.EUR.hg38.16 --annot /projects/CARDIPS/analysis/epigenome_resource/analyses/jennifer/ldsc/annot/exp_peaks_together/16.annot.gz --out /frazer01/projects/CARDIPS/analysis/epigenome_resource/analyses/jennifer/ldsc/annot/exp_peaks_together/16 --print-snps /frazer01/projects/CARDIPS/analysis/epigenome_resource/analyses/jennifer/ldsc/reference/baseline_snps/baseline.16.snps --annot-name \"L2\" --yes-really\n",
      "\n",
      "echo \"source /frazer01/home/jennifer/.bash_profile; source activate ldsc; python ~/software/ldsc/ldsc.py --l2 --ld-wind-cm 1 --bfile /frazer01/projects/CARDIPS/analysis/epigenome_resource/analyses/jennifer/ldsc/reference/plink_files/1000G.EUR.hg38.16 --annot /projects/CARDIPS/analysis/epigenome_resource/analyses/jennifer/ldsc/annot/exp_peaks_together/16.annot.gz --out /frazer01/projects/CARDIPS/analysis/epigenome_resource/analyses/jennifer/ldsc/annot/exp_peaks_together/16 --print-snps /frazer01/projects/CARDIPS/analysis/epigenome_resource/analyses/jennifer/ldsc/reference/baseline_snps/baseline.16.snps --annot-name \"L2\" --yes-really\" | qsub -N score.16 -V -cwd -pe smp 4 -o /frazer01/projects/CARDIPS/analysis/epigenome_resource/analyses/jennifer/ldsc/logs/ldscore.exp_peaks.16.out -e /frazer01/projects/CARDIPS/analysis/epigenome_resource/analyses/jennifer/ldsc/logs/ldscore.exp_peaks.16.err\n",
      "\n",
      "source /frazer01/home/jennifer/.bash_profile; source activate ldsc; python ~/software/ldsc/ldsc.py --l2 --ld-wind-cm 1 --bfile /frazer01/projects/CARDIPS/analysis/epigenome_resource/analyses/jennifer/ldsc/reference/plink_files/1000G.EUR.hg38.17 --annot /projects/CARDIPS/analysis/epigenome_resource/analyses/jennifer/ldsc/annot/exp_peaks_together/17.annot.gz --out /frazer01/projects/CARDIPS/analysis/epigenome_resource/analyses/jennifer/ldsc/annot/exp_peaks_together/17 --print-snps /frazer01/projects/CARDIPS/analysis/epigenome_resource/analyses/jennifer/ldsc/reference/baseline_snps/baseline.17.snps --annot-name \"L2\" --yes-really\n",
      "\n",
      "echo \"source /frazer01/home/jennifer/.bash_profile; source activate ldsc; python ~/software/ldsc/ldsc.py --l2 --ld-wind-cm 1 --bfile /frazer01/projects/CARDIPS/analysis/epigenome_resource/analyses/jennifer/ldsc/reference/plink_files/1000G.EUR.hg38.17 --annot /projects/CARDIPS/analysis/epigenome_resource/analyses/jennifer/ldsc/annot/exp_peaks_together/17.annot.gz --out /frazer01/projects/CARDIPS/analysis/epigenome_resource/analyses/jennifer/ldsc/annot/exp_peaks_together/17 --print-snps /frazer01/projects/CARDIPS/analysis/epigenome_resource/analyses/jennifer/ldsc/reference/baseline_snps/baseline.17.snps --annot-name \"L2\" --yes-really\" | qsub -N score.17 -V -cwd -pe smp 4 -o /frazer01/projects/CARDIPS/analysis/epigenome_resource/analyses/jennifer/ldsc/logs/ldscore.exp_peaks.17.out -e /frazer01/projects/CARDIPS/analysis/epigenome_resource/analyses/jennifer/ldsc/logs/ldscore.exp_peaks.17.err\n",
      "\n",
      "source /frazer01/home/jennifer/.bash_profile; source activate ldsc; python ~/software/ldsc/ldsc.py --l2 --ld-wind-cm 1 --bfile /frazer01/projects/CARDIPS/analysis/epigenome_resource/analyses/jennifer/ldsc/reference/plink_files/1000G.EUR.hg38.18 --annot /projects/CARDIPS/analysis/epigenome_resource/analyses/jennifer/ldsc/annot/exp_peaks_together/18.annot.gz --out /frazer01/projects/CARDIPS/analysis/epigenome_resource/analyses/jennifer/ldsc/annot/exp_peaks_together/18 --print-snps /frazer01/projects/CARDIPS/analysis/epigenome_resource/analyses/jennifer/ldsc/reference/baseline_snps/baseline.18.snps --annot-name \"L2\" --yes-really\n",
      "\n",
      "echo \"source /frazer01/home/jennifer/.bash_profile; source activate ldsc; python ~/software/ldsc/ldsc.py --l2 --ld-wind-cm 1 --bfile /frazer01/projects/CARDIPS/analysis/epigenome_resource/analyses/jennifer/ldsc/reference/plink_files/1000G.EUR.hg38.18 --annot /projects/CARDIPS/analysis/epigenome_resource/analyses/jennifer/ldsc/annot/exp_peaks_together/18.annot.gz --out /frazer01/projects/CARDIPS/analysis/epigenome_resource/analyses/jennifer/ldsc/annot/exp_peaks_together/18 --print-snps /frazer01/projects/CARDIPS/analysis/epigenome_resource/analyses/jennifer/ldsc/reference/baseline_snps/baseline.18.snps --annot-name \"L2\" --yes-really\" | qsub -N score.18 -V -cwd -pe smp 4 -o /frazer01/projects/CARDIPS/analysis/epigenome_resource/analyses/jennifer/ldsc/logs/ldscore.exp_peaks.18.out -e /frazer01/projects/CARDIPS/analysis/epigenome_resource/analyses/jennifer/ldsc/logs/ldscore.exp_peaks.18.err\n",
      "\n",
      "source /frazer01/home/jennifer/.bash_profile; source activate ldsc; python ~/software/ldsc/ldsc.py --l2 --ld-wind-cm 1 --bfile /frazer01/projects/CARDIPS/analysis/epigenome_resource/analyses/jennifer/ldsc/reference/plink_files/1000G.EUR.hg38.19 --annot /projects/CARDIPS/analysis/epigenome_resource/analyses/jennifer/ldsc/annot/exp_peaks_together/19.annot.gz --out /frazer01/projects/CARDIPS/analysis/epigenome_resource/analyses/jennifer/ldsc/annot/exp_peaks_together/19 --print-snps /frazer01/projects/CARDIPS/analysis/epigenome_resource/analyses/jennifer/ldsc/reference/baseline_snps/baseline.19.snps --annot-name \"L2\" --yes-really\n",
      "\n",
      "echo \"source /frazer01/home/jennifer/.bash_profile; source activate ldsc; python ~/software/ldsc/ldsc.py --l2 --ld-wind-cm 1 --bfile /frazer01/projects/CARDIPS/analysis/epigenome_resource/analyses/jennifer/ldsc/reference/plink_files/1000G.EUR.hg38.19 --annot /projects/CARDIPS/analysis/epigenome_resource/analyses/jennifer/ldsc/annot/exp_peaks_together/19.annot.gz --out /frazer01/projects/CARDIPS/analysis/epigenome_resource/analyses/jennifer/ldsc/annot/exp_peaks_together/19 --print-snps /frazer01/projects/CARDIPS/analysis/epigenome_resource/analyses/jennifer/ldsc/reference/baseline_snps/baseline.19.snps --annot-name \"L2\" --yes-really\" | qsub -N score.19 -V -cwd -pe smp 4 -o /frazer01/projects/CARDIPS/analysis/epigenome_resource/analyses/jennifer/ldsc/logs/ldscore.exp_peaks.19.out -e /frazer01/projects/CARDIPS/analysis/epigenome_resource/analyses/jennifer/ldsc/logs/ldscore.exp_peaks.19.err\n",
      "\n",
      "source /frazer01/home/jennifer/.bash_profile; source activate ldsc; python ~/software/ldsc/ldsc.py --l2 --ld-wind-cm 1 --bfile /frazer01/projects/CARDIPS/analysis/epigenome_resource/analyses/jennifer/ldsc/reference/plink_files/1000G.EUR.hg38.20 --annot /projects/CARDIPS/analysis/epigenome_resource/analyses/jennifer/ldsc/annot/exp_peaks_together/20.annot.gz --out /frazer01/projects/CARDIPS/analysis/epigenome_resource/analyses/jennifer/ldsc/annot/exp_peaks_together/20 --print-snps /frazer01/projects/CARDIPS/analysis/epigenome_resource/analyses/jennifer/ldsc/reference/baseline_snps/baseline.20.snps --annot-name \"L2\" --yes-really\n",
      "\n",
      "echo \"source /frazer01/home/jennifer/.bash_profile; source activate ldsc; python ~/software/ldsc/ldsc.py --l2 --ld-wind-cm 1 --bfile /frazer01/projects/CARDIPS/analysis/epigenome_resource/analyses/jennifer/ldsc/reference/plink_files/1000G.EUR.hg38.20 --annot /projects/CARDIPS/analysis/epigenome_resource/analyses/jennifer/ldsc/annot/exp_peaks_together/20.annot.gz --out /frazer01/projects/CARDIPS/analysis/epigenome_resource/analyses/jennifer/ldsc/annot/exp_peaks_together/20 --print-snps /frazer01/projects/CARDIPS/analysis/epigenome_resource/analyses/jennifer/ldsc/reference/baseline_snps/baseline.20.snps --annot-name \"L2\" --yes-really\" | qsub -N score.20 -V -cwd -pe smp 4 -o /frazer01/projects/CARDIPS/analysis/epigenome_resource/analyses/jennifer/ldsc/logs/ldscore.exp_peaks.20.out -e /frazer01/projects/CARDIPS/analysis/epigenome_resource/analyses/jennifer/ldsc/logs/ldscore.exp_peaks.20.err\n",
      "\n",
      "source /frazer01/home/jennifer/.bash_profile; source activate ldsc; python ~/software/ldsc/ldsc.py --l2 --ld-wind-cm 1 --bfile /frazer01/projects/CARDIPS/analysis/epigenome_resource/analyses/jennifer/ldsc/reference/plink_files/1000G.EUR.hg38.21 --annot /projects/CARDIPS/analysis/epigenome_resource/analyses/jennifer/ldsc/annot/exp_peaks_together/21.annot.gz --out /frazer01/projects/CARDIPS/analysis/epigenome_resource/analyses/jennifer/ldsc/annot/exp_peaks_together/21 --print-snps /frazer01/projects/CARDIPS/analysis/epigenome_resource/analyses/jennifer/ldsc/reference/baseline_snps/baseline.21.snps --annot-name \"L2\" --yes-really\n",
      "\n",
      "echo \"source /frazer01/home/jennifer/.bash_profile; source activate ldsc; python ~/software/ldsc/ldsc.py --l2 --ld-wind-cm 1 --bfile /frazer01/projects/CARDIPS/analysis/epigenome_resource/analyses/jennifer/ldsc/reference/plink_files/1000G.EUR.hg38.21 --annot /projects/CARDIPS/analysis/epigenome_resource/analyses/jennifer/ldsc/annot/exp_peaks_together/21.annot.gz --out /frazer01/projects/CARDIPS/analysis/epigenome_resource/analyses/jennifer/ldsc/annot/exp_peaks_together/21 --print-snps /frazer01/projects/CARDIPS/analysis/epigenome_resource/analyses/jennifer/ldsc/reference/baseline_snps/baseline.21.snps --annot-name \"L2\" --yes-really\" | qsub -N score.21 -V -cwd -pe smp 4 -o /frazer01/projects/CARDIPS/analysis/epigenome_resource/analyses/jennifer/ldsc/logs/ldscore.exp_peaks.21.out -e /frazer01/projects/CARDIPS/analysis/epigenome_resource/analyses/jennifer/ldsc/logs/ldscore.exp_peaks.21.err\n",
      "\n",
      "source /frazer01/home/jennifer/.bash_profile; source activate ldsc; python ~/software/ldsc/ldsc.py --l2 --ld-wind-cm 1 --bfile /frazer01/projects/CARDIPS/analysis/epigenome_resource/analyses/jennifer/ldsc/reference/plink_files/1000G.EUR.hg38.22 --annot /projects/CARDIPS/analysis/epigenome_resource/analyses/jennifer/ldsc/annot/exp_peaks_together/22.annot.gz --out /frazer01/projects/CARDIPS/analysis/epigenome_resource/analyses/jennifer/ldsc/annot/exp_peaks_together/22 --print-snps /frazer01/projects/CARDIPS/analysis/epigenome_resource/analyses/jennifer/ldsc/reference/baseline_snps/baseline.22.snps --annot-name \"L2\" --yes-really\n",
      "\n",
      "echo \"source /frazer01/home/jennifer/.bash_profile; source activate ldsc; python ~/software/ldsc/ldsc.py --l2 --ld-wind-cm 1 --bfile /frazer01/projects/CARDIPS/analysis/epigenome_resource/analyses/jennifer/ldsc/reference/plink_files/1000G.EUR.hg38.22 --annot /projects/CARDIPS/analysis/epigenome_resource/analyses/jennifer/ldsc/annot/exp_peaks_together/22.annot.gz --out /frazer01/projects/CARDIPS/analysis/epigenome_resource/analyses/jennifer/ldsc/annot/exp_peaks_together/22 --print-snps /frazer01/projects/CARDIPS/analysis/epigenome_resource/analyses/jennifer/ldsc/reference/baseline_snps/baseline.22.snps --annot-name \"L2\" --yes-really\" | qsub -N score.22 -V -cwd -pe smp 4 -o /frazer01/projects/CARDIPS/analysis/epigenome_resource/analyses/jennifer/ldsc/logs/ldscore.exp_peaks.22.out -e /frazer01/projects/CARDIPS/analysis/epigenome_resource/analyses/jennifer/ldsc/logs/ldscore.exp_peaks.22.err\n",
      "\n"
     ]
    }
   ],
   "source": [
    "# source /frazer01/home/jennifer/.bash_profile; source activate ldsc\n",
    "\n",
    "for (CHR in c(1:22))\n",
    "{\n",
    "    bfile = paste0(\"/frazer01/projects/CARDIPS/analysis/epigenome_resource/analyses/jennifer/ldsc/reference/plink_files/1000G.EUR.hg38.\", CHR)\n",
    "    annot = paste0(\"/projects/CARDIPS/analysis/epigenome_resource/analyses/jennifer/ldsc/annot/exp_peaks_together/\", CHR, \".annot.gz\")\n",
    "    out = paste0(\"/frazer01/projects/CARDIPS/analysis/epigenome_resource/analyses/jennifer/ldsc/annot/exp_peaks_together/\", CHR)\n",
    "    snps = paste0(\"/frazer01/projects/CARDIPS/analysis/epigenome_resource/analyses/jennifer/ldsc/reference/baseline_snps/baseline.\", CHR, \".snps\")\n",
    "    cmd = paste(\"source /frazer01/home/jennifer/.bash_profile; source activate ldsc;\",\n",
    "              \"python ~/software/ldsc/ldsc.py --l2\",\n",
    "                \"--ld-wind-cm 1\",\n",
    "                \"--bfile\", bfile,\n",
    "                \"--annot\", annot,\n",
    "                \"--out\", out,\n",
    "                \"--print-snps\", snps,\n",
    "                \"--annot-name \\\"L2\\\"\",\n",
    "                \"--yes-really\")\n",
    "    message(cmd)\n",
    "    \n",
    "    log_out = paste(getwd(), \"analyses/jennifer/ldsc/logs\", paste(\"ldscore.exp_peaks\",  CHR, \"out\", sep = \".\"), sep = \"/\")\n",
    "    log_err = paste(getwd(), \"analyses/jennifer/ldsc/logs\", paste(\"ldscore.exp_peaks\",  CHR, \"err\", sep = \".\"), sep = \"/\")\n",
    "    run_qsub(cmd = cmd, name = paste(\"score\", CHR, sep = \".\"), log_err = log_err, log_out = log_out, threads = 4, exec = T)\n",
    "     \n",
    "}\n",
    "\n",
    "# python ~/software/ldsc/ldsc.py --l2 \\\n",
    "# --bfile /frazer01/projects/CARDIPS/analysis/epigenome_resource/analyses/jennifer/ldsc/reference/plink_files/1000G.EUR.hg38.${CHR} --ld-wind-cm 1 \\\n",
    "# --annot /projects/CARDIPS/analysis/epigenome_resource/analyses/jennifer/ldsc/annot/with_baseline/${CHR}.annot.gz \\\n",
    "# --out /frazer01/projects/CARDIPS/analysis/epigenome_resource/analyses/jennifer/ldsc/annot/with_baseline/${CHR} \\\n",
    "# --print-snps /frazer01/projects/CARDIPS/analysis/epigenome_resource/analyses/jennifer/ldsc/reference/baseline_snps/baseline.${CHR}.snps \\\n",
    "# --annot-name \"L2\" \\\n",
    "# --yes-really"
   ]
  },
  {
   "cell_type": "markdown",
   "metadata": {},
   "source": [
    "## 4. Heritability enrichment"
   ]
  },
  {
   "cell_type": "code",
   "execution_count": 56,
   "metadata": {},
   "outputs": [],
   "source": [
    "# sub_manifest = fread(\"analyses/jennifer/gwas_independent/subset_manifest.txt\", data.table = F)\n",
    "manifest = fread(\"analyses/jennifer/gwas_coloc/input/manifest.txt\", data.table = F)\n",
    "sumstats = list.files(paste(getwd(), \"analyses/jennifer/ldsc/sumstats\", sep = \"/\"), full.names = T)\n",
    "sumstats = sumstats[which(sumstats %like% \"gz\")]"
   ]
  },
  {
   "cell_type": "code",
   "execution_count": 57,
   "metadata": {},
   "outputs": [
    {
     "data": {
      "text/html": [
       "<style>\n",
       ".list-inline {list-style: none; margin:0; padding: 0}\n",
       ".list-inline>li {display: inline-block}\n",
       ".list-inline>li:not(:last-child)::after {content: \"\\00b7\"; padding: 0 .5ex}\n",
       "</style>\n",
       "<ol class=list-inline><li>'/frazer01/projects/CARDIPS/analysis/epigenome_resource/analyses/jennifer/ldsc/sumstats/AD_sumstats_Jansenetal_2019sept.hg38.hapmap.sumstats.gz'</li><li>'/frazer01/projects/CARDIPS/analysis/epigenome_resource/analyses/jennifer/ldsc/sumstats/all_psychiatric_disorders.meta.hg38.hapmap.sumstats.gz'</li></ol>\n"
      ],
      "text/latex": [
       "\\begin{enumerate*}\n",
       "\\item '/frazer01/projects/CARDIPS/analysis/epigenome\\_resource/analyses/jennifer/ldsc/sumstats/AD\\_sumstats\\_Jansenetal\\_2019sept.hg38.hapmap.sumstats.gz'\n",
       "\\item '/frazer01/projects/CARDIPS/analysis/epigenome\\_resource/analyses/jennifer/ldsc/sumstats/all\\_psychiatric\\_disorders.meta.hg38.hapmap.sumstats.gz'\n",
       "\\end{enumerate*}\n"
      ],
      "text/markdown": [
       "1. '/frazer01/projects/CARDIPS/analysis/epigenome_resource/analyses/jennifer/ldsc/sumstats/AD_sumstats_Jansenetal_2019sept.hg38.hapmap.sumstats.gz'\n",
       "2. '/frazer01/projects/CARDIPS/analysis/epigenome_resource/analyses/jennifer/ldsc/sumstats/all_psychiatric_disorders.meta.hg38.hapmap.sumstats.gz'\n",
       "\n",
       "\n"
      ],
      "text/plain": [
       "[1] \"/frazer01/projects/CARDIPS/analysis/epigenome_resource/analyses/jennifer/ldsc/sumstats/AD_sumstats_Jansenetal_2019sept.hg38.hapmap.sumstats.gz\"\n",
       "[2] \"/frazer01/projects/CARDIPS/analysis/epigenome_resource/analyses/jennifer/ldsc/sumstats/all_psychiatric_disorders.meta.hg38.hapmap.sumstats.gz\" "
      ]
     },
     "metadata": {},
     "output_type": "display_data"
    }
   ],
   "source": [
    "head(sumstats,2)"
   ]
  },
  {
   "cell_type": "code",
   "execution_count": 25,
   "metadata": {},
   "outputs": [],
   "source": [
    "dir.create(\"analyses/jennifer/ldsc/h2/exp_peaks_together\")"
   ]
  },
  {
   "cell_type": "code",
   "execution_count": 59,
   "metadata": {},
   "outputs": [
    {
     "data": {
      "text/html": [
       "<style>\n",
       ".list-inline {list-style: none; margin:0; padding: 0}\n",
       ".list-inline>li {display: inline-block}\n",
       ".list-inline>li:not(:last-child)::after {content: \"\\00b7\"; padding: 0 .5ex}\n",
       "</style>\n",
       "<ol class=list-inline><li>'AD_sumstats_Jansenetal_2019sept'</li><li>'all_psychiatric_disorders.meta'</li></ol>\n"
      ],
      "text/latex": [
       "\\begin{enumerate*}\n",
       "\\item 'AD\\_sumstats\\_Jansenetal\\_2019sept'\n",
       "\\item 'all\\_psychiatric\\_disorders.meta'\n",
       "\\end{enumerate*}\n"
      ],
      "text/markdown": [
       "1. 'AD_sumstats_Jansenetal_2019sept'\n",
       "2. 'all_psychiatric_disorders.meta'\n",
       "\n",
       "\n"
      ],
      "text/plain": [
       "[1] \"AD_sumstats_Jansenetal_2019sept\" \"all_psychiatric_disorders.meta\" "
      ]
     },
     "metadata": {},
     "output_type": "display_data"
    }
   ],
   "source": [
    "head(traits,2)"
   ]
  },
  {
   "cell_type": "code",
   "execution_count": 63,
   "metadata": {},
   "outputs": [
    {
     "name": "stderr",
     "output_type": "stream",
     "text": [
      "echo \"source /frazer01/home/jennifer/.bash_profile; source activate ldsc; python ~/software/ldsc/ldsc.py --h2 /frazer01/projects/CARDIPS/analysis/epigenome_resource/analyses/jennifer/ldsc/sumstats/AD_sumstats_Jansenetal_2019sept.hg38.hapmap.sumstats.gz --ref-ld-chr /projects/CARDIPS/analysis/epigenome_resource/analyses/jennifer/ldsc/annot/exp_peaks_together/,/projects/CARDIPS/analysis/epigenome_resource/analyses/jennifer/ldsc/reference/baseline_v1.2/baseline. --w-ld-chr /projects/CARDIPS/analysis/epigenome_resource/analyses/jennifer/ldsc/reference/weights/weights.hm3_noMHC. --overlap-annot --frqfile-chr /projects/CARDIPS/analysis/epigenome_resource/analyses/jennifer/ldsc/reference/1000G_Phase3_frq/1000G.EUR.QC. --out /frazer01/projects/CARDIPS/analysis/epigenome_resource/analyses/jennifer/ldsc/h2/exp_peaks_together/AD_sumstats_Jansenetal_2019sept.hg38.hapmap\" | qsub -N h2.AD_sumstats_Jansenetal_2019sept -V -cwd -pe smp 4 -o /frazer01/projects/CARDIPS/analysis/epigenome_resource/analyses/jennifer/ldsc/logs/h2.exp_peaks_together.AD_sumstats_Jansenetal_2019sept.out -e /frazer01/projects/CARDIPS/analysis/epigenome_resource/analyses/jennifer/ldsc/logs/h2.exp_peaks_together.AD_sumstats_Jansenetal_2019sept.err\n",
      "\n",
      "echo \"source /frazer01/home/jennifer/.bash_profile; source activate ldsc; python ~/software/ldsc/ldsc.py --h2 /frazer01/projects/CARDIPS/analysis/epigenome_resource/analyses/jennifer/ldsc/sumstats/all_psychiatric_disorders.meta.hg38.hapmap.sumstats.gz --ref-ld-chr /projects/CARDIPS/analysis/epigenome_resource/analyses/jennifer/ldsc/annot/exp_peaks_together/,/projects/CARDIPS/analysis/epigenome_resource/analyses/jennifer/ldsc/reference/baseline_v1.2/baseline. --w-ld-chr /projects/CARDIPS/analysis/epigenome_resource/analyses/jennifer/ldsc/reference/weights/weights.hm3_noMHC. --overlap-annot --frqfile-chr /projects/CARDIPS/analysis/epigenome_resource/analyses/jennifer/ldsc/reference/1000G_Phase3_frq/1000G.EUR.QC. --out /frazer01/projects/CARDIPS/analysis/epigenome_resource/analyses/jennifer/ldsc/h2/exp_peaks_together/all_psychiatric_disorders.meta.hg38.hapmap\" | qsub -N h2.all_psychiatric_disorders.meta -V -cwd -pe smp 4 -o /frazer01/projects/CARDIPS/analysis/epigenome_resource/analyses/jennifer/ldsc/logs/h2.exp_peaks_together.all_psychiatric_disorders.meta.out -e /frazer01/projects/CARDIPS/analysis/epigenome_resource/analyses/jennifer/ldsc/logs/h2.exp_peaks_together.all_psychiatric_disorders.meta.err\n",
      "\n",
      "echo \"source /frazer01/home/jennifer/.bash_profile; source activate ldsc; python ~/software/ldsc/ldsc.py --h2 /frazer01/projects/CARDIPS/analysis/epigenome_resource/analyses/jennifer/ldsc/sumstats/All_PsychiatricDisorders_MetaAnalysis.hg38.hapmap.sumstats.gz --ref-ld-chr /projects/CARDIPS/analysis/epigenome_resource/analyses/jennifer/ldsc/annot/exp_peaks_together/,/projects/CARDIPS/analysis/epigenome_resource/analyses/jennifer/ldsc/reference/baseline_v1.2/baseline. --w-ld-chr /projects/CARDIPS/analysis/epigenome_resource/analyses/jennifer/ldsc/reference/weights/weights.hm3_noMHC. --overlap-annot --frqfile-chr /projects/CARDIPS/analysis/epigenome_resource/analyses/jennifer/ldsc/reference/1000G_Phase3_frq/1000G.EUR.QC. --out /frazer01/projects/CARDIPS/analysis/epigenome_resource/analyses/jennifer/ldsc/h2/exp_peaks_together/All_PsychiatricDisorders_MetaAnalysis.hg38.hapmap\" | qsub -N h2.All_PsychiatricDisorders_MetaAnalysis -V -cwd -pe smp 4 -o /frazer01/projects/CARDIPS/analysis/epigenome_resource/analyses/jennifer/ldsc/logs/h2.exp_peaks_together.All_PsychiatricDisorders_MetaAnalysis.out -e /frazer01/projects/CARDIPS/analysis/epigenome_resource/analyses/jennifer/ldsc/logs/h2.exp_peaks_together.All_PsychiatricDisorders_MetaAnalysis.err\n",
      "\n",
      "echo \"source /frazer01/home/jennifer/.bash_profile; source activate ldsc; python ~/software/ldsc/ldsc.py --h2 /frazer01/projects/CARDIPS/analysis/epigenome_resource/analyses/jennifer/ldsc/sumstats/biomarkers-30690-both_sexes-irnt.eur.hg38.hapmap.sumstats.gz --ref-ld-chr /projects/CARDIPS/analysis/epigenome_resource/analyses/jennifer/ldsc/annot/exp_peaks_together/,/projects/CARDIPS/analysis/epigenome_resource/analyses/jennifer/ldsc/reference/baseline_v1.2/baseline. --w-ld-chr /projects/CARDIPS/analysis/epigenome_resource/analyses/jennifer/ldsc/reference/weights/weights.hm3_noMHC. --overlap-annot --frqfile-chr /projects/CARDIPS/analysis/epigenome_resource/analyses/jennifer/ldsc/reference/1000G_Phase3_frq/1000G.EUR.QC. --out /frazer01/projects/CARDIPS/analysis/epigenome_resource/analyses/jennifer/ldsc/h2/exp_peaks_together/biomarkers-30690-both_sexes-irnt.eur.hg38.hapmap\" | qsub -N h2.biomarkers-30690-both_sexes-irnt.eur -V -cwd -pe smp 4 -o /frazer01/projects/CARDIPS/analysis/epigenome_resource/analyses/jennifer/ldsc/logs/h2.exp_peaks_together.biomarkers-30690-both_sexes-irnt.eur.out -e /frazer01/projects/CARDIPS/analysis/epigenome_resource/analyses/jennifer/ldsc/logs/h2.exp_peaks_together.biomarkers-30690-both_sexes-irnt.eur.err\n",
      "\n",
      "echo \"source /frazer01/home/jennifer/.bash_profile; source activate ldsc; python ~/software/ldsc/ldsc.py --h2 /frazer01/projects/CARDIPS/analysis/epigenome_resource/analyses/jennifer/ldsc/sumstats/biomarkers-30690-both_sexes-irnt.meta.hg38.hapmap.sumstats.gz --ref-ld-chr /projects/CARDIPS/analysis/epigenome_resource/analyses/jennifer/ldsc/annot/exp_peaks_together/,/projects/CARDIPS/analysis/epigenome_resource/analyses/jennifer/ldsc/reference/baseline_v1.2/baseline. --w-ld-chr /projects/CARDIPS/analysis/epigenome_resource/analyses/jennifer/ldsc/reference/weights/weights.hm3_noMHC. --overlap-annot --frqfile-chr /projects/CARDIPS/analysis/epigenome_resource/analyses/jennifer/ldsc/reference/1000G_Phase3_frq/1000G.EUR.QC. --out /frazer01/projects/CARDIPS/analysis/epigenome_resource/analyses/jennifer/ldsc/h2/exp_peaks_together/biomarkers-30690-both_sexes-irnt.meta.hg38.hapmap\" | qsub -N h2.biomarkers-30690-both_sexes-irnt.meta -V -cwd -pe smp 4 -o /frazer01/projects/CARDIPS/analysis/epigenome_resource/analyses/jennifer/ldsc/logs/h2.exp_peaks_together.biomarkers-30690-both_sexes-irnt.meta.out -e /frazer01/projects/CARDIPS/analysis/epigenome_resource/analyses/jennifer/ldsc/logs/h2.exp_peaks_together.biomarkers-30690-both_sexes-irnt.meta.err\n",
      "\n",
      "echo \"source /frazer01/home/jennifer/.bash_profile; source activate ldsc; python ~/software/ldsc/ldsc.py --h2 /frazer01/projects/CARDIPS/analysis/epigenome_resource/analyses/jennifer/ldsc/sumstats/biomarkers-30740-both_sexes-irnt.eur.hg38.hapmap.sumstats.gz --ref-ld-chr /projects/CARDIPS/analysis/epigenome_resource/analyses/jennifer/ldsc/annot/exp_peaks_together/,/projects/CARDIPS/analysis/epigenome_resource/analyses/jennifer/ldsc/reference/baseline_v1.2/baseline. --w-ld-chr /projects/CARDIPS/analysis/epigenome_resource/analyses/jennifer/ldsc/reference/weights/weights.hm3_noMHC. --overlap-annot --frqfile-chr /projects/CARDIPS/analysis/epigenome_resource/analyses/jennifer/ldsc/reference/1000G_Phase3_frq/1000G.EUR.QC. --out /frazer01/projects/CARDIPS/analysis/epigenome_resource/analyses/jennifer/ldsc/h2/exp_peaks_together/biomarkers-30740-both_sexes-irnt.eur.hg38.hapmap\" | qsub -N h2.biomarkers-30740-both_sexes-irnt.eur -V -cwd -pe smp 4 -o /frazer01/projects/CARDIPS/analysis/epigenome_resource/analyses/jennifer/ldsc/logs/h2.exp_peaks_together.biomarkers-30740-both_sexes-irnt.eur.out -e /frazer01/projects/CARDIPS/analysis/epigenome_resource/analyses/jennifer/ldsc/logs/h2.exp_peaks_together.biomarkers-30740-both_sexes-irnt.eur.err\n",
      "\n",
      "echo \"source /frazer01/home/jennifer/.bash_profile; source activate ldsc; python ~/software/ldsc/ldsc.py --h2 /frazer01/projects/CARDIPS/analysis/epigenome_resource/analyses/jennifer/ldsc/sumstats/biomarkers-30740-both_sexes-irnt.meta.hg38.hapmap.sumstats.gz --ref-ld-chr /projects/CARDIPS/analysis/epigenome_resource/analyses/jennifer/ldsc/annot/exp_peaks_together/,/projects/CARDIPS/analysis/epigenome_resource/analyses/jennifer/ldsc/reference/baseline_v1.2/baseline. --w-ld-chr /projects/CARDIPS/analysis/epigenome_resource/analyses/jennifer/ldsc/reference/weights/weights.hm3_noMHC. --overlap-annot --frqfile-chr /projects/CARDIPS/analysis/epigenome_resource/analyses/jennifer/ldsc/reference/1000G_Phase3_frq/1000G.EUR.QC. --out /frazer01/projects/CARDIPS/analysis/epigenome_resource/analyses/jennifer/ldsc/h2/exp_peaks_together/biomarkers-30740-both_sexes-irnt.meta.hg38.hapmap\" | qsub -N h2.biomarkers-30740-both_sexes-irnt.meta -V -cwd -pe smp 4 -o /frazer01/projects/CARDIPS/analysis/epigenome_resource/analyses/jennifer/ldsc/logs/h2.exp_peaks_together.biomarkers-30740-both_sexes-irnt.meta.out -e /frazer01/projects/CARDIPS/analysis/epigenome_resource/analyses/jennifer/ldsc/logs/h2.exp_peaks_together.biomarkers-30740-both_sexes-irnt.meta.err\n",
      "\n",
      "echo \"source /frazer01/home/jennifer/.bash_profile; source activate ldsc; python ~/software/ldsc/ldsc.py --h2 /frazer01/projects/CARDIPS/analysis/epigenome_resource/analyses/jennifer/ldsc/sumstats/biomarkers-30760-both_sexes-irnt.eur.hg38.hapmap.sumstats.gz --ref-ld-chr /projects/CARDIPS/analysis/epigenome_resource/analyses/jennifer/ldsc/annot/exp_peaks_together/,/projects/CARDIPS/analysis/epigenome_resource/analyses/jennifer/ldsc/reference/baseline_v1.2/baseline. --w-ld-chr /projects/CARDIPS/analysis/epigenome_resource/analyses/jennifer/ldsc/reference/weights/weights.hm3_noMHC. --overlap-annot --frqfile-chr /projects/CARDIPS/analysis/epigenome_resource/analyses/jennifer/ldsc/reference/1000G_Phase3_frq/1000G.EUR.QC. --out /frazer01/projects/CARDIPS/analysis/epigenome_resource/analyses/jennifer/ldsc/h2/exp_peaks_together/biomarkers-30760-both_sexes-irnt.eur.hg38.hapmap\" | qsub -N h2.biomarkers-30760-both_sexes-irnt.eur -V -cwd -pe smp 4 -o /frazer01/projects/CARDIPS/analysis/epigenome_resource/analyses/jennifer/ldsc/logs/h2.exp_peaks_together.biomarkers-30760-both_sexes-irnt.eur.out -e /frazer01/projects/CARDIPS/analysis/epigenome_resource/analyses/jennifer/ldsc/logs/h2.exp_peaks_together.biomarkers-30760-both_sexes-irnt.eur.err\n",
      "\n",
      "echo \"source /frazer01/home/jennifer/.bash_profile; source activate ldsc; python ~/software/ldsc/ldsc.py --h2 /frazer01/projects/CARDIPS/analysis/epigenome_resource/analyses/jennifer/ldsc/sumstats/biomarkers-30760-both_sexes-irnt.meta.hg38.hapmap.sumstats.gz --ref-ld-chr /projects/CARDIPS/analysis/epigenome_resource/analyses/jennifer/ldsc/annot/exp_peaks_together/,/projects/CARDIPS/analysis/epigenome_resource/analyses/jennifer/ldsc/reference/baseline_v1.2/baseline. --w-ld-chr /projects/CARDIPS/analysis/epigenome_resource/analyses/jennifer/ldsc/reference/weights/weights.hm3_noMHC. --overlap-annot --frqfile-chr /projects/CARDIPS/analysis/epigenome_resource/analyses/jennifer/ldsc/reference/1000G_Phase3_frq/1000G.EUR.QC. --out /frazer01/projects/CARDIPS/analysis/epigenome_resource/analyses/jennifer/ldsc/h2/exp_peaks_together/biomarkers-30760-both_sexes-irnt.meta.hg38.hapmap\" | qsub -N h2.biomarkers-30760-both_sexes-irnt.meta -V -cwd -pe smp 4 -o /frazer01/projects/CARDIPS/analysis/epigenome_resource/analyses/jennifer/ldsc/logs/h2.exp_peaks_together.biomarkers-30760-both_sexes-irnt.meta.out -e /frazer01/projects/CARDIPS/analysis/epigenome_resource/analyses/jennifer/ldsc/logs/h2.exp_peaks_together.biomarkers-30760-both_sexes-irnt.meta.err\n",
      "\n",
      "echo \"source /frazer01/home/jennifer/.bash_profile; source activate ldsc; python ~/software/ldsc/ldsc.py --h2 /frazer01/projects/CARDIPS/analysis/epigenome_resource/analyses/jennifer/ldsc/sumstats/biomarkers-30780-both_sexes-irnt.eur.hg38.hapmap.sumstats.gz --ref-ld-chr /projects/CARDIPS/analysis/epigenome_resource/analyses/jennifer/ldsc/annot/exp_peaks_together/,/projects/CARDIPS/analysis/epigenome_resource/analyses/jennifer/ldsc/reference/baseline_v1.2/baseline. --w-ld-chr /projects/CARDIPS/analysis/epigenome_resource/analyses/jennifer/ldsc/reference/weights/weights.hm3_noMHC. --overlap-annot --frqfile-chr /projects/CARDIPS/analysis/epigenome_resource/analyses/jennifer/ldsc/reference/1000G_Phase3_frq/1000G.EUR.QC. --out /frazer01/projects/CARDIPS/analysis/epigenome_resource/analyses/jennifer/ldsc/h2/exp_peaks_together/biomarkers-30780-both_sexes-irnt.eur.hg38.hapmap\" | qsub -N h2.biomarkers-30780-both_sexes-irnt.eur -V -cwd -pe smp 4 -o /frazer01/projects/CARDIPS/analysis/epigenome_resource/analyses/jennifer/ldsc/logs/h2.exp_peaks_together.biomarkers-30780-both_sexes-irnt.eur.out -e /frazer01/projects/CARDIPS/analysis/epigenome_resource/analyses/jennifer/ldsc/logs/h2.exp_peaks_together.biomarkers-30780-both_sexes-irnt.eur.err\n",
      "\n",
      "echo \"source /frazer01/home/jennifer/.bash_profile; source activate ldsc; python ~/software/ldsc/ldsc.py --h2 /frazer01/projects/CARDIPS/analysis/epigenome_resource/analyses/jennifer/ldsc/sumstats/biomarkers-30780-both_sexes-irnt.meta.hg38.hapmap.sumstats.gz --ref-ld-chr /projects/CARDIPS/analysis/epigenome_resource/analyses/jennifer/ldsc/annot/exp_peaks_together/,/projects/CARDIPS/analysis/epigenome_resource/analyses/jennifer/ldsc/reference/baseline_v1.2/baseline. --w-ld-chr /projects/CARDIPS/analysis/epigenome_resource/analyses/jennifer/ldsc/reference/weights/weights.hm3_noMHC. --overlap-annot --frqfile-chr /projects/CARDIPS/analysis/epigenome_resource/analyses/jennifer/ldsc/reference/1000G_Phase3_frq/1000G.EUR.QC. --out /frazer01/projects/CARDIPS/analysis/epigenome_resource/analyses/jennifer/ldsc/h2/exp_peaks_together/biomarkers-30780-both_sexes-irnt.meta.hg38.hapmap\" | qsub -N h2.biomarkers-30780-both_sexes-irnt.meta -V -cwd -pe smp 4 -o /frazer01/projects/CARDIPS/analysis/epigenome_resource/analyses/jennifer/ldsc/logs/h2.exp_peaks_together.biomarkers-30780-both_sexes-irnt.meta.out -e /frazer01/projects/CARDIPS/analysis/epigenome_resource/analyses/jennifer/ldsc/logs/h2.exp_peaks_together.biomarkers-30780-both_sexes-irnt.meta.err\n",
      "\n",
      "echo \"source /frazer01/home/jennifer/.bash_profile; source activate ldsc; python ~/software/ldsc/ldsc.py --h2 /frazer01/projects/CARDIPS/analysis/epigenome_resource/analyses/jennifer/ldsc/sumstats/BW3_EUR_summary_stats.hg38.hapmap.sumstats.gz --ref-ld-chr /projects/CARDIPS/analysis/epigenome_resource/analyses/jennifer/ldsc/annot/exp_peaks_together/,/projects/CARDIPS/analysis/epigenome_resource/analyses/jennifer/ldsc/reference/baseline_v1.2/baseline. --w-ld-chr /projects/CARDIPS/analysis/epigenome_resource/analyses/jennifer/ldsc/reference/weights/weights.hm3_noMHC. --overlap-annot --frqfile-chr /projects/CARDIPS/analysis/epigenome_resource/analyses/jennifer/ldsc/reference/1000G_Phase3_frq/1000G.EUR.QC. --out /frazer01/projects/CARDIPS/analysis/epigenome_resource/analyses/jennifer/ldsc/h2/exp_peaks_together/BW3_EUR_summary_stats.hg38.hapmap\" | qsub -N h2.BW3_EUR_summary_stats -V -cwd -pe smp 4 -o /frazer01/projects/CARDIPS/analysis/epigenome_resource/analyses/jennifer/ldsc/logs/h2.exp_peaks_together.BW3_EUR_summary_stats.out -e /frazer01/projects/CARDIPS/analysis/epigenome_resource/analyses/jennifer/ldsc/logs/h2.exp_peaks_together.BW3_EUR_summary_stats.err\n",
      "\n",
      "echo \"source /frazer01/home/jennifer/.bash_profile; source activate ldsc; python ~/software/ldsc/ldsc.py --h2 /frazer01/projects/CARDIPS/analysis/epigenome_resource/analyses/jennifer/ldsc/sumstats/BW3_Transethnic_summary_stats.hg38.hapmap.sumstats.gz --ref-ld-chr /projects/CARDIPS/analysis/epigenome_resource/analyses/jennifer/ldsc/annot/exp_peaks_together/,/projects/CARDIPS/analysis/epigenome_resource/analyses/jennifer/ldsc/reference/baseline_v1.2/baseline. --w-ld-chr /projects/CARDIPS/analysis/epigenome_resource/analyses/jennifer/ldsc/reference/weights/weights.hm3_noMHC. --overlap-annot --frqfile-chr /projects/CARDIPS/analysis/epigenome_resource/analyses/jennifer/ldsc/reference/1000G_Phase3_frq/1000G.EUR.QC. --out /frazer01/projects/CARDIPS/analysis/epigenome_resource/analyses/jennifer/ldsc/h2/exp_peaks_together/BW3_Transethnic_summary_stats.hg38.hapmap\" | qsub -N h2.BW3_Transethnic_summary_stats -V -cwd -pe smp 4 -o /frazer01/projects/CARDIPS/analysis/epigenome_resource/analyses/jennifer/ldsc/logs/h2.exp_peaks_together.BW3_Transethnic_summary_stats.out -e /frazer01/projects/CARDIPS/analysis/epigenome_resource/analyses/jennifer/ldsc/logs/h2.exp_peaks_together.BW3_Transethnic_summary_stats.err\n",
      "\n",
      "echo \"source /frazer01/home/jennifer/.bash_profile; source activate ldsc; python ~/software/ldsc/ldsc.py --h2 /frazer01/projects/CARDIPS/analysis/epigenome_resource/analyses/jennifer/ldsc/sumstats/categorical-20001-both_sexes-1048.eur.hg38.hapmap.sumstats.gz --ref-ld-chr /projects/CARDIPS/analysis/epigenome_resource/analyses/jennifer/ldsc/annot/exp_peaks_together/,/projects/CARDIPS/analysis/epigenome_resource/analyses/jennifer/ldsc/reference/baseline_v1.2/baseline. --w-ld-chr /projects/CARDIPS/analysis/epigenome_resource/analyses/jennifer/ldsc/reference/weights/weights.hm3_noMHC. --overlap-annot --frqfile-chr /projects/CARDIPS/analysis/epigenome_resource/analyses/jennifer/ldsc/reference/1000G_Phase3_frq/1000G.EUR.QC. --out /frazer01/projects/CARDIPS/analysis/epigenome_resource/analyses/jennifer/ldsc/h2/exp_peaks_together/categorical-20001-both_sexes-1048.eur.hg38.hapmap\" | qsub -N h2.categorical-20001-both_sexes-1048.eur -V -cwd -pe smp 4 -o /frazer01/projects/CARDIPS/analysis/epigenome_resource/analyses/jennifer/ldsc/logs/h2.exp_peaks_together.categorical-20001-both_sexes-1048.eur.out -e /frazer01/projects/CARDIPS/analysis/epigenome_resource/analyses/jennifer/ldsc/logs/h2.exp_peaks_together.categorical-20001-both_sexes-1048.eur.err\n",
      "\n",
      "echo \"source /frazer01/home/jennifer/.bash_profile; source activate ldsc; python ~/software/ldsc/ldsc.py --h2 /frazer01/projects/CARDIPS/analysis/epigenome_resource/analyses/jennifer/ldsc/sumstats/categorical-20002-both_sexes-1313.eur.hg38.hapmap.sumstats.gz --ref-ld-chr /projects/CARDIPS/analysis/epigenome_resource/analyses/jennifer/ldsc/annot/exp_peaks_together/,/projects/CARDIPS/analysis/epigenome_resource/analyses/jennifer/ldsc/reference/baseline_v1.2/baseline. --w-ld-chr /projects/CARDIPS/analysis/epigenome_resource/analyses/jennifer/ldsc/reference/weights/weights.hm3_noMHC. --overlap-annot --frqfile-chr /projects/CARDIPS/analysis/epigenome_resource/analyses/jennifer/ldsc/reference/1000G_Phase3_frq/1000G.EUR.QC. --out /frazer01/projects/CARDIPS/analysis/epigenome_resource/analyses/jennifer/ldsc/h2/exp_peaks_together/categorical-20002-both_sexes-1313.eur.hg38.hapmap\" | qsub -N h2.categorical-20002-both_sexes-1313.eur -V -cwd -pe smp 4 -o /frazer01/projects/CARDIPS/analysis/epigenome_resource/analyses/jennifer/ldsc/logs/h2.exp_peaks_together.categorical-20002-both_sexes-1313.eur.out -e /frazer01/projects/CARDIPS/analysis/epigenome_resource/analyses/jennifer/ldsc/logs/h2.exp_peaks_together.categorical-20002-both_sexes-1313.eur.err\n",
      "\n",
      "echo \"source /frazer01/home/jennifer/.bash_profile; source activate ldsc; python ~/software/ldsc/ldsc.py --h2 /frazer01/projects/CARDIPS/analysis/epigenome_resource/analyses/jennifer/ldsc/sumstats/CHILDHOOD_OBESITY.eur.hg38.hapmap.sumstats.gz --ref-ld-chr /projects/CARDIPS/analysis/epigenome_resource/analyses/jennifer/ldsc/annot/exp_peaks_together/,/projects/CARDIPS/analysis/epigenome_resource/analyses/jennifer/ldsc/reference/baseline_v1.2/baseline. --w-ld-chr /projects/CARDIPS/analysis/epigenome_resource/analyses/jennifer/ldsc/reference/weights/weights.hm3_noMHC. --overlap-annot --frqfile-chr /projects/CARDIPS/analysis/epigenome_resource/analyses/jennifer/ldsc/reference/1000G_Phase3_frq/1000G.EUR.QC. --out /frazer01/projects/CARDIPS/analysis/epigenome_resource/analyses/jennifer/ldsc/h2/exp_peaks_together/CHILDHOOD_OBESITY.eur.hg38.hapmap\" | qsub -N h2.CHILDHOOD_OBESITY.eur -V -cwd -pe smp 4 -o /frazer01/projects/CARDIPS/analysis/epigenome_resource/analyses/jennifer/ldsc/logs/h2.exp_peaks_together.CHILDHOOD_OBESITY.eur.out -e /frazer01/projects/CARDIPS/analysis/epigenome_resource/analyses/jennifer/ldsc/logs/h2.exp_peaks_together.CHILDHOOD_OBESITY.eur.err\n",
      "\n",
      "echo \"source /frazer01/home/jennifer/.bash_profile; source activate ldsc; python ~/software/ldsc/ldsc.py --h2 /frazer01/projects/CARDIPS/analysis/epigenome_resource/analyses/jennifer/ldsc/sumstats/continuous-12336-both_sexes-irnt.eur.hg38.hapmap.sumstats.gz --ref-ld-chr /projects/CARDIPS/analysis/epigenome_resource/analyses/jennifer/ldsc/annot/exp_peaks_together/,/projects/CARDIPS/analysis/epigenome_resource/analyses/jennifer/ldsc/reference/baseline_v1.2/baseline. --w-ld-chr /projects/CARDIPS/analysis/epigenome_resource/analyses/jennifer/ldsc/reference/weights/weights.hm3_noMHC. --overlap-annot --frqfile-chr /projects/CARDIPS/analysis/epigenome_resource/analyses/jennifer/ldsc/reference/1000G_Phase3_frq/1000G.EUR.QC. --out /frazer01/projects/CARDIPS/analysis/epigenome_resource/analyses/jennifer/ldsc/h2/exp_peaks_together/continuous-12336-both_sexes-irnt.eur.hg38.hapmap\" | qsub -N h2.continuous-12336-both_sexes-irnt.eur -V -cwd -pe smp 4 -o /frazer01/projects/CARDIPS/analysis/epigenome_resource/analyses/jennifer/ldsc/logs/h2.exp_peaks_together.continuous-12336-both_sexes-irnt.eur.out -e /frazer01/projects/CARDIPS/analysis/epigenome_resource/analyses/jennifer/ldsc/logs/h2.exp_peaks_together.continuous-12336-both_sexes-irnt.eur.err\n",
      "\n",
      "echo \"source /frazer01/home/jennifer/.bash_profile; source activate ldsc; python ~/software/ldsc/ldsc.py --h2 /frazer01/projects/CARDIPS/analysis/epigenome_resource/analyses/jennifer/ldsc/sumstats/continuous-12336-both_sexes-irnt.meta.hg38.hapmap.sumstats.gz --ref-ld-chr /projects/CARDIPS/analysis/epigenome_resource/analyses/jennifer/ldsc/annot/exp_peaks_together/,/projects/CARDIPS/analysis/epigenome_resource/analyses/jennifer/ldsc/reference/baseline_v1.2/baseline. --w-ld-chr /projects/CARDIPS/analysis/epigenome_resource/analyses/jennifer/ldsc/reference/weights/weights.hm3_noMHC. --overlap-annot --frqfile-chr /projects/CARDIPS/analysis/epigenome_resource/analyses/jennifer/ldsc/reference/1000G_Phase3_frq/1000G.EUR.QC. --out /frazer01/projects/CARDIPS/analysis/epigenome_resource/analyses/jennifer/ldsc/h2/exp_peaks_together/continuous-12336-both_sexes-irnt.meta.hg38.hapmap\" | qsub -N h2.continuous-12336-both_sexes-irnt.meta -V -cwd -pe smp 4 -o /frazer01/projects/CARDIPS/analysis/epigenome_resource/analyses/jennifer/ldsc/logs/h2.exp_peaks_together.continuous-12336-both_sexes-irnt.meta.out -e /frazer01/projects/CARDIPS/analysis/epigenome_resource/analyses/jennifer/ldsc/logs/h2.exp_peaks_together.continuous-12336-both_sexes-irnt.meta.err\n",
      "\n",
      "echo \"source /frazer01/home/jennifer/.bash_profile; source activate ldsc; python ~/software/ldsc/ldsc.py --h2 /frazer01/projects/CARDIPS/analysis/epigenome_resource/analyses/jennifer/ldsc/sumstats/continuous-12338-both_sexes-irnt.eur.hg38.hapmap.sumstats.gz --ref-ld-chr /projects/CARDIPS/analysis/epigenome_resource/analyses/jennifer/ldsc/annot/exp_peaks_together/,/projects/CARDIPS/analysis/epigenome_resource/analyses/jennifer/ldsc/reference/baseline_v1.2/baseline. --w-ld-chr /projects/CARDIPS/analysis/epigenome_resource/analyses/jennifer/ldsc/reference/weights/weights.hm3_noMHC. --overlap-annot --frqfile-chr /projects/CARDIPS/analysis/epigenome_resource/analyses/jennifer/ldsc/reference/1000G_Phase3_frq/1000G.EUR.QC. --out /frazer01/projects/CARDIPS/analysis/epigenome_resource/analyses/jennifer/ldsc/h2/exp_peaks_together/continuous-12338-both_sexes-irnt.eur.hg38.hapmap\" | qsub -N h2.continuous-12338-both_sexes-irnt.eur -V -cwd -pe smp 4 -o /frazer01/projects/CARDIPS/analysis/epigenome_resource/analyses/jennifer/ldsc/logs/h2.exp_peaks_together.continuous-12338-both_sexes-irnt.eur.out -e /frazer01/projects/CARDIPS/analysis/epigenome_resource/analyses/jennifer/ldsc/logs/h2.exp_peaks_together.continuous-12338-both_sexes-irnt.eur.err\n",
      "\n",
      "echo \"source /frazer01/home/jennifer/.bash_profile; source activate ldsc; python ~/software/ldsc/ldsc.py --h2 /frazer01/projects/CARDIPS/analysis/epigenome_resource/analyses/jennifer/ldsc/sumstats/continuous-12338-both_sexes-irnt.meta.hg38.hapmap.sumstats.gz --ref-ld-chr /projects/CARDIPS/analysis/epigenome_resource/analyses/jennifer/ldsc/annot/exp_peaks_together/,/projects/CARDIPS/analysis/epigenome_resource/analyses/jennifer/ldsc/reference/baseline_v1.2/baseline. --w-ld-chr /projects/CARDIPS/analysis/epigenome_resource/analyses/jennifer/ldsc/reference/weights/weights.hm3_noMHC. --overlap-annot --frqfile-chr /projects/CARDIPS/analysis/epigenome_resource/analyses/jennifer/ldsc/reference/1000G_Phase3_frq/1000G.EUR.QC. --out /frazer01/projects/CARDIPS/analysis/epigenome_resource/analyses/jennifer/ldsc/h2/exp_peaks_together/continuous-12338-both_sexes-irnt.meta.hg38.hapmap\" | qsub -N h2.continuous-12338-both_sexes-irnt.meta -V -cwd -pe smp 4 -o /frazer01/projects/CARDIPS/analysis/epigenome_resource/analyses/jennifer/ldsc/logs/h2.exp_peaks_together.continuous-12338-both_sexes-irnt.meta.out -e /frazer01/projects/CARDIPS/analysis/epigenome_resource/analyses/jennifer/ldsc/logs/h2.exp_peaks_together.continuous-12338-both_sexes-irnt.meta.err\n",
      "\n",
      "echo \"source /frazer01/home/jennifer/.bash_profile; source activate ldsc; python ~/software/ldsc/ldsc.py --h2 /frazer01/projects/CARDIPS/analysis/epigenome_resource/analyses/jennifer/ldsc/sumstats/continuous-12340-both_sexes-irnt.eur.hg38.hapmap.sumstats.gz --ref-ld-chr /projects/CARDIPS/analysis/epigenome_resource/analyses/jennifer/ldsc/annot/exp_peaks_together/,/projects/CARDIPS/analysis/epigenome_resource/analyses/jennifer/ldsc/reference/baseline_v1.2/baseline. --w-ld-chr /projects/CARDIPS/analysis/epigenome_resource/analyses/jennifer/ldsc/reference/weights/weights.hm3_noMHC. --overlap-annot --frqfile-chr /projects/CARDIPS/analysis/epigenome_resource/analyses/jennifer/ldsc/reference/1000G_Phase3_frq/1000G.EUR.QC. --out /frazer01/projects/CARDIPS/analysis/epigenome_resource/analyses/jennifer/ldsc/h2/exp_peaks_together/continuous-12340-both_sexes-irnt.eur.hg38.hapmap\" | qsub -N h2.continuous-12340-both_sexes-irnt.eur -V -cwd -pe smp 4 -o /frazer01/projects/CARDIPS/analysis/epigenome_resource/analyses/jennifer/ldsc/logs/h2.exp_peaks_together.continuous-12340-both_sexes-irnt.eur.out -e /frazer01/projects/CARDIPS/analysis/epigenome_resource/analyses/jennifer/ldsc/logs/h2.exp_peaks_together.continuous-12340-both_sexes-irnt.eur.err\n",
      "\n",
      "echo \"source /frazer01/home/jennifer/.bash_profile; source activate ldsc; python ~/software/ldsc/ldsc.py --h2 /frazer01/projects/CARDIPS/analysis/epigenome_resource/analyses/jennifer/ldsc/sumstats/continuous-12340-both_sexes-irnt.meta.hg38.hapmap.sumstats.gz --ref-ld-chr /projects/CARDIPS/analysis/epigenome_resource/analyses/jennifer/ldsc/annot/exp_peaks_together/,/projects/CARDIPS/analysis/epigenome_resource/analyses/jennifer/ldsc/reference/baseline_v1.2/baseline. --w-ld-chr /projects/CARDIPS/analysis/epigenome_resource/analyses/jennifer/ldsc/reference/weights/weights.hm3_noMHC. --overlap-annot --frqfile-chr /projects/CARDIPS/analysis/epigenome_resource/analyses/jennifer/ldsc/reference/1000G_Phase3_frq/1000G.EUR.QC. --out /frazer01/projects/CARDIPS/analysis/epigenome_resource/analyses/jennifer/ldsc/h2/exp_peaks_together/continuous-12340-both_sexes-irnt.meta.hg38.hapmap\" | qsub -N h2.continuous-12340-both_sexes-irnt.meta -V -cwd -pe smp 4 -o /frazer01/projects/CARDIPS/analysis/epigenome_resource/analyses/jennifer/ldsc/logs/h2.exp_peaks_together.continuous-12340-both_sexes-irnt.meta.out -e /frazer01/projects/CARDIPS/analysis/epigenome_resource/analyses/jennifer/ldsc/logs/h2.exp_peaks_together.continuous-12340-both_sexes-irnt.meta.err\n",
      "\n",
      "echo \"source /frazer01/home/jennifer/.bash_profile; source activate ldsc; python ~/software/ldsc/ldsc.py --h2 /frazer01/projects/CARDIPS/analysis/epigenome_resource/analyses/jennifer/ldsc/sumstats/continuous-20022-both_sexes-irnt.eur.hg38.hapmap.sumstats.gz --ref-ld-chr /projects/CARDIPS/analysis/epigenome_resource/analyses/jennifer/ldsc/annot/exp_peaks_together/,/projects/CARDIPS/analysis/epigenome_resource/analyses/jennifer/ldsc/reference/baseline_v1.2/baseline. --w-ld-chr /projects/CARDIPS/analysis/epigenome_resource/analyses/jennifer/ldsc/reference/weights/weights.hm3_noMHC. --overlap-annot --frqfile-chr /projects/CARDIPS/analysis/epigenome_resource/analyses/jennifer/ldsc/reference/1000G_Phase3_frq/1000G.EUR.QC. --out /frazer01/projects/CARDIPS/analysis/epigenome_resource/analyses/jennifer/ldsc/h2/exp_peaks_together/continuous-20022-both_sexes-irnt.eur.hg38.hapmap\" | qsub -N h2.continuous-20022-both_sexes-irnt.eur -V -cwd -pe smp 4 -o /frazer01/projects/CARDIPS/analysis/epigenome_resource/analyses/jennifer/ldsc/logs/h2.exp_peaks_together.continuous-20022-both_sexes-irnt.eur.out -e /frazer01/projects/CARDIPS/analysis/epigenome_resource/analyses/jennifer/ldsc/logs/h2.exp_peaks_together.continuous-20022-both_sexes-irnt.eur.err\n",
      "\n",
      "echo \"source /frazer01/home/jennifer/.bash_profile; source activate ldsc; python ~/software/ldsc/ldsc.py --h2 /frazer01/projects/CARDIPS/analysis/epigenome_resource/analyses/jennifer/ldsc/sumstats/continuous-20022-both_sexes-irnt.meta.hg38.hapmap.sumstats.gz --ref-ld-chr /projects/CARDIPS/analysis/epigenome_resource/analyses/jennifer/ldsc/annot/exp_peaks_together/,/projects/CARDIPS/analysis/epigenome_resource/analyses/jennifer/ldsc/reference/baseline_v1.2/baseline. --w-ld-chr /projects/CARDIPS/analysis/epigenome_resource/analyses/jennifer/ldsc/reference/weights/weights.hm3_noMHC. --overlap-annot --frqfile-chr /projects/CARDIPS/analysis/epigenome_resource/analyses/jennifer/ldsc/reference/1000G_Phase3_frq/1000G.EUR.QC. --out /frazer01/projects/CARDIPS/analysis/epigenome_resource/analyses/jennifer/ldsc/h2/exp_peaks_together/continuous-20022-both_sexes-irnt.meta.hg38.hapmap\" | qsub -N h2.continuous-20022-both_sexes-irnt.meta -V -cwd -pe smp 4 -o /frazer01/projects/CARDIPS/analysis/epigenome_resource/analyses/jennifer/ldsc/logs/h2.exp_peaks_together.continuous-20022-both_sexes-irnt.meta.out -e /frazer01/projects/CARDIPS/analysis/epigenome_resource/analyses/jennifer/ldsc/logs/h2.exp_peaks_together.continuous-20022-both_sexes-irnt.meta.err\n",
      "\n",
      "echo \"source /frazer01/home/jennifer/.bash_profile; source activate ldsc; python ~/software/ldsc/ldsc.py --h2 /frazer01/projects/CARDIPS/analysis/epigenome_resource/analyses/jennifer/ldsc/sumstats/continuous-21001-both_sexes-irnt.eur.hg38.hapmap.sumstats.gz --ref-ld-chr /projects/CARDIPS/analysis/epigenome_resource/analyses/jennifer/ldsc/annot/exp_peaks_together/,/projects/CARDIPS/analysis/epigenome_resource/analyses/jennifer/ldsc/reference/baseline_v1.2/baseline. --w-ld-chr /projects/CARDIPS/analysis/epigenome_resource/analyses/jennifer/ldsc/reference/weights/weights.hm3_noMHC. --overlap-annot --frqfile-chr /projects/CARDIPS/analysis/epigenome_resource/analyses/jennifer/ldsc/reference/1000G_Phase3_frq/1000G.EUR.QC. --out /frazer01/projects/CARDIPS/analysis/epigenome_resource/analyses/jennifer/ldsc/h2/exp_peaks_together/continuous-21001-both_sexes-irnt.eur.hg38.hapmap\" | qsub -N h2.continuous-21001-both_sexes-irnt.eur -V -cwd -pe smp 4 -o /frazer01/projects/CARDIPS/analysis/epigenome_resource/analyses/jennifer/ldsc/logs/h2.exp_peaks_together.continuous-21001-both_sexes-irnt.eur.out -e /frazer01/projects/CARDIPS/analysis/epigenome_resource/analyses/jennifer/ldsc/logs/h2.exp_peaks_together.continuous-21001-both_sexes-irnt.eur.err\n",
      "\n",
      "echo \"source /frazer01/home/jennifer/.bash_profile; source activate ldsc; python ~/software/ldsc/ldsc.py --h2 /frazer01/projects/CARDIPS/analysis/epigenome_resource/analyses/jennifer/ldsc/sumstats/continuous-21001-both_sexes-irnt.meta.hg38.hapmap.sumstats.gz --ref-ld-chr /projects/CARDIPS/analysis/epigenome_resource/analyses/jennifer/ldsc/annot/exp_peaks_together/,/projects/CARDIPS/analysis/epigenome_resource/analyses/jennifer/ldsc/reference/baseline_v1.2/baseline. --w-ld-chr /projects/CARDIPS/analysis/epigenome_resource/analyses/jennifer/ldsc/reference/weights/weights.hm3_noMHC. --overlap-annot --frqfile-chr /projects/CARDIPS/analysis/epigenome_resource/analyses/jennifer/ldsc/reference/1000G_Phase3_frq/1000G.EUR.QC. --out /frazer01/projects/CARDIPS/analysis/epigenome_resource/analyses/jennifer/ldsc/h2/exp_peaks_together/continuous-21001-both_sexes-irnt.meta.hg38.hapmap\" | qsub -N h2.continuous-21001-both_sexes-irnt.meta -V -cwd -pe smp 4 -o /frazer01/projects/CARDIPS/analysis/epigenome_resource/analyses/jennifer/ldsc/logs/h2.exp_peaks_together.continuous-21001-both_sexes-irnt.meta.out -e /frazer01/projects/CARDIPS/analysis/epigenome_resource/analyses/jennifer/ldsc/logs/h2.exp_peaks_together.continuous-21001-both_sexes-irnt.meta.err\n",
      "\n",
      "echo \"source /frazer01/home/jennifer/.bash_profile; source activate ldsc; python ~/software/ldsc/ldsc.py --h2 /frazer01/projects/CARDIPS/analysis/epigenome_resource/analyses/jennifer/ldsc/sumstats/continuous-21002-both_sexes-irnt.eur.hg38.hapmap.sumstats.gz --ref-ld-chr /projects/CARDIPS/analysis/epigenome_resource/analyses/jennifer/ldsc/annot/exp_peaks_together/,/projects/CARDIPS/analysis/epigenome_resource/analyses/jennifer/ldsc/reference/baseline_v1.2/baseline. --w-ld-chr /projects/CARDIPS/analysis/epigenome_resource/analyses/jennifer/ldsc/reference/weights/weights.hm3_noMHC. --overlap-annot --frqfile-chr /projects/CARDIPS/analysis/epigenome_resource/analyses/jennifer/ldsc/reference/1000G_Phase3_frq/1000G.EUR.QC. --out /frazer01/projects/CARDIPS/analysis/epigenome_resource/analyses/jennifer/ldsc/h2/exp_peaks_together/continuous-21002-both_sexes-irnt.eur.hg38.hapmap\" | qsub -N h2.continuous-21002-both_sexes-irnt.eur -V -cwd -pe smp 4 -o /frazer01/projects/CARDIPS/analysis/epigenome_resource/analyses/jennifer/ldsc/logs/h2.exp_peaks_together.continuous-21002-both_sexes-irnt.eur.out -e /frazer01/projects/CARDIPS/analysis/epigenome_resource/analyses/jennifer/ldsc/logs/h2.exp_peaks_together.continuous-21002-both_sexes-irnt.eur.err\n",
      "\n",
      "echo \"source /frazer01/home/jennifer/.bash_profile; source activate ldsc; python ~/software/ldsc/ldsc.py --h2 /frazer01/projects/CARDIPS/analysis/epigenome_resource/analyses/jennifer/ldsc/sumstats/continuous-21002-both_sexes-irnt.meta.hg38.hapmap.sumstats.gz --ref-ld-chr /projects/CARDIPS/analysis/epigenome_resource/analyses/jennifer/ldsc/annot/exp_peaks_together/,/projects/CARDIPS/analysis/epigenome_resource/analyses/jennifer/ldsc/reference/baseline_v1.2/baseline. --w-ld-chr /projects/CARDIPS/analysis/epigenome_resource/analyses/jennifer/ldsc/reference/weights/weights.hm3_noMHC. --overlap-annot --frqfile-chr /projects/CARDIPS/analysis/epigenome_resource/analyses/jennifer/ldsc/reference/1000G_Phase3_frq/1000G.EUR.QC. --out /frazer01/projects/CARDIPS/analysis/epigenome_resource/analyses/jennifer/ldsc/h2/exp_peaks_together/continuous-21002-both_sexes-irnt.meta.hg38.hapmap\" | qsub -N h2.continuous-21002-both_sexes-irnt.meta -V -cwd -pe smp 4 -o /frazer01/projects/CARDIPS/analysis/epigenome_resource/analyses/jennifer/ldsc/logs/h2.exp_peaks_together.continuous-21002-both_sexes-irnt.meta.out -e /frazer01/projects/CARDIPS/analysis/epigenome_resource/analyses/jennifer/ldsc/logs/h2.exp_peaks_together.continuous-21002-both_sexes-irnt.meta.err\n",
      "\n",
      "echo \"source /frazer01/home/jennifer/.bash_profile; source activate ldsc; python ~/software/ldsc/ldsc.py --h2 /frazer01/projects/CARDIPS/analysis/epigenome_resource/analyses/jennifer/ldsc/sumstats/continuous-23104-both_sexes-irnt.eur.hg38.hapmap.sumstats.gz --ref-ld-chr /projects/CARDIPS/analysis/epigenome_resource/analyses/jennifer/ldsc/annot/exp_peaks_together/,/projects/CARDIPS/analysis/epigenome_resource/analyses/jennifer/ldsc/reference/baseline_v1.2/baseline. --w-ld-chr /projects/CARDIPS/analysis/epigenome_resource/analyses/jennifer/ldsc/reference/weights/weights.hm3_noMHC. --overlap-annot --frqfile-chr /projects/CARDIPS/analysis/epigenome_resource/analyses/jennifer/ldsc/reference/1000G_Phase3_frq/1000G.EUR.QC. --out /frazer01/projects/CARDIPS/analysis/epigenome_resource/analyses/jennifer/ldsc/h2/exp_peaks_together/continuous-23104-both_sexes-irnt.eur.hg38.hapmap\" | qsub -N h2.continuous-23104-both_sexes-irnt.eur -V -cwd -pe smp 4 -o /frazer01/projects/CARDIPS/analysis/epigenome_resource/analyses/jennifer/ldsc/logs/h2.exp_peaks_together.continuous-23104-both_sexes-irnt.eur.out -e /frazer01/projects/CARDIPS/analysis/epigenome_resource/analyses/jennifer/ldsc/logs/h2.exp_peaks_together.continuous-23104-both_sexes-irnt.eur.err\n",
      "\n",
      "echo \"source /frazer01/home/jennifer/.bash_profile; source activate ldsc; python ~/software/ldsc/ldsc.py --h2 /frazer01/projects/CARDIPS/analysis/epigenome_resource/analyses/jennifer/ldsc/sumstats/continuous-23104-both_sexes-irnt.meta.hg38.hapmap.sumstats.gz --ref-ld-chr /projects/CARDIPS/analysis/epigenome_resource/analyses/jennifer/ldsc/annot/exp_peaks_together/,/projects/CARDIPS/analysis/epigenome_resource/analyses/jennifer/ldsc/reference/baseline_v1.2/baseline. --w-ld-chr /projects/CARDIPS/analysis/epigenome_resource/analyses/jennifer/ldsc/reference/weights/weights.hm3_noMHC. --overlap-annot --frqfile-chr /projects/CARDIPS/analysis/epigenome_resource/analyses/jennifer/ldsc/reference/1000G_Phase3_frq/1000G.EUR.QC. --out /frazer01/projects/CARDIPS/analysis/epigenome_resource/analyses/jennifer/ldsc/h2/exp_peaks_together/continuous-23104-both_sexes-irnt.meta.hg38.hapmap\" | qsub -N h2.continuous-23104-both_sexes-irnt.meta -V -cwd -pe smp 4 -o /frazer01/projects/CARDIPS/analysis/epigenome_resource/analyses/jennifer/ldsc/logs/h2.exp_peaks_together.continuous-23104-both_sexes-irnt.meta.out -e /frazer01/projects/CARDIPS/analysis/epigenome_resource/analyses/jennifer/ldsc/logs/h2.exp_peaks_together.continuous-23104-both_sexes-irnt.meta.err\n",
      "\n",
      "echo \"source /frazer01/home/jennifer/.bash_profile; source activate ldsc; python ~/software/ldsc/ldsc.py --h2 /frazer01/projects/CARDIPS/analysis/epigenome_resource/analyses/jennifer/ldsc/sumstats/continuous-30000-both_sexes-irnt.meta.hg38.hapmap.sumstats.gz --ref-ld-chr /projects/CARDIPS/analysis/epigenome_resource/analyses/jennifer/ldsc/annot/exp_peaks_together/,/projects/CARDIPS/analysis/epigenome_resource/analyses/jennifer/ldsc/reference/baseline_v1.2/baseline. --w-ld-chr /projects/CARDIPS/analysis/epigenome_resource/analyses/jennifer/ldsc/reference/weights/weights.hm3_noMHC. --overlap-annot --frqfile-chr /projects/CARDIPS/analysis/epigenome_resource/analyses/jennifer/ldsc/reference/1000G_Phase3_frq/1000G.EUR.QC. --out /frazer01/projects/CARDIPS/analysis/epigenome_resource/analyses/jennifer/ldsc/h2/exp_peaks_together/continuous-30000-both_sexes-irnt.meta.hg38.hapmap\" | qsub -N h2.continuous-30000-both_sexes-irnt.meta -V -cwd -pe smp 4 -o /frazer01/projects/CARDIPS/analysis/epigenome_resource/analyses/jennifer/ldsc/logs/h2.exp_peaks_together.continuous-30000-both_sexes-irnt.meta.out -e /frazer01/projects/CARDIPS/analysis/epigenome_resource/analyses/jennifer/ldsc/logs/h2.exp_peaks_together.continuous-30000-both_sexes-irnt.meta.err\n",
      "\n",
      "echo \"source /frazer01/home/jennifer/.bash_profile; source activate ldsc; python ~/software/ldsc/ldsc.py --h2 /frazer01/projects/CARDIPS/analysis/epigenome_resource/analyses/jennifer/ldsc/sumstats/continuous-30010-both_sexes-irnt.meta.hg38.hapmap.sumstats.gz --ref-ld-chr /projects/CARDIPS/analysis/epigenome_resource/analyses/jennifer/ldsc/annot/exp_peaks_together/,/projects/CARDIPS/analysis/epigenome_resource/analyses/jennifer/ldsc/reference/baseline_v1.2/baseline. --w-ld-chr /projects/CARDIPS/analysis/epigenome_resource/analyses/jennifer/ldsc/reference/weights/weights.hm3_noMHC. --overlap-annot --frqfile-chr /projects/CARDIPS/analysis/epigenome_resource/analyses/jennifer/ldsc/reference/1000G_Phase3_frq/1000G.EUR.QC. --out /frazer01/projects/CARDIPS/analysis/epigenome_resource/analyses/jennifer/ldsc/h2/exp_peaks_together/continuous-30010-both_sexes-irnt.meta.hg38.hapmap\" | qsub -N h2.continuous-30010-both_sexes-irnt.meta -V -cwd -pe smp 4 -o /frazer01/projects/CARDIPS/analysis/epigenome_resource/analyses/jennifer/ldsc/logs/h2.exp_peaks_together.continuous-30010-both_sexes-irnt.meta.out -e /frazer01/projects/CARDIPS/analysis/epigenome_resource/analyses/jennifer/ldsc/logs/h2.exp_peaks_together.continuous-30010-both_sexes-irnt.meta.err\n",
      "\n",
      "echo \"source /frazer01/home/jennifer/.bash_profile; source activate ldsc; python ~/software/ldsc/ldsc.py --h2 /frazer01/projects/CARDIPS/analysis/epigenome_resource/analyses/jennifer/ldsc/sumstats/continuous-30020-both_sexes-irnt.meta.hg38.hapmap.sumstats.gz --ref-ld-chr /projects/CARDIPS/analysis/epigenome_resource/analyses/jennifer/ldsc/annot/exp_peaks_together/,/projects/CARDIPS/analysis/epigenome_resource/analyses/jennifer/ldsc/reference/baseline_v1.2/baseline. --w-ld-chr /projects/CARDIPS/analysis/epigenome_resource/analyses/jennifer/ldsc/reference/weights/weights.hm3_noMHC. --overlap-annot --frqfile-chr /projects/CARDIPS/analysis/epigenome_resource/analyses/jennifer/ldsc/reference/1000G_Phase3_frq/1000G.EUR.QC. --out /frazer01/projects/CARDIPS/analysis/epigenome_resource/analyses/jennifer/ldsc/h2/exp_peaks_together/continuous-30020-both_sexes-irnt.meta.hg38.hapmap\" | qsub -N h2.continuous-30020-both_sexes-irnt.meta -V -cwd -pe smp 4 -o /frazer01/projects/CARDIPS/analysis/epigenome_resource/analyses/jennifer/ldsc/logs/h2.exp_peaks_together.continuous-30020-both_sexes-irnt.meta.out -e /frazer01/projects/CARDIPS/analysis/epigenome_resource/analyses/jennifer/ldsc/logs/h2.exp_peaks_together.continuous-30020-both_sexes-irnt.meta.err\n",
      "\n",
      "echo \"source /frazer01/home/jennifer/.bash_profile; source activate ldsc; python ~/software/ldsc/ldsc.py --h2 /frazer01/projects/CARDIPS/analysis/epigenome_resource/analyses/jennifer/ldsc/sumstats/continuous-30030-both_sexes-irnt.meta.hg38.hapmap.sumstats.gz --ref-ld-chr /projects/CARDIPS/analysis/epigenome_resource/analyses/jennifer/ldsc/annot/exp_peaks_together/,/projects/CARDIPS/analysis/epigenome_resource/analyses/jennifer/ldsc/reference/baseline_v1.2/baseline. --w-ld-chr /projects/CARDIPS/analysis/epigenome_resource/analyses/jennifer/ldsc/reference/weights/weights.hm3_noMHC. --overlap-annot --frqfile-chr /projects/CARDIPS/analysis/epigenome_resource/analyses/jennifer/ldsc/reference/1000G_Phase3_frq/1000G.EUR.QC. --out /frazer01/projects/CARDIPS/analysis/epigenome_resource/analyses/jennifer/ldsc/h2/exp_peaks_together/continuous-30030-both_sexes-irnt.meta.hg38.hapmap\" | qsub -N h2.continuous-30030-both_sexes-irnt.meta -V -cwd -pe smp 4 -o /frazer01/projects/CARDIPS/analysis/epigenome_resource/analyses/jennifer/ldsc/logs/h2.exp_peaks_together.continuous-30030-both_sexes-irnt.meta.out -e /frazer01/projects/CARDIPS/analysis/epigenome_resource/analyses/jennifer/ldsc/logs/h2.exp_peaks_together.continuous-30030-both_sexes-irnt.meta.err\n",
      "\n",
      "echo \"source /frazer01/home/jennifer/.bash_profile; source activate ldsc; python ~/software/ldsc/ldsc.py --h2 /frazer01/projects/CARDIPS/analysis/epigenome_resource/analyses/jennifer/ldsc/sumstats/continuous-30040-both_sexes-irnt.meta.hg38.hapmap.sumstats.gz --ref-ld-chr /projects/CARDIPS/analysis/epigenome_resource/analyses/jennifer/ldsc/annot/exp_peaks_together/,/projects/CARDIPS/analysis/epigenome_resource/analyses/jennifer/ldsc/reference/baseline_v1.2/baseline. --w-ld-chr /projects/CARDIPS/analysis/epigenome_resource/analyses/jennifer/ldsc/reference/weights/weights.hm3_noMHC. --overlap-annot --frqfile-chr /projects/CARDIPS/analysis/epigenome_resource/analyses/jennifer/ldsc/reference/1000G_Phase3_frq/1000G.EUR.QC. --out /frazer01/projects/CARDIPS/analysis/epigenome_resource/analyses/jennifer/ldsc/h2/exp_peaks_together/continuous-30040-both_sexes-irnt.meta.hg38.hapmap\" | qsub -N h2.continuous-30040-both_sexes-irnt.meta -V -cwd -pe smp 4 -o /frazer01/projects/CARDIPS/analysis/epigenome_resource/analyses/jennifer/ldsc/logs/h2.exp_peaks_together.continuous-30040-both_sexes-irnt.meta.out -e /frazer01/projects/CARDIPS/analysis/epigenome_resource/analyses/jennifer/ldsc/logs/h2.exp_peaks_together.continuous-30040-both_sexes-irnt.meta.err\n",
      "\n",
      "echo \"source /frazer01/home/jennifer/.bash_profile; source activate ldsc; python ~/software/ldsc/ldsc.py --h2 /frazer01/projects/CARDIPS/analysis/epigenome_resource/analyses/jennifer/ldsc/sumstats/continuous-30050-both_sexes-irnt.meta.hg38.hapmap.sumstats.gz --ref-ld-chr /projects/CARDIPS/analysis/epigenome_resource/analyses/jennifer/ldsc/annot/exp_peaks_together/,/projects/CARDIPS/analysis/epigenome_resource/analyses/jennifer/ldsc/reference/baseline_v1.2/baseline. --w-ld-chr /projects/CARDIPS/analysis/epigenome_resource/analyses/jennifer/ldsc/reference/weights/weights.hm3_noMHC. --overlap-annot --frqfile-chr /projects/CARDIPS/analysis/epigenome_resource/analyses/jennifer/ldsc/reference/1000G_Phase3_frq/1000G.EUR.QC. --out /frazer01/projects/CARDIPS/analysis/epigenome_resource/analyses/jennifer/ldsc/h2/exp_peaks_together/continuous-30050-both_sexes-irnt.meta.hg38.hapmap\" | qsub -N h2.continuous-30050-both_sexes-irnt.meta -V -cwd -pe smp 4 -o /frazer01/projects/CARDIPS/analysis/epigenome_resource/analyses/jennifer/ldsc/logs/h2.exp_peaks_together.continuous-30050-both_sexes-irnt.meta.out -e /frazer01/projects/CARDIPS/analysis/epigenome_resource/analyses/jennifer/ldsc/logs/h2.exp_peaks_together.continuous-30050-both_sexes-irnt.meta.err\n",
      "\n",
      "echo \"source /frazer01/home/jennifer/.bash_profile; source activate ldsc; python ~/software/ldsc/ldsc.py --h2 /frazer01/projects/CARDIPS/analysis/epigenome_resource/analyses/jennifer/ldsc/sumstats/continuous-30060-both_sexes-irnt.meta.hg38.hapmap.sumstats.gz --ref-ld-chr /projects/CARDIPS/analysis/epigenome_resource/analyses/jennifer/ldsc/annot/exp_peaks_together/,/projects/CARDIPS/analysis/epigenome_resource/analyses/jennifer/ldsc/reference/baseline_v1.2/baseline. --w-ld-chr /projects/CARDIPS/analysis/epigenome_resource/analyses/jennifer/ldsc/reference/weights/weights.hm3_noMHC. --overlap-annot --frqfile-chr /projects/CARDIPS/analysis/epigenome_resource/analyses/jennifer/ldsc/reference/1000G_Phase3_frq/1000G.EUR.QC. --out /frazer01/projects/CARDIPS/analysis/epigenome_resource/analyses/jennifer/ldsc/h2/exp_peaks_together/continuous-30060-both_sexes-irnt.meta.hg38.hapmap\" | qsub -N h2.continuous-30060-both_sexes-irnt.meta -V -cwd -pe smp 4 -o /frazer01/projects/CARDIPS/analysis/epigenome_resource/analyses/jennifer/ldsc/logs/h2.exp_peaks_together.continuous-30060-both_sexes-irnt.meta.out -e /frazer01/projects/CARDIPS/analysis/epigenome_resource/analyses/jennifer/ldsc/logs/h2.exp_peaks_together.continuous-30060-both_sexes-irnt.meta.err\n",
      "\n",
      "echo \"source /frazer01/home/jennifer/.bash_profile; source activate ldsc; python ~/software/ldsc/ldsc.py --h2 /frazer01/projects/CARDIPS/analysis/epigenome_resource/analyses/jennifer/ldsc/sumstats/continuous-30070-both_sexes-irnt.meta.hg38.hapmap.sumstats.gz --ref-ld-chr /projects/CARDIPS/analysis/epigenome_resource/analyses/jennifer/ldsc/annot/exp_peaks_together/,/projects/CARDIPS/analysis/epigenome_resource/analyses/jennifer/ldsc/reference/baseline_v1.2/baseline. --w-ld-chr /projects/CARDIPS/analysis/epigenome_resource/analyses/jennifer/ldsc/reference/weights/weights.hm3_noMHC. --overlap-annot --frqfile-chr /projects/CARDIPS/analysis/epigenome_resource/analyses/jennifer/ldsc/reference/1000G_Phase3_frq/1000G.EUR.QC. --out /frazer01/projects/CARDIPS/analysis/epigenome_resource/analyses/jennifer/ldsc/h2/exp_peaks_together/continuous-30070-both_sexes-irnt.meta.hg38.hapmap\" | qsub -N h2.continuous-30070-both_sexes-irnt.meta -V -cwd -pe smp 4 -o /frazer01/projects/CARDIPS/analysis/epigenome_resource/analyses/jennifer/ldsc/logs/h2.exp_peaks_together.continuous-30070-both_sexes-irnt.meta.out -e /frazer01/projects/CARDIPS/analysis/epigenome_resource/analyses/jennifer/ldsc/logs/h2.exp_peaks_together.continuous-30070-both_sexes-irnt.meta.err\n",
      "\n",
      "echo \"source /frazer01/home/jennifer/.bash_profile; source activate ldsc; python ~/software/ldsc/ldsc.py --h2 /frazer01/projects/CARDIPS/analysis/epigenome_resource/analyses/jennifer/ldsc/sumstats/continuous-30080-both_sexes-irnt.meta.hg38.hapmap.sumstats.gz --ref-ld-chr /projects/CARDIPS/analysis/epigenome_resource/analyses/jennifer/ldsc/annot/exp_peaks_together/,/projects/CARDIPS/analysis/epigenome_resource/analyses/jennifer/ldsc/reference/baseline_v1.2/baseline. --w-ld-chr /projects/CARDIPS/analysis/epigenome_resource/analyses/jennifer/ldsc/reference/weights/weights.hm3_noMHC. --overlap-annot --frqfile-chr /projects/CARDIPS/analysis/epigenome_resource/analyses/jennifer/ldsc/reference/1000G_Phase3_frq/1000G.EUR.QC. --out /frazer01/projects/CARDIPS/analysis/epigenome_resource/analyses/jennifer/ldsc/h2/exp_peaks_together/continuous-30080-both_sexes-irnt.meta.hg38.hapmap\" | qsub -N h2.continuous-30080-both_sexes-irnt.meta -V -cwd -pe smp 4 -o /frazer01/projects/CARDIPS/analysis/epigenome_resource/analyses/jennifer/ldsc/logs/h2.exp_peaks_together.continuous-30080-both_sexes-irnt.meta.out -e /frazer01/projects/CARDIPS/analysis/epigenome_resource/analyses/jennifer/ldsc/logs/h2.exp_peaks_together.continuous-30080-both_sexes-irnt.meta.err\n",
      "\n",
      "echo \"source /frazer01/home/jennifer/.bash_profile; source activate ldsc; python ~/software/ldsc/ldsc.py --h2 /frazer01/projects/CARDIPS/analysis/epigenome_resource/analyses/jennifer/ldsc/sumstats/continuous-30090-both_sexes-irnt.meta.hg38.hapmap.sumstats.gz --ref-ld-chr /projects/CARDIPS/analysis/epigenome_resource/analyses/jennifer/ldsc/annot/exp_peaks_together/,/projects/CARDIPS/analysis/epigenome_resource/analyses/jennifer/ldsc/reference/baseline_v1.2/baseline. --w-ld-chr /projects/CARDIPS/analysis/epigenome_resource/analyses/jennifer/ldsc/reference/weights/weights.hm3_noMHC. --overlap-annot --frqfile-chr /projects/CARDIPS/analysis/epigenome_resource/analyses/jennifer/ldsc/reference/1000G_Phase3_frq/1000G.EUR.QC. --out /frazer01/projects/CARDIPS/analysis/epigenome_resource/analyses/jennifer/ldsc/h2/exp_peaks_together/continuous-30090-both_sexes-irnt.meta.hg38.hapmap\" | qsub -N h2.continuous-30090-both_sexes-irnt.meta -V -cwd -pe smp 4 -o /frazer01/projects/CARDIPS/analysis/epigenome_resource/analyses/jennifer/ldsc/logs/h2.exp_peaks_together.continuous-30090-both_sexes-irnt.meta.out -e /frazer01/projects/CARDIPS/analysis/epigenome_resource/analyses/jennifer/ldsc/logs/h2.exp_peaks_together.continuous-30090-both_sexes-irnt.meta.err\n",
      "\n",
      "echo \"source /frazer01/home/jennifer/.bash_profile; source activate ldsc; python ~/software/ldsc/ldsc.py --h2 /frazer01/projects/CARDIPS/analysis/epigenome_resource/analyses/jennifer/ldsc/sumstats/continuous-30100-both_sexes-irnt.meta.hg38.hapmap.sumstats.gz --ref-ld-chr /projects/CARDIPS/analysis/epigenome_resource/analyses/jennifer/ldsc/annot/exp_peaks_together/,/projects/CARDIPS/analysis/epigenome_resource/analyses/jennifer/ldsc/reference/baseline_v1.2/baseline. --w-ld-chr /projects/CARDIPS/analysis/epigenome_resource/analyses/jennifer/ldsc/reference/weights/weights.hm3_noMHC. --overlap-annot --frqfile-chr /projects/CARDIPS/analysis/epigenome_resource/analyses/jennifer/ldsc/reference/1000G_Phase3_frq/1000G.EUR.QC. --out /frazer01/projects/CARDIPS/analysis/epigenome_resource/analyses/jennifer/ldsc/h2/exp_peaks_together/continuous-30100-both_sexes-irnt.meta.hg38.hapmap\" | qsub -N h2.continuous-30100-both_sexes-irnt.meta -V -cwd -pe smp 4 -o /frazer01/projects/CARDIPS/analysis/epigenome_resource/analyses/jennifer/ldsc/logs/h2.exp_peaks_together.continuous-30100-both_sexes-irnt.meta.out -e /frazer01/projects/CARDIPS/analysis/epigenome_resource/analyses/jennifer/ldsc/logs/h2.exp_peaks_together.continuous-30100-both_sexes-irnt.meta.err\n",
      "\n",
      "echo \"source /frazer01/home/jennifer/.bash_profile; source activate ldsc; python ~/software/ldsc/ldsc.py --h2 /frazer01/projects/CARDIPS/analysis/epigenome_resource/analyses/jennifer/ldsc/sumstats/continuous-30110-both_sexes-irnt.meta.hg38.hapmap.sumstats.gz --ref-ld-chr /projects/CARDIPS/analysis/epigenome_resource/analyses/jennifer/ldsc/annot/exp_peaks_together/,/projects/CARDIPS/analysis/epigenome_resource/analyses/jennifer/ldsc/reference/baseline_v1.2/baseline. --w-ld-chr /projects/CARDIPS/analysis/epigenome_resource/analyses/jennifer/ldsc/reference/weights/weights.hm3_noMHC. --overlap-annot --frqfile-chr /projects/CARDIPS/analysis/epigenome_resource/analyses/jennifer/ldsc/reference/1000G_Phase3_frq/1000G.EUR.QC. --out /frazer01/projects/CARDIPS/analysis/epigenome_resource/analyses/jennifer/ldsc/h2/exp_peaks_together/continuous-30110-both_sexes-irnt.meta.hg38.hapmap\" | qsub -N h2.continuous-30110-both_sexes-irnt.meta -V -cwd -pe smp 4 -o /frazer01/projects/CARDIPS/analysis/epigenome_resource/analyses/jennifer/ldsc/logs/h2.exp_peaks_together.continuous-30110-both_sexes-irnt.meta.out -e /frazer01/projects/CARDIPS/analysis/epigenome_resource/analyses/jennifer/ldsc/logs/h2.exp_peaks_together.continuous-30110-both_sexes-irnt.meta.err\n",
      "\n",
      "echo \"source /frazer01/home/jennifer/.bash_profile; source activate ldsc; python ~/software/ldsc/ldsc.py --h2 /frazer01/projects/CARDIPS/analysis/epigenome_resource/analyses/jennifer/ldsc/sumstats/continuous-30120-both_sexes-irnt.meta.hg38.hapmap.sumstats.gz --ref-ld-chr /projects/CARDIPS/analysis/epigenome_resource/analyses/jennifer/ldsc/annot/exp_peaks_together/,/projects/CARDIPS/analysis/epigenome_resource/analyses/jennifer/ldsc/reference/baseline_v1.2/baseline. --w-ld-chr /projects/CARDIPS/analysis/epigenome_resource/analyses/jennifer/ldsc/reference/weights/weights.hm3_noMHC. --overlap-annot --frqfile-chr /projects/CARDIPS/analysis/epigenome_resource/analyses/jennifer/ldsc/reference/1000G_Phase3_frq/1000G.EUR.QC. --out /frazer01/projects/CARDIPS/analysis/epigenome_resource/analyses/jennifer/ldsc/h2/exp_peaks_together/continuous-30120-both_sexes-irnt.meta.hg38.hapmap\" | qsub -N h2.continuous-30120-both_sexes-irnt.meta -V -cwd -pe smp 4 -o /frazer01/projects/CARDIPS/analysis/epigenome_resource/analyses/jennifer/ldsc/logs/h2.exp_peaks_together.continuous-30120-both_sexes-irnt.meta.out -e /frazer01/projects/CARDIPS/analysis/epigenome_resource/analyses/jennifer/ldsc/logs/h2.exp_peaks_together.continuous-30120-both_sexes-irnt.meta.err\n",
      "\n",
      "echo \"source /frazer01/home/jennifer/.bash_profile; source activate ldsc; python ~/software/ldsc/ldsc.py --h2 /frazer01/projects/CARDIPS/analysis/epigenome_resource/analyses/jennifer/ldsc/sumstats/continuous-30130-both_sexes-irnt.meta.hg38.hapmap.sumstats.gz --ref-ld-chr /projects/CARDIPS/analysis/epigenome_resource/analyses/jennifer/ldsc/annot/exp_peaks_together/,/projects/CARDIPS/analysis/epigenome_resource/analyses/jennifer/ldsc/reference/baseline_v1.2/baseline. --w-ld-chr /projects/CARDIPS/analysis/epigenome_resource/analyses/jennifer/ldsc/reference/weights/weights.hm3_noMHC. --overlap-annot --frqfile-chr /projects/CARDIPS/analysis/epigenome_resource/analyses/jennifer/ldsc/reference/1000G_Phase3_frq/1000G.EUR.QC. --out /frazer01/projects/CARDIPS/analysis/epigenome_resource/analyses/jennifer/ldsc/h2/exp_peaks_together/continuous-30130-both_sexes-irnt.meta.hg38.hapmap\" | qsub -N h2.continuous-30130-both_sexes-irnt.meta -V -cwd -pe smp 4 -o /frazer01/projects/CARDIPS/analysis/epigenome_resource/analyses/jennifer/ldsc/logs/h2.exp_peaks_together.continuous-30130-both_sexes-irnt.meta.out -e /frazer01/projects/CARDIPS/analysis/epigenome_resource/analyses/jennifer/ldsc/logs/h2.exp_peaks_together.continuous-30130-both_sexes-irnt.meta.err\n",
      "\n",
      "echo \"source /frazer01/home/jennifer/.bash_profile; source activate ldsc; python ~/software/ldsc/ldsc.py --h2 /frazer01/projects/CARDIPS/analysis/epigenome_resource/analyses/jennifer/ldsc/sumstats/continuous-30140-both_sexes-irnt.meta.hg38.hapmap.sumstats.gz --ref-ld-chr /projects/CARDIPS/analysis/epigenome_resource/analyses/jennifer/ldsc/annot/exp_peaks_together/,/projects/CARDIPS/analysis/epigenome_resource/analyses/jennifer/ldsc/reference/baseline_v1.2/baseline. --w-ld-chr /projects/CARDIPS/analysis/epigenome_resource/analyses/jennifer/ldsc/reference/weights/weights.hm3_noMHC. --overlap-annot --frqfile-chr /projects/CARDIPS/analysis/epigenome_resource/analyses/jennifer/ldsc/reference/1000G_Phase3_frq/1000G.EUR.QC. --out /frazer01/projects/CARDIPS/analysis/epigenome_resource/analyses/jennifer/ldsc/h2/exp_peaks_together/continuous-30140-both_sexes-irnt.meta.hg38.hapmap\" | qsub -N h2.continuous-30140-both_sexes-irnt.meta -V -cwd -pe smp 4 -o /frazer01/projects/CARDIPS/analysis/epigenome_resource/analyses/jennifer/ldsc/logs/h2.exp_peaks_together.continuous-30140-both_sexes-irnt.meta.out -e /frazer01/projects/CARDIPS/analysis/epigenome_resource/analyses/jennifer/ldsc/logs/h2.exp_peaks_together.continuous-30140-both_sexes-irnt.meta.err\n",
      "\n",
      "echo \"source /frazer01/home/jennifer/.bash_profile; source activate ldsc; python ~/software/ldsc/ldsc.py --h2 /frazer01/projects/CARDIPS/analysis/epigenome_resource/analyses/jennifer/ldsc/sumstats/continuous-30150-both_sexes-irnt.meta.hg38.hapmap.sumstats.gz --ref-ld-chr /projects/CARDIPS/analysis/epigenome_resource/analyses/jennifer/ldsc/annot/exp_peaks_together/,/projects/CARDIPS/analysis/epigenome_resource/analyses/jennifer/ldsc/reference/baseline_v1.2/baseline. --w-ld-chr /projects/CARDIPS/analysis/epigenome_resource/analyses/jennifer/ldsc/reference/weights/weights.hm3_noMHC. --overlap-annot --frqfile-chr /projects/CARDIPS/analysis/epigenome_resource/analyses/jennifer/ldsc/reference/1000G_Phase3_frq/1000G.EUR.QC. --out /frazer01/projects/CARDIPS/analysis/epigenome_resource/analyses/jennifer/ldsc/h2/exp_peaks_together/continuous-30150-both_sexes-irnt.meta.hg38.hapmap\" | qsub -N h2.continuous-30150-both_sexes-irnt.meta -V -cwd -pe smp 4 -o /frazer01/projects/CARDIPS/analysis/epigenome_resource/analyses/jennifer/ldsc/logs/h2.exp_peaks_together.continuous-30150-both_sexes-irnt.meta.out -e /frazer01/projects/CARDIPS/analysis/epigenome_resource/analyses/jennifer/ldsc/logs/h2.exp_peaks_together.continuous-30150-both_sexes-irnt.meta.err\n",
      "\n",
      "echo \"source /frazer01/home/jennifer/.bash_profile; source activate ldsc; python ~/software/ldsc/ldsc.py --h2 /frazer01/projects/CARDIPS/analysis/epigenome_resource/analyses/jennifer/ldsc/sumstats/continuous-30160-both_sexes.meta.hg38.hapmap.sumstats.gz --ref-ld-chr /projects/CARDIPS/analysis/epigenome_resource/analyses/jennifer/ldsc/annot/exp_peaks_together/,/projects/CARDIPS/analysis/epigenome_resource/analyses/jennifer/ldsc/reference/baseline_v1.2/baseline. --w-ld-chr /projects/CARDIPS/analysis/epigenome_resource/analyses/jennifer/ldsc/reference/weights/weights.hm3_noMHC. --overlap-annot --frqfile-chr /projects/CARDIPS/analysis/epigenome_resource/analyses/jennifer/ldsc/reference/1000G_Phase3_frq/1000G.EUR.QC. --out /frazer01/projects/CARDIPS/analysis/epigenome_resource/analyses/jennifer/ldsc/h2/exp_peaks_together/continuous-30160-both_sexes.meta.hg38.hapmap\" | qsub -N h2.continuous-30160-both_sexes.meta -V -cwd -pe smp 4 -o /frazer01/projects/CARDIPS/analysis/epigenome_resource/analyses/jennifer/ldsc/logs/h2.exp_peaks_together.continuous-30160-both_sexes.meta.out -e /frazer01/projects/CARDIPS/analysis/epigenome_resource/analyses/jennifer/ldsc/logs/h2.exp_peaks_together.continuous-30160-both_sexes.meta.err\n",
      "\n",
      "echo \"source /frazer01/home/jennifer/.bash_profile; source activate ldsc; python ~/software/ldsc/ldsc.py --h2 /frazer01/projects/CARDIPS/analysis/epigenome_resource/analyses/jennifer/ldsc/sumstats/continuous-30180-both_sexes-irnt.meta.hg38.hapmap.sumstats.gz --ref-ld-chr /projects/CARDIPS/analysis/epigenome_resource/analyses/jennifer/ldsc/annot/exp_peaks_together/,/projects/CARDIPS/analysis/epigenome_resource/analyses/jennifer/ldsc/reference/baseline_v1.2/baseline. --w-ld-chr /projects/CARDIPS/analysis/epigenome_resource/analyses/jennifer/ldsc/reference/weights/weights.hm3_noMHC. --overlap-annot --frqfile-chr /projects/CARDIPS/analysis/epigenome_resource/analyses/jennifer/ldsc/reference/1000G_Phase3_frq/1000G.EUR.QC. --out /frazer01/projects/CARDIPS/analysis/epigenome_resource/analyses/jennifer/ldsc/h2/exp_peaks_together/continuous-30180-both_sexes-irnt.meta.hg38.hapmap\" | qsub -N h2.continuous-30180-both_sexes-irnt.meta -V -cwd -pe smp 4 -o /frazer01/projects/CARDIPS/analysis/epigenome_resource/analyses/jennifer/ldsc/logs/h2.exp_peaks_together.continuous-30180-both_sexes-irnt.meta.out -e /frazer01/projects/CARDIPS/analysis/epigenome_resource/analyses/jennifer/ldsc/logs/h2.exp_peaks_together.continuous-30180-both_sexes-irnt.meta.err\n",
      "\n",
      "echo \"source /frazer01/home/jennifer/.bash_profile; source activate ldsc; python ~/software/ldsc/ldsc.py --h2 /frazer01/projects/CARDIPS/analysis/epigenome_resource/analyses/jennifer/ldsc/sumstats/continuous-30190-both_sexes-irnt.meta.hg38.hapmap.sumstats.gz --ref-ld-chr /projects/CARDIPS/analysis/epigenome_resource/analyses/jennifer/ldsc/annot/exp_peaks_together/,/projects/CARDIPS/analysis/epigenome_resource/analyses/jennifer/ldsc/reference/baseline_v1.2/baseline. --w-ld-chr /projects/CARDIPS/analysis/epigenome_resource/analyses/jennifer/ldsc/reference/weights/weights.hm3_noMHC. --overlap-annot --frqfile-chr /projects/CARDIPS/analysis/epigenome_resource/analyses/jennifer/ldsc/reference/1000G_Phase3_frq/1000G.EUR.QC. --out /frazer01/projects/CARDIPS/analysis/epigenome_resource/analyses/jennifer/ldsc/h2/exp_peaks_together/continuous-30190-both_sexes-irnt.meta.hg38.hapmap\" | qsub -N h2.continuous-30190-both_sexes-irnt.meta -V -cwd -pe smp 4 -o /frazer01/projects/CARDIPS/analysis/epigenome_resource/analyses/jennifer/ldsc/logs/h2.exp_peaks_together.continuous-30190-both_sexes-irnt.meta.out -e /frazer01/projects/CARDIPS/analysis/epigenome_resource/analyses/jennifer/ldsc/logs/h2.exp_peaks_together.continuous-30190-both_sexes-irnt.meta.err\n",
      "\n",
      "echo \"source /frazer01/home/jennifer/.bash_profile; source activate ldsc; python ~/software/ldsc/ldsc.py --h2 /frazer01/projects/CARDIPS/analysis/epigenome_resource/analyses/jennifer/ldsc/sumstats/continuous-30200-both_sexes-irnt.meta.hg38.hapmap.sumstats.gz --ref-ld-chr /projects/CARDIPS/analysis/epigenome_resource/analyses/jennifer/ldsc/annot/exp_peaks_together/,/projects/CARDIPS/analysis/epigenome_resource/analyses/jennifer/ldsc/reference/baseline_v1.2/baseline. --w-ld-chr /projects/CARDIPS/analysis/epigenome_resource/analyses/jennifer/ldsc/reference/weights/weights.hm3_noMHC. --overlap-annot --frqfile-chr /projects/CARDIPS/analysis/epigenome_resource/analyses/jennifer/ldsc/reference/1000G_Phase3_frq/1000G.EUR.QC. --out /frazer01/projects/CARDIPS/analysis/epigenome_resource/analyses/jennifer/ldsc/h2/exp_peaks_together/continuous-30200-both_sexes-irnt.meta.hg38.hapmap\" | qsub -N h2.continuous-30200-both_sexes-irnt.meta -V -cwd -pe smp 4 -o /frazer01/projects/CARDIPS/analysis/epigenome_resource/analyses/jennifer/ldsc/logs/h2.exp_peaks_together.continuous-30200-both_sexes-irnt.meta.out -e /frazer01/projects/CARDIPS/analysis/epigenome_resource/analyses/jennifer/ldsc/logs/h2.exp_peaks_together.continuous-30200-both_sexes-irnt.meta.err\n",
      "\n",
      "echo \"source /frazer01/home/jennifer/.bash_profile; source activate ldsc; python ~/software/ldsc/ldsc.py --h2 /frazer01/projects/CARDIPS/analysis/epigenome_resource/analyses/jennifer/ldsc/sumstats/continuous-30210-both_sexes-irnt.meta.hg38.hapmap.sumstats.gz --ref-ld-chr /projects/CARDIPS/analysis/epigenome_resource/analyses/jennifer/ldsc/annot/exp_peaks_together/,/projects/CARDIPS/analysis/epigenome_resource/analyses/jennifer/ldsc/reference/baseline_v1.2/baseline. --w-ld-chr /projects/CARDIPS/analysis/epigenome_resource/analyses/jennifer/ldsc/reference/weights/weights.hm3_noMHC. --overlap-annot --frqfile-chr /projects/CARDIPS/analysis/epigenome_resource/analyses/jennifer/ldsc/reference/1000G_Phase3_frq/1000G.EUR.QC. --out /frazer01/projects/CARDIPS/analysis/epigenome_resource/analyses/jennifer/ldsc/h2/exp_peaks_together/continuous-30210-both_sexes-irnt.meta.hg38.hapmap\" | qsub -N h2.continuous-30210-both_sexes-irnt.meta -V -cwd -pe smp 4 -o /frazer01/projects/CARDIPS/analysis/epigenome_resource/analyses/jennifer/ldsc/logs/h2.exp_peaks_together.continuous-30210-both_sexes-irnt.meta.out -e /frazer01/projects/CARDIPS/analysis/epigenome_resource/analyses/jennifer/ldsc/logs/h2.exp_peaks_together.continuous-30210-both_sexes-irnt.meta.err\n",
      "\n",
      "echo \"source /frazer01/home/jennifer/.bash_profile; source activate ldsc; python ~/software/ldsc/ldsc.py --h2 /frazer01/projects/CARDIPS/analysis/epigenome_resource/analyses/jennifer/ldsc/sumstats/continuous-30220-both_sexes-irnt.meta.hg38.hapmap.sumstats.gz --ref-ld-chr /projects/CARDIPS/analysis/epigenome_resource/analyses/jennifer/ldsc/annot/exp_peaks_together/,/projects/CARDIPS/analysis/epigenome_resource/analyses/jennifer/ldsc/reference/baseline_v1.2/baseline. --w-ld-chr /projects/CARDIPS/analysis/epigenome_resource/analyses/jennifer/ldsc/reference/weights/weights.hm3_noMHC. --overlap-annot --frqfile-chr /projects/CARDIPS/analysis/epigenome_resource/analyses/jennifer/ldsc/reference/1000G_Phase3_frq/1000G.EUR.QC. --out /frazer01/projects/CARDIPS/analysis/epigenome_resource/analyses/jennifer/ldsc/h2/exp_peaks_together/continuous-30220-both_sexes-irnt.meta.hg38.hapmap\" | qsub -N h2.continuous-30220-both_sexes-irnt.meta -V -cwd -pe smp 4 -o /frazer01/projects/CARDIPS/analysis/epigenome_resource/analyses/jennifer/ldsc/logs/h2.exp_peaks_together.continuous-30220-both_sexes-irnt.meta.out -e /frazer01/projects/CARDIPS/analysis/epigenome_resource/analyses/jennifer/ldsc/logs/h2.exp_peaks_together.continuous-30220-both_sexes-irnt.meta.err\n",
      "\n",
      "echo \"source /frazer01/home/jennifer/.bash_profile; source activate ldsc; python ~/software/ldsc/ldsc.py --h2 /frazer01/projects/CARDIPS/analysis/epigenome_resource/analyses/jennifer/ldsc/sumstats/continuous-30240-both_sexes-irnt.meta.hg38.hapmap.sumstats.gz --ref-ld-chr /projects/CARDIPS/analysis/epigenome_resource/analyses/jennifer/ldsc/annot/exp_peaks_together/,/projects/CARDIPS/analysis/epigenome_resource/analyses/jennifer/ldsc/reference/baseline_v1.2/baseline. --w-ld-chr /projects/CARDIPS/analysis/epigenome_resource/analyses/jennifer/ldsc/reference/weights/weights.hm3_noMHC. --overlap-annot --frqfile-chr /projects/CARDIPS/analysis/epigenome_resource/analyses/jennifer/ldsc/reference/1000G_Phase3_frq/1000G.EUR.QC. --out /frazer01/projects/CARDIPS/analysis/epigenome_resource/analyses/jennifer/ldsc/h2/exp_peaks_together/continuous-30240-both_sexes-irnt.meta.hg38.hapmap\" | qsub -N h2.continuous-30240-both_sexes-irnt.meta -V -cwd -pe smp 4 -o /frazer01/projects/CARDIPS/analysis/epigenome_resource/analyses/jennifer/ldsc/logs/h2.exp_peaks_together.continuous-30240-both_sexes-irnt.meta.out -e /frazer01/projects/CARDIPS/analysis/epigenome_resource/analyses/jennifer/ldsc/logs/h2.exp_peaks_together.continuous-30240-both_sexes-irnt.meta.err\n",
      "\n",
      "echo \"source /frazer01/home/jennifer/.bash_profile; source activate ldsc; python ~/software/ldsc/ldsc.py --h2 /frazer01/projects/CARDIPS/analysis/epigenome_resource/analyses/jennifer/ldsc/sumstats/continuous-30250-both_sexes-irnt.meta.hg38.hapmap.sumstats.gz --ref-ld-chr /projects/CARDIPS/analysis/epigenome_resource/analyses/jennifer/ldsc/annot/exp_peaks_together/,/projects/CARDIPS/analysis/epigenome_resource/analyses/jennifer/ldsc/reference/baseline_v1.2/baseline. --w-ld-chr /projects/CARDIPS/analysis/epigenome_resource/analyses/jennifer/ldsc/reference/weights/weights.hm3_noMHC. --overlap-annot --frqfile-chr /projects/CARDIPS/analysis/epigenome_resource/analyses/jennifer/ldsc/reference/1000G_Phase3_frq/1000G.EUR.QC. --out /frazer01/projects/CARDIPS/analysis/epigenome_resource/analyses/jennifer/ldsc/h2/exp_peaks_together/continuous-30250-both_sexes-irnt.meta.hg38.hapmap\" | qsub -N h2.continuous-30250-both_sexes-irnt.meta -V -cwd -pe smp 4 -o /frazer01/projects/CARDIPS/analysis/epigenome_resource/analyses/jennifer/ldsc/logs/h2.exp_peaks_together.continuous-30250-both_sexes-irnt.meta.out -e /frazer01/projects/CARDIPS/analysis/epigenome_resource/analyses/jennifer/ldsc/logs/h2.exp_peaks_together.continuous-30250-both_sexes-irnt.meta.err\n",
      "\n",
      "echo \"source /frazer01/home/jennifer/.bash_profile; source activate ldsc; python ~/software/ldsc/ldsc.py --h2 /frazer01/projects/CARDIPS/analysis/epigenome_resource/analyses/jennifer/ldsc/sumstats/continuous-30260-both_sexes-irnt.meta.hg38.hapmap.sumstats.gz --ref-ld-chr /projects/CARDIPS/analysis/epigenome_resource/analyses/jennifer/ldsc/annot/exp_peaks_together/,/projects/CARDIPS/analysis/epigenome_resource/analyses/jennifer/ldsc/reference/baseline_v1.2/baseline. --w-ld-chr /projects/CARDIPS/analysis/epigenome_resource/analyses/jennifer/ldsc/reference/weights/weights.hm3_noMHC. --overlap-annot --frqfile-chr /projects/CARDIPS/analysis/epigenome_resource/analyses/jennifer/ldsc/reference/1000G_Phase3_frq/1000G.EUR.QC. --out /frazer01/projects/CARDIPS/analysis/epigenome_resource/analyses/jennifer/ldsc/h2/exp_peaks_together/continuous-30260-both_sexes-irnt.meta.hg38.hapmap\" | qsub -N h2.continuous-30260-both_sexes-irnt.meta -V -cwd -pe smp 4 -o /frazer01/projects/CARDIPS/analysis/epigenome_resource/analyses/jennifer/ldsc/logs/h2.exp_peaks_together.continuous-30260-both_sexes-irnt.meta.out -e /frazer01/projects/CARDIPS/analysis/epigenome_resource/analyses/jennifer/ldsc/logs/h2.exp_peaks_together.continuous-30260-both_sexes-irnt.meta.err\n",
      "\n",
      "echo \"source /frazer01/home/jennifer/.bash_profile; source activate ldsc; python ~/software/ldsc/ldsc.py --h2 /frazer01/projects/CARDIPS/analysis/epigenome_resource/analyses/jennifer/ldsc/sumstats/continuous-30270-both_sexes-irnt.meta.hg38.hapmap.sumstats.gz --ref-ld-chr /projects/CARDIPS/analysis/epigenome_resource/analyses/jennifer/ldsc/annot/exp_peaks_together/,/projects/CARDIPS/analysis/epigenome_resource/analyses/jennifer/ldsc/reference/baseline_v1.2/baseline. --w-ld-chr /projects/CARDIPS/analysis/epigenome_resource/analyses/jennifer/ldsc/reference/weights/weights.hm3_noMHC. --overlap-annot --frqfile-chr /projects/CARDIPS/analysis/epigenome_resource/analyses/jennifer/ldsc/reference/1000G_Phase3_frq/1000G.EUR.QC. --out /frazer01/projects/CARDIPS/analysis/epigenome_resource/analyses/jennifer/ldsc/h2/exp_peaks_together/continuous-30270-both_sexes-irnt.meta.hg38.hapmap\" | qsub -N h2.continuous-30270-both_sexes-irnt.meta -V -cwd -pe smp 4 -o /frazer01/projects/CARDIPS/analysis/epigenome_resource/analyses/jennifer/ldsc/logs/h2.exp_peaks_together.continuous-30270-both_sexes-irnt.meta.out -e /frazer01/projects/CARDIPS/analysis/epigenome_resource/analyses/jennifer/ldsc/logs/h2.exp_peaks_together.continuous-30270-both_sexes-irnt.meta.err\n",
      "\n",
      "echo \"source /frazer01/home/jennifer/.bash_profile; source activate ldsc; python ~/software/ldsc/ldsc.py --h2 /frazer01/projects/CARDIPS/analysis/epigenome_resource/analyses/jennifer/ldsc/sumstats/continuous-30280-both_sexes-irnt.meta.hg38.hapmap.sumstats.gz --ref-ld-chr /projects/CARDIPS/analysis/epigenome_resource/analyses/jennifer/ldsc/annot/exp_peaks_together/,/projects/CARDIPS/analysis/epigenome_resource/analyses/jennifer/ldsc/reference/baseline_v1.2/baseline. --w-ld-chr /projects/CARDIPS/analysis/epigenome_resource/analyses/jennifer/ldsc/reference/weights/weights.hm3_noMHC. --overlap-annot --frqfile-chr /projects/CARDIPS/analysis/epigenome_resource/analyses/jennifer/ldsc/reference/1000G_Phase3_frq/1000G.EUR.QC. --out /frazer01/projects/CARDIPS/analysis/epigenome_resource/analyses/jennifer/ldsc/h2/exp_peaks_together/continuous-30280-both_sexes-irnt.meta.hg38.hapmap\" | qsub -N h2.continuous-30280-both_sexes-irnt.meta -V -cwd -pe smp 4 -o /frazer01/projects/CARDIPS/analysis/epigenome_resource/analyses/jennifer/ldsc/logs/h2.exp_peaks_together.continuous-30280-both_sexes-irnt.meta.out -e /frazer01/projects/CARDIPS/analysis/epigenome_resource/analyses/jennifer/ldsc/logs/h2.exp_peaks_together.continuous-30280-both_sexes-irnt.meta.err\n",
      "\n",
      "echo \"source /frazer01/home/jennifer/.bash_profile; source activate ldsc; python ~/software/ldsc/ldsc.py --h2 /frazer01/projects/CARDIPS/analysis/epigenome_resource/analyses/jennifer/ldsc/sumstats/continuous-30290-both_sexes-irnt.meta.hg38.hapmap.sumstats.gz --ref-ld-chr /projects/CARDIPS/analysis/epigenome_resource/analyses/jennifer/ldsc/annot/exp_peaks_together/,/projects/CARDIPS/analysis/epigenome_resource/analyses/jennifer/ldsc/reference/baseline_v1.2/baseline. --w-ld-chr /projects/CARDIPS/analysis/epigenome_resource/analyses/jennifer/ldsc/reference/weights/weights.hm3_noMHC. --overlap-annot --frqfile-chr /projects/CARDIPS/analysis/epigenome_resource/analyses/jennifer/ldsc/reference/1000G_Phase3_frq/1000G.EUR.QC. --out /frazer01/projects/CARDIPS/analysis/epigenome_resource/analyses/jennifer/ldsc/h2/exp_peaks_together/continuous-30290-both_sexes-irnt.meta.hg38.hapmap\" | qsub -N h2.continuous-30290-both_sexes-irnt.meta -V -cwd -pe smp 4 -o /frazer01/projects/CARDIPS/analysis/epigenome_resource/analyses/jennifer/ldsc/logs/h2.exp_peaks_together.continuous-30290-both_sexes-irnt.meta.out -e /frazer01/projects/CARDIPS/analysis/epigenome_resource/analyses/jennifer/ldsc/logs/h2.exp_peaks_together.continuous-30290-both_sexes-irnt.meta.err\n",
      "\n",
      "echo \"source /frazer01/home/jennifer/.bash_profile; source activate ldsc; python ~/software/ldsc/ldsc.py --h2 /frazer01/projects/CARDIPS/analysis/epigenome_resource/analyses/jennifer/ldsc/sumstats/continuous-30300-both_sexes-irnt.meta.hg38.hapmap.sumstats.gz --ref-ld-chr /projects/CARDIPS/analysis/epigenome_resource/analyses/jennifer/ldsc/annot/exp_peaks_together/,/projects/CARDIPS/analysis/epigenome_resource/analyses/jennifer/ldsc/reference/baseline_v1.2/baseline. --w-ld-chr /projects/CARDIPS/analysis/epigenome_resource/analyses/jennifer/ldsc/reference/weights/weights.hm3_noMHC. --overlap-annot --frqfile-chr /projects/CARDIPS/analysis/epigenome_resource/analyses/jennifer/ldsc/reference/1000G_Phase3_frq/1000G.EUR.QC. --out /frazer01/projects/CARDIPS/analysis/epigenome_resource/analyses/jennifer/ldsc/h2/exp_peaks_together/continuous-30300-both_sexes-irnt.meta.hg38.hapmap\" | qsub -N h2.continuous-30300-both_sexes-irnt.meta -V -cwd -pe smp 4 -o /frazer01/projects/CARDIPS/analysis/epigenome_resource/analyses/jennifer/ldsc/logs/h2.exp_peaks_together.continuous-30300-both_sexes-irnt.meta.out -e /frazer01/projects/CARDIPS/analysis/epigenome_resource/analyses/jennifer/ldsc/logs/h2.exp_peaks_together.continuous-30300-both_sexes-irnt.meta.err\n",
      "\n",
      "echo \"source /frazer01/home/jennifer/.bash_profile; source activate ldsc; python ~/software/ldsc/ldsc.py --h2 /frazer01/projects/CARDIPS/analysis/epigenome_resource/analyses/jennifer/ldsc/sumstats/continuous-4194-both_sexes-irnt.eur.hg38.hapmap.sumstats.gz --ref-ld-chr /projects/CARDIPS/analysis/epigenome_resource/analyses/jennifer/ldsc/annot/exp_peaks_together/,/projects/CARDIPS/analysis/epigenome_resource/analyses/jennifer/ldsc/reference/baseline_v1.2/baseline. --w-ld-chr /projects/CARDIPS/analysis/epigenome_resource/analyses/jennifer/ldsc/reference/weights/weights.hm3_noMHC. --overlap-annot --frqfile-chr /projects/CARDIPS/analysis/epigenome_resource/analyses/jennifer/ldsc/reference/1000G_Phase3_frq/1000G.EUR.QC. --out /frazer01/projects/CARDIPS/analysis/epigenome_resource/analyses/jennifer/ldsc/h2/exp_peaks_together/continuous-4194-both_sexes-irnt.eur.hg38.hapmap\" | qsub -N h2.continuous-4194-both_sexes-irnt.eur -V -cwd -pe smp 4 -o /frazer01/projects/CARDIPS/analysis/epigenome_resource/analyses/jennifer/ldsc/logs/h2.exp_peaks_together.continuous-4194-both_sexes-irnt.eur.out -e /frazer01/projects/CARDIPS/analysis/epigenome_resource/analyses/jennifer/ldsc/logs/h2.exp_peaks_together.continuous-4194-both_sexes-irnt.eur.err\n",
      "\n",
      "echo \"source /frazer01/home/jennifer/.bash_profile; source activate ldsc; python ~/software/ldsc/ldsc.py --h2 /frazer01/projects/CARDIPS/analysis/epigenome_resource/analyses/jennifer/ldsc/sumstats/continuous-4194-both_sexes-irnt.meta.hg38.hapmap.sumstats.gz --ref-ld-chr /projects/CARDIPS/analysis/epigenome_resource/analyses/jennifer/ldsc/annot/exp_peaks_together/,/projects/CARDIPS/analysis/epigenome_resource/analyses/jennifer/ldsc/reference/baseline_v1.2/baseline. --w-ld-chr /projects/CARDIPS/analysis/epigenome_resource/analyses/jennifer/ldsc/reference/weights/weights.hm3_noMHC. --overlap-annot --frqfile-chr /projects/CARDIPS/analysis/epigenome_resource/analyses/jennifer/ldsc/reference/1000G_Phase3_frq/1000G.EUR.QC. --out /frazer01/projects/CARDIPS/analysis/epigenome_resource/analyses/jennifer/ldsc/h2/exp_peaks_together/continuous-4194-both_sexes-irnt.meta.hg38.hapmap\" | qsub -N h2.continuous-4194-both_sexes-irnt.meta -V -cwd -pe smp 4 -o /frazer01/projects/CARDIPS/analysis/epigenome_resource/analyses/jennifer/ldsc/logs/h2.exp_peaks_together.continuous-4194-both_sexes-irnt.meta.out -e /frazer01/projects/CARDIPS/analysis/epigenome_resource/analyses/jennifer/ldsc/logs/h2.exp_peaks_together.continuous-4194-both_sexes-irnt.meta.err\n",
      "\n",
      "echo \"source /frazer01/home/jennifer/.bash_profile; source activate ldsc; python ~/software/ldsc/ldsc.py --h2 /frazer01/projects/CARDIPS/analysis/epigenome_resource/analyses/jennifer/ldsc/sumstats/continuous-50-both_sexes-irnt.meta.hg38.hapmap.sumstats.gz --ref-ld-chr /projects/CARDIPS/analysis/epigenome_resource/analyses/jennifer/ldsc/annot/exp_peaks_together/,/projects/CARDIPS/analysis/epigenome_resource/analyses/jennifer/ldsc/reference/baseline_v1.2/baseline. --w-ld-chr /projects/CARDIPS/analysis/epigenome_resource/analyses/jennifer/ldsc/reference/weights/weights.hm3_noMHC. --overlap-annot --frqfile-chr /projects/CARDIPS/analysis/epigenome_resource/analyses/jennifer/ldsc/reference/1000G_Phase3_frq/1000G.EUR.QC. --out /frazer01/projects/CARDIPS/analysis/epigenome_resource/analyses/jennifer/ldsc/h2/exp_peaks_together/continuous-50-both_sexes-irnt.meta.hg38.hapmap\" | qsub -N h2.continuous-50-both_sexes-irnt.meta -V -cwd -pe smp 4 -o /frazer01/projects/CARDIPS/analysis/epigenome_resource/analyses/jennifer/ldsc/logs/h2.exp_peaks_together.continuous-50-both_sexes-irnt.meta.out -e /frazer01/projects/CARDIPS/analysis/epigenome_resource/analyses/jennifer/ldsc/logs/h2.exp_peaks_together.continuous-50-both_sexes-irnt.meta.err\n",
      "\n",
      "echo \"source /frazer01/home/jennifer/.bash_profile; source activate ldsc; python ~/software/ldsc/ldsc.py --h2 /frazer01/projects/CARDIPS/analysis/epigenome_resource/analyses/jennifer/ldsc/sumstats/continuous-5983-both_sexes-irnt.eur.hg38.hapmap.sumstats.gz --ref-ld-chr /projects/CARDIPS/analysis/epigenome_resource/analyses/jennifer/ldsc/annot/exp_peaks_together/,/projects/CARDIPS/analysis/epigenome_resource/analyses/jennifer/ldsc/reference/baseline_v1.2/baseline. --w-ld-chr /projects/CARDIPS/analysis/epigenome_resource/analyses/jennifer/ldsc/reference/weights/weights.hm3_noMHC. --overlap-annot --frqfile-chr /projects/CARDIPS/analysis/epigenome_resource/analyses/jennifer/ldsc/reference/1000G_Phase3_frq/1000G.EUR.QC. --out /frazer01/projects/CARDIPS/analysis/epigenome_resource/analyses/jennifer/ldsc/h2/exp_peaks_together/continuous-5983-both_sexes-irnt.eur.hg38.hapmap\" | qsub -N h2.continuous-5983-both_sexes-irnt.eur -V -cwd -pe smp 4 -o /frazer01/projects/CARDIPS/analysis/epigenome_resource/analyses/jennifer/ldsc/logs/h2.exp_peaks_together.continuous-5983-both_sexes-irnt.eur.out -e /frazer01/projects/CARDIPS/analysis/epigenome_resource/analyses/jennifer/ldsc/logs/h2.exp_peaks_together.continuous-5983-both_sexes-irnt.eur.err\n",
      "\n",
      "echo \"source /frazer01/home/jennifer/.bash_profile; source activate ldsc; python ~/software/ldsc/ldsc.py --h2 /frazer01/projects/CARDIPS/analysis/epigenome_resource/analyses/jennifer/ldsc/sumstats/continuous-5983-both_sexes-irnt.meta.hg38.hapmap.sumstats.gz --ref-ld-chr /projects/CARDIPS/analysis/epigenome_resource/analyses/jennifer/ldsc/annot/exp_peaks_together/,/projects/CARDIPS/analysis/epigenome_resource/analyses/jennifer/ldsc/reference/baseline_v1.2/baseline. --w-ld-chr /projects/CARDIPS/analysis/epigenome_resource/analyses/jennifer/ldsc/reference/weights/weights.hm3_noMHC. --overlap-annot --frqfile-chr /projects/CARDIPS/analysis/epigenome_resource/analyses/jennifer/ldsc/reference/1000G_Phase3_frq/1000G.EUR.QC. --out /frazer01/projects/CARDIPS/analysis/epigenome_resource/analyses/jennifer/ldsc/h2/exp_peaks_together/continuous-5983-both_sexes-irnt.meta.hg38.hapmap\" | qsub -N h2.continuous-5983-both_sexes-irnt.meta -V -cwd -pe smp 4 -o /frazer01/projects/CARDIPS/analysis/epigenome_resource/analyses/jennifer/ldsc/logs/h2.exp_peaks_together.continuous-5983-both_sexes-irnt.meta.out -e /frazer01/projects/CARDIPS/analysis/epigenome_resource/analyses/jennifer/ldsc/logs/h2.exp_peaks_together.continuous-5983-both_sexes-irnt.meta.err\n",
      "\n",
      "echo \"source /frazer01/home/jennifer/.bash_profile; source activate ldsc; python ~/software/ldsc/ldsc.py --h2 /frazer01/projects/CARDIPS/analysis/epigenome_resource/analyses/jennifer/ldsc/sumstats/continuous-DBP-both_sexes-combined_medadj_irnt.eur.hg38.hapmap.sumstats.gz --ref-ld-chr /projects/CARDIPS/analysis/epigenome_resource/analyses/jennifer/ldsc/annot/exp_peaks_together/,/projects/CARDIPS/analysis/epigenome_resource/analyses/jennifer/ldsc/reference/baseline_v1.2/baseline. --w-ld-chr /projects/CARDIPS/analysis/epigenome_resource/analyses/jennifer/ldsc/reference/weights/weights.hm3_noMHC. --overlap-annot --frqfile-chr /projects/CARDIPS/analysis/epigenome_resource/analyses/jennifer/ldsc/reference/1000G_Phase3_frq/1000G.EUR.QC. --out /frazer01/projects/CARDIPS/analysis/epigenome_resource/analyses/jennifer/ldsc/h2/exp_peaks_together/continuous-DBP-both_sexes-combined_medadj_irnt.eur.hg38.hapmap\" | qsub -N h2.continuous-DBP-both_sexes-combined_medadj_irnt.eur -V -cwd -pe smp 4 -o /frazer01/projects/CARDIPS/analysis/epigenome_resource/analyses/jennifer/ldsc/logs/h2.exp_peaks_together.continuous-DBP-both_sexes-combined_medadj_irnt.eur.out -e /frazer01/projects/CARDIPS/analysis/epigenome_resource/analyses/jennifer/ldsc/logs/h2.exp_peaks_together.continuous-DBP-both_sexes-combined_medadj_irnt.eur.err\n",
      "\n",
      "echo \"source /frazer01/home/jennifer/.bash_profile; source activate ldsc; python ~/software/ldsc/ldsc.py --h2 /frazer01/projects/CARDIPS/analysis/epigenome_resource/analyses/jennifer/ldsc/sumstats/continuous-DBP-both_sexes-combined_medadj_irnt.meta.hg38.hapmap.sumstats.gz --ref-ld-chr /projects/CARDIPS/analysis/epigenome_resource/analyses/jennifer/ldsc/annot/exp_peaks_together/,/projects/CARDIPS/analysis/epigenome_resource/analyses/jennifer/ldsc/reference/baseline_v1.2/baseline. --w-ld-chr /projects/CARDIPS/analysis/epigenome_resource/analyses/jennifer/ldsc/reference/weights/weights.hm3_noMHC. --overlap-annot --frqfile-chr /projects/CARDIPS/analysis/epigenome_resource/analyses/jennifer/ldsc/reference/1000G_Phase3_frq/1000G.EUR.QC. --out /frazer01/projects/CARDIPS/analysis/epigenome_resource/analyses/jennifer/ldsc/h2/exp_peaks_together/continuous-DBP-both_sexes-combined_medadj_irnt.meta.hg38.hapmap\" | qsub -N h2.continuous-DBP-both_sexes-combined_medadj_irnt.meta -V -cwd -pe smp 4 -o /frazer01/projects/CARDIPS/analysis/epigenome_resource/analyses/jennifer/ldsc/logs/h2.exp_peaks_together.continuous-DBP-both_sexes-combined_medadj_irnt.meta.out -e /frazer01/projects/CARDIPS/analysis/epigenome_resource/analyses/jennifer/ldsc/logs/h2.exp_peaks_together.continuous-DBP-both_sexes-combined_medadj_irnt.meta.err\n",
      "\n",
      "echo \"source /frazer01/home/jennifer/.bash_profile; source activate ldsc; python ~/software/ldsc/ldsc.py --h2 /frazer01/projects/CARDIPS/analysis/epigenome_resource/analyses/jennifer/ldsc/sumstats/continuous-LDLC-both_sexes-medadj_irnt.eur.hg38.hapmap.sumstats.gz --ref-ld-chr /projects/CARDIPS/analysis/epigenome_resource/analyses/jennifer/ldsc/annot/exp_peaks_together/,/projects/CARDIPS/analysis/epigenome_resource/analyses/jennifer/ldsc/reference/baseline_v1.2/baseline. --w-ld-chr /projects/CARDIPS/analysis/epigenome_resource/analyses/jennifer/ldsc/reference/weights/weights.hm3_noMHC. --overlap-annot --frqfile-chr /projects/CARDIPS/analysis/epigenome_resource/analyses/jennifer/ldsc/reference/1000G_Phase3_frq/1000G.EUR.QC. --out /frazer01/projects/CARDIPS/analysis/epigenome_resource/analyses/jennifer/ldsc/h2/exp_peaks_together/continuous-LDLC-both_sexes-medadj_irnt.eur.hg38.hapmap\" | qsub -N h2.continuous-LDLC-both_sexes-medadj_irnt.eur -V -cwd -pe smp 4 -o /frazer01/projects/CARDIPS/analysis/epigenome_resource/analyses/jennifer/ldsc/logs/h2.exp_peaks_together.continuous-LDLC-both_sexes-medadj_irnt.eur.out -e /frazer01/projects/CARDIPS/analysis/epigenome_resource/analyses/jennifer/ldsc/logs/h2.exp_peaks_together.continuous-LDLC-both_sexes-medadj_irnt.eur.err\n",
      "\n",
      "echo \"source /frazer01/home/jennifer/.bash_profile; source activate ldsc; python ~/software/ldsc/ldsc.py --h2 /frazer01/projects/CARDIPS/analysis/epigenome_resource/analyses/jennifer/ldsc/sumstats/continuous-LDLC-both_sexes-medadj_irnt.meta.hg38.hapmap.sumstats.gz --ref-ld-chr /projects/CARDIPS/analysis/epigenome_resource/analyses/jennifer/ldsc/annot/exp_peaks_together/,/projects/CARDIPS/analysis/epigenome_resource/analyses/jennifer/ldsc/reference/baseline_v1.2/baseline. --w-ld-chr /projects/CARDIPS/analysis/epigenome_resource/analyses/jennifer/ldsc/reference/weights/weights.hm3_noMHC. --overlap-annot --frqfile-chr /projects/CARDIPS/analysis/epigenome_resource/analyses/jennifer/ldsc/reference/1000G_Phase3_frq/1000G.EUR.QC. --out /frazer01/projects/CARDIPS/analysis/epigenome_resource/analyses/jennifer/ldsc/h2/exp_peaks_together/continuous-LDLC-both_sexes-medadj_irnt.meta.hg38.hapmap\" | qsub -N h2.continuous-LDLC-both_sexes-medadj_irnt.meta -V -cwd -pe smp 4 -o /frazer01/projects/CARDIPS/analysis/epigenome_resource/analyses/jennifer/ldsc/logs/h2.exp_peaks_together.continuous-LDLC-both_sexes-medadj_irnt.meta.out -e /frazer01/projects/CARDIPS/analysis/epigenome_resource/analyses/jennifer/ldsc/logs/h2.exp_peaks_together.continuous-LDLC-both_sexes-medadj_irnt.meta.err\n",
      "\n",
      "echo \"source /frazer01/home/jennifer/.bash_profile; source activate ldsc; python ~/software/ldsc/ldsc.py --h2 /frazer01/projects/CARDIPS/analysis/epigenome_resource/analyses/jennifer/ldsc/sumstats/continuous-MAP-both_sexes-combined_medadj_irnt.eur.hg38.hapmap.sumstats.gz --ref-ld-chr /projects/CARDIPS/analysis/epigenome_resource/analyses/jennifer/ldsc/annot/exp_peaks_together/,/projects/CARDIPS/analysis/epigenome_resource/analyses/jennifer/ldsc/reference/baseline_v1.2/baseline. --w-ld-chr /projects/CARDIPS/analysis/epigenome_resource/analyses/jennifer/ldsc/reference/weights/weights.hm3_noMHC. --overlap-annot --frqfile-chr /projects/CARDIPS/analysis/epigenome_resource/analyses/jennifer/ldsc/reference/1000G_Phase3_frq/1000G.EUR.QC. --out /frazer01/projects/CARDIPS/analysis/epigenome_resource/analyses/jennifer/ldsc/h2/exp_peaks_together/continuous-MAP-both_sexes-combined_medadj_irnt.eur.hg38.hapmap\" | qsub -N h2.continuous-MAP-both_sexes-combined_medadj_irnt.eur -V -cwd -pe smp 4 -o /frazer01/projects/CARDIPS/analysis/epigenome_resource/analyses/jennifer/ldsc/logs/h2.exp_peaks_together.continuous-MAP-both_sexes-combined_medadj_irnt.eur.out -e /frazer01/projects/CARDIPS/analysis/epigenome_resource/analyses/jennifer/ldsc/logs/h2.exp_peaks_together.continuous-MAP-both_sexes-combined_medadj_irnt.eur.err\n",
      "\n",
      "echo \"source /frazer01/home/jennifer/.bash_profile; source activate ldsc; python ~/software/ldsc/ldsc.py --h2 /frazer01/projects/CARDIPS/analysis/epigenome_resource/analyses/jennifer/ldsc/sumstats/continuous-MAP-both_sexes-combined_medadj_irnt.meta.hg38.hapmap.sumstats.gz --ref-ld-chr /projects/CARDIPS/analysis/epigenome_resource/analyses/jennifer/ldsc/annot/exp_peaks_together/,/projects/CARDIPS/analysis/epigenome_resource/analyses/jennifer/ldsc/reference/baseline_v1.2/baseline. --w-ld-chr /projects/CARDIPS/analysis/epigenome_resource/analyses/jennifer/ldsc/reference/weights/weights.hm3_noMHC. --overlap-annot --frqfile-chr /projects/CARDIPS/analysis/epigenome_resource/analyses/jennifer/ldsc/reference/1000G_Phase3_frq/1000G.EUR.QC. --out /frazer01/projects/CARDIPS/analysis/epigenome_resource/analyses/jennifer/ldsc/h2/exp_peaks_together/continuous-MAP-both_sexes-combined_medadj_irnt.meta.hg38.hapmap\" | qsub -N h2.continuous-MAP-both_sexes-combined_medadj_irnt.meta -V -cwd -pe smp 4 -o /frazer01/projects/CARDIPS/analysis/epigenome_resource/analyses/jennifer/ldsc/logs/h2.exp_peaks_together.continuous-MAP-both_sexes-combined_medadj_irnt.meta.out -e /frazer01/projects/CARDIPS/analysis/epigenome_resource/analyses/jennifer/ldsc/logs/h2.exp_peaks_together.continuous-MAP-both_sexes-combined_medadj_irnt.meta.err\n",
      "\n",
      "echo \"source /frazer01/home/jennifer/.bash_profile; source activate ldsc; python ~/software/ldsc/ldsc.py --h2 /frazer01/projects/CARDIPS/analysis/epigenome_resource/analyses/jennifer/ldsc/sumstats/continuous-PP-both_sexes-combined_medadj_irnt.eur.hg38.hapmap.sumstats.gz --ref-ld-chr /projects/CARDIPS/analysis/epigenome_resource/analyses/jennifer/ldsc/annot/exp_peaks_together/,/projects/CARDIPS/analysis/epigenome_resource/analyses/jennifer/ldsc/reference/baseline_v1.2/baseline. --w-ld-chr /projects/CARDIPS/analysis/epigenome_resource/analyses/jennifer/ldsc/reference/weights/weights.hm3_noMHC. --overlap-annot --frqfile-chr /projects/CARDIPS/analysis/epigenome_resource/analyses/jennifer/ldsc/reference/1000G_Phase3_frq/1000G.EUR.QC. --out /frazer01/projects/CARDIPS/analysis/epigenome_resource/analyses/jennifer/ldsc/h2/exp_peaks_together/continuous-PP-both_sexes-combined_medadj_irnt.eur.hg38.hapmap\" | qsub -N h2.continuous-PP-both_sexes-combined_medadj_irnt.eur -V -cwd -pe smp 4 -o /frazer01/projects/CARDIPS/analysis/epigenome_resource/analyses/jennifer/ldsc/logs/h2.exp_peaks_together.continuous-PP-both_sexes-combined_medadj_irnt.eur.out -e /frazer01/projects/CARDIPS/analysis/epigenome_resource/analyses/jennifer/ldsc/logs/h2.exp_peaks_together.continuous-PP-both_sexes-combined_medadj_irnt.eur.err\n",
      "\n",
      "echo \"source /frazer01/home/jennifer/.bash_profile; source activate ldsc; python ~/software/ldsc/ldsc.py --h2 /frazer01/projects/CARDIPS/analysis/epigenome_resource/analyses/jennifer/ldsc/sumstats/continuous-PP-both_sexes-combined_medadj_irnt.meta.hg38.hapmap.sumstats.gz --ref-ld-chr /projects/CARDIPS/analysis/epigenome_resource/analyses/jennifer/ldsc/annot/exp_peaks_together/,/projects/CARDIPS/analysis/epigenome_resource/analyses/jennifer/ldsc/reference/baseline_v1.2/baseline. --w-ld-chr /projects/CARDIPS/analysis/epigenome_resource/analyses/jennifer/ldsc/reference/weights/weights.hm3_noMHC. --overlap-annot --frqfile-chr /projects/CARDIPS/analysis/epigenome_resource/analyses/jennifer/ldsc/reference/1000G_Phase3_frq/1000G.EUR.QC. --out /frazer01/projects/CARDIPS/analysis/epigenome_resource/analyses/jennifer/ldsc/h2/exp_peaks_together/continuous-PP-both_sexes-combined_medadj_irnt.meta.hg38.hapmap\" | qsub -N h2.continuous-PP-both_sexes-combined_medadj_irnt.meta -V -cwd -pe smp 4 -o /frazer01/projects/CARDIPS/analysis/epigenome_resource/analyses/jennifer/ldsc/logs/h2.exp_peaks_together.continuous-PP-both_sexes-combined_medadj_irnt.meta.out -e /frazer01/projects/CARDIPS/analysis/epigenome_resource/analyses/jennifer/ldsc/logs/h2.exp_peaks_together.continuous-PP-both_sexes-combined_medadj_irnt.meta.err\n",
      "\n",
      "echo \"source /frazer01/home/jennifer/.bash_profile; source activate ldsc; python ~/software/ldsc/ldsc.py --h2 /frazer01/projects/CARDIPS/analysis/epigenome_resource/analyses/jennifer/ldsc/sumstats/continuous-SBP-both_sexes-combined_medadj_irnt.eur.hg38.hapmap.sumstats.gz --ref-ld-chr /projects/CARDIPS/analysis/epigenome_resource/analyses/jennifer/ldsc/annot/exp_peaks_together/,/projects/CARDIPS/analysis/epigenome_resource/analyses/jennifer/ldsc/reference/baseline_v1.2/baseline. --w-ld-chr /projects/CARDIPS/analysis/epigenome_resource/analyses/jennifer/ldsc/reference/weights/weights.hm3_noMHC. --overlap-annot --frqfile-chr /projects/CARDIPS/analysis/epigenome_resource/analyses/jennifer/ldsc/reference/1000G_Phase3_frq/1000G.EUR.QC. --out /frazer01/projects/CARDIPS/analysis/epigenome_resource/analyses/jennifer/ldsc/h2/exp_peaks_together/continuous-SBP-both_sexes-combined_medadj_irnt.eur.hg38.hapmap\" | qsub -N h2.continuous-SBP-both_sexes-combined_medadj_irnt.eur -V -cwd -pe smp 4 -o /frazer01/projects/CARDIPS/analysis/epigenome_resource/analyses/jennifer/ldsc/logs/h2.exp_peaks_together.continuous-SBP-both_sexes-combined_medadj_irnt.eur.out -e /frazer01/projects/CARDIPS/analysis/epigenome_resource/analyses/jennifer/ldsc/logs/h2.exp_peaks_together.continuous-SBP-both_sexes-combined_medadj_irnt.eur.err\n",
      "\n",
      "echo \"source /frazer01/home/jennifer/.bash_profile; source activate ldsc; python ~/software/ldsc/ldsc.py --h2 /frazer01/projects/CARDIPS/analysis/epigenome_resource/analyses/jennifer/ldsc/sumstats/continuous-SBP-both_sexes-combined_medadj_irnt.meta.hg38.hapmap.sumstats.gz --ref-ld-chr /projects/CARDIPS/analysis/epigenome_resource/analyses/jennifer/ldsc/annot/exp_peaks_together/,/projects/CARDIPS/analysis/epigenome_resource/analyses/jennifer/ldsc/reference/baseline_v1.2/baseline. --w-ld-chr /projects/CARDIPS/analysis/epigenome_resource/analyses/jennifer/ldsc/reference/weights/weights.hm3_noMHC. --overlap-annot --frqfile-chr /projects/CARDIPS/analysis/epigenome_resource/analyses/jennifer/ldsc/reference/1000G_Phase3_frq/1000G.EUR.QC. --out /frazer01/projects/CARDIPS/analysis/epigenome_resource/analyses/jennifer/ldsc/h2/exp_peaks_together/continuous-SBP-both_sexes-combined_medadj_irnt.meta.hg38.hapmap\" | qsub -N h2.continuous-SBP-both_sexes-combined_medadj_irnt.meta -V -cwd -pe smp 4 -o /frazer01/projects/CARDIPS/analysis/epigenome_resource/analyses/jennifer/ldsc/logs/h2.exp_peaks_together.continuous-SBP-both_sexes-combined_medadj_irnt.meta.out -e /frazer01/projects/CARDIPS/analysis/epigenome_resource/analyses/jennifer/ldsc/logs/h2.exp_peaks_together.continuous-SBP-both_sexes-combined_medadj_irnt.meta.err\n",
      "\n",
      "echo \"source /frazer01/home/jennifer/.bash_profile; source activate ldsc; python ~/software/ldsc/ldsc.py --h2 /frazer01/projects/CARDIPS/analysis/epigenome_resource/analyses/jennifer/ldsc/sumstats/GCST90014023_buildGRCh38.hg38.hapmap.sumstats.gz --ref-ld-chr /projects/CARDIPS/analysis/epigenome_resource/analyses/jennifer/ldsc/annot/exp_peaks_together/,/projects/CARDIPS/analysis/epigenome_resource/analyses/jennifer/ldsc/reference/baseline_v1.2/baseline. --w-ld-chr /projects/CARDIPS/analysis/epigenome_resource/analyses/jennifer/ldsc/reference/weights/weights.hm3_noMHC. --overlap-annot --frqfile-chr /projects/CARDIPS/analysis/epigenome_resource/analyses/jennifer/ldsc/reference/1000G_Phase3_frq/1000G.EUR.QC. --out /frazer01/projects/CARDIPS/analysis/epigenome_resource/analyses/jennifer/ldsc/h2/exp_peaks_together/GCST90014023_buildGRCh38.hg38.hapmap\" | qsub -N h2.GCST90014023_buildGRCh38 -V -cwd -pe smp 4 -o /frazer01/projects/CARDIPS/analysis/epigenome_resource/analyses/jennifer/ldsc/logs/h2.exp_peaks_together.GCST90014023_buildGRCh38.out -e /frazer01/projects/CARDIPS/analysis/epigenome_resource/analyses/jennifer/ldsc/logs/h2.exp_peaks_together.GCST90014023_buildGRCh38.err\n",
      "\n",
      "echo \"source /frazer01/home/jennifer/.bash_profile; source activate ldsc; python ~/software/ldsc/ldsc.py --h2 /frazer01/projects/CARDIPS/analysis/epigenome_resource/analyses/jennifer/ldsc/sumstats/HC_BIRTH.filteredDf0.hg38.hapmap.sumstats.gz --ref-ld-chr /projects/CARDIPS/analysis/epigenome_resource/analyses/jennifer/ldsc/annot/exp_peaks_together/,/projects/CARDIPS/analysis/epigenome_resource/analyses/jennifer/ldsc/reference/baseline_v1.2/baseline. --w-ld-chr /projects/CARDIPS/analysis/epigenome_resource/analyses/jennifer/ldsc/reference/weights/weights.hm3_noMHC. --overlap-annot --frqfile-chr /projects/CARDIPS/analysis/epigenome_resource/analyses/jennifer/ldsc/reference/1000G_Phase3_frq/1000G.EUR.QC. --out /frazer01/projects/CARDIPS/analysis/epigenome_resource/analyses/jennifer/ldsc/h2/exp_peaks_together/HC_BIRTH.filteredDf0.hg38.hapmap\" | qsub -N h2.HC_BIRTH.filteredDf0 -V -cwd -pe smp 4 -o /frazer01/projects/CARDIPS/analysis/epigenome_resource/analyses/jennifer/ldsc/logs/h2.exp_peaks_together.HC_BIRTH.filteredDf0.out -e /frazer01/projects/CARDIPS/analysis/epigenome_resource/analyses/jennifer/ldsc/logs/h2.exp_peaks_together.HC_BIRTH.filteredDf0.err\n",
      "\n",
      "echo \"source /frazer01/home/jennifer/.bash_profile; source activate ldsc; python ~/software/ldsc/ldsc.py --h2 /frazer01/projects/CARDIPS/analysis/epigenome_resource/analyses/jennifer/ldsc/sumstats/HC_INFANT.filteredDf0.hg38.hapmap.sumstats.gz --ref-ld-chr /projects/CARDIPS/analysis/epigenome_resource/analyses/jennifer/ldsc/annot/exp_peaks_together/,/projects/CARDIPS/analysis/epigenome_resource/analyses/jennifer/ldsc/reference/baseline_v1.2/baseline. --w-ld-chr /projects/CARDIPS/analysis/epigenome_resource/analyses/jennifer/ldsc/reference/weights/weights.hm3_noMHC. --overlap-annot --frqfile-chr /projects/CARDIPS/analysis/epigenome_resource/analyses/jennifer/ldsc/reference/1000G_Phase3_frq/1000G.EUR.QC. --out /frazer01/projects/CARDIPS/analysis/epigenome_resource/analyses/jennifer/ldsc/h2/exp_peaks_together/HC_INFANT.filteredDf0.hg38.hapmap\" | qsub -N h2.HC_INFANT.filteredDf0 -V -cwd -pe smp 4 -o /frazer01/projects/CARDIPS/analysis/epigenome_resource/analyses/jennifer/ldsc/logs/h2.exp_peaks_together.HC_INFANT.filteredDf0.out -e /frazer01/projects/CARDIPS/analysis/epigenome_resource/analyses/jennifer/ldsc/logs/h2.exp_peaks_together.HC_INFANT.filteredDf0.err\n",
      "\n",
      "echo \"source /frazer01/home/jennifer/.bash_profile; source activate ldsc; python ~/software/ldsc/ldsc.py --h2 /frazer01/projects/CARDIPS/analysis/epigenome_resource/analyses/jennifer/ldsc/sumstats/icd10-E10-both_sexes.eur.hg38.hapmap.sumstats.gz --ref-ld-chr /projects/CARDIPS/analysis/epigenome_resource/analyses/jennifer/ldsc/annot/exp_peaks_together/,/projects/CARDIPS/analysis/epigenome_resource/analyses/jennifer/ldsc/reference/baseline_v1.2/baseline. --w-ld-chr /projects/CARDIPS/analysis/epigenome_resource/analyses/jennifer/ldsc/reference/weights/weights.hm3_noMHC. --overlap-annot --frqfile-chr /projects/CARDIPS/analysis/epigenome_resource/analyses/jennifer/ldsc/reference/1000G_Phase3_frq/1000G.EUR.QC. --out /frazer01/projects/CARDIPS/analysis/epigenome_resource/analyses/jennifer/ldsc/h2/exp_peaks_together/icd10-E10-both_sexes.eur.hg38.hapmap\" | qsub -N h2.icd10-E10-both_sexes.eur -V -cwd -pe smp 4 -o /frazer01/projects/CARDIPS/analysis/epigenome_resource/analyses/jennifer/ldsc/logs/h2.exp_peaks_together.icd10-E10-both_sexes.eur.out -e /frazer01/projects/CARDIPS/analysis/epigenome_resource/analyses/jennifer/ldsc/logs/h2.exp_peaks_together.icd10-E10-both_sexes.eur.err\n",
      "\n",
      "echo \"source /frazer01/home/jennifer/.bash_profile; source activate ldsc; python ~/software/ldsc/ldsc.py --h2 /frazer01/projects/CARDIPS/analysis/epigenome_resource/analyses/jennifer/ldsc/sumstats/icd10-E10-both_sexes.meta.hg38.hapmap.sumstats.gz --ref-ld-chr /projects/CARDIPS/analysis/epigenome_resource/analyses/jennifer/ldsc/annot/exp_peaks_together/,/projects/CARDIPS/analysis/epigenome_resource/analyses/jennifer/ldsc/reference/baseline_v1.2/baseline. --w-ld-chr /projects/CARDIPS/analysis/epigenome_resource/analyses/jennifer/ldsc/reference/weights/weights.hm3_noMHC. --overlap-annot --frqfile-chr /projects/CARDIPS/analysis/epigenome_resource/analyses/jennifer/ldsc/reference/1000G_Phase3_frq/1000G.EUR.QC. --out /frazer01/projects/CARDIPS/analysis/epigenome_resource/analyses/jennifer/ldsc/h2/exp_peaks_together/icd10-E10-both_sexes.meta.hg38.hapmap\" | qsub -N h2.icd10-E10-both_sexes.meta -V -cwd -pe smp 4 -o /frazer01/projects/CARDIPS/analysis/epigenome_resource/analyses/jennifer/ldsc/logs/h2.exp_peaks_together.icd10-E10-both_sexes.meta.out -e /frazer01/projects/CARDIPS/analysis/epigenome_resource/analyses/jennifer/ldsc/logs/h2.exp_peaks_together.icd10-E10-both_sexes.meta.err\n",
      "\n",
      "echo \"source /frazer01/home/jennifer/.bash_profile; source activate ldsc; python ~/software/ldsc/ldsc.py --h2 /frazer01/projects/CARDIPS/analysis/epigenome_resource/analyses/jennifer/ldsc/sumstats/icd10-E11-both_sexes.eur.hg38.hapmap.sumstats.gz --ref-ld-chr /projects/CARDIPS/analysis/epigenome_resource/analyses/jennifer/ldsc/annot/exp_peaks_together/,/projects/CARDIPS/analysis/epigenome_resource/analyses/jennifer/ldsc/reference/baseline_v1.2/baseline. --w-ld-chr /projects/CARDIPS/analysis/epigenome_resource/analyses/jennifer/ldsc/reference/weights/weights.hm3_noMHC. --overlap-annot --frqfile-chr /projects/CARDIPS/analysis/epigenome_resource/analyses/jennifer/ldsc/reference/1000G_Phase3_frq/1000G.EUR.QC. --out /frazer01/projects/CARDIPS/analysis/epigenome_resource/analyses/jennifer/ldsc/h2/exp_peaks_together/icd10-E11-both_sexes.eur.hg38.hapmap\" | qsub -N h2.icd10-E11-both_sexes.eur -V -cwd -pe smp 4 -o /frazer01/projects/CARDIPS/analysis/epigenome_resource/analyses/jennifer/ldsc/logs/h2.exp_peaks_together.icd10-E11-both_sexes.eur.out -e /frazer01/projects/CARDIPS/analysis/epigenome_resource/analyses/jennifer/ldsc/logs/h2.exp_peaks_together.icd10-E11-both_sexes.eur.err\n",
      "\n",
      "echo \"source /frazer01/home/jennifer/.bash_profile; source activate ldsc; python ~/software/ldsc/ldsc.py --h2 /frazer01/projects/CARDIPS/analysis/epigenome_resource/analyses/jennifer/ldsc/sumstats/icd10-E11-both_sexes.meta.hg38.hapmap.sumstats.gz --ref-ld-chr /projects/CARDIPS/analysis/epigenome_resource/analyses/jennifer/ldsc/annot/exp_peaks_together/,/projects/CARDIPS/analysis/epigenome_resource/analyses/jennifer/ldsc/reference/baseline_v1.2/baseline. --w-ld-chr /projects/CARDIPS/analysis/epigenome_resource/analyses/jennifer/ldsc/reference/weights/weights.hm3_noMHC. --overlap-annot --frqfile-chr /projects/CARDIPS/analysis/epigenome_resource/analyses/jennifer/ldsc/reference/1000G_Phase3_frq/1000G.EUR.QC. --out /frazer01/projects/CARDIPS/analysis/epigenome_resource/analyses/jennifer/ldsc/h2/exp_peaks_together/icd10-E11-both_sexes.meta.hg38.hapmap\" | qsub -N h2.icd10-E11-both_sexes.meta -V -cwd -pe smp 4 -o /frazer01/projects/CARDIPS/analysis/epigenome_resource/analyses/jennifer/ldsc/logs/h2.exp_peaks_together.icd10-E11-both_sexes.meta.out -e /frazer01/projects/CARDIPS/analysis/epigenome_resource/analyses/jennifer/ldsc/logs/h2.exp_peaks_together.icd10-E11-both_sexes.meta.err\n",
      "\n",
      "echo \"source /frazer01/home/jennifer/.bash_profile; source activate ldsc; python ~/software/ldsc/ldsc.py --h2 /frazer01/projects/CARDIPS/analysis/epigenome_resource/analyses/jennifer/ldsc/sumstats/icd10-H25-both_sexes.eur.hg38.hapmap.sumstats.gz --ref-ld-chr /projects/CARDIPS/analysis/epigenome_resource/analyses/jennifer/ldsc/annot/exp_peaks_together/,/projects/CARDIPS/analysis/epigenome_resource/analyses/jennifer/ldsc/reference/baseline_v1.2/baseline. --w-ld-chr /projects/CARDIPS/analysis/epigenome_resource/analyses/jennifer/ldsc/reference/weights/weights.hm3_noMHC. --overlap-annot --frqfile-chr /projects/CARDIPS/analysis/epigenome_resource/analyses/jennifer/ldsc/reference/1000G_Phase3_frq/1000G.EUR.QC. --out /frazer01/projects/CARDIPS/analysis/epigenome_resource/analyses/jennifer/ldsc/h2/exp_peaks_together/icd10-H25-both_sexes.eur.hg38.hapmap\" | qsub -N h2.icd10-H25-both_sexes.eur -V -cwd -pe smp 4 -o /frazer01/projects/CARDIPS/analysis/epigenome_resource/analyses/jennifer/ldsc/logs/h2.exp_peaks_together.icd10-H25-both_sexes.eur.out -e /frazer01/projects/CARDIPS/analysis/epigenome_resource/analyses/jennifer/ldsc/logs/h2.exp_peaks_together.icd10-H25-both_sexes.eur.err\n",
      "\n",
      "echo \"source /frazer01/home/jennifer/.bash_profile; source activate ldsc; python ~/software/ldsc/ldsc.py --h2 /frazer01/projects/CARDIPS/analysis/epigenome_resource/analyses/jennifer/ldsc/sumstats/icd10-H25-both_sexes.meta.hg38.hapmap.sumstats.gz --ref-ld-chr /projects/CARDIPS/analysis/epigenome_resource/analyses/jennifer/ldsc/annot/exp_peaks_together/,/projects/CARDIPS/analysis/epigenome_resource/analyses/jennifer/ldsc/reference/baseline_v1.2/baseline. --w-ld-chr /projects/CARDIPS/analysis/epigenome_resource/analyses/jennifer/ldsc/reference/weights/weights.hm3_noMHC. --overlap-annot --frqfile-chr /projects/CARDIPS/analysis/epigenome_resource/analyses/jennifer/ldsc/reference/1000G_Phase3_frq/1000G.EUR.QC. --out /frazer01/projects/CARDIPS/analysis/epigenome_resource/analyses/jennifer/ldsc/h2/exp_peaks_together/icd10-H25-both_sexes.meta.hg38.hapmap\" | qsub -N h2.icd10-H25-both_sexes.meta -V -cwd -pe smp 4 -o /frazer01/projects/CARDIPS/analysis/epigenome_resource/analyses/jennifer/ldsc/logs/h2.exp_peaks_together.icd10-H25-both_sexes.meta.out -e /frazer01/projects/CARDIPS/analysis/epigenome_resource/analyses/jennifer/ldsc/logs/h2.exp_peaks_together.icd10-H25-both_sexes.meta.err\n",
      "\n",
      "echo \"source /frazer01/home/jennifer/.bash_profile; source activate ldsc; python ~/software/ldsc/ldsc.py --h2 /frazer01/projects/CARDIPS/analysis/epigenome_resource/analyses/jennifer/ldsc/sumstats/icd10-H40-both_sexes.eur.hg38.hapmap.sumstats.gz --ref-ld-chr /projects/CARDIPS/analysis/epigenome_resource/analyses/jennifer/ldsc/annot/exp_peaks_together/,/projects/CARDIPS/analysis/epigenome_resource/analyses/jennifer/ldsc/reference/baseline_v1.2/baseline. --w-ld-chr /projects/CARDIPS/analysis/epigenome_resource/analyses/jennifer/ldsc/reference/weights/weights.hm3_noMHC. --overlap-annot --frqfile-chr /projects/CARDIPS/analysis/epigenome_resource/analyses/jennifer/ldsc/reference/1000G_Phase3_frq/1000G.EUR.QC. --out /frazer01/projects/CARDIPS/analysis/epigenome_resource/analyses/jennifer/ldsc/h2/exp_peaks_together/icd10-H40-both_sexes.eur.hg38.hapmap\" | qsub -N h2.icd10-H40-both_sexes.eur -V -cwd -pe smp 4 -o /frazer01/projects/CARDIPS/analysis/epigenome_resource/analyses/jennifer/ldsc/logs/h2.exp_peaks_together.icd10-H40-both_sexes.eur.out -e /frazer01/projects/CARDIPS/analysis/epigenome_resource/analyses/jennifer/ldsc/logs/h2.exp_peaks_together.icd10-H40-both_sexes.eur.err\n",
      "\n",
      "echo \"source /frazer01/home/jennifer/.bash_profile; source activate ldsc; python ~/software/ldsc/ldsc.py --h2 /frazer01/projects/CARDIPS/analysis/epigenome_resource/analyses/jennifer/ldsc/sumstats/icd10-H40-both_sexes.meta.hg38.hapmap.sumstats.gz --ref-ld-chr /projects/CARDIPS/analysis/epigenome_resource/analyses/jennifer/ldsc/annot/exp_peaks_together/,/projects/CARDIPS/analysis/epigenome_resource/analyses/jennifer/ldsc/reference/baseline_v1.2/baseline. --w-ld-chr /projects/CARDIPS/analysis/epigenome_resource/analyses/jennifer/ldsc/reference/weights/weights.hm3_noMHC. --overlap-annot --frqfile-chr /projects/CARDIPS/analysis/epigenome_resource/analyses/jennifer/ldsc/reference/1000G_Phase3_frq/1000G.EUR.QC. --out /frazer01/projects/CARDIPS/analysis/epigenome_resource/analyses/jennifer/ldsc/h2/exp_peaks_together/icd10-H40-both_sexes.meta.hg38.hapmap\" | qsub -N h2.icd10-H40-both_sexes.meta -V -cwd -pe smp 4 -o /frazer01/projects/CARDIPS/analysis/epigenome_resource/analyses/jennifer/ldsc/logs/h2.exp_peaks_together.icd10-H40-both_sexes.meta.out -e /frazer01/projects/CARDIPS/analysis/epigenome_resource/analyses/jennifer/ldsc/logs/h2.exp_peaks_together.icd10-H40-both_sexes.meta.err\n",
      "\n",
      "echo \"source /frazer01/home/jennifer/.bash_profile; source activate ldsc; python ~/software/ldsc/ldsc.py --h2 /frazer01/projects/CARDIPS/analysis/epigenome_resource/analyses/jennifer/ldsc/sumstats/icd10-I20-both_sexes.eur.hg38.hapmap.sumstats.gz --ref-ld-chr /projects/CARDIPS/analysis/epigenome_resource/analyses/jennifer/ldsc/annot/exp_peaks_together/,/projects/CARDIPS/analysis/epigenome_resource/analyses/jennifer/ldsc/reference/baseline_v1.2/baseline. --w-ld-chr /projects/CARDIPS/analysis/epigenome_resource/analyses/jennifer/ldsc/reference/weights/weights.hm3_noMHC. --overlap-annot --frqfile-chr /projects/CARDIPS/analysis/epigenome_resource/analyses/jennifer/ldsc/reference/1000G_Phase3_frq/1000G.EUR.QC. --out /frazer01/projects/CARDIPS/analysis/epigenome_resource/analyses/jennifer/ldsc/h2/exp_peaks_together/icd10-I20-both_sexes.eur.hg38.hapmap\" | qsub -N h2.icd10-I20-both_sexes.eur -V -cwd -pe smp 4 -o /frazer01/projects/CARDIPS/analysis/epigenome_resource/analyses/jennifer/ldsc/logs/h2.exp_peaks_together.icd10-I20-both_sexes.eur.out -e /frazer01/projects/CARDIPS/analysis/epigenome_resource/analyses/jennifer/ldsc/logs/h2.exp_peaks_together.icd10-I20-both_sexes.eur.err\n",
      "\n",
      "echo \"source /frazer01/home/jennifer/.bash_profile; source activate ldsc; python ~/software/ldsc/ldsc.py --h2 /frazer01/projects/CARDIPS/analysis/epigenome_resource/analyses/jennifer/ldsc/sumstats/icd10-I20-both_sexes.meta.hg38.hapmap.sumstats.gz --ref-ld-chr /projects/CARDIPS/analysis/epigenome_resource/analyses/jennifer/ldsc/annot/exp_peaks_together/,/projects/CARDIPS/analysis/epigenome_resource/analyses/jennifer/ldsc/reference/baseline_v1.2/baseline. --w-ld-chr /projects/CARDIPS/analysis/epigenome_resource/analyses/jennifer/ldsc/reference/weights/weights.hm3_noMHC. --overlap-annot --frqfile-chr /projects/CARDIPS/analysis/epigenome_resource/analyses/jennifer/ldsc/reference/1000G_Phase3_frq/1000G.EUR.QC. --out /frazer01/projects/CARDIPS/analysis/epigenome_resource/analyses/jennifer/ldsc/h2/exp_peaks_together/icd10-I20-both_sexes.meta.hg38.hapmap\" | qsub -N h2.icd10-I20-both_sexes.meta -V -cwd -pe smp 4 -o /frazer01/projects/CARDIPS/analysis/epigenome_resource/analyses/jennifer/ldsc/logs/h2.exp_peaks_together.icd10-I20-both_sexes.meta.out -e /frazer01/projects/CARDIPS/analysis/epigenome_resource/analyses/jennifer/ldsc/logs/h2.exp_peaks_together.icd10-I20-both_sexes.meta.err\n",
      "\n",
      "echo \"source /frazer01/home/jennifer/.bash_profile; source activate ldsc; python ~/software/ldsc/ldsc.py --h2 /frazer01/projects/CARDIPS/analysis/epigenome_resource/analyses/jennifer/ldsc/sumstats/icd10-I21-both_sexes.eur.hg38.hapmap.sumstats.gz --ref-ld-chr /projects/CARDIPS/analysis/epigenome_resource/analyses/jennifer/ldsc/annot/exp_peaks_together/,/projects/CARDIPS/analysis/epigenome_resource/analyses/jennifer/ldsc/reference/baseline_v1.2/baseline. --w-ld-chr /projects/CARDIPS/analysis/epigenome_resource/analyses/jennifer/ldsc/reference/weights/weights.hm3_noMHC. --overlap-annot --frqfile-chr /projects/CARDIPS/analysis/epigenome_resource/analyses/jennifer/ldsc/reference/1000G_Phase3_frq/1000G.EUR.QC. --out /frazer01/projects/CARDIPS/analysis/epigenome_resource/analyses/jennifer/ldsc/h2/exp_peaks_together/icd10-I21-both_sexes.eur.hg38.hapmap\" | qsub -N h2.icd10-I21-both_sexes.eur -V -cwd -pe smp 4 -o /frazer01/projects/CARDIPS/analysis/epigenome_resource/analyses/jennifer/ldsc/logs/h2.exp_peaks_together.icd10-I21-both_sexes.eur.out -e /frazer01/projects/CARDIPS/analysis/epigenome_resource/analyses/jennifer/ldsc/logs/h2.exp_peaks_together.icd10-I21-both_sexes.eur.err\n",
      "\n",
      "echo \"source /frazer01/home/jennifer/.bash_profile; source activate ldsc; python ~/software/ldsc/ldsc.py --h2 /frazer01/projects/CARDIPS/analysis/epigenome_resource/analyses/jennifer/ldsc/sumstats/icd10-I21-both_sexes.meta.hg38.hapmap.sumstats.gz --ref-ld-chr /projects/CARDIPS/analysis/epigenome_resource/analyses/jennifer/ldsc/annot/exp_peaks_together/,/projects/CARDIPS/analysis/epigenome_resource/analyses/jennifer/ldsc/reference/baseline_v1.2/baseline. --w-ld-chr /projects/CARDIPS/analysis/epigenome_resource/analyses/jennifer/ldsc/reference/weights/weights.hm3_noMHC. --overlap-annot --frqfile-chr /projects/CARDIPS/analysis/epigenome_resource/analyses/jennifer/ldsc/reference/1000G_Phase3_frq/1000G.EUR.QC. --out /frazer01/projects/CARDIPS/analysis/epigenome_resource/analyses/jennifer/ldsc/h2/exp_peaks_together/icd10-I21-both_sexes.meta.hg38.hapmap\" | qsub -N h2.icd10-I21-both_sexes.meta -V -cwd -pe smp 4 -o /frazer01/projects/CARDIPS/analysis/epigenome_resource/analyses/jennifer/ldsc/logs/h2.exp_peaks_together.icd10-I21-both_sexes.meta.out -e /frazer01/projects/CARDIPS/analysis/epigenome_resource/analyses/jennifer/ldsc/logs/h2.exp_peaks_together.icd10-I21-both_sexes.meta.err\n",
      "\n",
      "echo \"source /frazer01/home/jennifer/.bash_profile; source activate ldsc; python ~/software/ldsc/ldsc.py --h2 /frazer01/projects/CARDIPS/analysis/epigenome_resource/analyses/jennifer/ldsc/sumstats/icd10-I25-both_sexes.eur.hg38.hapmap.sumstats.gz --ref-ld-chr /projects/CARDIPS/analysis/epigenome_resource/analyses/jennifer/ldsc/annot/exp_peaks_together/,/projects/CARDIPS/analysis/epigenome_resource/analyses/jennifer/ldsc/reference/baseline_v1.2/baseline. --w-ld-chr /projects/CARDIPS/analysis/epigenome_resource/analyses/jennifer/ldsc/reference/weights/weights.hm3_noMHC. --overlap-annot --frqfile-chr /projects/CARDIPS/analysis/epigenome_resource/analyses/jennifer/ldsc/reference/1000G_Phase3_frq/1000G.EUR.QC. --out /frazer01/projects/CARDIPS/analysis/epigenome_resource/analyses/jennifer/ldsc/h2/exp_peaks_together/icd10-I25-both_sexes.eur.hg38.hapmap\" | qsub -N h2.icd10-I25-both_sexes.eur -V -cwd -pe smp 4 -o /frazer01/projects/CARDIPS/analysis/epigenome_resource/analyses/jennifer/ldsc/logs/h2.exp_peaks_together.icd10-I25-both_sexes.eur.out -e /frazer01/projects/CARDIPS/analysis/epigenome_resource/analyses/jennifer/ldsc/logs/h2.exp_peaks_together.icd10-I25-both_sexes.eur.err\n",
      "\n",
      "echo \"source /frazer01/home/jennifer/.bash_profile; source activate ldsc; python ~/software/ldsc/ldsc.py --h2 /frazer01/projects/CARDIPS/analysis/epigenome_resource/analyses/jennifer/ldsc/sumstats/icd10-I25-both_sexes.meta.hg38.hapmap.sumstats.gz --ref-ld-chr /projects/CARDIPS/analysis/epigenome_resource/analyses/jennifer/ldsc/annot/exp_peaks_together/,/projects/CARDIPS/analysis/epigenome_resource/analyses/jennifer/ldsc/reference/baseline_v1.2/baseline. --w-ld-chr /projects/CARDIPS/analysis/epigenome_resource/analyses/jennifer/ldsc/reference/weights/weights.hm3_noMHC. --overlap-annot --frqfile-chr /projects/CARDIPS/analysis/epigenome_resource/analyses/jennifer/ldsc/reference/1000G_Phase3_frq/1000G.EUR.QC. --out /frazer01/projects/CARDIPS/analysis/epigenome_resource/analyses/jennifer/ldsc/h2/exp_peaks_together/icd10-I25-both_sexes.meta.hg38.hapmap\" | qsub -N h2.icd10-I25-both_sexes.meta -V -cwd -pe smp 4 -o /frazer01/projects/CARDIPS/analysis/epigenome_resource/analyses/jennifer/ldsc/logs/h2.exp_peaks_together.icd10-I25-both_sexes.meta.out -e /frazer01/projects/CARDIPS/analysis/epigenome_resource/analyses/jennifer/ldsc/logs/h2.exp_peaks_together.icd10-I25-both_sexes.meta.err\n",
      "\n",
      "echo \"source /frazer01/home/jennifer/.bash_profile; source activate ldsc; python ~/software/ldsc/ldsc.py --h2 /frazer01/projects/CARDIPS/analysis/epigenome_resource/analyses/jennifer/ldsc/sumstats/icd10-I44-both_sexes.eur.hg38.hapmap.sumstats.gz --ref-ld-chr /projects/CARDIPS/analysis/epigenome_resource/analyses/jennifer/ldsc/annot/exp_peaks_together/,/projects/CARDIPS/analysis/epigenome_resource/analyses/jennifer/ldsc/reference/baseline_v1.2/baseline. --w-ld-chr /projects/CARDIPS/analysis/epigenome_resource/analyses/jennifer/ldsc/reference/weights/weights.hm3_noMHC. --overlap-annot --frqfile-chr /projects/CARDIPS/analysis/epigenome_resource/analyses/jennifer/ldsc/reference/1000G_Phase3_frq/1000G.EUR.QC. --out /frazer01/projects/CARDIPS/analysis/epigenome_resource/analyses/jennifer/ldsc/h2/exp_peaks_together/icd10-I44-both_sexes.eur.hg38.hapmap\" | qsub -N h2.icd10-I44-both_sexes.eur -V -cwd -pe smp 4 -o /frazer01/projects/CARDIPS/analysis/epigenome_resource/analyses/jennifer/ldsc/logs/h2.exp_peaks_together.icd10-I44-both_sexes.eur.out -e /frazer01/projects/CARDIPS/analysis/epigenome_resource/analyses/jennifer/ldsc/logs/h2.exp_peaks_together.icd10-I44-both_sexes.eur.err\n",
      "\n",
      "echo \"source /frazer01/home/jennifer/.bash_profile; source activate ldsc; python ~/software/ldsc/ldsc.py --h2 /frazer01/projects/CARDIPS/analysis/epigenome_resource/analyses/jennifer/ldsc/sumstats/icd10-I44-both_sexes.meta.hg38.hapmap.sumstats.gz --ref-ld-chr /projects/CARDIPS/analysis/epigenome_resource/analyses/jennifer/ldsc/annot/exp_peaks_together/,/projects/CARDIPS/analysis/epigenome_resource/analyses/jennifer/ldsc/reference/baseline_v1.2/baseline. --w-ld-chr /projects/CARDIPS/analysis/epigenome_resource/analyses/jennifer/ldsc/reference/weights/weights.hm3_noMHC. --overlap-annot --frqfile-chr /projects/CARDIPS/analysis/epigenome_resource/analyses/jennifer/ldsc/reference/1000G_Phase3_frq/1000G.EUR.QC. --out /frazer01/projects/CARDIPS/analysis/epigenome_resource/analyses/jennifer/ldsc/h2/exp_peaks_together/icd10-I44-both_sexes.meta.hg38.hapmap\" | qsub -N h2.icd10-I44-both_sexes.meta -V -cwd -pe smp 4 -o /frazer01/projects/CARDIPS/analysis/epigenome_resource/analyses/jennifer/ldsc/logs/h2.exp_peaks_together.icd10-I44-both_sexes.meta.out -e /frazer01/projects/CARDIPS/analysis/epigenome_resource/analyses/jennifer/ldsc/logs/h2.exp_peaks_together.icd10-I44-both_sexes.meta.err\n",
      "\n",
      "echo \"source /frazer01/home/jennifer/.bash_profile; source activate ldsc; python ~/software/ldsc/ldsc.py --h2 /frazer01/projects/CARDIPS/analysis/epigenome_resource/analyses/jennifer/ldsc/sumstats/icd10-I48-both_sexes.eur.hg38.hapmap.sumstats.gz --ref-ld-chr /projects/CARDIPS/analysis/epigenome_resource/analyses/jennifer/ldsc/annot/exp_peaks_together/,/projects/CARDIPS/analysis/epigenome_resource/analyses/jennifer/ldsc/reference/baseline_v1.2/baseline. --w-ld-chr /projects/CARDIPS/analysis/epigenome_resource/analyses/jennifer/ldsc/reference/weights/weights.hm3_noMHC. --overlap-annot --frqfile-chr /projects/CARDIPS/analysis/epigenome_resource/analyses/jennifer/ldsc/reference/1000G_Phase3_frq/1000G.EUR.QC. --out /frazer01/projects/CARDIPS/analysis/epigenome_resource/analyses/jennifer/ldsc/h2/exp_peaks_together/icd10-I48-both_sexes.eur.hg38.hapmap\" | qsub -N h2.icd10-I48-both_sexes.eur -V -cwd -pe smp 4 -o /frazer01/projects/CARDIPS/analysis/epigenome_resource/analyses/jennifer/ldsc/logs/h2.exp_peaks_together.icd10-I48-both_sexes.eur.out -e /frazer01/projects/CARDIPS/analysis/epigenome_resource/analyses/jennifer/ldsc/logs/h2.exp_peaks_together.icd10-I48-both_sexes.eur.err\n",
      "\n",
      "echo \"source /frazer01/home/jennifer/.bash_profile; source activate ldsc; python ~/software/ldsc/ldsc.py --h2 /frazer01/projects/CARDIPS/analysis/epigenome_resource/analyses/jennifer/ldsc/sumstats/icd10-I48-both_sexes.meta.hg38.hapmap.sumstats.gz --ref-ld-chr /projects/CARDIPS/analysis/epigenome_resource/analyses/jennifer/ldsc/annot/exp_peaks_together/,/projects/CARDIPS/analysis/epigenome_resource/analyses/jennifer/ldsc/reference/baseline_v1.2/baseline. --w-ld-chr /projects/CARDIPS/analysis/epigenome_resource/analyses/jennifer/ldsc/reference/weights/weights.hm3_noMHC. --overlap-annot --frqfile-chr /projects/CARDIPS/analysis/epigenome_resource/analyses/jennifer/ldsc/reference/1000G_Phase3_frq/1000G.EUR.QC. --out /frazer01/projects/CARDIPS/analysis/epigenome_resource/analyses/jennifer/ldsc/h2/exp_peaks_together/icd10-I48-both_sexes.meta.hg38.hapmap\" | qsub -N h2.icd10-I48-both_sexes.meta -V -cwd -pe smp 4 -o /frazer01/projects/CARDIPS/analysis/epigenome_resource/analyses/jennifer/ldsc/logs/h2.exp_peaks_together.icd10-I48-both_sexes.meta.out -e /frazer01/projects/CARDIPS/analysis/epigenome_resource/analyses/jennifer/ldsc/logs/h2.exp_peaks_together.icd10-I48-both_sexes.meta.err\n",
      "\n",
      "echo \"source /frazer01/home/jennifer/.bash_profile; source activate ldsc; python ~/software/ldsc/ldsc.py --h2 /frazer01/projects/CARDIPS/analysis/epigenome_resource/analyses/jennifer/ldsc/sumstats/icd10-I50-both_sexes.eur.hg38.hapmap.sumstats.gz --ref-ld-chr /projects/CARDIPS/analysis/epigenome_resource/analyses/jennifer/ldsc/annot/exp_peaks_together/,/projects/CARDIPS/analysis/epigenome_resource/analyses/jennifer/ldsc/reference/baseline_v1.2/baseline. --w-ld-chr /projects/CARDIPS/analysis/epigenome_resource/analyses/jennifer/ldsc/reference/weights/weights.hm3_noMHC. --overlap-annot --frqfile-chr /projects/CARDIPS/analysis/epigenome_resource/analyses/jennifer/ldsc/reference/1000G_Phase3_frq/1000G.EUR.QC. --out /frazer01/projects/CARDIPS/analysis/epigenome_resource/analyses/jennifer/ldsc/h2/exp_peaks_together/icd10-I50-both_sexes.eur.hg38.hapmap\" | qsub -N h2.icd10-I50-both_sexes.eur -V -cwd -pe smp 4 -o /frazer01/projects/CARDIPS/analysis/epigenome_resource/analyses/jennifer/ldsc/logs/h2.exp_peaks_together.icd10-I50-both_sexes.eur.out -e /frazer01/projects/CARDIPS/analysis/epigenome_resource/analyses/jennifer/ldsc/logs/h2.exp_peaks_together.icd10-I50-both_sexes.eur.err\n",
      "\n",
      "echo \"source /frazer01/home/jennifer/.bash_profile; source activate ldsc; python ~/software/ldsc/ldsc.py --h2 /frazer01/projects/CARDIPS/analysis/epigenome_resource/analyses/jennifer/ldsc/sumstats/icd10-I50-both_sexes.meta.hg38.hapmap.sumstats.gz --ref-ld-chr /projects/CARDIPS/analysis/epigenome_resource/analyses/jennifer/ldsc/annot/exp_peaks_together/,/projects/CARDIPS/analysis/epigenome_resource/analyses/jennifer/ldsc/reference/baseline_v1.2/baseline. --w-ld-chr /projects/CARDIPS/analysis/epigenome_resource/analyses/jennifer/ldsc/reference/weights/weights.hm3_noMHC. --overlap-annot --frqfile-chr /projects/CARDIPS/analysis/epigenome_resource/analyses/jennifer/ldsc/reference/1000G_Phase3_frq/1000G.EUR.QC. --out /frazer01/projects/CARDIPS/analysis/epigenome_resource/analyses/jennifer/ldsc/h2/exp_peaks_together/icd10-I50-both_sexes.meta.hg38.hapmap\" | qsub -N h2.icd10-I50-both_sexes.meta -V -cwd -pe smp 4 -o /frazer01/projects/CARDIPS/analysis/epigenome_resource/analyses/jennifer/ldsc/logs/h2.exp_peaks_together.icd10-I50-both_sexes.meta.out -e /frazer01/projects/CARDIPS/analysis/epigenome_resource/analyses/jennifer/ldsc/logs/h2.exp_peaks_together.icd10-I50-both_sexes.meta.err\n",
      "\n",
      "echo \"source /frazer01/home/jennifer/.bash_profile; source activate ldsc; python ~/software/ldsc/ldsc.py --h2 /frazer01/projects/CARDIPS/analysis/epigenome_resource/analyses/jennifer/ldsc/sumstats/icd10-I95-both_sexes.eur.hg38.hapmap.sumstats.gz --ref-ld-chr /projects/CARDIPS/analysis/epigenome_resource/analyses/jennifer/ldsc/annot/exp_peaks_together/,/projects/CARDIPS/analysis/epigenome_resource/analyses/jennifer/ldsc/reference/baseline_v1.2/baseline. --w-ld-chr /projects/CARDIPS/analysis/epigenome_resource/analyses/jennifer/ldsc/reference/weights/weights.hm3_noMHC. --overlap-annot --frqfile-chr /projects/CARDIPS/analysis/epigenome_resource/analyses/jennifer/ldsc/reference/1000G_Phase3_frq/1000G.EUR.QC. --out /frazer01/projects/CARDIPS/analysis/epigenome_resource/analyses/jennifer/ldsc/h2/exp_peaks_together/icd10-I95-both_sexes.eur.hg38.hapmap\" | qsub -N h2.icd10-I95-both_sexes.eur -V -cwd -pe smp 4 -o /frazer01/projects/CARDIPS/analysis/epigenome_resource/analyses/jennifer/ldsc/logs/h2.exp_peaks_together.icd10-I95-both_sexes.eur.out -e /frazer01/projects/CARDIPS/analysis/epigenome_resource/analyses/jennifer/ldsc/logs/h2.exp_peaks_together.icd10-I95-both_sexes.eur.err\n",
      "\n",
      "echo \"source /frazer01/home/jennifer/.bash_profile; source activate ldsc; python ~/software/ldsc/ldsc.py --h2 /frazer01/projects/CARDIPS/analysis/epigenome_resource/analyses/jennifer/ldsc/sumstats/icd10-I95-both_sexes.meta.hg38.hapmap.sumstats.gz --ref-ld-chr /projects/CARDIPS/analysis/epigenome_resource/analyses/jennifer/ldsc/annot/exp_peaks_together/,/projects/CARDIPS/analysis/epigenome_resource/analyses/jennifer/ldsc/reference/baseline_v1.2/baseline. --w-ld-chr /projects/CARDIPS/analysis/epigenome_resource/analyses/jennifer/ldsc/reference/weights/weights.hm3_noMHC. --overlap-annot --frqfile-chr /projects/CARDIPS/analysis/epigenome_resource/analyses/jennifer/ldsc/reference/1000G_Phase3_frq/1000G.EUR.QC. --out /frazer01/projects/CARDIPS/analysis/epigenome_resource/analyses/jennifer/ldsc/h2/exp_peaks_together/icd10-I95-both_sexes.meta.hg38.hapmap\" | qsub -N h2.icd10-I95-both_sexes.meta -V -cwd -pe smp 4 -o /frazer01/projects/CARDIPS/analysis/epigenome_resource/analyses/jennifer/ldsc/logs/h2.exp_peaks_together.icd10-I95-both_sexes.meta.out -e /frazer01/projects/CARDIPS/analysis/epigenome_resource/analyses/jennifer/ldsc/logs/h2.exp_peaks_together.icd10-I95-both_sexes.meta.err\n",
      "\n",
      "echo \"source /frazer01/home/jennifer/.bash_profile; source activate ldsc; python ~/software/ldsc/ldsc.py --h2 /frazer01/projects/CARDIPS/analysis/epigenome_resource/analyses/jennifer/ldsc/sumstats/MAGIC1000G_2hGlu_EUR.hg38.hapmap.sumstats.gz --ref-ld-chr /projects/CARDIPS/analysis/epigenome_resource/analyses/jennifer/ldsc/annot/exp_peaks_together/,/projects/CARDIPS/analysis/epigenome_resource/analyses/jennifer/ldsc/reference/baseline_v1.2/baseline. --w-ld-chr /projects/CARDIPS/analysis/epigenome_resource/analyses/jennifer/ldsc/reference/weights/weights.hm3_noMHC. --overlap-annot --frqfile-chr /projects/CARDIPS/analysis/epigenome_resource/analyses/jennifer/ldsc/reference/1000G_Phase3_frq/1000G.EUR.QC. --out /frazer01/projects/CARDIPS/analysis/epigenome_resource/analyses/jennifer/ldsc/h2/exp_peaks_together/MAGIC1000G_2hGlu_EUR.hg38.hapmap\" | qsub -N h2.MAGIC1000G_2hGlu_EUR -V -cwd -pe smp 4 -o /frazer01/projects/CARDIPS/analysis/epigenome_resource/analyses/jennifer/ldsc/logs/h2.exp_peaks_together.MAGIC1000G_2hGlu_EUR.out -e /frazer01/projects/CARDIPS/analysis/epigenome_resource/analyses/jennifer/ldsc/logs/h2.exp_peaks_together.MAGIC1000G_2hGlu_EUR.err\n",
      "\n",
      "echo \"source /frazer01/home/jennifer/.bash_profile; source activate ldsc; python ~/software/ldsc/ldsc.py --h2 /frazer01/projects/CARDIPS/analysis/epigenome_resource/analyses/jennifer/ldsc/sumstats/MAGIC1000G_FG_EUR.hg38.hapmap.sumstats.gz --ref-ld-chr /projects/CARDIPS/analysis/epigenome_resource/analyses/jennifer/ldsc/annot/exp_peaks_together/,/projects/CARDIPS/analysis/epigenome_resource/analyses/jennifer/ldsc/reference/baseline_v1.2/baseline. --w-ld-chr /projects/CARDIPS/analysis/epigenome_resource/analyses/jennifer/ldsc/reference/weights/weights.hm3_noMHC. --overlap-annot --frqfile-chr /projects/CARDIPS/analysis/epigenome_resource/analyses/jennifer/ldsc/reference/1000G_Phase3_frq/1000G.EUR.QC. --out /frazer01/projects/CARDIPS/analysis/epigenome_resource/analyses/jennifer/ldsc/h2/exp_peaks_together/MAGIC1000G_FG_EUR.hg38.hapmap\" | qsub -N h2.MAGIC1000G_FG_EUR -V -cwd -pe smp 4 -o /frazer01/projects/CARDIPS/analysis/epigenome_resource/analyses/jennifer/ldsc/logs/h2.exp_peaks_together.MAGIC1000G_FG_EUR.out -e /frazer01/projects/CARDIPS/analysis/epigenome_resource/analyses/jennifer/ldsc/logs/h2.exp_peaks_together.MAGIC1000G_FG_EUR.err\n",
      "\n",
      "echo \"source /frazer01/home/jennifer/.bash_profile; source activate ldsc; python ~/software/ldsc/ldsc.py --h2 /frazer01/projects/CARDIPS/analysis/epigenome_resource/analyses/jennifer/ldsc/sumstats/Mahajan.NatGenet2018b.T2D.European_sorted.hg38.hapmap.sumstats.gz --ref-ld-chr /projects/CARDIPS/analysis/epigenome_resource/analyses/jennifer/ldsc/annot/exp_peaks_together/,/projects/CARDIPS/analysis/epigenome_resource/analyses/jennifer/ldsc/reference/baseline_v1.2/baseline. --w-ld-chr /projects/CARDIPS/analysis/epigenome_resource/analyses/jennifer/ldsc/reference/weights/weights.hm3_noMHC. --overlap-annot --frqfile-chr /projects/CARDIPS/analysis/epigenome_resource/analyses/jennifer/ldsc/reference/1000G_Phase3_frq/1000G.EUR.QC. --out /frazer01/projects/CARDIPS/analysis/epigenome_resource/analyses/jennifer/ldsc/h2/exp_peaks_together/Mahajan.NatGenet2018b.T2D.European_sorted.hg38.hapmap\" | qsub -N h2.Mahajan.NatGenet2018b.T2D.European_sorted -V -cwd -pe smp 4 -o /frazer01/projects/CARDIPS/analysis/epigenome_resource/analyses/jennifer/ldsc/logs/h2.exp_peaks_together.Mahajan.NatGenet2018b.T2D.European_sorted.out -e /frazer01/projects/CARDIPS/analysis/epigenome_resource/analyses/jennifer/ldsc/logs/h2.exp_peaks_together.Mahajan.NatGenet2018b.T2D.European_sorted.err\n",
      "\n",
      "echo \"source /frazer01/home/jennifer/.bash_profile; source activate ldsc; python ~/software/ldsc/ldsc.py --h2 /frazer01/projects/CARDIPS/analysis/epigenome_resource/analyses/jennifer/ldsc/sumstats/nallsEtAl2019_excluding23andMe_allVariants.hg38.hapmap.sumstats.gz --ref-ld-chr /projects/CARDIPS/analysis/epigenome_resource/analyses/jennifer/ldsc/annot/exp_peaks_together/,/projects/CARDIPS/analysis/epigenome_resource/analyses/jennifer/ldsc/reference/baseline_v1.2/baseline. --w-ld-chr /projects/CARDIPS/analysis/epigenome_resource/analyses/jennifer/ldsc/reference/weights/weights.hm3_noMHC. --overlap-annot --frqfile-chr /projects/CARDIPS/analysis/epigenome_resource/analyses/jennifer/ldsc/reference/1000G_Phase3_frq/1000G.EUR.QC. --out /frazer01/projects/CARDIPS/analysis/epigenome_resource/analyses/jennifer/ldsc/h2/exp_peaks_together/nallsEtAl2019_excluding23andMe_allVariants.hg38.hapmap\" | qsub -N h2.nallsEtAl2019_excluding23andMe_allVariants -V -cwd -pe smp 4 -o /frazer01/projects/CARDIPS/analysis/epigenome_resource/analyses/jennifer/ldsc/logs/h2.exp_peaks_together.nallsEtAl2019_excluding23andMe_allVariants.out -e /frazer01/projects/CARDIPS/analysis/epigenome_resource/analyses/jennifer/ldsc/logs/h2.exp_peaks_together.nallsEtAl2019_excluding23andMe_allVariants.err\n",
      "\n",
      "echo \"source /frazer01/home/jennifer/.bash_profile; source activate ldsc; python ~/software/ldsc/ldsc.py --h2 /frazer01/projects/CARDIPS/analysis/epigenome_resource/analyses/jennifer/ldsc/sumstats/phecode-275.1-both_sexes.eur.hg38.hapmap.sumstats.gz --ref-ld-chr /projects/CARDIPS/analysis/epigenome_resource/analyses/jennifer/ldsc/annot/exp_peaks_together/,/projects/CARDIPS/analysis/epigenome_resource/analyses/jennifer/ldsc/reference/baseline_v1.2/baseline. --w-ld-chr /projects/CARDIPS/analysis/epigenome_resource/analyses/jennifer/ldsc/reference/weights/weights.hm3_noMHC. --overlap-annot --frqfile-chr /projects/CARDIPS/analysis/epigenome_resource/analyses/jennifer/ldsc/reference/1000G_Phase3_frq/1000G.EUR.QC. --out /frazer01/projects/CARDIPS/analysis/epigenome_resource/analyses/jennifer/ldsc/h2/exp_peaks_together/phecode-275.1-both_sexes.eur.hg38.hapmap\" | qsub -N h2.phecode-275.1-both_sexes.eur -V -cwd -pe smp 4 -o /frazer01/projects/CARDIPS/analysis/epigenome_resource/analyses/jennifer/ldsc/logs/h2.exp_peaks_together.phecode-275.1-both_sexes.eur.out -e /frazer01/projects/CARDIPS/analysis/epigenome_resource/analyses/jennifer/ldsc/logs/h2.exp_peaks_together.phecode-275.1-both_sexes.eur.err\n",
      "\n",
      "echo \"source /frazer01/home/jennifer/.bash_profile; source activate ldsc; python ~/software/ldsc/ldsc.py --h2 /frazer01/projects/CARDIPS/analysis/epigenome_resource/analyses/jennifer/ldsc/sumstats/phecode-280-both_sexes.eur.hg38.hapmap.sumstats.gz --ref-ld-chr /projects/CARDIPS/analysis/epigenome_resource/analyses/jennifer/ldsc/annot/exp_peaks_together/,/projects/CARDIPS/analysis/epigenome_resource/analyses/jennifer/ldsc/reference/baseline_v1.2/baseline. --w-ld-chr /projects/CARDIPS/analysis/epigenome_resource/analyses/jennifer/ldsc/reference/weights/weights.hm3_noMHC. --overlap-annot --frqfile-chr /projects/CARDIPS/analysis/epigenome_resource/analyses/jennifer/ldsc/reference/1000G_Phase3_frq/1000G.EUR.QC. --out /frazer01/projects/CARDIPS/analysis/epigenome_resource/analyses/jennifer/ldsc/h2/exp_peaks_together/phecode-280-both_sexes.eur.hg38.hapmap\" | qsub -N h2.phecode-280-both_sexes.eur -V -cwd -pe smp 4 -o /frazer01/projects/CARDIPS/analysis/epigenome_resource/analyses/jennifer/ldsc/logs/h2.exp_peaks_together.phecode-280-both_sexes.eur.out -e /frazer01/projects/CARDIPS/analysis/epigenome_resource/analyses/jennifer/ldsc/logs/h2.exp_peaks_together.phecode-280-both_sexes.eur.err\n",
      "\n",
      "echo \"source /frazer01/home/jennifer/.bash_profile; source activate ldsc; python ~/software/ldsc/ldsc.py --h2 /frazer01/projects/CARDIPS/analysis/epigenome_resource/analyses/jennifer/ldsc/sumstats/phecode-280-both_sexes.meta.hg38.hapmap.sumstats.gz --ref-ld-chr /projects/CARDIPS/analysis/epigenome_resource/analyses/jennifer/ldsc/annot/exp_peaks_together/,/projects/CARDIPS/analysis/epigenome_resource/analyses/jennifer/ldsc/reference/baseline_v1.2/baseline. --w-ld-chr /projects/CARDIPS/analysis/epigenome_resource/analyses/jennifer/ldsc/reference/weights/weights.hm3_noMHC. --overlap-annot --frqfile-chr /projects/CARDIPS/analysis/epigenome_resource/analyses/jennifer/ldsc/reference/1000G_Phase3_frq/1000G.EUR.QC. --out /frazer01/projects/CARDIPS/analysis/epigenome_resource/analyses/jennifer/ldsc/h2/exp_peaks_together/phecode-280-both_sexes.meta.hg38.hapmap\" | qsub -N h2.phecode-280-both_sexes.meta -V -cwd -pe smp 4 -o /frazer01/projects/CARDIPS/analysis/epigenome_resource/analyses/jennifer/ldsc/logs/h2.exp_peaks_together.phecode-280-both_sexes.meta.out -e /frazer01/projects/CARDIPS/analysis/epigenome_resource/analyses/jennifer/ldsc/logs/h2.exp_peaks_together.phecode-280-both_sexes.meta.err\n",
      "\n",
      "echo \"source /frazer01/home/jennifer/.bash_profile; source activate ldsc; python ~/software/ldsc/ldsc.py --h2 /frazer01/projects/CARDIPS/analysis/epigenome_resource/analyses/jennifer/ldsc/sumstats/phecode-280.1-both_sexes.eur.hg38.hapmap.sumstats.gz --ref-ld-chr /projects/CARDIPS/analysis/epigenome_resource/analyses/jennifer/ldsc/annot/exp_peaks_together/,/projects/CARDIPS/analysis/epigenome_resource/analyses/jennifer/ldsc/reference/baseline_v1.2/baseline. --w-ld-chr /projects/CARDIPS/analysis/epigenome_resource/analyses/jennifer/ldsc/reference/weights/weights.hm3_noMHC. --overlap-annot --frqfile-chr /projects/CARDIPS/analysis/epigenome_resource/analyses/jennifer/ldsc/reference/1000G_Phase3_frq/1000G.EUR.QC. --out /frazer01/projects/CARDIPS/analysis/epigenome_resource/analyses/jennifer/ldsc/h2/exp_peaks_together/phecode-280.1-both_sexes.eur.hg38.hapmap\" | qsub -N h2.phecode-280.1-both_sexes.eur -V -cwd -pe smp 4 -o /frazer01/projects/CARDIPS/analysis/epigenome_resource/analyses/jennifer/ldsc/logs/h2.exp_peaks_together.phecode-280.1-both_sexes.eur.out -e /frazer01/projects/CARDIPS/analysis/epigenome_resource/analyses/jennifer/ldsc/logs/h2.exp_peaks_together.phecode-280.1-both_sexes.eur.err\n",
      "\n",
      "echo \"source /frazer01/home/jennifer/.bash_profile; source activate ldsc; python ~/software/ldsc/ldsc.py --h2 /frazer01/projects/CARDIPS/analysis/epigenome_resource/analyses/jennifer/ldsc/sumstats/phecode-280.1-both_sexes.meta.hg38.hapmap.sumstats.gz --ref-ld-chr /projects/CARDIPS/analysis/epigenome_resource/analyses/jennifer/ldsc/annot/exp_peaks_together/,/projects/CARDIPS/analysis/epigenome_resource/analyses/jennifer/ldsc/reference/baseline_v1.2/baseline. --w-ld-chr /projects/CARDIPS/analysis/epigenome_resource/analyses/jennifer/ldsc/reference/weights/weights.hm3_noMHC. --overlap-annot --frqfile-chr /projects/CARDIPS/analysis/epigenome_resource/analyses/jennifer/ldsc/reference/1000G_Phase3_frq/1000G.EUR.QC. --out /frazer01/projects/CARDIPS/analysis/epigenome_resource/analyses/jennifer/ldsc/h2/exp_peaks_together/phecode-280.1-both_sexes.meta.hg38.hapmap\" | qsub -N h2.phecode-280.1-both_sexes.meta -V -cwd -pe smp 4 -o /frazer01/projects/CARDIPS/analysis/epigenome_resource/analyses/jennifer/ldsc/logs/h2.exp_peaks_together.phecode-280.1-both_sexes.meta.out -e /frazer01/projects/CARDIPS/analysis/epigenome_resource/analyses/jennifer/ldsc/logs/h2.exp_peaks_together.phecode-280.1-both_sexes.meta.err\n",
      "\n",
      "echo \"source /frazer01/home/jennifer/.bash_profile; source activate ldsc; python ~/software/ldsc/ldsc.py --h2 /frazer01/projects/CARDIPS/analysis/epigenome_resource/analyses/jennifer/ldsc/sumstats/phecode-280.2-both_sexes.eur.hg38.hapmap.sumstats.gz --ref-ld-chr /projects/CARDIPS/analysis/epigenome_resource/analyses/jennifer/ldsc/annot/exp_peaks_together/,/projects/CARDIPS/analysis/epigenome_resource/analyses/jennifer/ldsc/reference/baseline_v1.2/baseline. --w-ld-chr /projects/CARDIPS/analysis/epigenome_resource/analyses/jennifer/ldsc/reference/weights/weights.hm3_noMHC. --overlap-annot --frqfile-chr /projects/CARDIPS/analysis/epigenome_resource/analyses/jennifer/ldsc/reference/1000G_Phase3_frq/1000G.EUR.QC. --out /frazer01/projects/CARDIPS/analysis/epigenome_resource/analyses/jennifer/ldsc/h2/exp_peaks_together/phecode-280.2-both_sexes.eur.hg38.hapmap\" | qsub -N h2.phecode-280.2-both_sexes.eur -V -cwd -pe smp 4 -o /frazer01/projects/CARDIPS/analysis/epigenome_resource/analyses/jennifer/ldsc/logs/h2.exp_peaks_together.phecode-280.2-both_sexes.eur.out -e /frazer01/projects/CARDIPS/analysis/epigenome_resource/analyses/jennifer/ldsc/logs/h2.exp_peaks_together.phecode-280.2-both_sexes.eur.err\n",
      "\n",
      "echo \"source /frazer01/home/jennifer/.bash_profile; source activate ldsc; python ~/software/ldsc/ldsc.py --h2 /frazer01/projects/CARDIPS/analysis/epigenome_resource/analyses/jennifer/ldsc/sumstats/phecode-281-both_sexes.eur.hg38.hapmap.sumstats.gz --ref-ld-chr /projects/CARDIPS/analysis/epigenome_resource/analyses/jennifer/ldsc/annot/exp_peaks_together/,/projects/CARDIPS/analysis/epigenome_resource/analyses/jennifer/ldsc/reference/baseline_v1.2/baseline. --w-ld-chr /projects/CARDIPS/analysis/epigenome_resource/analyses/jennifer/ldsc/reference/weights/weights.hm3_noMHC. --overlap-annot --frqfile-chr /projects/CARDIPS/analysis/epigenome_resource/analyses/jennifer/ldsc/reference/1000G_Phase3_frq/1000G.EUR.QC. --out /frazer01/projects/CARDIPS/analysis/epigenome_resource/analyses/jennifer/ldsc/h2/exp_peaks_together/phecode-281-both_sexes.eur.hg38.hapmap\" | qsub -N h2.phecode-281-both_sexes.eur -V -cwd -pe smp 4 -o /frazer01/projects/CARDIPS/analysis/epigenome_resource/analyses/jennifer/ldsc/logs/h2.exp_peaks_together.phecode-281-both_sexes.eur.out -e /frazer01/projects/CARDIPS/analysis/epigenome_resource/analyses/jennifer/ldsc/logs/h2.exp_peaks_together.phecode-281-both_sexes.eur.err\n",
      "\n",
      "echo \"source /frazer01/home/jennifer/.bash_profile; source activate ldsc; python ~/software/ldsc/ldsc.py --h2 /frazer01/projects/CARDIPS/analysis/epigenome_resource/analyses/jennifer/ldsc/sumstats/phecode-281-both_sexes.meta.hg38.hapmap.sumstats.gz --ref-ld-chr /projects/CARDIPS/analysis/epigenome_resource/analyses/jennifer/ldsc/annot/exp_peaks_together/,/projects/CARDIPS/analysis/epigenome_resource/analyses/jennifer/ldsc/reference/baseline_v1.2/baseline. --w-ld-chr /projects/CARDIPS/analysis/epigenome_resource/analyses/jennifer/ldsc/reference/weights/weights.hm3_noMHC. --overlap-annot --frqfile-chr /projects/CARDIPS/analysis/epigenome_resource/analyses/jennifer/ldsc/reference/1000G_Phase3_frq/1000G.EUR.QC. --out /frazer01/projects/CARDIPS/analysis/epigenome_resource/analyses/jennifer/ldsc/h2/exp_peaks_together/phecode-281-both_sexes.meta.hg38.hapmap\" | qsub -N h2.phecode-281-both_sexes.meta -V -cwd -pe smp 4 -o /frazer01/projects/CARDIPS/analysis/epigenome_resource/analyses/jennifer/ldsc/logs/h2.exp_peaks_together.phecode-281-both_sexes.meta.out -e /frazer01/projects/CARDIPS/analysis/epigenome_resource/analyses/jennifer/ldsc/logs/h2.exp_peaks_together.phecode-281-both_sexes.meta.err\n",
      "\n",
      "echo \"source /frazer01/home/jennifer/.bash_profile; source activate ldsc; python ~/software/ldsc/ldsc.py --h2 /frazer01/projects/CARDIPS/analysis/epigenome_resource/analyses/jennifer/ldsc/sumstats/phecode-281.1-both_sexes.eur.hg38.hapmap.sumstats.gz --ref-ld-chr /projects/CARDIPS/analysis/epigenome_resource/analyses/jennifer/ldsc/annot/exp_peaks_together/,/projects/CARDIPS/analysis/epigenome_resource/analyses/jennifer/ldsc/reference/baseline_v1.2/baseline. --w-ld-chr /projects/CARDIPS/analysis/epigenome_resource/analyses/jennifer/ldsc/reference/weights/weights.hm3_noMHC. --overlap-annot --frqfile-chr /projects/CARDIPS/analysis/epigenome_resource/analyses/jennifer/ldsc/reference/1000G_Phase3_frq/1000G.EUR.QC. --out /frazer01/projects/CARDIPS/analysis/epigenome_resource/analyses/jennifer/ldsc/h2/exp_peaks_together/phecode-281.1-both_sexes.eur.hg38.hapmap\" | qsub -N h2.phecode-281.1-both_sexes.eur -V -cwd -pe smp 4 -o /frazer01/projects/CARDIPS/analysis/epigenome_resource/analyses/jennifer/ldsc/logs/h2.exp_peaks_together.phecode-281.1-both_sexes.eur.out -e /frazer01/projects/CARDIPS/analysis/epigenome_resource/analyses/jennifer/ldsc/logs/h2.exp_peaks_together.phecode-281.1-both_sexes.eur.err\n",
      "\n",
      "echo \"source /frazer01/home/jennifer/.bash_profile; source activate ldsc; python ~/software/ldsc/ldsc.py --h2 /frazer01/projects/CARDIPS/analysis/epigenome_resource/analyses/jennifer/ldsc/sumstats/phecode-281.1-both_sexes.meta.hg38.hapmap.sumstats.gz --ref-ld-chr /projects/CARDIPS/analysis/epigenome_resource/analyses/jennifer/ldsc/annot/exp_peaks_together/,/projects/CARDIPS/analysis/epigenome_resource/analyses/jennifer/ldsc/reference/baseline_v1.2/baseline. --w-ld-chr /projects/CARDIPS/analysis/epigenome_resource/analyses/jennifer/ldsc/reference/weights/weights.hm3_noMHC. --overlap-annot --frqfile-chr /projects/CARDIPS/analysis/epigenome_resource/analyses/jennifer/ldsc/reference/1000G_Phase3_frq/1000G.EUR.QC. --out /frazer01/projects/CARDIPS/analysis/epigenome_resource/analyses/jennifer/ldsc/h2/exp_peaks_together/phecode-281.1-both_sexes.meta.hg38.hapmap\" | qsub -N h2.phecode-281.1-both_sexes.meta -V -cwd -pe smp 4 -o /frazer01/projects/CARDIPS/analysis/epigenome_resource/analyses/jennifer/ldsc/logs/h2.exp_peaks_together.phecode-281.1-both_sexes.meta.out -e /frazer01/projects/CARDIPS/analysis/epigenome_resource/analyses/jennifer/ldsc/logs/h2.exp_peaks_together.phecode-281.1-both_sexes.meta.err\n",
      "\n",
      "echo \"source /frazer01/home/jennifer/.bash_profile; source activate ldsc; python ~/software/ldsc/ldsc.py --h2 /frazer01/projects/CARDIPS/analysis/epigenome_resource/analyses/jennifer/ldsc/sumstats/phecode-281.11-both_sexes.eur.hg38.hapmap.sumstats.gz --ref-ld-chr /projects/CARDIPS/analysis/epigenome_resource/analyses/jennifer/ldsc/annot/exp_peaks_together/,/projects/CARDIPS/analysis/epigenome_resource/analyses/jennifer/ldsc/reference/baseline_v1.2/baseline. --w-ld-chr /projects/CARDIPS/analysis/epigenome_resource/analyses/jennifer/ldsc/reference/weights/weights.hm3_noMHC. --overlap-annot --frqfile-chr /projects/CARDIPS/analysis/epigenome_resource/analyses/jennifer/ldsc/reference/1000G_Phase3_frq/1000G.EUR.QC. --out /frazer01/projects/CARDIPS/analysis/epigenome_resource/analyses/jennifer/ldsc/h2/exp_peaks_together/phecode-281.11-both_sexes.eur.hg38.hapmap\" | qsub -N h2.phecode-281.11-both_sexes.eur -V -cwd -pe smp 4 -o /frazer01/projects/CARDIPS/analysis/epigenome_resource/analyses/jennifer/ldsc/logs/h2.exp_peaks_together.phecode-281.11-both_sexes.eur.out -e /frazer01/projects/CARDIPS/analysis/epigenome_resource/analyses/jennifer/ldsc/logs/h2.exp_peaks_together.phecode-281.11-both_sexes.eur.err\n",
      "\n",
      "echo \"source /frazer01/home/jennifer/.bash_profile; source activate ldsc; python ~/software/ldsc/ldsc.py --h2 /frazer01/projects/CARDIPS/analysis/epigenome_resource/analyses/jennifer/ldsc/sumstats/phecode-281.12-both_sexes.eur.hg38.hapmap.sumstats.gz --ref-ld-chr /projects/CARDIPS/analysis/epigenome_resource/analyses/jennifer/ldsc/annot/exp_peaks_together/,/projects/CARDIPS/analysis/epigenome_resource/analyses/jennifer/ldsc/reference/baseline_v1.2/baseline. --w-ld-chr /projects/CARDIPS/analysis/epigenome_resource/analyses/jennifer/ldsc/reference/weights/weights.hm3_noMHC. --overlap-annot --frqfile-chr /projects/CARDIPS/analysis/epigenome_resource/analyses/jennifer/ldsc/reference/1000G_Phase3_frq/1000G.EUR.QC. --out /frazer01/projects/CARDIPS/analysis/epigenome_resource/analyses/jennifer/ldsc/h2/exp_peaks_together/phecode-281.12-both_sexes.eur.hg38.hapmap\" | qsub -N h2.phecode-281.12-both_sexes.eur -V -cwd -pe smp 4 -o /frazer01/projects/CARDIPS/analysis/epigenome_resource/analyses/jennifer/ldsc/logs/h2.exp_peaks_together.phecode-281.12-both_sexes.eur.out -e /frazer01/projects/CARDIPS/analysis/epigenome_resource/analyses/jennifer/ldsc/logs/h2.exp_peaks_together.phecode-281.12-both_sexes.eur.err\n",
      "\n",
      "echo \"source /frazer01/home/jennifer/.bash_profile; source activate ldsc; python ~/software/ldsc/ldsc.py --h2 /frazer01/projects/CARDIPS/analysis/epigenome_resource/analyses/jennifer/ldsc/sumstats/phecode-281.13-both_sexes.eur.hg38.hapmap.sumstats.gz --ref-ld-chr /projects/CARDIPS/analysis/epigenome_resource/analyses/jennifer/ldsc/annot/exp_peaks_together/,/projects/CARDIPS/analysis/epigenome_resource/analyses/jennifer/ldsc/reference/baseline_v1.2/baseline. --w-ld-chr /projects/CARDIPS/analysis/epigenome_resource/analyses/jennifer/ldsc/reference/weights/weights.hm3_noMHC. --overlap-annot --frqfile-chr /projects/CARDIPS/analysis/epigenome_resource/analyses/jennifer/ldsc/reference/1000G_Phase3_frq/1000G.EUR.QC. --out /frazer01/projects/CARDIPS/analysis/epigenome_resource/analyses/jennifer/ldsc/h2/exp_peaks_together/phecode-281.13-both_sexes.eur.hg38.hapmap\" | qsub -N h2.phecode-281.13-both_sexes.eur -V -cwd -pe smp 4 -o /frazer01/projects/CARDIPS/analysis/epigenome_resource/analyses/jennifer/ldsc/logs/h2.exp_peaks_together.phecode-281.13-both_sexes.eur.out -e /frazer01/projects/CARDIPS/analysis/epigenome_resource/analyses/jennifer/ldsc/logs/h2.exp_peaks_together.phecode-281.13-both_sexes.eur.err\n",
      "\n",
      "echo \"source /frazer01/home/jennifer/.bash_profile; source activate ldsc; python ~/software/ldsc/ldsc.py --h2 /frazer01/projects/CARDIPS/analysis/epigenome_resource/analyses/jennifer/ldsc/sumstats/phecode-282-both_sexes.eur.hg38.hapmap.sumstats.gz --ref-ld-chr /projects/CARDIPS/analysis/epigenome_resource/analyses/jennifer/ldsc/annot/exp_peaks_together/,/projects/CARDIPS/analysis/epigenome_resource/analyses/jennifer/ldsc/reference/baseline_v1.2/baseline. --w-ld-chr /projects/CARDIPS/analysis/epigenome_resource/analyses/jennifer/ldsc/reference/weights/weights.hm3_noMHC. --overlap-annot --frqfile-chr /projects/CARDIPS/analysis/epigenome_resource/analyses/jennifer/ldsc/reference/1000G_Phase3_frq/1000G.EUR.QC. --out /frazer01/projects/CARDIPS/analysis/epigenome_resource/analyses/jennifer/ldsc/h2/exp_peaks_together/phecode-282-both_sexes.eur.hg38.hapmap\" | qsub -N h2.phecode-282-both_sexes.eur -V -cwd -pe smp 4 -o /frazer01/projects/CARDIPS/analysis/epigenome_resource/analyses/jennifer/ldsc/logs/h2.exp_peaks_together.phecode-282-both_sexes.eur.out -e /frazer01/projects/CARDIPS/analysis/epigenome_resource/analyses/jennifer/ldsc/logs/h2.exp_peaks_together.phecode-282-both_sexes.eur.err\n",
      "\n",
      "echo \"source /frazer01/home/jennifer/.bash_profile; source activate ldsc; python ~/software/ldsc/ldsc.py --h2 /frazer01/projects/CARDIPS/analysis/epigenome_resource/analyses/jennifer/ldsc/sumstats/phecode-282-both_sexes.meta.hg38.hapmap.sumstats.gz --ref-ld-chr /projects/CARDIPS/analysis/epigenome_resource/analyses/jennifer/ldsc/annot/exp_peaks_together/,/projects/CARDIPS/analysis/epigenome_resource/analyses/jennifer/ldsc/reference/baseline_v1.2/baseline. --w-ld-chr /projects/CARDIPS/analysis/epigenome_resource/analyses/jennifer/ldsc/reference/weights/weights.hm3_noMHC. --overlap-annot --frqfile-chr /projects/CARDIPS/analysis/epigenome_resource/analyses/jennifer/ldsc/reference/1000G_Phase3_frq/1000G.EUR.QC. --out /frazer01/projects/CARDIPS/analysis/epigenome_resource/analyses/jennifer/ldsc/h2/exp_peaks_together/phecode-282-both_sexes.meta.hg38.hapmap\" | qsub -N h2.phecode-282-both_sexes.meta -V -cwd -pe smp 4 -o /frazer01/projects/CARDIPS/analysis/epigenome_resource/analyses/jennifer/ldsc/logs/h2.exp_peaks_together.phecode-282-both_sexes.meta.out -e /frazer01/projects/CARDIPS/analysis/epigenome_resource/analyses/jennifer/ldsc/logs/h2.exp_peaks_together.phecode-282-both_sexes.meta.err\n",
      "\n",
      "echo \"source /frazer01/home/jennifer/.bash_profile; source activate ldsc; python ~/software/ldsc/ldsc.py --h2 /frazer01/projects/CARDIPS/analysis/epigenome_resource/analyses/jennifer/ldsc/sumstats/phecode-282.8-both_sexes.meta.hg38.hapmap.sumstats.gz --ref-ld-chr /projects/CARDIPS/analysis/epigenome_resource/analyses/jennifer/ldsc/annot/exp_peaks_together/,/projects/CARDIPS/analysis/epigenome_resource/analyses/jennifer/ldsc/reference/baseline_v1.2/baseline. --w-ld-chr /projects/CARDIPS/analysis/epigenome_resource/analyses/jennifer/ldsc/reference/weights/weights.hm3_noMHC. --overlap-annot --frqfile-chr /projects/CARDIPS/analysis/epigenome_resource/analyses/jennifer/ldsc/reference/1000G_Phase3_frq/1000G.EUR.QC. --out /frazer01/projects/CARDIPS/analysis/epigenome_resource/analyses/jennifer/ldsc/h2/exp_peaks_together/phecode-282.8-both_sexes.meta.hg38.hapmap\" | qsub -N h2.phecode-282.8-both_sexes.meta -V -cwd -pe smp 4 -o /frazer01/projects/CARDIPS/analysis/epigenome_resource/analyses/jennifer/ldsc/logs/h2.exp_peaks_together.phecode-282.8-both_sexes.meta.out -e /frazer01/projects/CARDIPS/analysis/epigenome_resource/analyses/jennifer/ldsc/logs/h2.exp_peaks_together.phecode-282.8-both_sexes.meta.err\n",
      "\n",
      "echo \"source /frazer01/home/jennifer/.bash_profile; source activate ldsc; python ~/software/ldsc/ldsc.py --h2 /frazer01/projects/CARDIPS/analysis/epigenome_resource/analyses/jennifer/ldsc/sumstats/phecode-282.9-both_sexes.eur.hg38.hapmap.sumstats.gz --ref-ld-chr /projects/CARDIPS/analysis/epigenome_resource/analyses/jennifer/ldsc/annot/exp_peaks_together/,/projects/CARDIPS/analysis/epigenome_resource/analyses/jennifer/ldsc/reference/baseline_v1.2/baseline. --w-ld-chr /projects/CARDIPS/analysis/epigenome_resource/analyses/jennifer/ldsc/reference/weights/weights.hm3_noMHC. --overlap-annot --frqfile-chr /projects/CARDIPS/analysis/epigenome_resource/analyses/jennifer/ldsc/reference/1000G_Phase3_frq/1000G.EUR.QC. --out /frazer01/projects/CARDIPS/analysis/epigenome_resource/analyses/jennifer/ldsc/h2/exp_peaks_together/phecode-282.9-both_sexes.eur.hg38.hapmap\" | qsub -N h2.phecode-282.9-both_sexes.eur -V -cwd -pe smp 4 -o /frazer01/projects/CARDIPS/analysis/epigenome_resource/analyses/jennifer/ldsc/logs/h2.exp_peaks_together.phecode-282.9-both_sexes.eur.out -e /frazer01/projects/CARDIPS/analysis/epigenome_resource/analyses/jennifer/ldsc/logs/h2.exp_peaks_together.phecode-282.9-both_sexes.eur.err\n",
      "\n",
      "echo \"source /frazer01/home/jennifer/.bash_profile; source activate ldsc; python ~/software/ldsc/ldsc.py --h2 /frazer01/projects/CARDIPS/analysis/epigenome_resource/analyses/jennifer/ldsc/sumstats/phecode-283-both_sexes.eur.hg38.hapmap.sumstats.gz --ref-ld-chr /projects/CARDIPS/analysis/epigenome_resource/analyses/jennifer/ldsc/annot/exp_peaks_together/,/projects/CARDIPS/analysis/epigenome_resource/analyses/jennifer/ldsc/reference/baseline_v1.2/baseline. --w-ld-chr /projects/CARDIPS/analysis/epigenome_resource/analyses/jennifer/ldsc/reference/weights/weights.hm3_noMHC. --overlap-annot --frqfile-chr /projects/CARDIPS/analysis/epigenome_resource/analyses/jennifer/ldsc/reference/1000G_Phase3_frq/1000G.EUR.QC. --out /frazer01/projects/CARDIPS/analysis/epigenome_resource/analyses/jennifer/ldsc/h2/exp_peaks_together/phecode-283-both_sexes.eur.hg38.hapmap\" | qsub -N h2.phecode-283-both_sexes.eur -V -cwd -pe smp 4 -o /frazer01/projects/CARDIPS/analysis/epigenome_resource/analyses/jennifer/ldsc/logs/h2.exp_peaks_together.phecode-283-both_sexes.eur.out -e /frazer01/projects/CARDIPS/analysis/epigenome_resource/analyses/jennifer/ldsc/logs/h2.exp_peaks_together.phecode-283-both_sexes.eur.err\n",
      "\n",
      "echo \"source /frazer01/home/jennifer/.bash_profile; source activate ldsc; python ~/software/ldsc/ldsc.py --h2 /frazer01/projects/CARDIPS/analysis/epigenome_resource/analyses/jennifer/ldsc/sumstats/phecode-283.1-both_sexes.eur.hg38.hapmap.sumstats.gz --ref-ld-chr /projects/CARDIPS/analysis/epigenome_resource/analyses/jennifer/ldsc/annot/exp_peaks_together/,/projects/CARDIPS/analysis/epigenome_resource/analyses/jennifer/ldsc/reference/baseline_v1.2/baseline. --w-ld-chr /projects/CARDIPS/analysis/epigenome_resource/analyses/jennifer/ldsc/reference/weights/weights.hm3_noMHC. --overlap-annot --frqfile-chr /projects/CARDIPS/analysis/epigenome_resource/analyses/jennifer/ldsc/reference/1000G_Phase3_frq/1000G.EUR.QC. --out /frazer01/projects/CARDIPS/analysis/epigenome_resource/analyses/jennifer/ldsc/h2/exp_peaks_together/phecode-283.1-both_sexes.eur.hg38.hapmap\" | qsub -N h2.phecode-283.1-both_sexes.eur -V -cwd -pe smp 4 -o /frazer01/projects/CARDIPS/analysis/epigenome_resource/analyses/jennifer/ldsc/logs/h2.exp_peaks_together.phecode-283.1-both_sexes.eur.out -e /frazer01/projects/CARDIPS/analysis/epigenome_resource/analyses/jennifer/ldsc/logs/h2.exp_peaks_together.phecode-283.1-both_sexes.eur.err\n",
      "\n",
      "echo \"source /frazer01/home/jennifer/.bash_profile; source activate ldsc; python ~/software/ldsc/ldsc.py --h2 /frazer01/projects/CARDIPS/analysis/epigenome_resource/analyses/jennifer/ldsc/sumstats/phecode-284-both_sexes.eur.hg38.hapmap.sumstats.gz --ref-ld-chr /projects/CARDIPS/analysis/epigenome_resource/analyses/jennifer/ldsc/annot/exp_peaks_together/,/projects/CARDIPS/analysis/epigenome_resource/analyses/jennifer/ldsc/reference/baseline_v1.2/baseline. --w-ld-chr /projects/CARDIPS/analysis/epigenome_resource/analyses/jennifer/ldsc/reference/weights/weights.hm3_noMHC. --overlap-annot --frqfile-chr /projects/CARDIPS/analysis/epigenome_resource/analyses/jennifer/ldsc/reference/1000G_Phase3_frq/1000G.EUR.QC. --out /frazer01/projects/CARDIPS/analysis/epigenome_resource/analyses/jennifer/ldsc/h2/exp_peaks_together/phecode-284-both_sexes.eur.hg38.hapmap\" | qsub -N h2.phecode-284-both_sexes.eur -V -cwd -pe smp 4 -o /frazer01/projects/CARDIPS/analysis/epigenome_resource/analyses/jennifer/ldsc/logs/h2.exp_peaks_together.phecode-284-both_sexes.eur.out -e /frazer01/projects/CARDIPS/analysis/epigenome_resource/analyses/jennifer/ldsc/logs/h2.exp_peaks_together.phecode-284-both_sexes.eur.err\n",
      "\n",
      "echo \"source /frazer01/home/jennifer/.bash_profile; source activate ldsc; python ~/software/ldsc/ldsc.py --h2 /frazer01/projects/CARDIPS/analysis/epigenome_resource/analyses/jennifer/ldsc/sumstats/phecode-285-both_sexes.eur.hg38.hapmap.sumstats.gz --ref-ld-chr /projects/CARDIPS/analysis/epigenome_resource/analyses/jennifer/ldsc/annot/exp_peaks_together/,/projects/CARDIPS/analysis/epigenome_resource/analyses/jennifer/ldsc/reference/baseline_v1.2/baseline. --w-ld-chr /projects/CARDIPS/analysis/epigenome_resource/analyses/jennifer/ldsc/reference/weights/weights.hm3_noMHC. --overlap-annot --frqfile-chr /projects/CARDIPS/analysis/epigenome_resource/analyses/jennifer/ldsc/reference/1000G_Phase3_frq/1000G.EUR.QC. --out /frazer01/projects/CARDIPS/analysis/epigenome_resource/analyses/jennifer/ldsc/h2/exp_peaks_together/phecode-285-both_sexes.eur.hg38.hapmap\" | qsub -N h2.phecode-285-both_sexes.eur -V -cwd -pe smp 4 -o /frazer01/projects/CARDIPS/analysis/epigenome_resource/analyses/jennifer/ldsc/logs/h2.exp_peaks_together.phecode-285-both_sexes.eur.out -e /frazer01/projects/CARDIPS/analysis/epigenome_resource/analyses/jennifer/ldsc/logs/h2.exp_peaks_together.phecode-285-both_sexes.eur.err\n",
      "\n",
      "echo \"source /frazer01/home/jennifer/.bash_profile; source activate ldsc; python ~/software/ldsc/ldsc.py --h2 /frazer01/projects/CARDIPS/analysis/epigenome_resource/analyses/jennifer/ldsc/sumstats/phecode-285-both_sexes.meta.hg38.hapmap.sumstats.gz --ref-ld-chr /projects/CARDIPS/analysis/epigenome_resource/analyses/jennifer/ldsc/annot/exp_peaks_together/,/projects/CARDIPS/analysis/epigenome_resource/analyses/jennifer/ldsc/reference/baseline_v1.2/baseline. --w-ld-chr /projects/CARDIPS/analysis/epigenome_resource/analyses/jennifer/ldsc/reference/weights/weights.hm3_noMHC. --overlap-annot --frqfile-chr /projects/CARDIPS/analysis/epigenome_resource/analyses/jennifer/ldsc/reference/1000G_Phase3_frq/1000G.EUR.QC. --out /frazer01/projects/CARDIPS/analysis/epigenome_resource/analyses/jennifer/ldsc/h2/exp_peaks_together/phecode-285-both_sexes.meta.hg38.hapmap\" | qsub -N h2.phecode-285-both_sexes.meta -V -cwd -pe smp 4 -o /frazer01/projects/CARDIPS/analysis/epigenome_resource/analyses/jennifer/ldsc/logs/h2.exp_peaks_together.phecode-285-both_sexes.meta.out -e /frazer01/projects/CARDIPS/analysis/epigenome_resource/analyses/jennifer/ldsc/logs/h2.exp_peaks_together.phecode-285-both_sexes.meta.err\n",
      "\n",
      "echo \"source /frazer01/home/jennifer/.bash_profile; source activate ldsc; python ~/software/ldsc/ldsc.py --h2 /frazer01/projects/CARDIPS/analysis/epigenome_resource/analyses/jennifer/ldsc/sumstats/phecode-285.1-both_sexes.eur.hg38.hapmap.sumstats.gz --ref-ld-chr /projects/CARDIPS/analysis/epigenome_resource/analyses/jennifer/ldsc/annot/exp_peaks_together/,/projects/CARDIPS/analysis/epigenome_resource/analyses/jennifer/ldsc/reference/baseline_v1.2/baseline. --w-ld-chr /projects/CARDIPS/analysis/epigenome_resource/analyses/jennifer/ldsc/reference/weights/weights.hm3_noMHC. --overlap-annot --frqfile-chr /projects/CARDIPS/analysis/epigenome_resource/analyses/jennifer/ldsc/reference/1000G_Phase3_frq/1000G.EUR.QC. --out /frazer01/projects/CARDIPS/analysis/epigenome_resource/analyses/jennifer/ldsc/h2/exp_peaks_together/phecode-285.1-both_sexes.eur.hg38.hapmap\" | qsub -N h2.phecode-285.1-both_sexes.eur -V -cwd -pe smp 4 -o /frazer01/projects/CARDIPS/analysis/epigenome_resource/analyses/jennifer/ldsc/logs/h2.exp_peaks_together.phecode-285.1-both_sexes.eur.out -e /frazer01/projects/CARDIPS/analysis/epigenome_resource/analyses/jennifer/ldsc/logs/h2.exp_peaks_together.phecode-285.1-both_sexes.eur.err\n",
      "\n",
      "echo \"source /frazer01/home/jennifer/.bash_profile; source activate ldsc; python ~/software/ldsc/ldsc.py --h2 /frazer01/projects/CARDIPS/analysis/epigenome_resource/analyses/jennifer/ldsc/sumstats/phecode-285.2-both_sexes.eur.hg38.hapmap.sumstats.gz --ref-ld-chr /projects/CARDIPS/analysis/epigenome_resource/analyses/jennifer/ldsc/annot/exp_peaks_together/,/projects/CARDIPS/analysis/epigenome_resource/analyses/jennifer/ldsc/reference/baseline_v1.2/baseline. --w-ld-chr /projects/CARDIPS/analysis/epigenome_resource/analyses/jennifer/ldsc/reference/weights/weights.hm3_noMHC. --overlap-annot --frqfile-chr /projects/CARDIPS/analysis/epigenome_resource/analyses/jennifer/ldsc/reference/1000G_Phase3_frq/1000G.EUR.QC. --out /frazer01/projects/CARDIPS/analysis/epigenome_resource/analyses/jennifer/ldsc/h2/exp_peaks_together/phecode-285.2-both_sexes.eur.hg38.hapmap\" | qsub -N h2.phecode-285.2-both_sexes.eur -V -cwd -pe smp 4 -o /frazer01/projects/CARDIPS/analysis/epigenome_resource/analyses/jennifer/ldsc/logs/h2.exp_peaks_together.phecode-285.2-both_sexes.eur.out -e /frazer01/projects/CARDIPS/analysis/epigenome_resource/analyses/jennifer/ldsc/logs/h2.exp_peaks_together.phecode-285.2-both_sexes.eur.err\n",
      "\n",
      "echo \"source /frazer01/home/jennifer/.bash_profile; source activate ldsc; python ~/software/ldsc/ldsc.py --h2 /frazer01/projects/CARDIPS/analysis/epigenome_resource/analyses/jennifer/ldsc/sumstats/phecode-285.22-both_sexes.eur.hg38.hapmap.sumstats.gz --ref-ld-chr /projects/CARDIPS/analysis/epigenome_resource/analyses/jennifer/ldsc/annot/exp_peaks_together/,/projects/CARDIPS/analysis/epigenome_resource/analyses/jennifer/ldsc/reference/baseline_v1.2/baseline. --w-ld-chr /projects/CARDIPS/analysis/epigenome_resource/analyses/jennifer/ldsc/reference/weights/weights.hm3_noMHC. --overlap-annot --frqfile-chr /projects/CARDIPS/analysis/epigenome_resource/analyses/jennifer/ldsc/reference/1000G_Phase3_frq/1000G.EUR.QC. --out /frazer01/projects/CARDIPS/analysis/epigenome_resource/analyses/jennifer/ldsc/h2/exp_peaks_together/phecode-285.22-both_sexes.eur.hg38.hapmap\" | qsub -N h2.phecode-285.22-both_sexes.eur -V -cwd -pe smp 4 -o /frazer01/projects/CARDIPS/analysis/epigenome_resource/analyses/jennifer/ldsc/logs/h2.exp_peaks_together.phecode-285.22-both_sexes.eur.out -e /frazer01/projects/CARDIPS/analysis/epigenome_resource/analyses/jennifer/ldsc/logs/h2.exp_peaks_together.phecode-285.22-both_sexes.eur.err\n",
      "\n",
      "echo \"source /frazer01/home/jennifer/.bash_profile; source activate ldsc; python ~/software/ldsc/ldsc.py --h2 /frazer01/projects/CARDIPS/analysis/epigenome_resource/analyses/jennifer/ldsc/sumstats/phecode-286-both_sexes.eur.hg38.hapmap.sumstats.gz --ref-ld-chr /projects/CARDIPS/analysis/epigenome_resource/analyses/jennifer/ldsc/annot/exp_peaks_together/,/projects/CARDIPS/analysis/epigenome_resource/analyses/jennifer/ldsc/reference/baseline_v1.2/baseline. --w-ld-chr /projects/CARDIPS/analysis/epigenome_resource/analyses/jennifer/ldsc/reference/weights/weights.hm3_noMHC. --overlap-annot --frqfile-chr /projects/CARDIPS/analysis/epigenome_resource/analyses/jennifer/ldsc/reference/1000G_Phase3_frq/1000G.EUR.QC. --out /frazer01/projects/CARDIPS/analysis/epigenome_resource/analyses/jennifer/ldsc/h2/exp_peaks_together/phecode-286-both_sexes.eur.hg38.hapmap\" | qsub -N h2.phecode-286-both_sexes.eur -V -cwd -pe smp 4 -o /frazer01/projects/CARDIPS/analysis/epigenome_resource/analyses/jennifer/ldsc/logs/h2.exp_peaks_together.phecode-286-both_sexes.eur.out -e /frazer01/projects/CARDIPS/analysis/epigenome_resource/analyses/jennifer/ldsc/logs/h2.exp_peaks_together.phecode-286-both_sexes.eur.err\n",
      "\n",
      "echo \"source /frazer01/home/jennifer/.bash_profile; source activate ldsc; python ~/software/ldsc/ldsc.py --h2 /frazer01/projects/CARDIPS/analysis/epigenome_resource/analyses/jennifer/ldsc/sumstats/phecode-286.1-both_sexes.eur.hg38.hapmap.sumstats.gz --ref-ld-chr /projects/CARDIPS/analysis/epigenome_resource/analyses/jennifer/ldsc/annot/exp_peaks_together/,/projects/CARDIPS/analysis/epigenome_resource/analyses/jennifer/ldsc/reference/baseline_v1.2/baseline. --w-ld-chr /projects/CARDIPS/analysis/epigenome_resource/analyses/jennifer/ldsc/reference/weights/weights.hm3_noMHC. --overlap-annot --frqfile-chr /projects/CARDIPS/analysis/epigenome_resource/analyses/jennifer/ldsc/reference/1000G_Phase3_frq/1000G.EUR.QC. --out /frazer01/projects/CARDIPS/analysis/epigenome_resource/analyses/jennifer/ldsc/h2/exp_peaks_together/phecode-286.1-both_sexes.eur.hg38.hapmap\" | qsub -N h2.phecode-286.1-both_sexes.eur -V -cwd -pe smp 4 -o /frazer01/projects/CARDIPS/analysis/epigenome_resource/analyses/jennifer/ldsc/logs/h2.exp_peaks_together.phecode-286.1-both_sexes.eur.out -e /frazer01/projects/CARDIPS/analysis/epigenome_resource/analyses/jennifer/ldsc/logs/h2.exp_peaks_together.phecode-286.1-both_sexes.eur.err\n",
      "\n",
      "echo \"source /frazer01/home/jennifer/.bash_profile; source activate ldsc; python ~/software/ldsc/ldsc.py --h2 /frazer01/projects/CARDIPS/analysis/epigenome_resource/analyses/jennifer/ldsc/sumstats/phecode-286.11-both_sexes.eur.hg38.hapmap.sumstats.gz --ref-ld-chr /projects/CARDIPS/analysis/epigenome_resource/analyses/jennifer/ldsc/annot/exp_peaks_together/,/projects/CARDIPS/analysis/epigenome_resource/analyses/jennifer/ldsc/reference/baseline_v1.2/baseline. --w-ld-chr /projects/CARDIPS/analysis/epigenome_resource/analyses/jennifer/ldsc/reference/weights/weights.hm3_noMHC. --overlap-annot --frqfile-chr /projects/CARDIPS/analysis/epigenome_resource/analyses/jennifer/ldsc/reference/1000G_Phase3_frq/1000G.EUR.QC. --out /frazer01/projects/CARDIPS/analysis/epigenome_resource/analyses/jennifer/ldsc/h2/exp_peaks_together/phecode-286.11-both_sexes.eur.hg38.hapmap\" | qsub -N h2.phecode-286.11-both_sexes.eur -V -cwd -pe smp 4 -o /frazer01/projects/CARDIPS/analysis/epigenome_resource/analyses/jennifer/ldsc/logs/h2.exp_peaks_together.phecode-286.11-both_sexes.eur.out -e /frazer01/projects/CARDIPS/analysis/epigenome_resource/analyses/jennifer/ldsc/logs/h2.exp_peaks_together.phecode-286.11-both_sexes.eur.err\n",
      "\n",
      "echo \"source /frazer01/home/jennifer/.bash_profile; source activate ldsc; python ~/software/ldsc/ldsc.py --h2 /frazer01/projects/CARDIPS/analysis/epigenome_resource/analyses/jennifer/ldsc/sumstats/phecode-286.12-both_sexes.eur.hg38.hapmap.sumstats.gz --ref-ld-chr /projects/CARDIPS/analysis/epigenome_resource/analyses/jennifer/ldsc/annot/exp_peaks_together/,/projects/CARDIPS/analysis/epigenome_resource/analyses/jennifer/ldsc/reference/baseline_v1.2/baseline. --w-ld-chr /projects/CARDIPS/analysis/epigenome_resource/analyses/jennifer/ldsc/reference/weights/weights.hm3_noMHC. --overlap-annot --frqfile-chr /projects/CARDIPS/analysis/epigenome_resource/analyses/jennifer/ldsc/reference/1000G_Phase3_frq/1000G.EUR.QC. --out /frazer01/projects/CARDIPS/analysis/epigenome_resource/analyses/jennifer/ldsc/h2/exp_peaks_together/phecode-286.12-both_sexes.eur.hg38.hapmap\" | qsub -N h2.phecode-286.12-both_sexes.eur -V -cwd -pe smp 4 -o /frazer01/projects/CARDIPS/analysis/epigenome_resource/analyses/jennifer/ldsc/logs/h2.exp_peaks_together.phecode-286.12-both_sexes.eur.out -e /frazer01/projects/CARDIPS/analysis/epigenome_resource/analyses/jennifer/ldsc/logs/h2.exp_peaks_together.phecode-286.12-both_sexes.eur.err\n",
      "\n",
      "echo \"source /frazer01/home/jennifer/.bash_profile; source activate ldsc; python ~/software/ldsc/ldsc.py --h2 /frazer01/projects/CARDIPS/analysis/epigenome_resource/analyses/jennifer/ldsc/sumstats/phecode-286.5-both_sexes.eur.hg38.hapmap.sumstats.gz --ref-ld-chr /projects/CARDIPS/analysis/epigenome_resource/analyses/jennifer/ldsc/annot/exp_peaks_together/,/projects/CARDIPS/analysis/epigenome_resource/analyses/jennifer/ldsc/reference/baseline_v1.2/baseline. --w-ld-chr /projects/CARDIPS/analysis/epigenome_resource/analyses/jennifer/ldsc/reference/weights/weights.hm3_noMHC. --overlap-annot --frqfile-chr /projects/CARDIPS/analysis/epigenome_resource/analyses/jennifer/ldsc/reference/1000G_Phase3_frq/1000G.EUR.QC. --out /frazer01/projects/CARDIPS/analysis/epigenome_resource/analyses/jennifer/ldsc/h2/exp_peaks_together/phecode-286.5-both_sexes.eur.hg38.hapmap\" | qsub -N h2.phecode-286.5-both_sexes.eur -V -cwd -pe smp 4 -o /frazer01/projects/CARDIPS/analysis/epigenome_resource/analyses/jennifer/ldsc/logs/h2.exp_peaks_together.phecode-286.5-both_sexes.eur.out -e /frazer01/projects/CARDIPS/analysis/epigenome_resource/analyses/jennifer/ldsc/logs/h2.exp_peaks_together.phecode-286.5-both_sexes.eur.err\n",
      "\n",
      "echo \"source /frazer01/home/jennifer/.bash_profile; source activate ldsc; python ~/software/ldsc/ldsc.py --h2 /frazer01/projects/CARDIPS/analysis/epigenome_resource/analyses/jennifer/ldsc/sumstats/phecode-286.6-both_sexes.eur.hg38.hapmap.sumstats.gz --ref-ld-chr /projects/CARDIPS/analysis/epigenome_resource/analyses/jennifer/ldsc/annot/exp_peaks_together/,/projects/CARDIPS/analysis/epigenome_resource/analyses/jennifer/ldsc/reference/baseline_v1.2/baseline. --w-ld-chr /projects/CARDIPS/analysis/epigenome_resource/analyses/jennifer/ldsc/reference/weights/weights.hm3_noMHC. --overlap-annot --frqfile-chr /projects/CARDIPS/analysis/epigenome_resource/analyses/jennifer/ldsc/reference/1000G_Phase3_frq/1000G.EUR.QC. --out /frazer01/projects/CARDIPS/analysis/epigenome_resource/analyses/jennifer/ldsc/h2/exp_peaks_together/phecode-286.6-both_sexes.eur.hg38.hapmap\" | qsub -N h2.phecode-286.6-both_sexes.eur -V -cwd -pe smp 4 -o /frazer01/projects/CARDIPS/analysis/epigenome_resource/analyses/jennifer/ldsc/logs/h2.exp_peaks_together.phecode-286.6-both_sexes.eur.out -e /frazer01/projects/CARDIPS/analysis/epigenome_resource/analyses/jennifer/ldsc/logs/h2.exp_peaks_together.phecode-286.6-both_sexes.eur.err\n",
      "\n",
      "echo \"source /frazer01/home/jennifer/.bash_profile; source activate ldsc; python ~/software/ldsc/ldsc.py --h2 /frazer01/projects/CARDIPS/analysis/epigenome_resource/analyses/jennifer/ldsc/sumstats/phecode-286.7-both_sexes.eur.hg38.hapmap.sumstats.gz --ref-ld-chr /projects/CARDIPS/analysis/epigenome_resource/analyses/jennifer/ldsc/annot/exp_peaks_together/,/projects/CARDIPS/analysis/epigenome_resource/analyses/jennifer/ldsc/reference/baseline_v1.2/baseline. --w-ld-chr /projects/CARDIPS/analysis/epigenome_resource/analyses/jennifer/ldsc/reference/weights/weights.hm3_noMHC. --overlap-annot --frqfile-chr /projects/CARDIPS/analysis/epigenome_resource/analyses/jennifer/ldsc/reference/1000G_Phase3_frq/1000G.EUR.QC. --out /frazer01/projects/CARDIPS/analysis/epigenome_resource/analyses/jennifer/ldsc/h2/exp_peaks_together/phecode-286.7-both_sexes.eur.hg38.hapmap\" | qsub -N h2.phecode-286.7-both_sexes.eur -V -cwd -pe smp 4 -o /frazer01/projects/CARDIPS/analysis/epigenome_resource/analyses/jennifer/ldsc/logs/h2.exp_peaks_together.phecode-286.7-both_sexes.eur.out -e /frazer01/projects/CARDIPS/analysis/epigenome_resource/analyses/jennifer/ldsc/logs/h2.exp_peaks_together.phecode-286.7-both_sexes.eur.err\n",
      "\n",
      "echo \"source /frazer01/home/jennifer/.bash_profile; source activate ldsc; python ~/software/ldsc/ldsc.py --h2 /frazer01/projects/CARDIPS/analysis/epigenome_resource/analyses/jennifer/ldsc/sumstats/phecode-287-both_sexes.eur.hg38.hapmap.sumstats.gz --ref-ld-chr /projects/CARDIPS/analysis/epigenome_resource/analyses/jennifer/ldsc/annot/exp_peaks_together/,/projects/CARDIPS/analysis/epigenome_resource/analyses/jennifer/ldsc/reference/baseline_v1.2/baseline. --w-ld-chr /projects/CARDIPS/analysis/epigenome_resource/analyses/jennifer/ldsc/reference/weights/weights.hm3_noMHC. --overlap-annot --frqfile-chr /projects/CARDIPS/analysis/epigenome_resource/analyses/jennifer/ldsc/reference/1000G_Phase3_frq/1000G.EUR.QC. --out /frazer01/projects/CARDIPS/analysis/epigenome_resource/analyses/jennifer/ldsc/h2/exp_peaks_together/phecode-287-both_sexes.eur.hg38.hapmap\" | qsub -N h2.phecode-287-both_sexes.eur -V -cwd -pe smp 4 -o /frazer01/projects/CARDIPS/analysis/epigenome_resource/analyses/jennifer/ldsc/logs/h2.exp_peaks_together.phecode-287-both_sexes.eur.out -e /frazer01/projects/CARDIPS/analysis/epigenome_resource/analyses/jennifer/ldsc/logs/h2.exp_peaks_together.phecode-287-both_sexes.eur.err\n",
      "\n",
      "echo \"source /frazer01/home/jennifer/.bash_profile; source activate ldsc; python ~/software/ldsc/ldsc.py --h2 /frazer01/projects/CARDIPS/analysis/epigenome_resource/analyses/jennifer/ldsc/sumstats/phecode-287-both_sexes.meta.hg38.hapmap.sumstats.gz --ref-ld-chr /projects/CARDIPS/analysis/epigenome_resource/analyses/jennifer/ldsc/annot/exp_peaks_together/,/projects/CARDIPS/analysis/epigenome_resource/analyses/jennifer/ldsc/reference/baseline_v1.2/baseline. --w-ld-chr /projects/CARDIPS/analysis/epigenome_resource/analyses/jennifer/ldsc/reference/weights/weights.hm3_noMHC. --overlap-annot --frqfile-chr /projects/CARDIPS/analysis/epigenome_resource/analyses/jennifer/ldsc/reference/1000G_Phase3_frq/1000G.EUR.QC. --out /frazer01/projects/CARDIPS/analysis/epigenome_resource/analyses/jennifer/ldsc/h2/exp_peaks_together/phecode-287-both_sexes.meta.hg38.hapmap\" | qsub -N h2.phecode-287-both_sexes.meta -V -cwd -pe smp 4 -o /frazer01/projects/CARDIPS/analysis/epigenome_resource/analyses/jennifer/ldsc/logs/h2.exp_peaks_together.phecode-287-both_sexes.meta.out -e /frazer01/projects/CARDIPS/analysis/epigenome_resource/analyses/jennifer/ldsc/logs/h2.exp_peaks_together.phecode-287-both_sexes.meta.err\n",
      "\n",
      "echo \"source /frazer01/home/jennifer/.bash_profile; source activate ldsc; python ~/software/ldsc/ldsc.py --h2 /frazer01/projects/CARDIPS/analysis/epigenome_resource/analyses/jennifer/ldsc/sumstats/phecode-287.1-both_sexes.eur.hg38.hapmap.sumstats.gz --ref-ld-chr /projects/CARDIPS/analysis/epigenome_resource/analyses/jennifer/ldsc/annot/exp_peaks_together/,/projects/CARDIPS/analysis/epigenome_resource/analyses/jennifer/ldsc/reference/baseline_v1.2/baseline. --w-ld-chr /projects/CARDIPS/analysis/epigenome_resource/analyses/jennifer/ldsc/reference/weights/weights.hm3_noMHC. --overlap-annot --frqfile-chr /projects/CARDIPS/analysis/epigenome_resource/analyses/jennifer/ldsc/reference/1000G_Phase3_frq/1000G.EUR.QC. --out /frazer01/projects/CARDIPS/analysis/epigenome_resource/analyses/jennifer/ldsc/h2/exp_peaks_together/phecode-287.1-both_sexes.eur.hg38.hapmap\" | qsub -N h2.phecode-287.1-both_sexes.eur -V -cwd -pe smp 4 -o /frazer01/projects/CARDIPS/analysis/epigenome_resource/analyses/jennifer/ldsc/logs/h2.exp_peaks_together.phecode-287.1-both_sexes.eur.out -e /frazer01/projects/CARDIPS/analysis/epigenome_resource/analyses/jennifer/ldsc/logs/h2.exp_peaks_together.phecode-287.1-both_sexes.eur.err\n",
      "\n",
      "echo \"source /frazer01/home/jennifer/.bash_profile; source activate ldsc; python ~/software/ldsc/ldsc.py --h2 /frazer01/projects/CARDIPS/analysis/epigenome_resource/analyses/jennifer/ldsc/sumstats/phecode-287.3-both_sexes.eur.hg38.hapmap.sumstats.gz --ref-ld-chr /projects/CARDIPS/analysis/epigenome_resource/analyses/jennifer/ldsc/annot/exp_peaks_together/,/projects/CARDIPS/analysis/epigenome_resource/analyses/jennifer/ldsc/reference/baseline_v1.2/baseline. --w-ld-chr /projects/CARDIPS/analysis/epigenome_resource/analyses/jennifer/ldsc/reference/weights/weights.hm3_noMHC. --overlap-annot --frqfile-chr /projects/CARDIPS/analysis/epigenome_resource/analyses/jennifer/ldsc/reference/1000G_Phase3_frq/1000G.EUR.QC. --out /frazer01/projects/CARDIPS/analysis/epigenome_resource/analyses/jennifer/ldsc/h2/exp_peaks_together/phecode-287.3-both_sexes.eur.hg38.hapmap\" | qsub -N h2.phecode-287.3-both_sexes.eur -V -cwd -pe smp 4 -o /frazer01/projects/CARDIPS/analysis/epigenome_resource/analyses/jennifer/ldsc/logs/h2.exp_peaks_together.phecode-287.3-both_sexes.eur.out -e /frazer01/projects/CARDIPS/analysis/epigenome_resource/analyses/jennifer/ldsc/logs/h2.exp_peaks_together.phecode-287.3-both_sexes.eur.err\n",
      "\n",
      "echo \"source /frazer01/home/jennifer/.bash_profile; source activate ldsc; python ~/software/ldsc/ldsc.py --h2 /frazer01/projects/CARDIPS/analysis/epigenome_resource/analyses/jennifer/ldsc/sumstats/phecode-287.3-both_sexes.meta.hg38.hapmap.sumstats.gz --ref-ld-chr /projects/CARDIPS/analysis/epigenome_resource/analyses/jennifer/ldsc/annot/exp_peaks_together/,/projects/CARDIPS/analysis/epigenome_resource/analyses/jennifer/ldsc/reference/baseline_v1.2/baseline. --w-ld-chr /projects/CARDIPS/analysis/epigenome_resource/analyses/jennifer/ldsc/reference/weights/weights.hm3_noMHC. --overlap-annot --frqfile-chr /projects/CARDIPS/analysis/epigenome_resource/analyses/jennifer/ldsc/reference/1000G_Phase3_frq/1000G.EUR.QC. --out /frazer01/projects/CARDIPS/analysis/epigenome_resource/analyses/jennifer/ldsc/h2/exp_peaks_together/phecode-287.3-both_sexes.meta.hg38.hapmap\" | qsub -N h2.phecode-287.3-both_sexes.meta -V -cwd -pe smp 4 -o /frazer01/projects/CARDIPS/analysis/epigenome_resource/analyses/jennifer/ldsc/logs/h2.exp_peaks_together.phecode-287.3-both_sexes.meta.out -e /frazer01/projects/CARDIPS/analysis/epigenome_resource/analyses/jennifer/ldsc/logs/h2.exp_peaks_together.phecode-287.3-both_sexes.meta.err\n",
      "\n",
      "echo \"source /frazer01/home/jennifer/.bash_profile; source activate ldsc; python ~/software/ldsc/ldsc.py --h2 /frazer01/projects/CARDIPS/analysis/epigenome_resource/analyses/jennifer/ldsc/sumstats/phecode-287.31-both_sexes.eur.hg38.hapmap.sumstats.gz --ref-ld-chr /projects/CARDIPS/analysis/epigenome_resource/analyses/jennifer/ldsc/annot/exp_peaks_together/,/projects/CARDIPS/analysis/epigenome_resource/analyses/jennifer/ldsc/reference/baseline_v1.2/baseline. --w-ld-chr /projects/CARDIPS/analysis/epigenome_resource/analyses/jennifer/ldsc/reference/weights/weights.hm3_noMHC. --overlap-annot --frqfile-chr /projects/CARDIPS/analysis/epigenome_resource/analyses/jennifer/ldsc/reference/1000G_Phase3_frq/1000G.EUR.QC. --out /frazer01/projects/CARDIPS/analysis/epigenome_resource/analyses/jennifer/ldsc/h2/exp_peaks_together/phecode-287.31-both_sexes.eur.hg38.hapmap\" | qsub -N h2.phecode-287.31-both_sexes.eur -V -cwd -pe smp 4 -o /frazer01/projects/CARDIPS/analysis/epigenome_resource/analyses/jennifer/ldsc/logs/h2.exp_peaks_together.phecode-287.31-both_sexes.eur.out -e /frazer01/projects/CARDIPS/analysis/epigenome_resource/analyses/jennifer/ldsc/logs/h2.exp_peaks_together.phecode-287.31-both_sexes.eur.err\n",
      "\n",
      "echo \"source /frazer01/home/jennifer/.bash_profile; source activate ldsc; python ~/software/ldsc/ldsc.py --h2 /frazer01/projects/CARDIPS/analysis/epigenome_resource/analyses/jennifer/ldsc/sumstats/phecode-287.32-both_sexes.eur.hg38.hapmap.sumstats.gz --ref-ld-chr /projects/CARDIPS/analysis/epigenome_resource/analyses/jennifer/ldsc/annot/exp_peaks_together/,/projects/CARDIPS/analysis/epigenome_resource/analyses/jennifer/ldsc/reference/baseline_v1.2/baseline. --w-ld-chr /projects/CARDIPS/analysis/epigenome_resource/analyses/jennifer/ldsc/reference/weights/weights.hm3_noMHC. --overlap-annot --frqfile-chr /projects/CARDIPS/analysis/epigenome_resource/analyses/jennifer/ldsc/reference/1000G_Phase3_frq/1000G.EUR.QC. --out /frazer01/projects/CARDIPS/analysis/epigenome_resource/analyses/jennifer/ldsc/h2/exp_peaks_together/phecode-287.32-both_sexes.eur.hg38.hapmap\" | qsub -N h2.phecode-287.32-both_sexes.eur -V -cwd -pe smp 4 -o /frazer01/projects/CARDIPS/analysis/epigenome_resource/analyses/jennifer/ldsc/logs/h2.exp_peaks_together.phecode-287.32-both_sexes.eur.out -e /frazer01/projects/CARDIPS/analysis/epigenome_resource/analyses/jennifer/ldsc/logs/h2.exp_peaks_together.phecode-287.32-both_sexes.eur.err\n",
      "\n",
      "echo \"source /frazer01/home/jennifer/.bash_profile; source activate ldsc; python ~/software/ldsc/ldsc.py --h2 /frazer01/projects/CARDIPS/analysis/epigenome_resource/analyses/jennifer/ldsc/sumstats/phecode-288-both_sexes.eur.hg38.hapmap.sumstats.gz --ref-ld-chr /projects/CARDIPS/analysis/epigenome_resource/analyses/jennifer/ldsc/annot/exp_peaks_together/,/projects/CARDIPS/analysis/epigenome_resource/analyses/jennifer/ldsc/reference/baseline_v1.2/baseline. --w-ld-chr /projects/CARDIPS/analysis/epigenome_resource/analyses/jennifer/ldsc/reference/weights/weights.hm3_noMHC. --overlap-annot --frqfile-chr /projects/CARDIPS/analysis/epigenome_resource/analyses/jennifer/ldsc/reference/1000G_Phase3_frq/1000G.EUR.QC. --out /frazer01/projects/CARDIPS/analysis/epigenome_resource/analyses/jennifer/ldsc/h2/exp_peaks_together/phecode-288-both_sexes.eur.hg38.hapmap\" | qsub -N h2.phecode-288-both_sexes.eur -V -cwd -pe smp 4 -o /frazer01/projects/CARDIPS/analysis/epigenome_resource/analyses/jennifer/ldsc/logs/h2.exp_peaks_together.phecode-288-both_sexes.eur.out -e /frazer01/projects/CARDIPS/analysis/epigenome_resource/analyses/jennifer/ldsc/logs/h2.exp_peaks_together.phecode-288-both_sexes.eur.err\n",
      "\n",
      "echo \"source /frazer01/home/jennifer/.bash_profile; source activate ldsc; python ~/software/ldsc/ldsc.py --h2 /frazer01/projects/CARDIPS/analysis/epigenome_resource/analyses/jennifer/ldsc/sumstats/phecode-288-both_sexes.meta.hg38.hapmap.sumstats.gz --ref-ld-chr /projects/CARDIPS/analysis/epigenome_resource/analyses/jennifer/ldsc/annot/exp_peaks_together/,/projects/CARDIPS/analysis/epigenome_resource/analyses/jennifer/ldsc/reference/baseline_v1.2/baseline. --w-ld-chr /projects/CARDIPS/analysis/epigenome_resource/analyses/jennifer/ldsc/reference/weights/weights.hm3_noMHC. --overlap-annot --frqfile-chr /projects/CARDIPS/analysis/epigenome_resource/analyses/jennifer/ldsc/reference/1000G_Phase3_frq/1000G.EUR.QC. --out /frazer01/projects/CARDIPS/analysis/epigenome_resource/analyses/jennifer/ldsc/h2/exp_peaks_together/phecode-288-both_sexes.meta.hg38.hapmap\" | qsub -N h2.phecode-288-both_sexes.meta -V -cwd -pe smp 4 -o /frazer01/projects/CARDIPS/analysis/epigenome_resource/analyses/jennifer/ldsc/logs/h2.exp_peaks_together.phecode-288-both_sexes.meta.out -e /frazer01/projects/CARDIPS/analysis/epigenome_resource/analyses/jennifer/ldsc/logs/h2.exp_peaks_together.phecode-288-both_sexes.meta.err\n",
      "\n",
      "echo \"source /frazer01/home/jennifer/.bash_profile; source activate ldsc; python ~/software/ldsc/ldsc.py --h2 /frazer01/projects/CARDIPS/analysis/epigenome_resource/analyses/jennifer/ldsc/sumstats/phecode-288.1-both_sexes.eur.hg38.hapmap.sumstats.gz --ref-ld-chr /projects/CARDIPS/analysis/epigenome_resource/analyses/jennifer/ldsc/annot/exp_peaks_together/,/projects/CARDIPS/analysis/epigenome_resource/analyses/jennifer/ldsc/reference/baseline_v1.2/baseline. --w-ld-chr /projects/CARDIPS/analysis/epigenome_resource/analyses/jennifer/ldsc/reference/weights/weights.hm3_noMHC. --overlap-annot --frqfile-chr /projects/CARDIPS/analysis/epigenome_resource/analyses/jennifer/ldsc/reference/1000G_Phase3_frq/1000G.EUR.QC. --out /frazer01/projects/CARDIPS/analysis/epigenome_resource/analyses/jennifer/ldsc/h2/exp_peaks_together/phecode-288.1-both_sexes.eur.hg38.hapmap\" | qsub -N h2.phecode-288.1-both_sexes.eur -V -cwd -pe smp 4 -o /frazer01/projects/CARDIPS/analysis/epigenome_resource/analyses/jennifer/ldsc/logs/h2.exp_peaks_together.phecode-288.1-both_sexes.eur.out -e /frazer01/projects/CARDIPS/analysis/epigenome_resource/analyses/jennifer/ldsc/logs/h2.exp_peaks_together.phecode-288.1-both_sexes.eur.err\n",
      "\n",
      "echo \"source /frazer01/home/jennifer/.bash_profile; source activate ldsc; python ~/software/ldsc/ldsc.py --h2 /frazer01/projects/CARDIPS/analysis/epigenome_resource/analyses/jennifer/ldsc/sumstats/phecode-288.1-both_sexes.meta.hg38.hapmap.sumstats.gz --ref-ld-chr /projects/CARDIPS/analysis/epigenome_resource/analyses/jennifer/ldsc/annot/exp_peaks_together/,/projects/CARDIPS/analysis/epigenome_resource/analyses/jennifer/ldsc/reference/baseline_v1.2/baseline. --w-ld-chr /projects/CARDIPS/analysis/epigenome_resource/analyses/jennifer/ldsc/reference/weights/weights.hm3_noMHC. --overlap-annot --frqfile-chr /projects/CARDIPS/analysis/epigenome_resource/analyses/jennifer/ldsc/reference/1000G_Phase3_frq/1000G.EUR.QC. --out /frazer01/projects/CARDIPS/analysis/epigenome_resource/analyses/jennifer/ldsc/h2/exp_peaks_together/phecode-288.1-both_sexes.meta.hg38.hapmap\" | qsub -N h2.phecode-288.1-both_sexes.meta -V -cwd -pe smp 4 -o /frazer01/projects/CARDIPS/analysis/epigenome_resource/analyses/jennifer/ldsc/logs/h2.exp_peaks_together.phecode-288.1-both_sexes.meta.out -e /frazer01/projects/CARDIPS/analysis/epigenome_resource/analyses/jennifer/ldsc/logs/h2.exp_peaks_together.phecode-288.1-both_sexes.meta.err\n",
      "\n",
      "echo \"source /frazer01/home/jennifer/.bash_profile; source activate ldsc; python ~/software/ldsc/ldsc.py --h2 /frazer01/projects/CARDIPS/analysis/epigenome_resource/analyses/jennifer/ldsc/sumstats/phecode-288.2-both_sexes.eur.hg38.hapmap.sumstats.gz --ref-ld-chr /projects/CARDIPS/analysis/epigenome_resource/analyses/jennifer/ldsc/annot/exp_peaks_together/,/projects/CARDIPS/analysis/epigenome_resource/analyses/jennifer/ldsc/reference/baseline_v1.2/baseline. --w-ld-chr /projects/CARDIPS/analysis/epigenome_resource/analyses/jennifer/ldsc/reference/weights/weights.hm3_noMHC. --overlap-annot --frqfile-chr /projects/CARDIPS/analysis/epigenome_resource/analyses/jennifer/ldsc/reference/1000G_Phase3_frq/1000G.EUR.QC. --out /frazer01/projects/CARDIPS/analysis/epigenome_resource/analyses/jennifer/ldsc/h2/exp_peaks_together/phecode-288.2-both_sexes.eur.hg38.hapmap\" | qsub -N h2.phecode-288.2-both_sexes.eur -V -cwd -pe smp 4 -o /frazer01/projects/CARDIPS/analysis/epigenome_resource/analyses/jennifer/ldsc/logs/h2.exp_peaks_together.phecode-288.2-both_sexes.eur.out -e /frazer01/projects/CARDIPS/analysis/epigenome_resource/analyses/jennifer/ldsc/logs/h2.exp_peaks_together.phecode-288.2-both_sexes.eur.err\n",
      "\n",
      "echo \"source /frazer01/home/jennifer/.bash_profile; source activate ldsc; python ~/software/ldsc/ldsc.py --h2 /frazer01/projects/CARDIPS/analysis/epigenome_resource/analyses/jennifer/ldsc/sumstats/phecode-289-both_sexes.eur.hg38.hapmap.sumstats.gz --ref-ld-chr /projects/CARDIPS/analysis/epigenome_resource/analyses/jennifer/ldsc/annot/exp_peaks_together/,/projects/CARDIPS/analysis/epigenome_resource/analyses/jennifer/ldsc/reference/baseline_v1.2/baseline. --w-ld-chr /projects/CARDIPS/analysis/epigenome_resource/analyses/jennifer/ldsc/reference/weights/weights.hm3_noMHC. --overlap-annot --frqfile-chr /projects/CARDIPS/analysis/epigenome_resource/analyses/jennifer/ldsc/reference/1000G_Phase3_frq/1000G.EUR.QC. --out /frazer01/projects/CARDIPS/analysis/epigenome_resource/analyses/jennifer/ldsc/h2/exp_peaks_together/phecode-289-both_sexes.eur.hg38.hapmap\" | qsub -N h2.phecode-289-both_sexes.eur -V -cwd -pe smp 4 -o /frazer01/projects/CARDIPS/analysis/epigenome_resource/analyses/jennifer/ldsc/logs/h2.exp_peaks_together.phecode-289-both_sexes.eur.out -e /frazer01/projects/CARDIPS/analysis/epigenome_resource/analyses/jennifer/ldsc/logs/h2.exp_peaks_together.phecode-289-both_sexes.eur.err\n",
      "\n",
      "echo \"source /frazer01/home/jennifer/.bash_profile; source activate ldsc; python ~/software/ldsc/ldsc.py --h2 /frazer01/projects/CARDIPS/analysis/epigenome_resource/analyses/jennifer/ldsc/sumstats/phecode-289.3-both_sexes.eur.hg38.hapmap.sumstats.gz --ref-ld-chr /projects/CARDIPS/analysis/epigenome_resource/analyses/jennifer/ldsc/annot/exp_peaks_together/,/projects/CARDIPS/analysis/epigenome_resource/analyses/jennifer/ldsc/reference/baseline_v1.2/baseline. --w-ld-chr /projects/CARDIPS/analysis/epigenome_resource/analyses/jennifer/ldsc/reference/weights/weights.hm3_noMHC. --overlap-annot --frqfile-chr /projects/CARDIPS/analysis/epigenome_resource/analyses/jennifer/ldsc/reference/1000G_Phase3_frq/1000G.EUR.QC. --out /frazer01/projects/CARDIPS/analysis/epigenome_resource/analyses/jennifer/ldsc/h2/exp_peaks_together/phecode-289.3-both_sexes.eur.hg38.hapmap\" | qsub -N h2.phecode-289.3-both_sexes.eur -V -cwd -pe smp 4 -o /frazer01/projects/CARDIPS/analysis/epigenome_resource/analyses/jennifer/ldsc/logs/h2.exp_peaks_together.phecode-289.3-both_sexes.eur.out -e /frazer01/projects/CARDIPS/analysis/epigenome_resource/analyses/jennifer/ldsc/logs/h2.exp_peaks_together.phecode-289.3-both_sexes.eur.err\n",
      "\n",
      "echo \"source /frazer01/home/jennifer/.bash_profile; source activate ldsc; python ~/software/ldsc/ldsc.py --h2 /frazer01/projects/CARDIPS/analysis/epigenome_resource/analyses/jennifer/ldsc/sumstats/phecode-289.4-both_sexes.eur.hg38.hapmap.sumstats.gz --ref-ld-chr /projects/CARDIPS/analysis/epigenome_resource/analyses/jennifer/ldsc/annot/exp_peaks_together/,/projects/CARDIPS/analysis/epigenome_resource/analyses/jennifer/ldsc/reference/baseline_v1.2/baseline. --w-ld-chr /projects/CARDIPS/analysis/epigenome_resource/analyses/jennifer/ldsc/reference/weights/weights.hm3_noMHC. --overlap-annot --frqfile-chr /projects/CARDIPS/analysis/epigenome_resource/analyses/jennifer/ldsc/reference/1000G_Phase3_frq/1000G.EUR.QC. --out /frazer01/projects/CARDIPS/analysis/epigenome_resource/analyses/jennifer/ldsc/h2/exp_peaks_together/phecode-289.4-both_sexes.eur.hg38.hapmap\" | qsub -N h2.phecode-289.4-both_sexes.eur -V -cwd -pe smp 4 -o /frazer01/projects/CARDIPS/analysis/epigenome_resource/analyses/jennifer/ldsc/logs/h2.exp_peaks_together.phecode-289.4-both_sexes.eur.out -e /frazer01/projects/CARDIPS/analysis/epigenome_resource/analyses/jennifer/ldsc/logs/h2.exp_peaks_together.phecode-289.4-both_sexes.eur.err\n",
      "\n",
      "echo \"source /frazer01/home/jennifer/.bash_profile; source activate ldsc; python ~/software/ldsc/ldsc.py --h2 /frazer01/projects/CARDIPS/analysis/epigenome_resource/analyses/jennifer/ldsc/sumstats/phecode-289.4-both_sexes.meta.hg38.hapmap.sumstats.gz --ref-ld-chr /projects/CARDIPS/analysis/epigenome_resource/analyses/jennifer/ldsc/annot/exp_peaks_together/,/projects/CARDIPS/analysis/epigenome_resource/analyses/jennifer/ldsc/reference/baseline_v1.2/baseline. --w-ld-chr /projects/CARDIPS/analysis/epigenome_resource/analyses/jennifer/ldsc/reference/weights/weights.hm3_noMHC. --overlap-annot --frqfile-chr /projects/CARDIPS/analysis/epigenome_resource/analyses/jennifer/ldsc/reference/1000G_Phase3_frq/1000G.EUR.QC. --out /frazer01/projects/CARDIPS/analysis/epigenome_resource/analyses/jennifer/ldsc/h2/exp_peaks_together/phecode-289.4-both_sexes.meta.hg38.hapmap\" | qsub -N h2.phecode-289.4-both_sexes.meta -V -cwd -pe smp 4 -o /frazer01/projects/CARDIPS/analysis/epigenome_resource/analyses/jennifer/ldsc/logs/h2.exp_peaks_together.phecode-289.4-both_sexes.meta.out -e /frazer01/projects/CARDIPS/analysis/epigenome_resource/analyses/jennifer/ldsc/logs/h2.exp_peaks_together.phecode-289.4-both_sexes.meta.err\n",
      "\n",
      "echo \"source /frazer01/home/jennifer/.bash_profile; source activate ldsc; python ~/software/ldsc/ldsc.py --h2 /frazer01/projects/CARDIPS/analysis/epigenome_resource/analyses/jennifer/ldsc/sumstats/phecode-289.5-both_sexes.eur.hg38.hapmap.sumstats.gz --ref-ld-chr /projects/CARDIPS/analysis/epigenome_resource/analyses/jennifer/ldsc/annot/exp_peaks_together/,/projects/CARDIPS/analysis/epigenome_resource/analyses/jennifer/ldsc/reference/baseline_v1.2/baseline. --w-ld-chr /projects/CARDIPS/analysis/epigenome_resource/analyses/jennifer/ldsc/reference/weights/weights.hm3_noMHC. --overlap-annot --frqfile-chr /projects/CARDIPS/analysis/epigenome_resource/analyses/jennifer/ldsc/reference/1000G_Phase3_frq/1000G.EUR.QC. --out /frazer01/projects/CARDIPS/analysis/epigenome_resource/analyses/jennifer/ldsc/h2/exp_peaks_together/phecode-289.5-both_sexes.eur.hg38.hapmap\" | qsub -N h2.phecode-289.5-both_sexes.eur -V -cwd -pe smp 4 -o /frazer01/projects/CARDIPS/analysis/epigenome_resource/analyses/jennifer/ldsc/logs/h2.exp_peaks_together.phecode-289.5-both_sexes.eur.out -e /frazer01/projects/CARDIPS/analysis/epigenome_resource/analyses/jennifer/ldsc/logs/h2.exp_peaks_together.phecode-289.5-both_sexes.eur.err\n",
      "\n",
      "echo \"source /frazer01/home/jennifer/.bash_profile; source activate ldsc; python ~/software/ldsc/ldsc.py --h2 /frazer01/projects/CARDIPS/analysis/epigenome_resource/analyses/jennifer/ldsc/sumstats/phecode-289.8-both_sexes.eur.hg38.hapmap.sumstats.gz --ref-ld-chr /projects/CARDIPS/analysis/epigenome_resource/analyses/jennifer/ldsc/annot/exp_peaks_together/,/projects/CARDIPS/analysis/epigenome_resource/analyses/jennifer/ldsc/reference/baseline_v1.2/baseline. --w-ld-chr /projects/CARDIPS/analysis/epigenome_resource/analyses/jennifer/ldsc/reference/weights/weights.hm3_noMHC. --overlap-annot --frqfile-chr /projects/CARDIPS/analysis/epigenome_resource/analyses/jennifer/ldsc/reference/1000G_Phase3_frq/1000G.EUR.QC. --out /frazer01/projects/CARDIPS/analysis/epigenome_resource/analyses/jennifer/ldsc/h2/exp_peaks_together/phecode-289.8-both_sexes.eur.hg38.hapmap\" | qsub -N h2.phecode-289.8-both_sexes.eur -V -cwd -pe smp 4 -o /frazer01/projects/CARDIPS/analysis/epigenome_resource/analyses/jennifer/ldsc/logs/h2.exp_peaks_together.phecode-289.8-both_sexes.eur.out -e /frazer01/projects/CARDIPS/analysis/epigenome_resource/analyses/jennifer/ldsc/logs/h2.exp_peaks_together.phecode-289.8-both_sexes.eur.err\n",
      "\n",
      "echo \"source /frazer01/home/jennifer/.bash_profile; source activate ldsc; python ~/software/ldsc/ldsc.py --h2 /frazer01/projects/CARDIPS/analysis/epigenome_resource/analyses/jennifer/ldsc/sumstats/phecode-289.9-both_sexes.eur.hg38.hapmap.sumstats.gz --ref-ld-chr /projects/CARDIPS/analysis/epigenome_resource/analyses/jennifer/ldsc/annot/exp_peaks_together/,/projects/CARDIPS/analysis/epigenome_resource/analyses/jennifer/ldsc/reference/baseline_v1.2/baseline. --w-ld-chr /projects/CARDIPS/analysis/epigenome_resource/analyses/jennifer/ldsc/reference/weights/weights.hm3_noMHC. --overlap-annot --frqfile-chr /projects/CARDIPS/analysis/epigenome_resource/analyses/jennifer/ldsc/reference/1000G_Phase3_frq/1000G.EUR.QC. --out /frazer01/projects/CARDIPS/analysis/epigenome_resource/analyses/jennifer/ldsc/h2/exp_peaks_together/phecode-289.9-both_sexes.eur.hg38.hapmap\" | qsub -N h2.phecode-289.9-both_sexes.eur -V -cwd -pe smp 4 -o /frazer01/projects/CARDIPS/analysis/epigenome_resource/analyses/jennifer/ldsc/logs/h2.exp_peaks_together.phecode-289.9-both_sexes.eur.out -e /frazer01/projects/CARDIPS/analysis/epigenome_resource/analyses/jennifer/ldsc/logs/h2.exp_peaks_together.phecode-289.9-both_sexes.eur.err\n",
      "\n",
      "echo \"source /frazer01/home/jennifer/.bash_profile; source activate ldsc; python ~/software/ldsc/ldsc.py --h2 /frazer01/projects/CARDIPS/analysis/epigenome_resource/analyses/jennifer/ldsc/sumstats/phecode-555-both_sexes.eur.hg38.hapmap.sumstats.gz --ref-ld-chr /projects/CARDIPS/analysis/epigenome_resource/analyses/jennifer/ldsc/annot/exp_peaks_together/,/projects/CARDIPS/analysis/epigenome_resource/analyses/jennifer/ldsc/reference/baseline_v1.2/baseline. --w-ld-chr /projects/CARDIPS/analysis/epigenome_resource/analyses/jennifer/ldsc/reference/weights/weights.hm3_noMHC. --overlap-annot --frqfile-chr /projects/CARDIPS/analysis/epigenome_resource/analyses/jennifer/ldsc/reference/1000G_Phase3_frq/1000G.EUR.QC. --out /frazer01/projects/CARDIPS/analysis/epigenome_resource/analyses/jennifer/ldsc/h2/exp_peaks_together/phecode-555-both_sexes.eur.hg38.hapmap\" | qsub -N h2.phecode-555-both_sexes.eur -V -cwd -pe smp 4 -o /frazer01/projects/CARDIPS/analysis/epigenome_resource/analyses/jennifer/ldsc/logs/h2.exp_peaks_together.phecode-555-both_sexes.eur.out -e /frazer01/projects/CARDIPS/analysis/epigenome_resource/analyses/jennifer/ldsc/logs/h2.exp_peaks_together.phecode-555-both_sexes.eur.err\n",
      "\n",
      "echo \"source /frazer01/home/jennifer/.bash_profile; source activate ldsc; python ~/software/ldsc/ldsc.py --h2 /frazer01/projects/CARDIPS/analysis/epigenome_resource/analyses/jennifer/ldsc/sumstats/phecode-555-both_sexes.meta.hg38.hapmap.sumstats.gz --ref-ld-chr /projects/CARDIPS/analysis/epigenome_resource/analyses/jennifer/ldsc/annot/exp_peaks_together/,/projects/CARDIPS/analysis/epigenome_resource/analyses/jennifer/ldsc/reference/baseline_v1.2/baseline. --w-ld-chr /projects/CARDIPS/analysis/epigenome_resource/analyses/jennifer/ldsc/reference/weights/weights.hm3_noMHC. --overlap-annot --frqfile-chr /projects/CARDIPS/analysis/epigenome_resource/analyses/jennifer/ldsc/reference/1000G_Phase3_frq/1000G.EUR.QC. --out /frazer01/projects/CARDIPS/analysis/epigenome_resource/analyses/jennifer/ldsc/h2/exp_peaks_together/phecode-555-both_sexes.meta.hg38.hapmap\" | qsub -N h2.phecode-555-both_sexes.meta -V -cwd -pe smp 4 -o /frazer01/projects/CARDIPS/analysis/epigenome_resource/analyses/jennifer/ldsc/logs/h2.exp_peaks_together.phecode-555-both_sexes.meta.out -e /frazer01/projects/CARDIPS/analysis/epigenome_resource/analyses/jennifer/ldsc/logs/h2.exp_peaks_together.phecode-555-both_sexes.meta.err\n",
      "\n",
      "echo \"source /frazer01/home/jennifer/.bash_profile; source activate ldsc; python ~/software/ldsc/ldsc.py --h2 /frazer01/projects/CARDIPS/analysis/epigenome_resource/analyses/jennifer/ldsc/sumstats/phecode-715.2-both_sexes.eur.hg38.hapmap.sumstats.gz --ref-ld-chr /projects/CARDIPS/analysis/epigenome_resource/analyses/jennifer/ldsc/annot/exp_peaks_together/,/projects/CARDIPS/analysis/epigenome_resource/analyses/jennifer/ldsc/reference/baseline_v1.2/baseline. --w-ld-chr /projects/CARDIPS/analysis/epigenome_resource/analyses/jennifer/ldsc/reference/weights/weights.hm3_noMHC. --overlap-annot --frqfile-chr /projects/CARDIPS/analysis/epigenome_resource/analyses/jennifer/ldsc/reference/1000G_Phase3_frq/1000G.EUR.QC. --out /frazer01/projects/CARDIPS/analysis/epigenome_resource/analyses/jennifer/ldsc/h2/exp_peaks_together/phecode-715.2-both_sexes.eur.hg38.hapmap\" | qsub -N h2.phecode-715.2-both_sexes.eur -V -cwd -pe smp 4 -o /frazer01/projects/CARDIPS/analysis/epigenome_resource/analyses/jennifer/ldsc/logs/h2.exp_peaks_together.phecode-715.2-both_sexes.eur.out -e /frazer01/projects/CARDIPS/analysis/epigenome_resource/analyses/jennifer/ldsc/logs/h2.exp_peaks_together.phecode-715.2-both_sexes.eur.err\n",
      "\n"
     ]
    }
   ],
   "source": [
    "traits = gsub(\"/frazer01/projects/CARDIPS/analysis/epigenome_resource/analyses/jennifer/ldsc/sumstats/\", \"\", gsub(\".hg38.hapmap.sumstats.gz\", \"\", sumstats))\n",
    "for(sumstat in traits)\n",
    "{\n",
    "    sumstat = paste(\"/frazer01/projects/CARDIPS/analysis/epigenome_resource/analyses/jennifer/ldsc/sumstats\", paste(sumstat, \"hg38.hapmap.sumstats.gz\", sep = \".\"), sep = \"/\")\n",
    "    prefix = gsub(\".sumstats.gz\", \"\", unlist(strsplit(sumstat, \"/\"))[11])\n",
    "    frq = \"/projects/CARDIPS/analysis/epigenome_resource/analyses/jennifer/ldsc/reference/1000G_Phase3_frq/1000G.EUR.QC.\"\n",
    "    ref = paste(\"/projects/CARDIPS/analysis/epigenome_resource/analyses/jennifer/ldsc/annot/exp_peaks_together/\", \"/projects/CARDIPS/analysis/epigenome_resource/analyses/jennifer/ldsc/reference/baseline_v1.2/baseline.\", sep = \",\")\n",
    "    ld = \"/projects/CARDIPS/analysis/epigenome_resource/analyses/jennifer/ldsc/reference/weights/weights.hm3_noMHC.\"\n",
    "    out = paste(getwd(), \"analyses/jennifer/ldsc/h2/exp_peaks_together\", prefix, sep = \"/\")\n",
    "    trait = gsub(\".hg38.hapmap\", \"\", gsub(\"/frazer01/projects/CARDIPS/analysis/epigenome_resource/analyses/jennifer/ldsc/sumstats/\", \"\", prefix))\n",
    "    cmd = paste(\"source /frazer01/home/jennifer/.bash_profile; source activate ldsc; python ~/software/ldsc/ldsc.py\",\n",
    "                \"--h2\", sumstat,\n",
    "                \"--ref-ld-chr\", ref, \n",
    "                \"--w-ld-chr\", ld,\n",
    "                \"--overlap-annot\",\n",
    "                \"--frqfile-chr\", frq,\n",
    "                \"--out\", out)  \n",
    "    \n",
    "    log_out = paste(getwd(), \"analyses/jennifer/ldsc/logs\", paste(\"h2.exp_peaks_together\",  trait, \"out\", sep = \".\"), sep = \"/\")\n",
    "    log_err = paste(getwd(), \"analyses/jennifer/ldsc/logs\", paste(\"h2.exp_peaks_together\",  trait, \"err\", sep = \".\"), sep = \"/\")\n",
    "    \n",
    "    run_qsub(cmd = cmd, name = paste(\"h2\", trait, sep = \".\"), log_err = log_err, log_out = log_out, threads = 4, exec = T)\n",
    "}\n"
   ]
  },
  {
   "cell_type": "code",
   "execution_count": 39,
   "metadata": {},
   "outputs": [],
   "source": [
    "# for (i in c(1:22))\n",
    "# {\n",
    "#     if (analysis == \"eqtls\") { annot_name = \"eQTL\" }\n",
    "#     if (analysis == \"caqtls\") { annot_name = \"caQTL\" }\n",
    "#     if (analysis == \"haqtls\") { annot_name = \"haQTL\" }\n",
    "#     if (analysis == \"eqtls\")\n",
    "#     {\n",
    "#         cmd = paste(\"source /frazer01/home/jennifer/.bash_profile; source activate ldsc; python\", \"~/software/ldsc/make_annot.py\", \n",
    "#                     \"--gene-set-file\", paste(getwd(), \"analyses/jennifer/ldsc/annot\", paste(paste(tolower(tissue), analysis, sep = \"_\"), i, \"egenes\", \"txt\", sep = \".\"), sep = \"/\"),\n",
    "#                     \"--gene-coord-file\", paste(getwd(), \"analyses/jennifer/ldsc/annot/gene_info.txt\", sep = \"/\"),\n",
    "#                     \"--windowsize\", \"1000000\",\n",
    "#                     \"--bimfile\", paste(getwd(), \"analyses/jennifer/ldsc/reference/plink_files\", paste(\"1000G.EUR.hg38\", i, \"bim\", sep = \".\"), sep = \"/\"),\n",
    "#                     \"--annot-file\", paste(getwd(), \"analyses/jennifer/ldsc/annot\",  paste(paste(tolower(tissue), analysis, sep = \"_\"), i, \"annot.gz\", sep = \".\"), sep = \"/\"),\n",
    "#                     \"--annot-name\", paste(tissue, annot_name, sep = \"_\"))\n",
    "#     } else\n",
    "#     {\n",
    "#         cmd = paste(\"source /frazer01/home/jennifer/.bash_profile; source activate ldsc; python\", \"~/software/ldsc/make_annot.py\", \n",
    "#                     \"--bed-file\", paste(getwd(), \"analyses/jennifer/ldsc/annot\", paste(paste(tolower(tissue), analysis, sep = \"_\"), i, \"egenes\", \"bed\", sep = \".\"), sep = \"/\"),\n",
    "#                     \"--bimfile\", paste(getwd(), \"analyses/jennifer/ldsc/reference/plink_files\", paste(\"1000G.EUR.hg38\", i, \"bim\", sep = \".\"), sep = \"/\"),\n",
    "#                     \"--windowsize\", \"100000\",\n",
    "#                     \"--annot-file\", paste(getwd(), \"analyses/jennifer/ldsc/annot\",  paste(paste(tolower(tissue), analysis, sep = \"_\"), i, \"annot.gz\", sep = \".\"), sep = \"/\"),\n",
    "#                     \"--annot-name\", paste(tissue, annot_name, sep = \"_\"))\n",
    "#     }\n",
    "        \n",
    "    \n",
    "#     log_out = paste(getwd(), \"analyses/jennifer/ldsc/logs\", paste(\"make_annot\", paste(tolower(tissue), analysis, sep = \"_\"), i, \"out\", sep = \".\"), sep = \"/\")\n",
    "#     log_err = paste(getwd(), \"analyses/jennifer/ldsc/logs\", paste(\"make_annot\", paste(tolower(tissue), analysis, sep = \"_\"), i, \"err\", sep = \".\"), sep = \"/\")\n",
    "#     run_qsub(cmd = cmd, name = paste(\"annot\", i, sep = \".\"), log_err = log_err, log_out = log_out, threads = 4, exec = T)\n",
    "    \n",
    "# }\n",
    "\n",
    "# # or run in terminal\n",
    "# # for i in {1..22}; do\n",
    "# # python ~/software/ldsc/make_annot.py --gene-set-file /frazer01/projects/CARDIPS/analysis/epigenome_resource/analyses/jennifer/ldsc/annot/ppc_eqtls.egenes.${i}.txt --gene-coord-file /frazer01/projects/CARDIPS/analysis/epigenome_resource/analyses/jennifer/ldsc/annot/gene_info.txt --windowsize 1000000 --bimfile /frazer01/projects/CARDIPS/analysis/epigenome_resource/analyses/jennifer/ldsc/reference/plink_files/1000G.EUR.hg38.${i}.bim --annot-file /frazer01/projects/CARDIPS/analysis/epigenome_resource/analyses/jennifer/ldsc/annot/ppc_eqtls.${i}.annot.gz\n",
    "# # done"
   ]
  },
  {
   "cell_type": "markdown",
   "metadata": {},
   "source": [
    "## 4. Analyze"
   ]
  },
  {
   "cell_type": "code",
   "execution_count": 49,
   "metadata": {},
   "outputs": [],
   "source": [
    "# files = list.files(\"analyses/jennifer/ldsc/h2/all_peaks\", full.names = T)\n",
    "# files = files[which(!files %like% \"log\")]\n",
    "\n",
    "# results = as.data.frame(rbindlist(lapply(files, function(f)\n",
    "# {\n",
    "#     full_trait_id = gsub(\".hg38.hapmap.results\", \"\", unlist(strsplit(f, \"/\"))[6])\n",
    "#     fread(f, data.table = F) %>% mutate(full_trait_id = full_trait_id)\n",
    "# }))) %>% filter(Category %like% \"qtls\")\n",
    "\n",
    "# results = merge(results %>% filter(full_trait_id %in% sub_manifest$full_trait_id), \n",
    "#                 sub_manifest[,c(\"full_trait_id\", \"description\")], by = \"full_trait_id\", all.x = T) %>% distinct()\n",
    "# results$Category = gsub(\"L2_0\", \"\", results$Category)\n",
    "\n",
    "# unique(results$Category)\n",
    "\n",
    "# results$Category = mapvalues(results$Category, \n",
    "#                              from = c(\"CVPC_caqtls\",\n",
    "#                                       \"CVPC_haqtls\",\n",
    "#                                       \"iPSC_caqtls\",\n",
    "#                                       \"iPSC_haqtls\",\n",
    "#                                       \"PPC_caqtls\"),\n",
    "#                              to = c(\"CVPC ATAC-seq\",\n",
    "#                                     \"CVPC ChIP-seq\",\n",
    "#                                     \"iPSC ATAC-seq\",\n",
    "#                                     \"iPSC ChIP-seq\",\n",
    "#                                     \"PPC ATAC-seq\"))\n",
    "\n",
    "# results$Enrichment = ifelse(results$Enrichment_p > 0.05, 0, results$Enrichment)\n",
    "# results = results %>% filter(full_trait_id != \"continuous-20022-both_sexes-irnt.meta\")"
   ]
  },
  {
   "cell_type": "code",
   "execution_count": 50,
   "metadata": {},
   "outputs": [],
   "source": [
    "# psize(w = 10, h = 7)\n",
    "\n",
    "# results = results %>% filter(Category %like% \"bed\")\n",
    "# results$Category = mapvalues(results$Category, \n",
    "#                              from = c(\"haqtls_iPSC_bed\",\n",
    "#                                       \"haqtls_CVPC_bed\",\n",
    "#                                       \"caqtls_PPC_bed\",\n",
    "#                                       \"caqtls_iPSC_bed\",\n",
    "#                                       \"caqtls_CVPC_bed\"),\n",
    "#                              to = c(\"iPSC ChIP-seq\",\n",
    "#                                     \"CVPC ChIP-seq\",\n",
    "#                                     \"PPC ATAC-seq\",\n",
    "#                                     \"iPSC ATAC-seq\",\n",
    "#                                     \"CVPC ATAC-seq\"))\n",
    "\n",
    "# ggplot(results, aes(x = description, y = Category, fill = Enrichment)) +\n",
    "#     geom_tile(color = \"black\") + \n",
    "#     scale_fill_gradientn(colors = c(\"blue\", \"white\", \"red\"), limits = c(-20, 20)) + \n",
    "#     jn_classic + \n",
    "#     theme(\n",
    "#         axis.text.x = element_text(angle = 90, hjust = 1, vjust = 0.5)\n",
    "#     )  + xlab(\"\") + ylab(\"\")"
   ]
  },
  {
   "cell_type": "code",
   "execution_count": 70,
   "metadata": {},
   "outputs": [
    {
     "data": {
      "text/html": [
       "<table class=\"dataframe\">\n",
       "<caption>A data.frame: 59 × 7</caption>\n",
       "<thead>\n",
       "\t<tr><th></th><th scope=col>trait_id</th><th scope=col>trait_type</th><th scope=col>coding_description</th><th scope=col>description</th><th scope=col>full_trait_id</th><th scope=col>filename</th><th scope=col>exists</th></tr>\n",
       "\t<tr><th></th><th scope=col>&lt;chr&gt;</th><th scope=col>&lt;chr&gt;</th><th scope=col>&lt;chr&gt;</th><th scope=col>&lt;chr&gt;</th><th scope=col>&lt;chr&gt;</th><th scope=col>&lt;chr&gt;</th><th scope=col>&lt;lgl&gt;</th></tr>\n",
       "</thead>\n",
       "<tbody>\n",
       "\t<tr><th scope=row>1</th><td>categorical-20003-both_sexes-1140861958       </td><td>case_control</td><td></td><td>simvastatin                                    </td><td>categorical-20003-both_sexes-1140861958.meta  </td><td>/projects/CARDIPS/analysis/epigenome_resource/analyses/jennifer/gwas_liftover/hg38_summary_statistics/categorical-20003-both_sexes-1140861958.meta.hg38.tsv.gz     </td><td>TRUE</td></tr>\n",
       "\t<tr><th scope=row>2</th><td>categorical-20003-both_sexes-1140883066       </td><td>case_control</td><td></td><td>insulin product                                </td><td>categorical-20003-both_sexes-1140883066.meta  </td><td>/projects/CARDIPS/analysis/epigenome_resource/analyses/jennifer/gwas_liftover/hg38_summary_statistics/categorical-20003-both_sexes-1140883066.meta.hg38.tsv.gz     </td><td>TRUE</td></tr>\n",
       "\t<tr><th scope=row>3</th><td>categorical-20003-both_sexes-1140884600       </td><td>case_control</td><td></td><td>metformin                                      </td><td>categorical-20003-both_sexes-1140884600.meta  </td><td>/projects/CARDIPS/analysis/epigenome_resource/analyses/jennifer/gwas_liftover/hg38_summary_statistics/categorical-20003-both_sexes-1140884600.meta.hg38.tsv.gz     </td><td>TRUE</td></tr>\n",
       "\t<tr><th scope=row>4</th><td>categorical-20107-both_sexes-9                </td><td>case_control</td><td></td><td>Diabetes                                       </td><td>categorical-20107-both_sexes-9.meta           </td><td>/projects/CARDIPS/analysis/epigenome_resource/analyses/jennifer/gwas_liftover/hg38_summary_statistics/categorical-20107-both_sexes-9.meta.hg38.tsv.gz              </td><td>TRUE</td></tr>\n",
       "\t<tr><th scope=row>5</th><td>categorical-20110-both_sexes-9                </td><td>case_control</td><td></td><td>Diabetes                                       </td><td>categorical-20110-both_sexes-9.meta           </td><td>/projects/CARDIPS/analysis/epigenome_resource/analyses/jennifer/gwas_liftover/hg38_summary_statistics/categorical-20110-both_sexes-9.meta.hg38.tsv.gz              </td><td>TRUE</td></tr>\n",
       "\t<tr><th scope=row>6</th><td>categorical-20111-both_sexes-9                </td><td>case_control</td><td></td><td>Diabetes                                       </td><td>categorical-20111-both_sexes-9.meta           </td><td>/projects/CARDIPS/analysis/epigenome_resource/analyses/jennifer/gwas_liftover/hg38_summary_statistics/categorical-20111-both_sexes-9.meta.hg38.tsv.gz              </td><td>TRUE</td></tr>\n",
       "\t<tr><th scope=row>38</th><td>continuous-30000-both_sexes-irnt              </td><td>continuous  </td><td></td><td>White blood cell (leukocyte) count             </td><td>continuous-30000-both_sexes-irnt.eur          </td><td>/projects/CARDIPS/analysis/epigenome_resource/analyses/jennifer/gwas_liftover/hg38_summary_statistics/continuous-30000-both_sexes-irnt.eur.hg38.tsv.gz             </td><td>TRUE</td></tr>\n",
       "\t<tr><th scope=row>39</th><td>continuous-30010-both_sexes-irnt              </td><td>continuous  </td><td></td><td>Red blood cell (erythrocyte) count             </td><td>continuous-30010-both_sexes-irnt.eur          </td><td>/projects/CARDIPS/analysis/epigenome_resource/analyses/jennifer/gwas_liftover/hg38_summary_statistics/continuous-30010-both_sexes-irnt.eur.hg38.tsv.gz             </td><td>TRUE</td></tr>\n",
       "\t<tr><th scope=row>42</th><td>continuous-30020-both_sexes-irnt              </td><td>continuous  </td><td></td><td>Haemoglobin concentration                      </td><td>continuous-30020-both_sexes-irnt.eur          </td><td>/projects/CARDIPS/analysis/epigenome_resource/analyses/jennifer/gwas_liftover/hg38_summary_statistics/continuous-30020-both_sexes-irnt.eur.hg38.tsv.gz             </td><td>TRUE</td></tr>\n",
       "\t<tr><th scope=row>44</th><td>continuous-30030-both_sexes-irnt              </td><td>continuous  </td><td></td><td>Haematocrit percentage                         </td><td>continuous-30030-both_sexes-irnt.eur          </td><td>/projects/CARDIPS/analysis/epigenome_resource/analyses/jennifer/gwas_liftover/hg38_summary_statistics/continuous-30030-both_sexes-irnt.eur.hg38.tsv.gz             </td><td>TRUE</td></tr>\n",
       "\t<tr><th scope=row>46</th><td>continuous-30040-both_sexes-irnt              </td><td>continuous  </td><td></td><td>Mean corpuscular volume                        </td><td>continuous-30040-both_sexes-irnt.eur          </td><td>/projects/CARDIPS/analysis/epigenome_resource/analyses/jennifer/gwas_liftover/hg38_summary_statistics/continuous-30040-both_sexes-irnt.eur.hg38.tsv.gz             </td><td>TRUE</td></tr>\n",
       "\t<tr><th scope=row>47</th><td>continuous-30050-both_sexes-irnt              </td><td>continuous  </td><td></td><td>Mean corpuscular haemoglobin                   </td><td>continuous-30050-both_sexes-irnt.eur          </td><td>/projects/CARDIPS/analysis/epigenome_resource/analyses/jennifer/gwas_liftover/hg38_summary_statistics/continuous-30050-both_sexes-irnt.eur.hg38.tsv.gz             </td><td>TRUE</td></tr>\n",
       "\t<tr><th scope=row>50</th><td>continuous-30060-both_sexes-irnt              </td><td>continuous  </td><td></td><td>Mean corpuscular haemoglobin concentration     </td><td>continuous-30060-both_sexes-irnt.eur          </td><td>/projects/CARDIPS/analysis/epigenome_resource/analyses/jennifer/gwas_liftover/hg38_summary_statistics/continuous-30060-both_sexes-irnt.eur.hg38.tsv.gz             </td><td>TRUE</td></tr>\n",
       "\t<tr><th scope=row>51</th><td>continuous-30070-both_sexes-irnt              </td><td>continuous  </td><td></td><td>Red blood cell (erythrocyte) distribution width</td><td>continuous-30070-both_sexes-irnt.eur          </td><td>/projects/CARDIPS/analysis/epigenome_resource/analyses/jennifer/gwas_liftover/hg38_summary_statistics/continuous-30070-both_sexes-irnt.eur.hg38.tsv.gz             </td><td>TRUE</td></tr>\n",
       "\t<tr><th scope=row>54</th><td>continuous-30080-both_sexes-irnt              </td><td>continuous  </td><td></td><td>Platelet count                                 </td><td>continuous-30080-both_sexes-irnt.eur          </td><td>/projects/CARDIPS/analysis/epigenome_resource/analyses/jennifer/gwas_liftover/hg38_summary_statistics/continuous-30080-both_sexes-irnt.eur.hg38.tsv.gz             </td><td>TRUE</td></tr>\n",
       "\t<tr><th scope=row>56</th><td>continuous-30090-both_sexes-irnt              </td><td>continuous  </td><td></td><td>Platelet crit                                  </td><td>continuous-30090-both_sexes-irnt.eur          </td><td>/projects/CARDIPS/analysis/epigenome_resource/analyses/jennifer/gwas_liftover/hg38_summary_statistics/continuous-30090-both_sexes-irnt.eur.hg38.tsv.gz             </td><td>TRUE</td></tr>\n",
       "\t<tr><th scope=row>58</th><td>continuous-30100-both_sexes-irnt              </td><td>continuous  </td><td></td><td>Mean platelet (thrombocyte) volume             </td><td>continuous-30100-both_sexes-irnt.eur          </td><td>/projects/CARDIPS/analysis/epigenome_resource/analyses/jennifer/gwas_liftover/hg38_summary_statistics/continuous-30100-both_sexes-irnt.eur.hg38.tsv.gz             </td><td>TRUE</td></tr>\n",
       "\t<tr><th scope=row>60</th><td>continuous-30110-both_sexes-irnt              </td><td>continuous  </td><td></td><td>Platelet distribution width                    </td><td>continuous-30110-both_sexes-irnt.eur          </td><td>/projects/CARDIPS/analysis/epigenome_resource/analyses/jennifer/gwas_liftover/hg38_summary_statistics/continuous-30110-both_sexes-irnt.eur.hg38.tsv.gz             </td><td>TRUE</td></tr>\n",
       "\t<tr><th scope=row>62</th><td>continuous-30120-both_sexes-irnt              </td><td>continuous  </td><td></td><td>Lymphocyte count                               </td><td>continuous-30120-both_sexes-irnt.eur          </td><td>/projects/CARDIPS/analysis/epigenome_resource/analyses/jennifer/gwas_liftover/hg38_summary_statistics/continuous-30120-both_sexes-irnt.eur.hg38.tsv.gz             </td><td>TRUE</td></tr>\n",
       "\t<tr><th scope=row>63</th><td>continuous-30130-both_sexes-irnt              </td><td>continuous  </td><td></td><td>Monocyte count                                 </td><td>continuous-30130-both_sexes-irnt.eur          </td><td>/projects/CARDIPS/analysis/epigenome_resource/analyses/jennifer/gwas_liftover/hg38_summary_statistics/continuous-30130-both_sexes-irnt.eur.hg38.tsv.gz             </td><td>TRUE</td></tr>\n",
       "\t<tr><th scope=row>66</th><td>continuous-30140-both_sexes-irnt              </td><td>continuous  </td><td></td><td>Neutrophill count                              </td><td>continuous-30140-both_sexes-irnt.eur          </td><td>/projects/CARDIPS/analysis/epigenome_resource/analyses/jennifer/gwas_liftover/hg38_summary_statistics/continuous-30140-both_sexes-irnt.eur.hg38.tsv.gz             </td><td>TRUE</td></tr>\n",
       "\t<tr><th scope=row>67</th><td>continuous-30150-both_sexes-irnt              </td><td>continuous  </td><td></td><td>Eosinophill count                              </td><td>continuous-30150-both_sexes-irnt.eur          </td><td>/projects/CARDIPS/analysis/epigenome_resource/analyses/jennifer/gwas_liftover/hg38_summary_statistics/continuous-30150-both_sexes-irnt.eur.hg38.tsv.gz             </td><td>TRUE</td></tr>\n",
       "\t<tr><th scope=row>69</th><td>continuous-30160-both_sexes                   </td><td>continuous  </td><td></td><td>Basophill count                                </td><td>continuous-30160-both_sexes.eur               </td><td>/projects/CARDIPS/analysis/epigenome_resource/analyses/jennifer/gwas_liftover/hg38_summary_statistics/continuous-30160-both_sexes.eur.hg38.tsv.gz                  </td><td>TRUE</td></tr>\n",
       "\t<tr><th scope=row>72</th><td>continuous-30180-both_sexes-irnt              </td><td>continuous  </td><td></td><td>Lymphocyte percentage                          </td><td>continuous-30180-both_sexes-irnt.eur          </td><td>/projects/CARDIPS/analysis/epigenome_resource/analyses/jennifer/gwas_liftover/hg38_summary_statistics/continuous-30180-both_sexes-irnt.eur.hg38.tsv.gz             </td><td>TRUE</td></tr>\n",
       "\t<tr><th scope=row>74</th><td>continuous-30190-both_sexes-irnt              </td><td>continuous  </td><td></td><td>Monocyte percentage                            </td><td>continuous-30190-both_sexes-irnt.eur          </td><td>/projects/CARDIPS/analysis/epigenome_resource/analyses/jennifer/gwas_liftover/hg38_summary_statistics/continuous-30190-both_sexes-irnt.eur.hg38.tsv.gz             </td><td>TRUE</td></tr>\n",
       "\t<tr><th scope=row>76</th><td>continuous-30200-both_sexes-irnt              </td><td>continuous  </td><td></td><td>Neutrophill percentage                         </td><td>continuous-30200-both_sexes-irnt.eur          </td><td>/projects/CARDIPS/analysis/epigenome_resource/analyses/jennifer/gwas_liftover/hg38_summary_statistics/continuous-30200-both_sexes-irnt.eur.hg38.tsv.gz             </td><td>TRUE</td></tr>\n",
       "\t<tr><th scope=row>77</th><td>continuous-30210-both_sexes-irnt              </td><td>continuous  </td><td></td><td>Eosinophill percentage                         </td><td>continuous-30210-both_sexes-irnt.eur          </td><td>/projects/CARDIPS/analysis/epigenome_resource/analyses/jennifer/gwas_liftover/hg38_summary_statistics/continuous-30210-both_sexes-irnt.eur.hg38.tsv.gz             </td><td>TRUE</td></tr>\n",
       "\t<tr><th scope=row>80</th><td>continuous-30220-both_sexes-irnt              </td><td>continuous  </td><td></td><td>Basophill percentage                           </td><td>continuous-30220-both_sexes-irnt.eur          </td><td>/projects/CARDIPS/analysis/epigenome_resource/analyses/jennifer/gwas_liftover/hg38_summary_statistics/continuous-30220-both_sexes-irnt.eur.hg38.tsv.gz             </td><td>TRUE</td></tr>\n",
       "\t<tr><th scope=row>82</th><td>continuous-30240-both_sexes-irnt              </td><td>continuous  </td><td></td><td>Reticulocyte percentage                        </td><td>continuous-30240-both_sexes-irnt.eur          </td><td>/projects/CARDIPS/analysis/epigenome_resource/analyses/jennifer/gwas_liftover/hg38_summary_statistics/continuous-30240-both_sexes-irnt.eur.hg38.tsv.gz             </td><td>TRUE</td></tr>\n",
       "\t<tr><th scope=row>83</th><td>continuous-30250-both_sexes-irnt              </td><td>continuous  </td><td></td><td>Reticulocyte count                             </td><td>continuous-30250-both_sexes-irnt.eur          </td><td>/projects/CARDIPS/analysis/epigenome_resource/analyses/jennifer/gwas_liftover/hg38_summary_statistics/continuous-30250-both_sexes-irnt.eur.hg38.tsv.gz             </td><td>TRUE</td></tr>\n",
       "\t<tr><th scope=row>86</th><td>continuous-30260-both_sexes-irnt              </td><td>continuous  </td><td></td><td>Mean reticulocyte volume                       </td><td>continuous-30260-both_sexes-irnt.eur          </td><td>/projects/CARDIPS/analysis/epigenome_resource/analyses/jennifer/gwas_liftover/hg38_summary_statistics/continuous-30260-both_sexes-irnt.eur.hg38.tsv.gz             </td><td>TRUE</td></tr>\n",
       "\t<tr><th scope=row>87</th><td>continuous-30270-both_sexes-irnt              </td><td>continuous  </td><td></td><td>Mean sphered cell volume                       </td><td>continuous-30270-both_sexes-irnt.eur          </td><td>/projects/CARDIPS/analysis/epigenome_resource/analyses/jennifer/gwas_liftover/hg38_summary_statistics/continuous-30270-both_sexes-irnt.eur.hg38.tsv.gz             </td><td>TRUE</td></tr>\n",
       "\t<tr><th scope=row>90</th><td>continuous-30280-both_sexes-irnt              </td><td>continuous  </td><td></td><td>Immature reticulocyte fraction                 </td><td>continuous-30280-both_sexes-irnt.eur          </td><td>/projects/CARDIPS/analysis/epigenome_resource/analyses/jennifer/gwas_liftover/hg38_summary_statistics/continuous-30280-both_sexes-irnt.eur.hg38.tsv.gz             </td><td>TRUE</td></tr>\n",
       "\t<tr><th scope=row>91</th><td>continuous-30290-both_sexes-irnt              </td><td>continuous  </td><td></td><td>High light scatter reticulocyte percentage     </td><td>continuous-30290-both_sexes-irnt.eur          </td><td>/projects/CARDIPS/analysis/epigenome_resource/analyses/jennifer/gwas_liftover/hg38_summary_statistics/continuous-30290-both_sexes-irnt.eur.hg38.tsv.gz             </td><td>TRUE</td></tr>\n",
       "\t<tr><th scope=row>93</th><td>continuous-30300-both_sexes-irnt              </td><td>continuous  </td><td></td><td>High light scatter reticulocyte count          </td><td>continuous-30300-both_sexes-irnt.eur          </td><td>/projects/CARDIPS/analysis/epigenome_resource/analyses/jennifer/gwas_liftover/hg38_summary_statistics/continuous-30300-both_sexes-irnt.eur.hg38.tsv.gz             </td><td>TRUE</td></tr>\n",
       "\t<tr><th scope=row>97</th><td>continuous-50-both_sexes-irnt                 </td><td>continuous  </td><td></td><td>Standing height                                </td><td>continuous-50-both_sexes-irnt.eur             </td><td>/projects/CARDIPS/analysis/epigenome_resource/analyses/jennifer/gwas_liftover/hg38_summary_statistics/continuous-50-both_sexes-irnt.eur.hg38.tsv.gz                </td><td>TRUE</td></tr>\n",
       "\t<tr><th scope=row>98</th><td>continuous-50-both_sexes-irnt                 </td><td>continuous  </td><td></td><td>Standing height                                </td><td>continuous-50-both_sexes-irnt.csa             </td><td>/projects/CARDIPS/analysis/epigenome_resource/analyses/jennifer/gwas_liftover/hg38_summary_statistics/continuous-50-both_sexes-irnt.csa.hg38.tsv.gz                </td><td>TRUE</td></tr>\n",
       "\t<tr><th scope=row>99</th><td>continuous-50-both_sexes-irnt                 </td><td>continuous  </td><td></td><td>Standing height                                </td><td>continuous-50-both_sexes-irnt.eas             </td><td>/projects/CARDIPS/analysis/epigenome_resource/analyses/jennifer/gwas_liftover/hg38_summary_statistics/continuous-50-both_sexes-irnt.eas.hg38.tsv.gz                </td><td>TRUE</td></tr>\n",
       "\t<tr><th scope=row>101</th><td>continuous-50-both_sexes-irnt                 </td><td>continuous  </td><td></td><td>Standing height                                </td><td>continuous-50-both_sexes-irnt.afr             </td><td>/projects/CARDIPS/analysis/epigenome_resource/analyses/jennifer/gwas_liftover/hg38_summary_statistics/continuous-50-both_sexes-irnt.afr.hg38.tsv.gz                </td><td>TRUE</td></tr>\n",
       "\t<tr><th scope=row>114</th><td>Fetal_early_preterm_birth_NComms2019          </td><td>case_control</td><td></td><td>fetal early preterm                            </td><td>Fetal_early_preterm_birth_NComms2019          </td><td>/projects/CARDIPS/analysis/epigenome_resource/analyses/jennifer/gwas_liftover/hg38_summary_statistics/Fetal_early_preterm_birth_NComms2019.hg38.tsv.gz             </td><td>TRUE</td></tr>\n",
       "\t<tr><th scope=row>115</th><td>Fetal_gest_duration_NComms2019                </td><td>continuous  </td><td></td><td>fetal gestational duraction                    </td><td>Fetal_gest_duration_NComms2019                </td><td>/projects/CARDIPS/analysis/epigenome_resource/analyses/jennifer/gwas_liftover/hg38_summary_statistics/Fetal_gest_duration_NComms2019.hg38.tsv.gz                   </td><td>TRUE</td></tr>\n",
       "\t<tr><th scope=row>116</th><td>Fetal_postterm_birth_NComms2019               </td><td>case_control</td><td></td><td>fetal post-term birth                          </td><td>Fetal_postterm_birth_NComms2019               </td><td>/projects/CARDIPS/analysis/epigenome_resource/analyses/jennifer/gwas_liftover/hg38_summary_statistics/Fetal_postterm_birth_NComms2019.hg38.tsv.gz                  </td><td>TRUE</td></tr>\n",
       "\t<tr><th scope=row>117</th><td>Fetal_preterm_birth_NComms2019                </td><td>case_control</td><td></td><td>fetal pre-term birth                           </td><td>Fetal_preterm_birth_NComms2019                </td><td>/projects/CARDIPS/analysis/epigenome_resource/analyses/jennifer/gwas_liftover/hg38_summary_statistics/Fetal_preterm_birth_NComms2019.hg38.tsv.gz                   </td><td>TRUE</td></tr>\n",
       "\t<tr><th scope=row>118</th><td>GCST90002409_buildGRCh37                      </td><td>continuous  </td><td></td><td>childhood bmi                                  </td><td>GCST90002409_buildGRCh37                      </td><td>/projects/CARDIPS/analysis/epigenome_resource/analyses/jennifer/gwas_liftover/hg38_summary_statistics/GCST90002409_buildGRCh37.hg38.tsv.gz                         </td><td>TRUE</td></tr>\n",
       "\t<tr><th scope=row>148</th><td>pgc-bip2021-all.vcf                           </td><td>case_control</td><td></td><td>bipolar disorder (all)                         </td><td>pgc-bip2021-all.vcf                           </td><td>/projects/CARDIPS/analysis/epigenome_resource/analyses/jennifer/gwas_liftover/hg38_summary_statistics/pgc-bip2021-all.vcf.hg38.tsv.gz                              </td><td>TRUE</td></tr>\n",
       "\t<tr><th scope=row>149</th><td>pgc-bip2021-BDI.vcf                           </td><td>case_control</td><td></td><td>bipolar disorder (I)                           </td><td>pgc-bip2021-BDI.vcf                           </td><td>/projects/CARDIPS/analysis/epigenome_resource/analyses/jennifer/gwas_liftover/hg38_summary_statistics/pgc-bip2021-BDI.vcf.hg38.tsv.gz                              </td><td>TRUE</td></tr>\n",
       "\t<tr><th scope=row>150</th><td>pgc-bip2021-BDII.vcf                          </td><td>case_control</td><td></td><td>bipolar disorder (II)                          </td><td>pgc-bip2021-BDII.vcf                          </td><td>/projects/CARDIPS/analysis/epigenome_resource/analyses/jennifer/gwas_liftover/hg38_summary_statistics/pgc-bip2021-BDII.vcf.hg38.tsv.gz                             </td><td>TRUE</td></tr>\n",
       "\t<tr><th scope=row>151</th><td>PGC3_SCZ_wave3_core_autosome.public.v3.vcf    </td><td>case_control</td><td></td><td>schizophrenia (core autosome)                  </td><td>PGC3_SCZ_wave3_core_autosome.public.v3.vcf    </td><td>/projects/CARDIPS/analysis/epigenome_resource/analyses/jennifer/gwas_liftover/hg38_summary_statistics/PGC3_SCZ_wave3_core_autosome.public.v3.vcf.hg38.tsv.gz       </td><td>TRUE</td></tr>\n",
       "\t<tr><th scope=row>152</th><td>PGC3_SCZ_wave3_primary_autosome.public.v3.vcf </td><td>case_control</td><td></td><td>schizophrenia (primary autosome)               </td><td>PGC3_SCZ_wave3_primary_autosome.public.v3.vcf </td><td>/projects/CARDIPS/analysis/epigenome_resource/analyses/jennifer/gwas_liftover/hg38_summary_statistics/PGC3_SCZ_wave3_primary_autosome.public.v3.vcf.hg38.tsv.gz    </td><td>TRUE</td></tr>\n",
       "\t<tr><th scope=row>153</th><td>PGC3_SCZ_wave3.european_autosome.public.v3.vcf</td><td>case_control</td><td></td><td>schizophrenia (european_vcf)                   </td><td>PGC3_SCZ_wave3_european_autosome.public.v3.vcf</td><td>/projects/CARDIPS/analysis/epigenome_resource/analyses/jennifer/gwas_liftover/hg38_summary_statistics/PGC3_SCZ_wave3_european_autosome.public.v3.vcf.hg38.tsv.gz   </td><td>TRUE</td></tr>\n",
       "\t<tr><th scope=row>208</th><td>acute_pancreatitis                            </td><td>case_control</td><td></td><td>acute_pancreatitis                             </td><td>acute_pancreatitis                            </td><td>/projects/CARDIPS/analysis/epigenome_resource/analyses/jennifer/gwas_liftover/hg38_summary_statistics/Chronic_pancreatitis.UKB_SAIGE_FinnGen_r3_meta1.sorted.txt.gz</td><td>TRUE</td></tr>\n",
       "\t<tr><th scope=row>209</th><td>chronic_pancreatitis                          </td><td>case_control</td><td></td><td>chronic_pancreatitis                           </td><td>chronic_pancreatitis                          </td><td>/projects/CARDIPS/analysis/epigenome_resource/analyses/jennifer/gwas_liftover/hg38_summary_statistics/Acute_pancreatitis.UKB_SAIGE_FinnGen_r3_meta1.sorted.txt.gz  </td><td>TRUE</td></tr>\n",
       "\t<tr><th scope=row>210</th><td>pancreatic_cancer                             </td><td>case_control</td><td></td><td>pancreatic_cancer                              </td><td>pancreatic_cancer                             </td><td>/projects/CARDIPS/analysis/epigenome_resource/analyses/jennifer/gwas_liftover/hg38_summary_statistics/Pancreatic_cancer.UKB_SAIGE_FinnGen_r3_meta1.sorted.txt.gz   </td><td>TRUE</td></tr>\n",
       "\t<tr><th scope=row>211</th><td>acute_pancreatitis                            </td><td>case_control</td><td></td><td>acute_pancreatitis                             </td><td>acute_pancreatitis                            </td><td>/projects/CARDIPS/analysis/epigenome_resource/analyses/jennifer/gwas_liftover/hg38_summary_statistics/Chronic_pancreatitis.UKB_SAIGE_FinnGen_r3_meta1.sorted.txt.gz</td><td>TRUE</td></tr>\n",
       "\t<tr><th scope=row>212</th><td>chronic_pancreatitis                          </td><td>case_control</td><td></td><td>chronic_pancreatitis                           </td><td>chronic_pancreatitis                          </td><td>/projects/CARDIPS/analysis/epigenome_resource/analyses/jennifer/gwas_liftover/hg38_summary_statistics/Acute_pancreatitis.UKB_SAIGE_FinnGen_r3_meta1.sorted.txt.gz  </td><td>TRUE</td></tr>\n",
       "\t<tr><th scope=row>213</th><td>pancreatic_cancer                             </td><td>case_control</td><td></td><td>pancreatic_cancer                              </td><td>pancreatic_cancer                             </td><td>/projects/CARDIPS/analysis/epigenome_resource/analyses/jennifer/gwas_liftover/hg38_summary_statistics/Pancreatic_cancer.UKB_SAIGE_FinnGen_r3_meta1.sorted.txt.gz   </td><td>TRUE</td></tr>\n",
       "\t<tr><th scope=row>214</th><td>acute_pancreatitis                            </td><td>case_control</td><td></td><td>acute_pancreatitis                             </td><td>acute_pancreatitis                            </td><td>/projects/CARDIPS/analysis/epigenome_resource/analyses/jennifer/gwas_liftover/hg38_summary_statistics/Chronic_pancreatitis.UKB_SAIGE_FinnGen_r3_meta1.sorted.txt.gz</td><td>TRUE</td></tr>\n",
       "\t<tr><th scope=row>215</th><td>chronic_pancreatitis                          </td><td>case_control</td><td></td><td>chronic_pancreatitis                           </td><td>chronic_pancreatitis                          </td><td>/projects/CARDIPS/analysis/epigenome_resource/analyses/jennifer/gwas_liftover/hg38_summary_statistics/Acute_pancreatitis.UKB_SAIGE_FinnGen_r3_meta1.sorted.txt.gz  </td><td>TRUE</td></tr>\n",
       "\t<tr><th scope=row>216</th><td>pancreatic_cancer                             </td><td>case_control</td><td></td><td>pancreatic_cancer                              </td><td>pancreatic_cancer                             </td><td>/projects/CARDIPS/analysis/epigenome_resource/analyses/jennifer/gwas_liftover/hg38_summary_statistics/Pancreatic_cancer.UKB_SAIGE_FinnGen_r3_meta1.sorted.txt.gz   </td><td>TRUE</td></tr>\n",
       "</tbody>\n",
       "</table>\n"
      ],
      "text/latex": [
       "A data.frame: 59 × 7\n",
       "\\begin{tabular}{r|lllllll}\n",
       "  & trait\\_id & trait\\_type & coding\\_description & description & full\\_trait\\_id & filename & exists\\\\\n",
       "  & <chr> & <chr> & <chr> & <chr> & <chr> & <chr> & <lgl>\\\\\n",
       "\\hline\n",
       "\t1 & categorical-20003-both\\_sexes-1140861958        & case\\_control &  & simvastatin                                     & categorical-20003-both\\_sexes-1140861958.meta   & /projects/CARDIPS/analysis/epigenome\\_resource/analyses/jennifer/gwas\\_liftover/hg38\\_summary\\_statistics/categorical-20003-both\\_sexes-1140861958.meta.hg38.tsv.gz      & TRUE\\\\\n",
       "\t2 & categorical-20003-both\\_sexes-1140883066        & case\\_control &  & insulin product                                 & categorical-20003-both\\_sexes-1140883066.meta   & /projects/CARDIPS/analysis/epigenome\\_resource/analyses/jennifer/gwas\\_liftover/hg38\\_summary\\_statistics/categorical-20003-both\\_sexes-1140883066.meta.hg38.tsv.gz      & TRUE\\\\\n",
       "\t3 & categorical-20003-both\\_sexes-1140884600        & case\\_control &  & metformin                                       & categorical-20003-both\\_sexes-1140884600.meta   & /projects/CARDIPS/analysis/epigenome\\_resource/analyses/jennifer/gwas\\_liftover/hg38\\_summary\\_statistics/categorical-20003-both\\_sexes-1140884600.meta.hg38.tsv.gz      & TRUE\\\\\n",
       "\t4 & categorical-20107-both\\_sexes-9                 & case\\_control &  & Diabetes                                        & categorical-20107-both\\_sexes-9.meta            & /projects/CARDIPS/analysis/epigenome\\_resource/analyses/jennifer/gwas\\_liftover/hg38\\_summary\\_statistics/categorical-20107-both\\_sexes-9.meta.hg38.tsv.gz               & TRUE\\\\\n",
       "\t5 & categorical-20110-both\\_sexes-9                 & case\\_control &  & Diabetes                                        & categorical-20110-both\\_sexes-9.meta            & /projects/CARDIPS/analysis/epigenome\\_resource/analyses/jennifer/gwas\\_liftover/hg38\\_summary\\_statistics/categorical-20110-both\\_sexes-9.meta.hg38.tsv.gz               & TRUE\\\\\n",
       "\t6 & categorical-20111-both\\_sexes-9                 & case\\_control &  & Diabetes                                        & categorical-20111-both\\_sexes-9.meta            & /projects/CARDIPS/analysis/epigenome\\_resource/analyses/jennifer/gwas\\_liftover/hg38\\_summary\\_statistics/categorical-20111-both\\_sexes-9.meta.hg38.tsv.gz               & TRUE\\\\\n",
       "\t38 & continuous-30000-both\\_sexes-irnt               & continuous   &  & White blood cell (leukocyte) count              & continuous-30000-both\\_sexes-irnt.eur           & /projects/CARDIPS/analysis/epigenome\\_resource/analyses/jennifer/gwas\\_liftover/hg38\\_summary\\_statistics/continuous-30000-both\\_sexes-irnt.eur.hg38.tsv.gz              & TRUE\\\\\n",
       "\t39 & continuous-30010-both\\_sexes-irnt               & continuous   &  & Red blood cell (erythrocyte) count              & continuous-30010-both\\_sexes-irnt.eur           & /projects/CARDIPS/analysis/epigenome\\_resource/analyses/jennifer/gwas\\_liftover/hg38\\_summary\\_statistics/continuous-30010-both\\_sexes-irnt.eur.hg38.tsv.gz              & TRUE\\\\\n",
       "\t42 & continuous-30020-both\\_sexes-irnt               & continuous   &  & Haemoglobin concentration                       & continuous-30020-both\\_sexes-irnt.eur           & /projects/CARDIPS/analysis/epigenome\\_resource/analyses/jennifer/gwas\\_liftover/hg38\\_summary\\_statistics/continuous-30020-both\\_sexes-irnt.eur.hg38.tsv.gz              & TRUE\\\\\n",
       "\t44 & continuous-30030-both\\_sexes-irnt               & continuous   &  & Haematocrit percentage                          & continuous-30030-both\\_sexes-irnt.eur           & /projects/CARDIPS/analysis/epigenome\\_resource/analyses/jennifer/gwas\\_liftover/hg38\\_summary\\_statistics/continuous-30030-both\\_sexes-irnt.eur.hg38.tsv.gz              & TRUE\\\\\n",
       "\t46 & continuous-30040-both\\_sexes-irnt               & continuous   &  & Mean corpuscular volume                         & continuous-30040-both\\_sexes-irnt.eur           & /projects/CARDIPS/analysis/epigenome\\_resource/analyses/jennifer/gwas\\_liftover/hg38\\_summary\\_statistics/continuous-30040-both\\_sexes-irnt.eur.hg38.tsv.gz              & TRUE\\\\\n",
       "\t47 & continuous-30050-both\\_sexes-irnt               & continuous   &  & Mean corpuscular haemoglobin                    & continuous-30050-both\\_sexes-irnt.eur           & /projects/CARDIPS/analysis/epigenome\\_resource/analyses/jennifer/gwas\\_liftover/hg38\\_summary\\_statistics/continuous-30050-both\\_sexes-irnt.eur.hg38.tsv.gz              & TRUE\\\\\n",
       "\t50 & continuous-30060-both\\_sexes-irnt               & continuous   &  & Mean corpuscular haemoglobin concentration      & continuous-30060-both\\_sexes-irnt.eur           & /projects/CARDIPS/analysis/epigenome\\_resource/analyses/jennifer/gwas\\_liftover/hg38\\_summary\\_statistics/continuous-30060-both\\_sexes-irnt.eur.hg38.tsv.gz              & TRUE\\\\\n",
       "\t51 & continuous-30070-both\\_sexes-irnt               & continuous   &  & Red blood cell (erythrocyte) distribution width & continuous-30070-both\\_sexes-irnt.eur           & /projects/CARDIPS/analysis/epigenome\\_resource/analyses/jennifer/gwas\\_liftover/hg38\\_summary\\_statistics/continuous-30070-both\\_sexes-irnt.eur.hg38.tsv.gz              & TRUE\\\\\n",
       "\t54 & continuous-30080-both\\_sexes-irnt               & continuous   &  & Platelet count                                  & continuous-30080-both\\_sexes-irnt.eur           & /projects/CARDIPS/analysis/epigenome\\_resource/analyses/jennifer/gwas\\_liftover/hg38\\_summary\\_statistics/continuous-30080-both\\_sexes-irnt.eur.hg38.tsv.gz              & TRUE\\\\\n",
       "\t56 & continuous-30090-both\\_sexes-irnt               & continuous   &  & Platelet crit                                   & continuous-30090-both\\_sexes-irnt.eur           & /projects/CARDIPS/analysis/epigenome\\_resource/analyses/jennifer/gwas\\_liftover/hg38\\_summary\\_statistics/continuous-30090-both\\_sexes-irnt.eur.hg38.tsv.gz              & TRUE\\\\\n",
       "\t58 & continuous-30100-both\\_sexes-irnt               & continuous   &  & Mean platelet (thrombocyte) volume              & continuous-30100-both\\_sexes-irnt.eur           & /projects/CARDIPS/analysis/epigenome\\_resource/analyses/jennifer/gwas\\_liftover/hg38\\_summary\\_statistics/continuous-30100-both\\_sexes-irnt.eur.hg38.tsv.gz              & TRUE\\\\\n",
       "\t60 & continuous-30110-both\\_sexes-irnt               & continuous   &  & Platelet distribution width                     & continuous-30110-both\\_sexes-irnt.eur           & /projects/CARDIPS/analysis/epigenome\\_resource/analyses/jennifer/gwas\\_liftover/hg38\\_summary\\_statistics/continuous-30110-both\\_sexes-irnt.eur.hg38.tsv.gz              & TRUE\\\\\n",
       "\t62 & continuous-30120-both\\_sexes-irnt               & continuous   &  & Lymphocyte count                                & continuous-30120-both\\_sexes-irnt.eur           & /projects/CARDIPS/analysis/epigenome\\_resource/analyses/jennifer/gwas\\_liftover/hg38\\_summary\\_statistics/continuous-30120-both\\_sexes-irnt.eur.hg38.tsv.gz              & TRUE\\\\\n",
       "\t63 & continuous-30130-both\\_sexes-irnt               & continuous   &  & Monocyte count                                  & continuous-30130-both\\_sexes-irnt.eur           & /projects/CARDIPS/analysis/epigenome\\_resource/analyses/jennifer/gwas\\_liftover/hg38\\_summary\\_statistics/continuous-30130-both\\_sexes-irnt.eur.hg38.tsv.gz              & TRUE\\\\\n",
       "\t66 & continuous-30140-both\\_sexes-irnt               & continuous   &  & Neutrophill count                               & continuous-30140-both\\_sexes-irnt.eur           & /projects/CARDIPS/analysis/epigenome\\_resource/analyses/jennifer/gwas\\_liftover/hg38\\_summary\\_statistics/continuous-30140-both\\_sexes-irnt.eur.hg38.tsv.gz              & TRUE\\\\\n",
       "\t67 & continuous-30150-both\\_sexes-irnt               & continuous   &  & Eosinophill count                               & continuous-30150-both\\_sexes-irnt.eur           & /projects/CARDIPS/analysis/epigenome\\_resource/analyses/jennifer/gwas\\_liftover/hg38\\_summary\\_statistics/continuous-30150-both\\_sexes-irnt.eur.hg38.tsv.gz              & TRUE\\\\\n",
       "\t69 & continuous-30160-both\\_sexes                    & continuous   &  & Basophill count                                 & continuous-30160-both\\_sexes.eur                & /projects/CARDIPS/analysis/epigenome\\_resource/analyses/jennifer/gwas\\_liftover/hg38\\_summary\\_statistics/continuous-30160-both\\_sexes.eur.hg38.tsv.gz                   & TRUE\\\\\n",
       "\t72 & continuous-30180-both\\_sexes-irnt               & continuous   &  & Lymphocyte percentage                           & continuous-30180-both\\_sexes-irnt.eur           & /projects/CARDIPS/analysis/epigenome\\_resource/analyses/jennifer/gwas\\_liftover/hg38\\_summary\\_statistics/continuous-30180-both\\_sexes-irnt.eur.hg38.tsv.gz              & TRUE\\\\\n",
       "\t74 & continuous-30190-both\\_sexes-irnt               & continuous   &  & Monocyte percentage                             & continuous-30190-both\\_sexes-irnt.eur           & /projects/CARDIPS/analysis/epigenome\\_resource/analyses/jennifer/gwas\\_liftover/hg38\\_summary\\_statistics/continuous-30190-both\\_sexes-irnt.eur.hg38.tsv.gz              & TRUE\\\\\n",
       "\t76 & continuous-30200-both\\_sexes-irnt               & continuous   &  & Neutrophill percentage                          & continuous-30200-both\\_sexes-irnt.eur           & /projects/CARDIPS/analysis/epigenome\\_resource/analyses/jennifer/gwas\\_liftover/hg38\\_summary\\_statistics/continuous-30200-both\\_sexes-irnt.eur.hg38.tsv.gz              & TRUE\\\\\n",
       "\t77 & continuous-30210-both\\_sexes-irnt               & continuous   &  & Eosinophill percentage                          & continuous-30210-both\\_sexes-irnt.eur           & /projects/CARDIPS/analysis/epigenome\\_resource/analyses/jennifer/gwas\\_liftover/hg38\\_summary\\_statistics/continuous-30210-both\\_sexes-irnt.eur.hg38.tsv.gz              & TRUE\\\\\n",
       "\t80 & continuous-30220-both\\_sexes-irnt               & continuous   &  & Basophill percentage                            & continuous-30220-both\\_sexes-irnt.eur           & /projects/CARDIPS/analysis/epigenome\\_resource/analyses/jennifer/gwas\\_liftover/hg38\\_summary\\_statistics/continuous-30220-both\\_sexes-irnt.eur.hg38.tsv.gz              & TRUE\\\\\n",
       "\t82 & continuous-30240-both\\_sexes-irnt               & continuous   &  & Reticulocyte percentage                         & continuous-30240-both\\_sexes-irnt.eur           & /projects/CARDIPS/analysis/epigenome\\_resource/analyses/jennifer/gwas\\_liftover/hg38\\_summary\\_statistics/continuous-30240-both\\_sexes-irnt.eur.hg38.tsv.gz              & TRUE\\\\\n",
       "\t83 & continuous-30250-both\\_sexes-irnt               & continuous   &  & Reticulocyte count                              & continuous-30250-both\\_sexes-irnt.eur           & /projects/CARDIPS/analysis/epigenome\\_resource/analyses/jennifer/gwas\\_liftover/hg38\\_summary\\_statistics/continuous-30250-both\\_sexes-irnt.eur.hg38.tsv.gz              & TRUE\\\\\n",
       "\t86 & continuous-30260-both\\_sexes-irnt               & continuous   &  & Mean reticulocyte volume                        & continuous-30260-both\\_sexes-irnt.eur           & /projects/CARDIPS/analysis/epigenome\\_resource/analyses/jennifer/gwas\\_liftover/hg38\\_summary\\_statistics/continuous-30260-both\\_sexes-irnt.eur.hg38.tsv.gz              & TRUE\\\\\n",
       "\t87 & continuous-30270-both\\_sexes-irnt               & continuous   &  & Mean sphered cell volume                        & continuous-30270-both\\_sexes-irnt.eur           & /projects/CARDIPS/analysis/epigenome\\_resource/analyses/jennifer/gwas\\_liftover/hg38\\_summary\\_statistics/continuous-30270-both\\_sexes-irnt.eur.hg38.tsv.gz              & TRUE\\\\\n",
       "\t90 & continuous-30280-both\\_sexes-irnt               & continuous   &  & Immature reticulocyte fraction                  & continuous-30280-both\\_sexes-irnt.eur           & /projects/CARDIPS/analysis/epigenome\\_resource/analyses/jennifer/gwas\\_liftover/hg38\\_summary\\_statistics/continuous-30280-both\\_sexes-irnt.eur.hg38.tsv.gz              & TRUE\\\\\n",
       "\t91 & continuous-30290-both\\_sexes-irnt               & continuous   &  & High light scatter reticulocyte percentage      & continuous-30290-both\\_sexes-irnt.eur           & /projects/CARDIPS/analysis/epigenome\\_resource/analyses/jennifer/gwas\\_liftover/hg38\\_summary\\_statistics/continuous-30290-both\\_sexes-irnt.eur.hg38.tsv.gz              & TRUE\\\\\n",
       "\t93 & continuous-30300-both\\_sexes-irnt               & continuous   &  & High light scatter reticulocyte count           & continuous-30300-both\\_sexes-irnt.eur           & /projects/CARDIPS/analysis/epigenome\\_resource/analyses/jennifer/gwas\\_liftover/hg38\\_summary\\_statistics/continuous-30300-both\\_sexes-irnt.eur.hg38.tsv.gz              & TRUE\\\\\n",
       "\t97 & continuous-50-both\\_sexes-irnt                  & continuous   &  & Standing height                                 & continuous-50-both\\_sexes-irnt.eur              & /projects/CARDIPS/analysis/epigenome\\_resource/analyses/jennifer/gwas\\_liftover/hg38\\_summary\\_statistics/continuous-50-both\\_sexes-irnt.eur.hg38.tsv.gz                 & TRUE\\\\\n",
       "\t98 & continuous-50-both\\_sexes-irnt                  & continuous   &  & Standing height                                 & continuous-50-both\\_sexes-irnt.csa              & /projects/CARDIPS/analysis/epigenome\\_resource/analyses/jennifer/gwas\\_liftover/hg38\\_summary\\_statistics/continuous-50-both\\_sexes-irnt.csa.hg38.tsv.gz                 & TRUE\\\\\n",
       "\t99 & continuous-50-both\\_sexes-irnt                  & continuous   &  & Standing height                                 & continuous-50-both\\_sexes-irnt.eas              & /projects/CARDIPS/analysis/epigenome\\_resource/analyses/jennifer/gwas\\_liftover/hg38\\_summary\\_statistics/continuous-50-both\\_sexes-irnt.eas.hg38.tsv.gz                 & TRUE\\\\\n",
       "\t101 & continuous-50-both\\_sexes-irnt                  & continuous   &  & Standing height                                 & continuous-50-both\\_sexes-irnt.afr              & /projects/CARDIPS/analysis/epigenome\\_resource/analyses/jennifer/gwas\\_liftover/hg38\\_summary\\_statistics/continuous-50-both\\_sexes-irnt.afr.hg38.tsv.gz                 & TRUE\\\\\n",
       "\t114 & Fetal\\_early\\_preterm\\_birth\\_NComms2019           & case\\_control &  & fetal early preterm                             & Fetal\\_early\\_preterm\\_birth\\_NComms2019           & /projects/CARDIPS/analysis/epigenome\\_resource/analyses/jennifer/gwas\\_liftover/hg38\\_summary\\_statistics/Fetal\\_early\\_preterm\\_birth\\_NComms2019.hg38.tsv.gz              & TRUE\\\\\n",
       "\t115 & Fetal\\_gest\\_duration\\_NComms2019                 & continuous   &  & fetal gestational duraction                     & Fetal\\_gest\\_duration\\_NComms2019                 & /projects/CARDIPS/analysis/epigenome\\_resource/analyses/jennifer/gwas\\_liftover/hg38\\_summary\\_statistics/Fetal\\_gest\\_duration\\_NComms2019.hg38.tsv.gz                    & TRUE\\\\\n",
       "\t116 & Fetal\\_postterm\\_birth\\_NComms2019                & case\\_control &  & fetal post-term birth                           & Fetal\\_postterm\\_birth\\_NComms2019                & /projects/CARDIPS/analysis/epigenome\\_resource/analyses/jennifer/gwas\\_liftover/hg38\\_summary\\_statistics/Fetal\\_postterm\\_birth\\_NComms2019.hg38.tsv.gz                   & TRUE\\\\\n",
       "\t117 & Fetal\\_preterm\\_birth\\_NComms2019                 & case\\_control &  & fetal pre-term birth                            & Fetal\\_preterm\\_birth\\_NComms2019                 & /projects/CARDIPS/analysis/epigenome\\_resource/analyses/jennifer/gwas\\_liftover/hg38\\_summary\\_statistics/Fetal\\_preterm\\_birth\\_NComms2019.hg38.tsv.gz                    & TRUE\\\\\n",
       "\t118 & GCST90002409\\_buildGRCh37                       & continuous   &  & childhood bmi                                   & GCST90002409\\_buildGRCh37                       & /projects/CARDIPS/analysis/epigenome\\_resource/analyses/jennifer/gwas\\_liftover/hg38\\_summary\\_statistics/GCST90002409\\_buildGRCh37.hg38.tsv.gz                          & TRUE\\\\\n",
       "\t148 & pgc-bip2021-all.vcf                            & case\\_control &  & bipolar disorder (all)                          & pgc-bip2021-all.vcf                            & /projects/CARDIPS/analysis/epigenome\\_resource/analyses/jennifer/gwas\\_liftover/hg38\\_summary\\_statistics/pgc-bip2021-all.vcf.hg38.tsv.gz                               & TRUE\\\\\n",
       "\t149 & pgc-bip2021-BDI.vcf                            & case\\_control &  & bipolar disorder (I)                            & pgc-bip2021-BDI.vcf                            & /projects/CARDIPS/analysis/epigenome\\_resource/analyses/jennifer/gwas\\_liftover/hg38\\_summary\\_statistics/pgc-bip2021-BDI.vcf.hg38.tsv.gz                               & TRUE\\\\\n",
       "\t150 & pgc-bip2021-BDII.vcf                           & case\\_control &  & bipolar disorder (II)                           & pgc-bip2021-BDII.vcf                           & /projects/CARDIPS/analysis/epigenome\\_resource/analyses/jennifer/gwas\\_liftover/hg38\\_summary\\_statistics/pgc-bip2021-BDII.vcf.hg38.tsv.gz                              & TRUE\\\\\n",
       "\t151 & PGC3\\_SCZ\\_wave3\\_core\\_autosome.public.v3.vcf     & case\\_control &  & schizophrenia (core autosome)                   & PGC3\\_SCZ\\_wave3\\_core\\_autosome.public.v3.vcf     & /projects/CARDIPS/analysis/epigenome\\_resource/analyses/jennifer/gwas\\_liftover/hg38\\_summary\\_statistics/PGC3\\_SCZ\\_wave3\\_core\\_autosome.public.v3.vcf.hg38.tsv.gz        & TRUE\\\\\n",
       "\t152 & PGC3\\_SCZ\\_wave3\\_primary\\_autosome.public.v3.vcf  & case\\_control &  & schizophrenia (primary autosome)                & PGC3\\_SCZ\\_wave3\\_primary\\_autosome.public.v3.vcf  & /projects/CARDIPS/analysis/epigenome\\_resource/analyses/jennifer/gwas\\_liftover/hg38\\_summary\\_statistics/PGC3\\_SCZ\\_wave3\\_primary\\_autosome.public.v3.vcf.hg38.tsv.gz     & TRUE\\\\\n",
       "\t153 & PGC3\\_SCZ\\_wave3.european\\_autosome.public.v3.vcf & case\\_control &  & schizophrenia (european\\_vcf)                    & PGC3\\_SCZ\\_wave3\\_european\\_autosome.public.v3.vcf & /projects/CARDIPS/analysis/epigenome\\_resource/analyses/jennifer/gwas\\_liftover/hg38\\_summary\\_statistics/PGC3\\_SCZ\\_wave3\\_european\\_autosome.public.v3.vcf.hg38.tsv.gz    & TRUE\\\\\n",
       "\t208 & acute\\_pancreatitis                             & case\\_control &  & acute\\_pancreatitis                              & acute\\_pancreatitis                             & /projects/CARDIPS/analysis/epigenome\\_resource/analyses/jennifer/gwas\\_liftover/hg38\\_summary\\_statistics/Chronic\\_pancreatitis.UKB\\_SAIGE\\_FinnGen\\_r3\\_meta1.sorted.txt.gz & TRUE\\\\\n",
       "\t209 & chronic\\_pancreatitis                           & case\\_control &  & chronic\\_pancreatitis                            & chronic\\_pancreatitis                           & /projects/CARDIPS/analysis/epigenome\\_resource/analyses/jennifer/gwas\\_liftover/hg38\\_summary\\_statistics/Acute\\_pancreatitis.UKB\\_SAIGE\\_FinnGen\\_r3\\_meta1.sorted.txt.gz   & TRUE\\\\\n",
       "\t210 & pancreatic\\_cancer                              & case\\_control &  & pancreatic\\_cancer                               & pancreatic\\_cancer                              & /projects/CARDIPS/analysis/epigenome\\_resource/analyses/jennifer/gwas\\_liftover/hg38\\_summary\\_statistics/Pancreatic\\_cancer.UKB\\_SAIGE\\_FinnGen\\_r3\\_meta1.sorted.txt.gz    & TRUE\\\\\n",
       "\t211 & acute\\_pancreatitis                             & case\\_control &  & acute\\_pancreatitis                              & acute\\_pancreatitis                             & /projects/CARDIPS/analysis/epigenome\\_resource/analyses/jennifer/gwas\\_liftover/hg38\\_summary\\_statistics/Chronic\\_pancreatitis.UKB\\_SAIGE\\_FinnGen\\_r3\\_meta1.sorted.txt.gz & TRUE\\\\\n",
       "\t212 & chronic\\_pancreatitis                           & case\\_control &  & chronic\\_pancreatitis                            & chronic\\_pancreatitis                           & /projects/CARDIPS/analysis/epigenome\\_resource/analyses/jennifer/gwas\\_liftover/hg38\\_summary\\_statistics/Acute\\_pancreatitis.UKB\\_SAIGE\\_FinnGen\\_r3\\_meta1.sorted.txt.gz   & TRUE\\\\\n",
       "\t213 & pancreatic\\_cancer                              & case\\_control &  & pancreatic\\_cancer                               & pancreatic\\_cancer                              & /projects/CARDIPS/analysis/epigenome\\_resource/analyses/jennifer/gwas\\_liftover/hg38\\_summary\\_statistics/Pancreatic\\_cancer.UKB\\_SAIGE\\_FinnGen\\_r3\\_meta1.sorted.txt.gz    & TRUE\\\\\n",
       "\t214 & acute\\_pancreatitis                             & case\\_control &  & acute\\_pancreatitis                              & acute\\_pancreatitis                             & /projects/CARDIPS/analysis/epigenome\\_resource/analyses/jennifer/gwas\\_liftover/hg38\\_summary\\_statistics/Chronic\\_pancreatitis.UKB\\_SAIGE\\_FinnGen\\_r3\\_meta1.sorted.txt.gz & TRUE\\\\\n",
       "\t215 & chronic\\_pancreatitis                           & case\\_control &  & chronic\\_pancreatitis                            & chronic\\_pancreatitis                           & /projects/CARDIPS/analysis/epigenome\\_resource/analyses/jennifer/gwas\\_liftover/hg38\\_summary\\_statistics/Acute\\_pancreatitis.UKB\\_SAIGE\\_FinnGen\\_r3\\_meta1.sorted.txt.gz   & TRUE\\\\\n",
       "\t216 & pancreatic\\_cancer                              & case\\_control &  & pancreatic\\_cancer                               & pancreatic\\_cancer                              & /projects/CARDIPS/analysis/epigenome\\_resource/analyses/jennifer/gwas\\_liftover/hg38\\_summary\\_statistics/Pancreatic\\_cancer.UKB\\_SAIGE\\_FinnGen\\_r3\\_meta1.sorted.txt.gz    & TRUE\\\\\n",
       "\\end{tabular}\n"
      ],
      "text/markdown": [
       "\n",
       "A data.frame: 59 × 7\n",
       "\n",
       "| <!--/--> | trait_id &lt;chr&gt; | trait_type &lt;chr&gt; | coding_description &lt;chr&gt; | description &lt;chr&gt; | full_trait_id &lt;chr&gt; | filename &lt;chr&gt; | exists &lt;lgl&gt; |\n",
       "|---|---|---|---|---|---|---|---|\n",
       "| 1 | categorical-20003-both_sexes-1140861958        | case_control | <!----> | simvastatin                                     | categorical-20003-both_sexes-1140861958.meta   | /projects/CARDIPS/analysis/epigenome_resource/analyses/jennifer/gwas_liftover/hg38_summary_statistics/categorical-20003-both_sexes-1140861958.meta.hg38.tsv.gz      | TRUE |\n",
       "| 2 | categorical-20003-both_sexes-1140883066        | case_control | <!----> | insulin product                                 | categorical-20003-both_sexes-1140883066.meta   | /projects/CARDIPS/analysis/epigenome_resource/analyses/jennifer/gwas_liftover/hg38_summary_statistics/categorical-20003-both_sexes-1140883066.meta.hg38.tsv.gz      | TRUE |\n",
       "| 3 | categorical-20003-both_sexes-1140884600        | case_control | <!----> | metformin                                       | categorical-20003-both_sexes-1140884600.meta   | /projects/CARDIPS/analysis/epigenome_resource/analyses/jennifer/gwas_liftover/hg38_summary_statistics/categorical-20003-both_sexes-1140884600.meta.hg38.tsv.gz      | TRUE |\n",
       "| 4 | categorical-20107-both_sexes-9                 | case_control | <!----> | Diabetes                                        | categorical-20107-both_sexes-9.meta            | /projects/CARDIPS/analysis/epigenome_resource/analyses/jennifer/gwas_liftover/hg38_summary_statistics/categorical-20107-both_sexes-9.meta.hg38.tsv.gz               | TRUE |\n",
       "| 5 | categorical-20110-both_sexes-9                 | case_control | <!----> | Diabetes                                        | categorical-20110-both_sexes-9.meta            | /projects/CARDIPS/analysis/epigenome_resource/analyses/jennifer/gwas_liftover/hg38_summary_statistics/categorical-20110-both_sexes-9.meta.hg38.tsv.gz               | TRUE |\n",
       "| 6 | categorical-20111-both_sexes-9                 | case_control | <!----> | Diabetes                                        | categorical-20111-both_sexes-9.meta            | /projects/CARDIPS/analysis/epigenome_resource/analyses/jennifer/gwas_liftover/hg38_summary_statistics/categorical-20111-both_sexes-9.meta.hg38.tsv.gz               | TRUE |\n",
       "| 38 | continuous-30000-both_sexes-irnt               | continuous   | <!----> | White blood cell (leukocyte) count              | continuous-30000-both_sexes-irnt.eur           | /projects/CARDIPS/analysis/epigenome_resource/analyses/jennifer/gwas_liftover/hg38_summary_statistics/continuous-30000-both_sexes-irnt.eur.hg38.tsv.gz              | TRUE |\n",
       "| 39 | continuous-30010-both_sexes-irnt               | continuous   | <!----> | Red blood cell (erythrocyte) count              | continuous-30010-both_sexes-irnt.eur           | /projects/CARDIPS/analysis/epigenome_resource/analyses/jennifer/gwas_liftover/hg38_summary_statistics/continuous-30010-both_sexes-irnt.eur.hg38.tsv.gz              | TRUE |\n",
       "| 42 | continuous-30020-both_sexes-irnt               | continuous   | <!----> | Haemoglobin concentration                       | continuous-30020-both_sexes-irnt.eur           | /projects/CARDIPS/analysis/epigenome_resource/analyses/jennifer/gwas_liftover/hg38_summary_statistics/continuous-30020-both_sexes-irnt.eur.hg38.tsv.gz              | TRUE |\n",
       "| 44 | continuous-30030-both_sexes-irnt               | continuous   | <!----> | Haematocrit percentage                          | continuous-30030-both_sexes-irnt.eur           | /projects/CARDIPS/analysis/epigenome_resource/analyses/jennifer/gwas_liftover/hg38_summary_statistics/continuous-30030-both_sexes-irnt.eur.hg38.tsv.gz              | TRUE |\n",
       "| 46 | continuous-30040-both_sexes-irnt               | continuous   | <!----> | Mean corpuscular volume                         | continuous-30040-both_sexes-irnt.eur           | /projects/CARDIPS/analysis/epigenome_resource/analyses/jennifer/gwas_liftover/hg38_summary_statistics/continuous-30040-both_sexes-irnt.eur.hg38.tsv.gz              | TRUE |\n",
       "| 47 | continuous-30050-both_sexes-irnt               | continuous   | <!----> | Mean corpuscular haemoglobin                    | continuous-30050-both_sexes-irnt.eur           | /projects/CARDIPS/analysis/epigenome_resource/analyses/jennifer/gwas_liftover/hg38_summary_statistics/continuous-30050-both_sexes-irnt.eur.hg38.tsv.gz              | TRUE |\n",
       "| 50 | continuous-30060-both_sexes-irnt               | continuous   | <!----> | Mean corpuscular haemoglobin concentration      | continuous-30060-both_sexes-irnt.eur           | /projects/CARDIPS/analysis/epigenome_resource/analyses/jennifer/gwas_liftover/hg38_summary_statistics/continuous-30060-both_sexes-irnt.eur.hg38.tsv.gz              | TRUE |\n",
       "| 51 | continuous-30070-both_sexes-irnt               | continuous   | <!----> | Red blood cell (erythrocyte) distribution width | continuous-30070-both_sexes-irnt.eur           | /projects/CARDIPS/analysis/epigenome_resource/analyses/jennifer/gwas_liftover/hg38_summary_statistics/continuous-30070-both_sexes-irnt.eur.hg38.tsv.gz              | TRUE |\n",
       "| 54 | continuous-30080-both_sexes-irnt               | continuous   | <!----> | Platelet count                                  | continuous-30080-both_sexes-irnt.eur           | /projects/CARDIPS/analysis/epigenome_resource/analyses/jennifer/gwas_liftover/hg38_summary_statistics/continuous-30080-both_sexes-irnt.eur.hg38.tsv.gz              | TRUE |\n",
       "| 56 | continuous-30090-both_sexes-irnt               | continuous   | <!----> | Platelet crit                                   | continuous-30090-both_sexes-irnt.eur           | /projects/CARDIPS/analysis/epigenome_resource/analyses/jennifer/gwas_liftover/hg38_summary_statistics/continuous-30090-both_sexes-irnt.eur.hg38.tsv.gz              | TRUE |\n",
       "| 58 | continuous-30100-both_sexes-irnt               | continuous   | <!----> | Mean platelet (thrombocyte) volume              | continuous-30100-both_sexes-irnt.eur           | /projects/CARDIPS/analysis/epigenome_resource/analyses/jennifer/gwas_liftover/hg38_summary_statistics/continuous-30100-both_sexes-irnt.eur.hg38.tsv.gz              | TRUE |\n",
       "| 60 | continuous-30110-both_sexes-irnt               | continuous   | <!----> | Platelet distribution width                     | continuous-30110-both_sexes-irnt.eur           | /projects/CARDIPS/analysis/epigenome_resource/analyses/jennifer/gwas_liftover/hg38_summary_statistics/continuous-30110-both_sexes-irnt.eur.hg38.tsv.gz              | TRUE |\n",
       "| 62 | continuous-30120-both_sexes-irnt               | continuous   | <!----> | Lymphocyte count                                | continuous-30120-both_sexes-irnt.eur           | /projects/CARDIPS/analysis/epigenome_resource/analyses/jennifer/gwas_liftover/hg38_summary_statistics/continuous-30120-both_sexes-irnt.eur.hg38.tsv.gz              | TRUE |\n",
       "| 63 | continuous-30130-both_sexes-irnt               | continuous   | <!----> | Monocyte count                                  | continuous-30130-both_sexes-irnt.eur           | /projects/CARDIPS/analysis/epigenome_resource/analyses/jennifer/gwas_liftover/hg38_summary_statistics/continuous-30130-both_sexes-irnt.eur.hg38.tsv.gz              | TRUE |\n",
       "| 66 | continuous-30140-both_sexes-irnt               | continuous   | <!----> | Neutrophill count                               | continuous-30140-both_sexes-irnt.eur           | /projects/CARDIPS/analysis/epigenome_resource/analyses/jennifer/gwas_liftover/hg38_summary_statistics/continuous-30140-both_sexes-irnt.eur.hg38.tsv.gz              | TRUE |\n",
       "| 67 | continuous-30150-both_sexes-irnt               | continuous   | <!----> | Eosinophill count                               | continuous-30150-both_sexes-irnt.eur           | /projects/CARDIPS/analysis/epigenome_resource/analyses/jennifer/gwas_liftover/hg38_summary_statistics/continuous-30150-both_sexes-irnt.eur.hg38.tsv.gz              | TRUE |\n",
       "| 69 | continuous-30160-both_sexes                    | continuous   | <!----> | Basophill count                                 | continuous-30160-both_sexes.eur                | /projects/CARDIPS/analysis/epigenome_resource/analyses/jennifer/gwas_liftover/hg38_summary_statistics/continuous-30160-both_sexes.eur.hg38.tsv.gz                   | TRUE |\n",
       "| 72 | continuous-30180-both_sexes-irnt               | continuous   | <!----> | Lymphocyte percentage                           | continuous-30180-both_sexes-irnt.eur           | /projects/CARDIPS/analysis/epigenome_resource/analyses/jennifer/gwas_liftover/hg38_summary_statistics/continuous-30180-both_sexes-irnt.eur.hg38.tsv.gz              | TRUE |\n",
       "| 74 | continuous-30190-both_sexes-irnt               | continuous   | <!----> | Monocyte percentage                             | continuous-30190-both_sexes-irnt.eur           | /projects/CARDIPS/analysis/epigenome_resource/analyses/jennifer/gwas_liftover/hg38_summary_statistics/continuous-30190-both_sexes-irnt.eur.hg38.tsv.gz              | TRUE |\n",
       "| 76 | continuous-30200-both_sexes-irnt               | continuous   | <!----> | Neutrophill percentage                          | continuous-30200-both_sexes-irnt.eur           | /projects/CARDIPS/analysis/epigenome_resource/analyses/jennifer/gwas_liftover/hg38_summary_statistics/continuous-30200-both_sexes-irnt.eur.hg38.tsv.gz              | TRUE |\n",
       "| 77 | continuous-30210-both_sexes-irnt               | continuous   | <!----> | Eosinophill percentage                          | continuous-30210-both_sexes-irnt.eur           | /projects/CARDIPS/analysis/epigenome_resource/analyses/jennifer/gwas_liftover/hg38_summary_statistics/continuous-30210-both_sexes-irnt.eur.hg38.tsv.gz              | TRUE |\n",
       "| 80 | continuous-30220-both_sexes-irnt               | continuous   | <!----> | Basophill percentage                            | continuous-30220-both_sexes-irnt.eur           | /projects/CARDIPS/analysis/epigenome_resource/analyses/jennifer/gwas_liftover/hg38_summary_statistics/continuous-30220-both_sexes-irnt.eur.hg38.tsv.gz              | TRUE |\n",
       "| 82 | continuous-30240-both_sexes-irnt               | continuous   | <!----> | Reticulocyte percentage                         | continuous-30240-both_sexes-irnt.eur           | /projects/CARDIPS/analysis/epigenome_resource/analyses/jennifer/gwas_liftover/hg38_summary_statistics/continuous-30240-both_sexes-irnt.eur.hg38.tsv.gz              | TRUE |\n",
       "| 83 | continuous-30250-both_sexes-irnt               | continuous   | <!----> | Reticulocyte count                              | continuous-30250-both_sexes-irnt.eur           | /projects/CARDIPS/analysis/epigenome_resource/analyses/jennifer/gwas_liftover/hg38_summary_statistics/continuous-30250-both_sexes-irnt.eur.hg38.tsv.gz              | TRUE |\n",
       "| 86 | continuous-30260-both_sexes-irnt               | continuous   | <!----> | Mean reticulocyte volume                        | continuous-30260-both_sexes-irnt.eur           | /projects/CARDIPS/analysis/epigenome_resource/analyses/jennifer/gwas_liftover/hg38_summary_statistics/continuous-30260-both_sexes-irnt.eur.hg38.tsv.gz              | TRUE |\n",
       "| 87 | continuous-30270-both_sexes-irnt               | continuous   | <!----> | Mean sphered cell volume                        | continuous-30270-both_sexes-irnt.eur           | /projects/CARDIPS/analysis/epigenome_resource/analyses/jennifer/gwas_liftover/hg38_summary_statistics/continuous-30270-both_sexes-irnt.eur.hg38.tsv.gz              | TRUE |\n",
       "| 90 | continuous-30280-both_sexes-irnt               | continuous   | <!----> | Immature reticulocyte fraction                  | continuous-30280-both_sexes-irnt.eur           | /projects/CARDIPS/analysis/epigenome_resource/analyses/jennifer/gwas_liftover/hg38_summary_statistics/continuous-30280-both_sexes-irnt.eur.hg38.tsv.gz              | TRUE |\n",
       "| 91 | continuous-30290-both_sexes-irnt               | continuous   | <!----> | High light scatter reticulocyte percentage      | continuous-30290-both_sexes-irnt.eur           | /projects/CARDIPS/analysis/epigenome_resource/analyses/jennifer/gwas_liftover/hg38_summary_statistics/continuous-30290-both_sexes-irnt.eur.hg38.tsv.gz              | TRUE |\n",
       "| 93 | continuous-30300-both_sexes-irnt               | continuous   | <!----> | High light scatter reticulocyte count           | continuous-30300-both_sexes-irnt.eur           | /projects/CARDIPS/analysis/epigenome_resource/analyses/jennifer/gwas_liftover/hg38_summary_statistics/continuous-30300-both_sexes-irnt.eur.hg38.tsv.gz              | TRUE |\n",
       "| 97 | continuous-50-both_sexes-irnt                  | continuous   | <!----> | Standing height                                 | continuous-50-both_sexes-irnt.eur              | /projects/CARDIPS/analysis/epigenome_resource/analyses/jennifer/gwas_liftover/hg38_summary_statistics/continuous-50-both_sexes-irnt.eur.hg38.tsv.gz                 | TRUE |\n",
       "| 98 | continuous-50-both_sexes-irnt                  | continuous   | <!----> | Standing height                                 | continuous-50-both_sexes-irnt.csa              | /projects/CARDIPS/analysis/epigenome_resource/analyses/jennifer/gwas_liftover/hg38_summary_statistics/continuous-50-both_sexes-irnt.csa.hg38.tsv.gz                 | TRUE |\n",
       "| 99 | continuous-50-both_sexes-irnt                  | continuous   | <!----> | Standing height                                 | continuous-50-both_sexes-irnt.eas              | /projects/CARDIPS/analysis/epigenome_resource/analyses/jennifer/gwas_liftover/hg38_summary_statistics/continuous-50-both_sexes-irnt.eas.hg38.tsv.gz                 | TRUE |\n",
       "| 101 | continuous-50-both_sexes-irnt                  | continuous   | <!----> | Standing height                                 | continuous-50-both_sexes-irnt.afr              | /projects/CARDIPS/analysis/epigenome_resource/analyses/jennifer/gwas_liftover/hg38_summary_statistics/continuous-50-both_sexes-irnt.afr.hg38.tsv.gz                 | TRUE |\n",
       "| 114 | Fetal_early_preterm_birth_NComms2019           | case_control | <!----> | fetal early preterm                             | Fetal_early_preterm_birth_NComms2019           | /projects/CARDIPS/analysis/epigenome_resource/analyses/jennifer/gwas_liftover/hg38_summary_statistics/Fetal_early_preterm_birth_NComms2019.hg38.tsv.gz              | TRUE |\n",
       "| 115 | Fetal_gest_duration_NComms2019                 | continuous   | <!----> | fetal gestational duraction                     | Fetal_gest_duration_NComms2019                 | /projects/CARDIPS/analysis/epigenome_resource/analyses/jennifer/gwas_liftover/hg38_summary_statistics/Fetal_gest_duration_NComms2019.hg38.tsv.gz                    | TRUE |\n",
       "| 116 | Fetal_postterm_birth_NComms2019                | case_control | <!----> | fetal post-term birth                           | Fetal_postterm_birth_NComms2019                | /projects/CARDIPS/analysis/epigenome_resource/analyses/jennifer/gwas_liftover/hg38_summary_statistics/Fetal_postterm_birth_NComms2019.hg38.tsv.gz                   | TRUE |\n",
       "| 117 | Fetal_preterm_birth_NComms2019                 | case_control | <!----> | fetal pre-term birth                            | Fetal_preterm_birth_NComms2019                 | /projects/CARDIPS/analysis/epigenome_resource/analyses/jennifer/gwas_liftover/hg38_summary_statistics/Fetal_preterm_birth_NComms2019.hg38.tsv.gz                    | TRUE |\n",
       "| 118 | GCST90002409_buildGRCh37                       | continuous   | <!----> | childhood bmi                                   | GCST90002409_buildGRCh37                       | /projects/CARDIPS/analysis/epigenome_resource/analyses/jennifer/gwas_liftover/hg38_summary_statistics/GCST90002409_buildGRCh37.hg38.tsv.gz                          | TRUE |\n",
       "| 148 | pgc-bip2021-all.vcf                            | case_control | <!----> | bipolar disorder (all)                          | pgc-bip2021-all.vcf                            | /projects/CARDIPS/analysis/epigenome_resource/analyses/jennifer/gwas_liftover/hg38_summary_statistics/pgc-bip2021-all.vcf.hg38.tsv.gz                               | TRUE |\n",
       "| 149 | pgc-bip2021-BDI.vcf                            | case_control | <!----> | bipolar disorder (I)                            | pgc-bip2021-BDI.vcf                            | /projects/CARDIPS/analysis/epigenome_resource/analyses/jennifer/gwas_liftover/hg38_summary_statistics/pgc-bip2021-BDI.vcf.hg38.tsv.gz                               | TRUE |\n",
       "| 150 | pgc-bip2021-BDII.vcf                           | case_control | <!----> | bipolar disorder (II)                           | pgc-bip2021-BDII.vcf                           | /projects/CARDIPS/analysis/epigenome_resource/analyses/jennifer/gwas_liftover/hg38_summary_statistics/pgc-bip2021-BDII.vcf.hg38.tsv.gz                              | TRUE |\n",
       "| 151 | PGC3_SCZ_wave3_core_autosome.public.v3.vcf     | case_control | <!----> | schizophrenia (core autosome)                   | PGC3_SCZ_wave3_core_autosome.public.v3.vcf     | /projects/CARDIPS/analysis/epigenome_resource/analyses/jennifer/gwas_liftover/hg38_summary_statistics/PGC3_SCZ_wave3_core_autosome.public.v3.vcf.hg38.tsv.gz        | TRUE |\n",
       "| 152 | PGC3_SCZ_wave3_primary_autosome.public.v3.vcf  | case_control | <!----> | schizophrenia (primary autosome)                | PGC3_SCZ_wave3_primary_autosome.public.v3.vcf  | /projects/CARDIPS/analysis/epigenome_resource/analyses/jennifer/gwas_liftover/hg38_summary_statistics/PGC3_SCZ_wave3_primary_autosome.public.v3.vcf.hg38.tsv.gz     | TRUE |\n",
       "| 153 | PGC3_SCZ_wave3.european_autosome.public.v3.vcf | case_control | <!----> | schizophrenia (european_vcf)                    | PGC3_SCZ_wave3_european_autosome.public.v3.vcf | /projects/CARDIPS/analysis/epigenome_resource/analyses/jennifer/gwas_liftover/hg38_summary_statistics/PGC3_SCZ_wave3_european_autosome.public.v3.vcf.hg38.tsv.gz    | TRUE |\n",
       "| 208 | acute_pancreatitis                             | case_control | <!----> | acute_pancreatitis                              | acute_pancreatitis                             | /projects/CARDIPS/analysis/epigenome_resource/analyses/jennifer/gwas_liftover/hg38_summary_statistics/Chronic_pancreatitis.UKB_SAIGE_FinnGen_r3_meta1.sorted.txt.gz | TRUE |\n",
       "| 209 | chronic_pancreatitis                           | case_control | <!----> | chronic_pancreatitis                            | chronic_pancreatitis                           | /projects/CARDIPS/analysis/epigenome_resource/analyses/jennifer/gwas_liftover/hg38_summary_statistics/Acute_pancreatitis.UKB_SAIGE_FinnGen_r3_meta1.sorted.txt.gz   | TRUE |\n",
       "| 210 | pancreatic_cancer                              | case_control | <!----> | pancreatic_cancer                               | pancreatic_cancer                              | /projects/CARDIPS/analysis/epigenome_resource/analyses/jennifer/gwas_liftover/hg38_summary_statistics/Pancreatic_cancer.UKB_SAIGE_FinnGen_r3_meta1.sorted.txt.gz    | TRUE |\n",
       "| 211 | acute_pancreatitis                             | case_control | <!----> | acute_pancreatitis                              | acute_pancreatitis                             | /projects/CARDIPS/analysis/epigenome_resource/analyses/jennifer/gwas_liftover/hg38_summary_statistics/Chronic_pancreatitis.UKB_SAIGE_FinnGen_r3_meta1.sorted.txt.gz | TRUE |\n",
       "| 212 | chronic_pancreatitis                           | case_control | <!----> | chronic_pancreatitis                            | chronic_pancreatitis                           | /projects/CARDIPS/analysis/epigenome_resource/analyses/jennifer/gwas_liftover/hg38_summary_statistics/Acute_pancreatitis.UKB_SAIGE_FinnGen_r3_meta1.sorted.txt.gz   | TRUE |\n",
       "| 213 | pancreatic_cancer                              | case_control | <!----> | pancreatic_cancer                               | pancreatic_cancer                              | /projects/CARDIPS/analysis/epigenome_resource/analyses/jennifer/gwas_liftover/hg38_summary_statistics/Pancreatic_cancer.UKB_SAIGE_FinnGen_r3_meta1.sorted.txt.gz    | TRUE |\n",
       "| 214 | acute_pancreatitis                             | case_control | <!----> | acute_pancreatitis                              | acute_pancreatitis                             | /projects/CARDIPS/analysis/epigenome_resource/analyses/jennifer/gwas_liftover/hg38_summary_statistics/Chronic_pancreatitis.UKB_SAIGE_FinnGen_r3_meta1.sorted.txt.gz | TRUE |\n",
       "| 215 | chronic_pancreatitis                           | case_control | <!----> | chronic_pancreatitis                            | chronic_pancreatitis                           | /projects/CARDIPS/analysis/epigenome_resource/analyses/jennifer/gwas_liftover/hg38_summary_statistics/Acute_pancreatitis.UKB_SAIGE_FinnGen_r3_meta1.sorted.txt.gz   | TRUE |\n",
       "| 216 | pancreatic_cancer                              | case_control | <!----> | pancreatic_cancer                               | pancreatic_cancer                              | /projects/CARDIPS/analysis/epigenome_resource/analyses/jennifer/gwas_liftover/hg38_summary_statistics/Pancreatic_cancer.UKB_SAIGE_FinnGen_r3_meta1.sorted.txt.gz    | TRUE |\n",
       "\n"
      ],
      "text/plain": [
       "    trait_id                                       trait_type  \n",
       "1   categorical-20003-both_sexes-1140861958        case_control\n",
       "2   categorical-20003-both_sexes-1140883066        case_control\n",
       "3   categorical-20003-both_sexes-1140884600        case_control\n",
       "4   categorical-20107-both_sexes-9                 case_control\n",
       "5   categorical-20110-both_sexes-9                 case_control\n",
       "6   categorical-20111-both_sexes-9                 case_control\n",
       "38  continuous-30000-both_sexes-irnt               continuous  \n",
       "39  continuous-30010-both_sexes-irnt               continuous  \n",
       "42  continuous-30020-both_sexes-irnt               continuous  \n",
       "44  continuous-30030-both_sexes-irnt               continuous  \n",
       "46  continuous-30040-both_sexes-irnt               continuous  \n",
       "47  continuous-30050-both_sexes-irnt               continuous  \n",
       "50  continuous-30060-both_sexes-irnt               continuous  \n",
       "51  continuous-30070-both_sexes-irnt               continuous  \n",
       "54  continuous-30080-both_sexes-irnt               continuous  \n",
       "56  continuous-30090-both_sexes-irnt               continuous  \n",
       "58  continuous-30100-both_sexes-irnt               continuous  \n",
       "60  continuous-30110-both_sexes-irnt               continuous  \n",
       "62  continuous-30120-both_sexes-irnt               continuous  \n",
       "63  continuous-30130-both_sexes-irnt               continuous  \n",
       "66  continuous-30140-both_sexes-irnt               continuous  \n",
       "67  continuous-30150-both_sexes-irnt               continuous  \n",
       "69  continuous-30160-both_sexes                    continuous  \n",
       "72  continuous-30180-both_sexes-irnt               continuous  \n",
       "74  continuous-30190-both_sexes-irnt               continuous  \n",
       "76  continuous-30200-both_sexes-irnt               continuous  \n",
       "77  continuous-30210-both_sexes-irnt               continuous  \n",
       "80  continuous-30220-both_sexes-irnt               continuous  \n",
       "82  continuous-30240-both_sexes-irnt               continuous  \n",
       "83  continuous-30250-both_sexes-irnt               continuous  \n",
       "86  continuous-30260-both_sexes-irnt               continuous  \n",
       "87  continuous-30270-both_sexes-irnt               continuous  \n",
       "90  continuous-30280-both_sexes-irnt               continuous  \n",
       "91  continuous-30290-both_sexes-irnt               continuous  \n",
       "93  continuous-30300-both_sexes-irnt               continuous  \n",
       "97  continuous-50-both_sexes-irnt                  continuous  \n",
       "98  continuous-50-both_sexes-irnt                  continuous  \n",
       "99  continuous-50-both_sexes-irnt                  continuous  \n",
       "101 continuous-50-both_sexes-irnt                  continuous  \n",
       "114 Fetal_early_preterm_birth_NComms2019           case_control\n",
       "115 Fetal_gest_duration_NComms2019                 continuous  \n",
       "116 Fetal_postterm_birth_NComms2019                case_control\n",
       "117 Fetal_preterm_birth_NComms2019                 case_control\n",
       "118 GCST90002409_buildGRCh37                       continuous  \n",
       "148 pgc-bip2021-all.vcf                            case_control\n",
       "149 pgc-bip2021-BDI.vcf                            case_control\n",
       "150 pgc-bip2021-BDII.vcf                           case_control\n",
       "151 PGC3_SCZ_wave3_core_autosome.public.v3.vcf     case_control\n",
       "152 PGC3_SCZ_wave3_primary_autosome.public.v3.vcf  case_control\n",
       "153 PGC3_SCZ_wave3.european_autosome.public.v3.vcf case_control\n",
       "208 acute_pancreatitis                             case_control\n",
       "209 chronic_pancreatitis                           case_control\n",
       "210 pancreatic_cancer                              case_control\n",
       "211 acute_pancreatitis                             case_control\n",
       "212 chronic_pancreatitis                           case_control\n",
       "213 pancreatic_cancer                              case_control\n",
       "214 acute_pancreatitis                             case_control\n",
       "215 chronic_pancreatitis                           case_control\n",
       "216 pancreatic_cancer                              case_control\n",
       "    coding_description description                                    \n",
       "1                      simvastatin                                    \n",
       "2                      insulin product                                \n",
       "3                      metformin                                      \n",
       "4                      Diabetes                                       \n",
       "5                      Diabetes                                       \n",
       "6                      Diabetes                                       \n",
       "38                     White blood cell (leukocyte) count             \n",
       "39                     Red blood cell (erythrocyte) count             \n",
       "42                     Haemoglobin concentration                      \n",
       "44                     Haematocrit percentage                         \n",
       "46                     Mean corpuscular volume                        \n",
       "47                     Mean corpuscular haemoglobin                   \n",
       "50                     Mean corpuscular haemoglobin concentration     \n",
       "51                     Red blood cell (erythrocyte) distribution width\n",
       "54                     Platelet count                                 \n",
       "56                     Platelet crit                                  \n",
       "58                     Mean platelet (thrombocyte) volume             \n",
       "60                     Platelet distribution width                    \n",
       "62                     Lymphocyte count                               \n",
       "63                     Monocyte count                                 \n",
       "66                     Neutrophill count                              \n",
       "67                     Eosinophill count                              \n",
       "69                     Basophill count                                \n",
       "72                     Lymphocyte percentage                          \n",
       "74                     Monocyte percentage                            \n",
       "76                     Neutrophill percentage                         \n",
       "77                     Eosinophill percentage                         \n",
       "80                     Basophill percentage                           \n",
       "82                     Reticulocyte percentage                        \n",
       "83                     Reticulocyte count                             \n",
       "86                     Mean reticulocyte volume                       \n",
       "87                     Mean sphered cell volume                       \n",
       "90                     Immature reticulocyte fraction                 \n",
       "91                     High light scatter reticulocyte percentage     \n",
       "93                     High light scatter reticulocyte count          \n",
       "97                     Standing height                                \n",
       "98                     Standing height                                \n",
       "99                     Standing height                                \n",
       "101                    Standing height                                \n",
       "114                    fetal early preterm                            \n",
       "115                    fetal gestational duraction                    \n",
       "116                    fetal post-term birth                          \n",
       "117                    fetal pre-term birth                           \n",
       "118                    childhood bmi                                  \n",
       "148                    bipolar disorder (all)                         \n",
       "149                    bipolar disorder (I)                           \n",
       "150                    bipolar disorder (II)                          \n",
       "151                    schizophrenia (core autosome)                  \n",
       "152                    schizophrenia (primary autosome)               \n",
       "153                    schizophrenia (european_vcf)                   \n",
       "208                    acute_pancreatitis                             \n",
       "209                    chronic_pancreatitis                           \n",
       "210                    pancreatic_cancer                              \n",
       "211                    acute_pancreatitis                             \n",
       "212                    chronic_pancreatitis                           \n",
       "213                    pancreatic_cancer                              \n",
       "214                    acute_pancreatitis                             \n",
       "215                    chronic_pancreatitis                           \n",
       "216                    pancreatic_cancer                              \n",
       "    full_trait_id                                 \n",
       "1   categorical-20003-both_sexes-1140861958.meta  \n",
       "2   categorical-20003-both_sexes-1140883066.meta  \n",
       "3   categorical-20003-both_sexes-1140884600.meta  \n",
       "4   categorical-20107-both_sexes-9.meta           \n",
       "5   categorical-20110-both_sexes-9.meta           \n",
       "6   categorical-20111-both_sexes-9.meta           \n",
       "38  continuous-30000-both_sexes-irnt.eur          \n",
       "39  continuous-30010-both_sexes-irnt.eur          \n",
       "42  continuous-30020-both_sexes-irnt.eur          \n",
       "44  continuous-30030-both_sexes-irnt.eur          \n",
       "46  continuous-30040-both_sexes-irnt.eur          \n",
       "47  continuous-30050-both_sexes-irnt.eur          \n",
       "50  continuous-30060-both_sexes-irnt.eur          \n",
       "51  continuous-30070-both_sexes-irnt.eur          \n",
       "54  continuous-30080-both_sexes-irnt.eur          \n",
       "56  continuous-30090-both_sexes-irnt.eur          \n",
       "58  continuous-30100-both_sexes-irnt.eur          \n",
       "60  continuous-30110-both_sexes-irnt.eur          \n",
       "62  continuous-30120-both_sexes-irnt.eur          \n",
       "63  continuous-30130-both_sexes-irnt.eur          \n",
       "66  continuous-30140-both_sexes-irnt.eur          \n",
       "67  continuous-30150-both_sexes-irnt.eur          \n",
       "69  continuous-30160-both_sexes.eur               \n",
       "72  continuous-30180-both_sexes-irnt.eur          \n",
       "74  continuous-30190-both_sexes-irnt.eur          \n",
       "76  continuous-30200-both_sexes-irnt.eur          \n",
       "77  continuous-30210-both_sexes-irnt.eur          \n",
       "80  continuous-30220-both_sexes-irnt.eur          \n",
       "82  continuous-30240-both_sexes-irnt.eur          \n",
       "83  continuous-30250-both_sexes-irnt.eur          \n",
       "86  continuous-30260-both_sexes-irnt.eur          \n",
       "87  continuous-30270-both_sexes-irnt.eur          \n",
       "90  continuous-30280-both_sexes-irnt.eur          \n",
       "91  continuous-30290-both_sexes-irnt.eur          \n",
       "93  continuous-30300-both_sexes-irnt.eur          \n",
       "97  continuous-50-both_sexes-irnt.eur             \n",
       "98  continuous-50-both_sexes-irnt.csa             \n",
       "99  continuous-50-both_sexes-irnt.eas             \n",
       "101 continuous-50-both_sexes-irnt.afr             \n",
       "114 Fetal_early_preterm_birth_NComms2019          \n",
       "115 Fetal_gest_duration_NComms2019                \n",
       "116 Fetal_postterm_birth_NComms2019               \n",
       "117 Fetal_preterm_birth_NComms2019                \n",
       "118 GCST90002409_buildGRCh37                      \n",
       "148 pgc-bip2021-all.vcf                           \n",
       "149 pgc-bip2021-BDI.vcf                           \n",
       "150 pgc-bip2021-BDII.vcf                          \n",
       "151 PGC3_SCZ_wave3_core_autosome.public.v3.vcf    \n",
       "152 PGC3_SCZ_wave3_primary_autosome.public.v3.vcf \n",
       "153 PGC3_SCZ_wave3_european_autosome.public.v3.vcf\n",
       "208 acute_pancreatitis                            \n",
       "209 chronic_pancreatitis                          \n",
       "210 pancreatic_cancer                             \n",
       "211 acute_pancreatitis                            \n",
       "212 chronic_pancreatitis                          \n",
       "213 pancreatic_cancer                             \n",
       "214 acute_pancreatitis                            \n",
       "215 chronic_pancreatitis                          \n",
       "216 pancreatic_cancer                             \n",
       "    filename                                                                                                                                                           \n",
       "1   /projects/CARDIPS/analysis/epigenome_resource/analyses/jennifer/gwas_liftover/hg38_summary_statistics/categorical-20003-both_sexes-1140861958.meta.hg38.tsv.gz     \n",
       "2   /projects/CARDIPS/analysis/epigenome_resource/analyses/jennifer/gwas_liftover/hg38_summary_statistics/categorical-20003-both_sexes-1140883066.meta.hg38.tsv.gz     \n",
       "3   /projects/CARDIPS/analysis/epigenome_resource/analyses/jennifer/gwas_liftover/hg38_summary_statistics/categorical-20003-both_sexes-1140884600.meta.hg38.tsv.gz     \n",
       "4   /projects/CARDIPS/analysis/epigenome_resource/analyses/jennifer/gwas_liftover/hg38_summary_statistics/categorical-20107-both_sexes-9.meta.hg38.tsv.gz              \n",
       "5   /projects/CARDIPS/analysis/epigenome_resource/analyses/jennifer/gwas_liftover/hg38_summary_statistics/categorical-20110-both_sexes-9.meta.hg38.tsv.gz              \n",
       "6   /projects/CARDIPS/analysis/epigenome_resource/analyses/jennifer/gwas_liftover/hg38_summary_statistics/categorical-20111-both_sexes-9.meta.hg38.tsv.gz              \n",
       "38  /projects/CARDIPS/analysis/epigenome_resource/analyses/jennifer/gwas_liftover/hg38_summary_statistics/continuous-30000-both_sexes-irnt.eur.hg38.tsv.gz             \n",
       "39  /projects/CARDIPS/analysis/epigenome_resource/analyses/jennifer/gwas_liftover/hg38_summary_statistics/continuous-30010-both_sexes-irnt.eur.hg38.tsv.gz             \n",
       "42  /projects/CARDIPS/analysis/epigenome_resource/analyses/jennifer/gwas_liftover/hg38_summary_statistics/continuous-30020-both_sexes-irnt.eur.hg38.tsv.gz             \n",
       "44  /projects/CARDIPS/analysis/epigenome_resource/analyses/jennifer/gwas_liftover/hg38_summary_statistics/continuous-30030-both_sexes-irnt.eur.hg38.tsv.gz             \n",
       "46  /projects/CARDIPS/analysis/epigenome_resource/analyses/jennifer/gwas_liftover/hg38_summary_statistics/continuous-30040-both_sexes-irnt.eur.hg38.tsv.gz             \n",
       "47  /projects/CARDIPS/analysis/epigenome_resource/analyses/jennifer/gwas_liftover/hg38_summary_statistics/continuous-30050-both_sexes-irnt.eur.hg38.tsv.gz             \n",
       "50  /projects/CARDIPS/analysis/epigenome_resource/analyses/jennifer/gwas_liftover/hg38_summary_statistics/continuous-30060-both_sexes-irnt.eur.hg38.tsv.gz             \n",
       "51  /projects/CARDIPS/analysis/epigenome_resource/analyses/jennifer/gwas_liftover/hg38_summary_statistics/continuous-30070-both_sexes-irnt.eur.hg38.tsv.gz             \n",
       "54  /projects/CARDIPS/analysis/epigenome_resource/analyses/jennifer/gwas_liftover/hg38_summary_statistics/continuous-30080-both_sexes-irnt.eur.hg38.tsv.gz             \n",
       "56  /projects/CARDIPS/analysis/epigenome_resource/analyses/jennifer/gwas_liftover/hg38_summary_statistics/continuous-30090-both_sexes-irnt.eur.hg38.tsv.gz             \n",
       "58  /projects/CARDIPS/analysis/epigenome_resource/analyses/jennifer/gwas_liftover/hg38_summary_statistics/continuous-30100-both_sexes-irnt.eur.hg38.tsv.gz             \n",
       "60  /projects/CARDIPS/analysis/epigenome_resource/analyses/jennifer/gwas_liftover/hg38_summary_statistics/continuous-30110-both_sexes-irnt.eur.hg38.tsv.gz             \n",
       "62  /projects/CARDIPS/analysis/epigenome_resource/analyses/jennifer/gwas_liftover/hg38_summary_statistics/continuous-30120-both_sexes-irnt.eur.hg38.tsv.gz             \n",
       "63  /projects/CARDIPS/analysis/epigenome_resource/analyses/jennifer/gwas_liftover/hg38_summary_statistics/continuous-30130-both_sexes-irnt.eur.hg38.tsv.gz             \n",
       "66  /projects/CARDIPS/analysis/epigenome_resource/analyses/jennifer/gwas_liftover/hg38_summary_statistics/continuous-30140-both_sexes-irnt.eur.hg38.tsv.gz             \n",
       "67  /projects/CARDIPS/analysis/epigenome_resource/analyses/jennifer/gwas_liftover/hg38_summary_statistics/continuous-30150-both_sexes-irnt.eur.hg38.tsv.gz             \n",
       "69  /projects/CARDIPS/analysis/epigenome_resource/analyses/jennifer/gwas_liftover/hg38_summary_statistics/continuous-30160-both_sexes.eur.hg38.tsv.gz                  \n",
       "72  /projects/CARDIPS/analysis/epigenome_resource/analyses/jennifer/gwas_liftover/hg38_summary_statistics/continuous-30180-both_sexes-irnt.eur.hg38.tsv.gz             \n",
       "74  /projects/CARDIPS/analysis/epigenome_resource/analyses/jennifer/gwas_liftover/hg38_summary_statistics/continuous-30190-both_sexes-irnt.eur.hg38.tsv.gz             \n",
       "76  /projects/CARDIPS/analysis/epigenome_resource/analyses/jennifer/gwas_liftover/hg38_summary_statistics/continuous-30200-both_sexes-irnt.eur.hg38.tsv.gz             \n",
       "77  /projects/CARDIPS/analysis/epigenome_resource/analyses/jennifer/gwas_liftover/hg38_summary_statistics/continuous-30210-both_sexes-irnt.eur.hg38.tsv.gz             \n",
       "80  /projects/CARDIPS/analysis/epigenome_resource/analyses/jennifer/gwas_liftover/hg38_summary_statistics/continuous-30220-both_sexes-irnt.eur.hg38.tsv.gz             \n",
       "82  /projects/CARDIPS/analysis/epigenome_resource/analyses/jennifer/gwas_liftover/hg38_summary_statistics/continuous-30240-both_sexes-irnt.eur.hg38.tsv.gz             \n",
       "83  /projects/CARDIPS/analysis/epigenome_resource/analyses/jennifer/gwas_liftover/hg38_summary_statistics/continuous-30250-both_sexes-irnt.eur.hg38.tsv.gz             \n",
       "86  /projects/CARDIPS/analysis/epigenome_resource/analyses/jennifer/gwas_liftover/hg38_summary_statistics/continuous-30260-both_sexes-irnt.eur.hg38.tsv.gz             \n",
       "87  /projects/CARDIPS/analysis/epigenome_resource/analyses/jennifer/gwas_liftover/hg38_summary_statistics/continuous-30270-both_sexes-irnt.eur.hg38.tsv.gz             \n",
       "90  /projects/CARDIPS/analysis/epigenome_resource/analyses/jennifer/gwas_liftover/hg38_summary_statistics/continuous-30280-both_sexes-irnt.eur.hg38.tsv.gz             \n",
       "91  /projects/CARDIPS/analysis/epigenome_resource/analyses/jennifer/gwas_liftover/hg38_summary_statistics/continuous-30290-both_sexes-irnt.eur.hg38.tsv.gz             \n",
       "93  /projects/CARDIPS/analysis/epigenome_resource/analyses/jennifer/gwas_liftover/hg38_summary_statistics/continuous-30300-both_sexes-irnt.eur.hg38.tsv.gz             \n",
       "97  /projects/CARDIPS/analysis/epigenome_resource/analyses/jennifer/gwas_liftover/hg38_summary_statistics/continuous-50-both_sexes-irnt.eur.hg38.tsv.gz                \n",
       "98  /projects/CARDIPS/analysis/epigenome_resource/analyses/jennifer/gwas_liftover/hg38_summary_statistics/continuous-50-both_sexes-irnt.csa.hg38.tsv.gz                \n",
       "99  /projects/CARDIPS/analysis/epigenome_resource/analyses/jennifer/gwas_liftover/hg38_summary_statistics/continuous-50-both_sexes-irnt.eas.hg38.tsv.gz                \n",
       "101 /projects/CARDIPS/analysis/epigenome_resource/analyses/jennifer/gwas_liftover/hg38_summary_statistics/continuous-50-both_sexes-irnt.afr.hg38.tsv.gz                \n",
       "114 /projects/CARDIPS/analysis/epigenome_resource/analyses/jennifer/gwas_liftover/hg38_summary_statistics/Fetal_early_preterm_birth_NComms2019.hg38.tsv.gz             \n",
       "115 /projects/CARDIPS/analysis/epigenome_resource/analyses/jennifer/gwas_liftover/hg38_summary_statistics/Fetal_gest_duration_NComms2019.hg38.tsv.gz                   \n",
       "116 /projects/CARDIPS/analysis/epigenome_resource/analyses/jennifer/gwas_liftover/hg38_summary_statistics/Fetal_postterm_birth_NComms2019.hg38.tsv.gz                  \n",
       "117 /projects/CARDIPS/analysis/epigenome_resource/analyses/jennifer/gwas_liftover/hg38_summary_statistics/Fetal_preterm_birth_NComms2019.hg38.tsv.gz                   \n",
       "118 /projects/CARDIPS/analysis/epigenome_resource/analyses/jennifer/gwas_liftover/hg38_summary_statistics/GCST90002409_buildGRCh37.hg38.tsv.gz                         \n",
       "148 /projects/CARDIPS/analysis/epigenome_resource/analyses/jennifer/gwas_liftover/hg38_summary_statistics/pgc-bip2021-all.vcf.hg38.tsv.gz                              \n",
       "149 /projects/CARDIPS/analysis/epigenome_resource/analyses/jennifer/gwas_liftover/hg38_summary_statistics/pgc-bip2021-BDI.vcf.hg38.tsv.gz                              \n",
       "150 /projects/CARDIPS/analysis/epigenome_resource/analyses/jennifer/gwas_liftover/hg38_summary_statistics/pgc-bip2021-BDII.vcf.hg38.tsv.gz                             \n",
       "151 /projects/CARDIPS/analysis/epigenome_resource/analyses/jennifer/gwas_liftover/hg38_summary_statistics/PGC3_SCZ_wave3_core_autosome.public.v3.vcf.hg38.tsv.gz       \n",
       "152 /projects/CARDIPS/analysis/epigenome_resource/analyses/jennifer/gwas_liftover/hg38_summary_statistics/PGC3_SCZ_wave3_primary_autosome.public.v3.vcf.hg38.tsv.gz    \n",
       "153 /projects/CARDIPS/analysis/epigenome_resource/analyses/jennifer/gwas_liftover/hg38_summary_statistics/PGC3_SCZ_wave3_european_autosome.public.v3.vcf.hg38.tsv.gz   \n",
       "208 /projects/CARDIPS/analysis/epigenome_resource/analyses/jennifer/gwas_liftover/hg38_summary_statistics/Chronic_pancreatitis.UKB_SAIGE_FinnGen_r3_meta1.sorted.txt.gz\n",
       "209 /projects/CARDIPS/analysis/epigenome_resource/analyses/jennifer/gwas_liftover/hg38_summary_statistics/Acute_pancreatitis.UKB_SAIGE_FinnGen_r3_meta1.sorted.txt.gz  \n",
       "210 /projects/CARDIPS/analysis/epigenome_resource/analyses/jennifer/gwas_liftover/hg38_summary_statistics/Pancreatic_cancer.UKB_SAIGE_FinnGen_r3_meta1.sorted.txt.gz   \n",
       "211 /projects/CARDIPS/analysis/epigenome_resource/analyses/jennifer/gwas_liftover/hg38_summary_statistics/Chronic_pancreatitis.UKB_SAIGE_FinnGen_r3_meta1.sorted.txt.gz\n",
       "212 /projects/CARDIPS/analysis/epigenome_resource/analyses/jennifer/gwas_liftover/hg38_summary_statistics/Acute_pancreatitis.UKB_SAIGE_FinnGen_r3_meta1.sorted.txt.gz  \n",
       "213 /projects/CARDIPS/analysis/epigenome_resource/analyses/jennifer/gwas_liftover/hg38_summary_statistics/Pancreatic_cancer.UKB_SAIGE_FinnGen_r3_meta1.sorted.txt.gz   \n",
       "214 /projects/CARDIPS/analysis/epigenome_resource/analyses/jennifer/gwas_liftover/hg38_summary_statistics/Chronic_pancreatitis.UKB_SAIGE_FinnGen_r3_meta1.sorted.txt.gz\n",
       "215 /projects/CARDIPS/analysis/epigenome_resource/analyses/jennifer/gwas_liftover/hg38_summary_statistics/Acute_pancreatitis.UKB_SAIGE_FinnGen_r3_meta1.sorted.txt.gz  \n",
       "216 /projects/CARDIPS/analysis/epigenome_resource/analyses/jennifer/gwas_liftover/hg38_summary_statistics/Pancreatic_cancer.UKB_SAIGE_FinnGen_r3_meta1.sorted.txt.gz   \n",
       "    exists\n",
       "1   TRUE  \n",
       "2   TRUE  \n",
       "3   TRUE  \n",
       "4   TRUE  \n",
       "5   TRUE  \n",
       "6   TRUE  \n",
       "38  TRUE  \n",
       "39  TRUE  \n",
       "42  TRUE  \n",
       "44  TRUE  \n",
       "46  TRUE  \n",
       "47  TRUE  \n",
       "50  TRUE  \n",
       "51  TRUE  \n",
       "54  TRUE  \n",
       "56  TRUE  \n",
       "58  TRUE  \n",
       "60  TRUE  \n",
       "62  TRUE  \n",
       "63  TRUE  \n",
       "66  TRUE  \n",
       "67  TRUE  \n",
       "69  TRUE  \n",
       "72  TRUE  \n",
       "74  TRUE  \n",
       "76  TRUE  \n",
       "77  TRUE  \n",
       "80  TRUE  \n",
       "82  TRUE  \n",
       "83  TRUE  \n",
       "86  TRUE  \n",
       "87  TRUE  \n",
       "90  TRUE  \n",
       "91  TRUE  \n",
       "93  TRUE  \n",
       "97  TRUE  \n",
       "98  TRUE  \n",
       "99  TRUE  \n",
       "101 TRUE  \n",
       "114 TRUE  \n",
       "115 TRUE  \n",
       "116 TRUE  \n",
       "117 TRUE  \n",
       "118 TRUE  \n",
       "148 TRUE  \n",
       "149 TRUE  \n",
       "150 TRUE  \n",
       "151 TRUE  \n",
       "152 TRUE  \n",
       "153 TRUE  \n",
       "208 TRUE  \n",
       "209 TRUE  \n",
       "210 TRUE  \n",
       "211 TRUE  \n",
       "212 TRUE  \n",
       "213 TRUE  \n",
       "214 TRUE  \n",
       "215 TRUE  \n",
       "216 TRUE  "
      ]
     },
     "metadata": {},
     "output_type": "display_data"
    },
    {
     "data": {
      "text/html": [
       "<style>\n",
       ".list-inline {list-style: none; margin:0; padding: 0}\n",
       ".list-inline>li {display: inline-block}\n",
       ".list-inline>li:not(:last-child)::after {content: \"\\00b7\"; padding: 0 .5ex}\n",
       "</style>\n",
       "<ol class=list-inline><li>'CVPC_caqtls'</li><li>'CVPC_haqtls'</li><li>'iPSC_caqtls'</li><li>'iPSC_haqtls'</li><li>'PPC_caqtls'</li></ol>\n"
      ],
      "text/latex": [
       "\\begin{enumerate*}\n",
       "\\item 'CVPC\\_caqtls'\n",
       "\\item 'CVPC\\_haqtls'\n",
       "\\item 'iPSC\\_caqtls'\n",
       "\\item 'iPSC\\_haqtls'\n",
       "\\item 'PPC\\_caqtls'\n",
       "\\end{enumerate*}\n"
      ],
      "text/markdown": [
       "1. 'CVPC_caqtls'\n",
       "2. 'CVPC_haqtls'\n",
       "3. 'iPSC_caqtls'\n",
       "4. 'iPSC_haqtls'\n",
       "5. 'PPC_caqtls'\n",
       "\n",
       "\n"
      ],
      "text/plain": [
       "[1] \"CVPC_caqtls\" \"CVPC_haqtls\" \"iPSC_caqtls\" \"iPSC_haqtls\" \"PPC_caqtls\" "
      ]
     },
     "metadata": {},
     "output_type": "display_data"
    }
   ],
   "source": [
    "files = list.files(\"analyses/jennifer/ldsc/h2/exp_peaks_together\", full.names = T)\n",
    "files = files[which(!files %like% \"log\")]\n",
    "\n",
    "results = as.data.frame(rbindlist(lapply(files, function(f)\n",
    "{\n",
    "    full_trait_id = gsub(\".hg38.hapmap.results\", \"\", unlist(strsplit(f, \"/\"))[6])\n",
    "    fread(f, data.table = F) %>% mutate(full_trait_id = full_trait_id)\n",
    "}))) %>% filter(Category %like% \"qtls\")\n",
    "\n",
    "manifest[!manifest$full_trait_id %in% results$full_trait_id,]\n",
    "\n",
    "results = merge(results %>% filter(full_trait_id %in% sub_manifest$full_trait_id), \n",
    "                sub_manifest[,c(\"full_trait_id\", \"description\")], by = \"full_trait_id\", all.x = T) %>% distinct()\n",
    "results$Category = gsub(\"L2_0\", \"\", results$Category)\n",
    "\n",
    "unique(results$Category)\n",
    "\n",
    "results$Category = mapvalues(results$Category, \n",
    "                             from = c(\"CVPC_caqtls\",\n",
    "                                      \"CVPC_haqtls\",\n",
    "                                      \"iPSC_caqtls\",\n",
    "                                      \"iPSC_haqtls\",\n",
    "                                      \"PPC_caqtls\"),\n",
    "                             to = c(\"CVPC ATAC-seq\",\n",
    "                                    \"CVPC ChIP-seq\",\n",
    "                                    \"iPSC ATAC-seq\",\n",
    "                                    \"iPSC ChIP-seq\",\n",
    "                                    \"PPC ATAC-seq\"))\n",
    "\n",
    "results$Enrichment = ifelse(results$Enrichment_p > 0.005, 0, results$Enrichment)\n",
    "results = results %>% filter(full_trait_id != \"continuous-20022-both_sexes-irnt.meta\")"
   ]
  },
  {
   "cell_type": "code",
   "execution_count": 71,
   "metadata": {},
   "outputs": [
    {
     "data": {
      "image/png": "[encoded data removed]",
      "text/plain": [
       "plot without title"
      ]
     },
     "metadata": {
      "image/png": {
       "height": 420,
       "width": 600
      }
     },
     "output_type": "display_data"
    }
   ],
   "source": [
    "psize(w = 10, h = 7)\n",
    "ggplot(results, aes(x = description, y = Category, fill = Enrichment)) +\n",
    "    geom_tile(color = \"black\") + \n",
    "    scale_fill_gradientn(colors = c(\"blue\", \"white\", \"red\"), limits = c(-20, 20)) + \n",
    "    jn_classic + \n",
    "    theme(\n",
    "        axis.text.x = element_text(angle = 90, hjust = 1, vjust = 0.5)\n",
    "    )  + xlab(\"\") + ylab(\"\")"
   ]
  },
  {
   "cell_type": "code",
   "execution_count": null,
   "metadata": {},
   "outputs": [],
   "source": []
  }
 ],
 "metadata": {
  "kernelspec": {
   "display_name": "R 4.2.1",
   "language": "R",
   "name": "ir421"
  },
  "language_info": {
   "codemirror_mode": "r",
   "file_extension": ".r",
   "mimetype": "text/x-r-source",
   "name": "R",
   "pygments_lexer": "r",
   "version": "4.2.1"
  }
 },
 "nbformat": 4,
 "nbformat_minor": 2
}
